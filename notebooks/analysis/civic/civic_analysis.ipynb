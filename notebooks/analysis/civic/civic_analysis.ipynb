{
 "cells": [
  {
   "attachments": {},
   "cell_type": "markdown",
   "metadata": {},
   "source": [
    "# Analysis for CIViC data\n",
    "\n",
    "This notebook contains an analysis on CIViC variant data"
   ]
  },
  {
   "cell_type": "code",
   "execution_count": 1,
   "metadata": {},
   "outputs": [
    {
     "name": "stderr",
     "output_type": "stream",
     "text": [
      "/Users/kxk102/.local/share/virtualenvs/variation-normalization-KPVKcmjd/lib/python3.10/site-packages/python_jsonschema_objects/__init__.py:49: UserWarning: Schema version http://json-schema.org/draft-07/schema not recognized. Some keywords and features may not be supported.\n",
      "  warnings.warn(\n"
     ]
    }
   ],
   "source": [
    "import logging\n",
    "from enum import Enum\n",
    "import re\n",
    "import csv\n",
    "\n",
    "from civicpy import civic as civicpy\n",
    "from dotenv import load_dotenv\n",
    "\n",
    "from variation.query import QueryHandler\n",
    "\n",
    "logging.getLogger(\"root\").setLevel(logging.WARNING)"
   ]
  },
  {
   "cell_type": "code",
   "execution_count": 2,
   "metadata": {},
   "outputs": [
    {
     "data": {
      "text/plain": [
       "True"
      ]
     },
     "execution_count": 2,
     "metadata": {},
     "output_type": "execute_result"
    }
   ],
   "source": [
    "# Environment variables are set for gene-normalizer dynamodb instance and \n",
    "# UTA DB credentials\n",
    "load_dotenv()"
   ]
  },
  {
   "cell_type": "code",
   "execution_count": 3,
   "metadata": {},
   "outputs": [],
   "source": [
    "query_handler = QueryHandler()"
   ]
  },
  {
   "cell_type": "code",
   "execution_count": 4,
   "metadata": {},
   "outputs": [],
   "source": [
    "# Get latest data\n",
    "# civicpy.update_cache(from_remote_cache=False)"
   ]
  },
  {
   "cell_type": "code",
   "execution_count": 5,
   "metadata": {},
   "outputs": [
    {
     "data": {
      "text/plain": [
       "True"
      ]
     },
     "execution_count": 5,
     "metadata": {},
     "output_type": "execute_result"
    }
   ],
   "source": [
    "civicpy.load_cache(on_stale=\"ignore\")"
   ]
  },
  {
   "cell_type": "code",
   "execution_count": 6,
   "metadata": {},
   "outputs": [
    {
     "data": {
      "text/plain": [
       "'Total Number of variants in CIViC: 3466'"
      ]
     },
     "execution_count": 6,
     "metadata": {},
     "output_type": "execute_result"
    }
   ],
   "source": [
    "variants = civicpy.get_all_variants()\n",
    "total_variants = len(variants)\n",
    "f\"Total Number of variants in CIViC: {total_variants}\""
   ]
  },
  {
   "cell_type": "code",
   "execution_count": 7,
   "metadata": {},
   "outputs": [],
   "source": [
    "class VariantCategory(str, Enum):\n",
    "    \"\"\"Create enum for the kind of variants that are in CIViC.\"\"\"\n",
    "    EXPRESSION = \"Expression\"\n",
    "    EPIGENETIC_MODIFICATION = \"Epigenetic Modification\"\n",
    "    FUSION = \"Fusion\"\n",
    "    PROTEIN_CONS = \"Protein Consequence\"\n",
    "    GENE_FUNC = \"Gene Function\"\n",
    "    REARRANGEMENTS = \"Rearrangements\"\n",
    "    COPY_NUMBER = \"Copy Number\"\n",
    "    OTHER = \"Other\"\n",
    "    GENOTYPES_EASY = \"Genotypes Easy\"\n",
    "    GENOTYPES_COMPOUND = \"Genotypes Compound\"\n",
    "    REGION_DEFINED_VAR = \"Region Defined Variant\"\n",
    "    INCOMPLETE_VAR = \"Incomplete Variants\"\n",
    "    "
   ]
  },
  {
   "attachments": {},
   "cell_type": "markdown",
   "metadata": {},
   "source": [
    "Below are terms in CIViC that we know that the variation normalizer cannot support."
   ]
  },
  {
   "cell_type": "code",
   "execution_count": 8,
   "metadata": {},
   "outputs": [],
   "source": [
    "not_supported = {\n",
    "    VariantCategory.EXPRESSION: {\n",
    "        \"overexpression\", \"expression\", \"underexpression\", \"serum levels\", \n",
    "        \"transcription levels\", \"autocrine activation\", \"tnc-l\", \"promoter mutation\",\n",
    "        \"top2a/90\", \"low ratio of vegf165b/vegftotal\"\n",
    "    },\n",
    "    VariantCategory.EPIGENETIC_MODIFICATION: {\n",
    "        \"methylation\", \"promoter hypermethylation\", \"promoter methylation\", \n",
    "        \"phosphorylation\"\n",
    "    },\n",
    "    VariantCategory.FUSION: {\n",
    "        \"::\", \"fusion\"\n",
    "    },\n",
    "    VariantCategory.PROTEIN_CONS: {\n",
    "        \"frameshift truncation\", \"frameshift\", \"frame shift\", \"fs\",\n",
    "        \"truncating mutation\", \"1100delc\"\n",
    "    },\n",
    "    VariantCategory.GENE_FUNC: {\n",
    "        \"gain of function\", \"gain-of-function\", \"loss of function\", \"loss-of-function\",\n",
    "        \"activating mutation\", \"tkd mutation\", \"inactivation\", \"null\", \"viii\"\n",
    "    },\n",
    "    VariantCategory.REARRANGEMENTS: {\n",
    "        \"translocation\", \"rearrangement\", \"double ph\", \"alu insertion\", \n",
    "        \"exon 20 insertion\", \"internal tandem duplications\", \"tandem repeat\",\n",
    "        \"itd\"\n",
    "    },\n",
    "    VariantCategory.COPY_NUMBER: {\n",
    "        \"copy number\", \"repeat\", \"dup\"\n",
    "    }, \n",
    "    VariantCategory.OTHER: {\n",
    "        \"cytoplasmic mislocalization\", \"alternative transcript\", \"rare mutation\",\n",
    "        \"splice\", \"splicing\", \"ceacam1-l\", \"ceacam1-s\", \"Δ\", \"delta\", \"beta\",\n",
    "        \"deprecated\", \"point mutations\", \"conserved domain mut\", \"cis double mutants\",\n",
    "        \"loss-of-modification\", \"gBRCAm\"\n",
    "    },\n",
    "    VariantCategory.GENOTYPES_EASY: {\n",
    "        \"diplotypes\", \"wild type\", \"wildtype\"\n",
    "    },\n",
    "    VariantCategory.GENOTYPES_COMPOUND: {\n",
    "        \"loss of heterozygosity\", \"biallelic inactivation\", \"bi-allelic inactivation\",\n",
    "        \"homozygosity\", \"loh\", \"single allele deletion\"\n",
    "    },\n",
    "    VariantCategory.REGION_DEFINED_VAR: {\n",
    "        \"deleterious mutation\", \"domain mutation\", \"polymorphism\", \n",
    "        \"non-p-loop mutation\", \"p-loop mutation\", \"3' utr mutation\", \"alteration\",\n",
    "        \"t17 deletion\", \"exon\"\n",
    "    }\n",
    "}"
   ]
  },
  {
   "cell_type": "code",
   "execution_count": 9,
   "metadata": {},
   "outputs": [],
   "source": [
    "\n",
    "# This file contains CIViC Variants where there are no queries available.\n",
    "# One example would be a CIViC Variant whose name has \"c.\" in it. In this case,\n",
    "# we want the genomic representative. We look at the HGVS expressions to find a genomic\n",
    "# expression. If there is no genomic HGVS expression, we have no name for a query\n",
    "no_query_wf = open(\"incomplete_variants.csv\", \"w\")\n",
    "no_query_wr = csv.writer(no_query_wf, delimiter=\"\\t\")\n",
    "no_query_wr.writerow([\"variant_id\", \"variant_name\"])\n",
    "\n",
    "# This file contains protein queries (gene + variant_name) we SHOULD be able to\n",
    "# normalize\n",
    "protein_variants_wf = open(\"all_protein_variant_queries.csv\", \"w\")\n",
    "protein_variants_wr = csv.writer(protein_variants_wf, delimiter=\"\\t\")\n",
    "protein_variants_wr.writerow([\"variant_id\", \"gene_name\", \"variant_name\"])\n",
    "\n",
    "# This file contains genomic queries (genomic HGVS expressions) we SHOULD be able to\n",
    "# normalize\n",
    "genomic_variants_wf = open(\"all_genomic_variant_queries.csv\", \"w\")\n",
    "genomic_variants_wr = csv.writer(genomic_variants_wf, delimiter=\"\\t\")\n",
    "genomic_variants_wr.writerow([\"variant_id\", \"hgvs_g\"])\n",
    "\n",
    "# This file contains CIViC Variants we do not currently support in Variation Normalizer.\n",
    "# In these cases, we do not even attempt to try to normalize\n",
    "not_supported_wf = open(\"not_supported_variants.csv\", \"w\")\n",
    "not_supported_wr = csv.writer(not_supported_wf, delimiter=\"\\t\")\n",
    "not_supported_wr.writerow([\"variant_id\", \"gene_name\", \"variant_name\", \"category\"])\n",
    "\n",
    "# This file contains CIViC Variant queries that we were not able to normalize.\n",
    "unable_to_normalize_wf = open(\"unable_to_normalize_queries.csv\", \"w\")\n",
    "unable_to_normalize_wr = csv.writer(unable_to_normalize_wf, delimiter=\"\\t\")\n",
    "unable_to_normalize_wr.writerow([\"variant_id\", \"query\", \"query_type\",\n",
    "                                 \"exception_raised\", \"message\", \"warnings\"])\n",
    "\n",
    "# Category name for variants we do not support: number of variants we found\n",
    "variant_category_counts = {c: 0 for c in VariantCategory.__members__}\n",
    "\n",
    "# Keep track of total counts\n",
    "no_query_total = {\"protein\": 0, \"genomic\": 0}\n",
    "should_be_able_to_normalize_total = {\"protein\": 0, \"genomic\": 0}\n",
    "can_normalize_total = {\"protein\": 0, \"genomic\": 0}\n",
    "unable_to_normalize_total = {\"protein\": 0, \"genomic\": 0}\n",
    "exception_total = {\"protein\": 0, \"genomic\": 0}\n",
    "\n",
    "queries_found = dict()\n",
    "\n",
    "for variant in variants:\n",
    "    v_name = None\n",
    "    v_q_type = None\n",
    "    if \"c.\" in variant.name:\n",
    "        # Try getting genomic HGVS expression first\n",
    "        v_name = ([expr for expr in variant.hgvs_expressions \n",
    "                         if \"g.\" in expr] or [None])[0]\n",
    "\n",
    "        # If there is no genomic HGVS expression, try using gnomad vcf\n",
    "        if not v_name:\n",
    "            chromosome = variant.coordinates.chromosome\n",
    "            pos = variant.coordinates.start\n",
    "            ref = variant.coordinates.reference_bases\n",
    "            alt = variant.coordinates.variant_bases\n",
    "\n",
    "            if all((chromosome, pos, ref, alt)):\n",
    "                v_name = f\"{chromosome}-{pos}-{ref}-{alt}\"\n",
    "        \n",
    "        v_q_type = \"genomic\"\n",
    "    else:\n",
    "        v_name = variant.name.strip()\n",
    "        v_q_type = \"protein\"\n",
    "\n",
    "    if not v_name:\n",
    "        no_query_wr.writerow([variant.id, variant.name])\n",
    "        no_query_total[v_q_type] += 1\n",
    "        continue\n",
    "    \n",
    "    gene_name = variant.gene.name.strip()\n",
    "    v_name_lower = v_name.lower()\n",
    "    \n",
    "    categories = set()\n",
    "    if v_name_lower in {\"loss\", \"deletion\"}:\n",
    "        categories.add(VariantCategory.GENE_FUNC)\n",
    "    elif v_name_lower == \"mutation\":\n",
    "        categories.add(VariantCategory.REGION_DEFINED_VAR)\n",
    "    else:\n",
    "        if re.match(r\".*e\\d+-e\\d+\", v_name_lower):  # ex: e20-e20\n",
    "            categories.add(VariantCategory.FUSION)\n",
    "\n",
    "        if any((\n",
    "            \"exon\" in v_name_lower,\n",
    "            re.match(r\"\\d+kb\\sdeletion\", v_name_lower),\n",
    "            re.match(r\"partial\\sdeletion\\sof\\s\\d+(.\\d+)?\\skb\", v_name_lower),\n",
    "            re.match(r\"del\\s\\d+-\\d+\", v_name_lower),\n",
    "            re.match(r\"\\d+(p|q)\\d+(.\\d+)?-\\d+(.\\d+)?\\s\\d+mb del\", v_name_lower),\n",
    "            re.match(r\"intron\\s\\d+\\smutation\", v_name_lower)\n",
    "        )):\n",
    "            categories.add(VariantCategory.REGION_DEFINED_VAR)\n",
    "        \n",
    "        if any((\n",
    "            re.match(r\"t\\(.*\\)\\(.*\\)\", v_name_lower), # ex: t(1;3)(p36.3;p25)\n",
    "            re.match(r\"\\w\\d+ins$\", v_name_lower)  # ex: P780INS\n",
    "        )):  \n",
    "            categories.add(VariantCategory.REARRANGEMENTS)\n",
    "\n",
    "        if any((\n",
    "            re.match(r\"^rs\\d+\", v_name_lower),\n",
    "            re.match(r\"class\\s\\d+\\smutation\", v_name_lower),\n",
    "            re.match(r\"\\d+\\s\\((c|a|g|t)+-(c|a|g|t)+\\)\", v_name_lower)\n",
    "        )):\n",
    "            categories.add(VariantCategory.OTHER)\n",
    "\n",
    "        if re.match(r\"cd\\d+v\\d+\", v_name_lower):\n",
    "            categories.add(VariantCategory.EXPRESSION)\n",
    "\n",
    "        if any((\n",
    "            re.match(r\"\\w+\\d+$\", v_name_lower),  # ex: V600\n",
    "            re.match(r\"\\w+\\d+\\w+\\/\\w+$\", v_name_lower),  # ex: S893A/T\n",
    "            re.match(r\"[a-z]+\\d+[a-z]+\\sand\\s[a-z]+\\d+[a-z]+\", v_name_lower),  # ex: E2014K and E2419K\n",
    "        )):\n",
    "            categories.add(VariantCategory.PROTEIN_CONS)\n",
    "\n",
    "        for k, v in not_supported.items():\n",
    "            if {x for x in v if x in v_name_lower}:\n",
    "                categories.add(k)\n",
    "\n",
    "    if len(categories) > 1:\n",
    "        # Those with multiple categories will be classified as other\n",
    "        categories = {VariantCategory.OTHER}\n",
    "\n",
    "    if len(categories) == 1:\n",
    "        variant_category_name = categories.pop()\n",
    "        variant_category_counts[variant_category_name.name] += 1\n",
    "        not_supported_wr.writerow([variant.id, gene_name, variant.name, variant_category_name])\n",
    "    else:\n",
    "        # We should support this, so we need to query the variation normalizer\n",
    "        if v_q_type == \"protein\":\n",
    "            q = f\"{gene_name} {v_name}\"\n",
    "            protein_variants_wr.writerow([variant.id, gene_name, v_name])\n",
    "        else:\n",
    "            q = v_name\n",
    "            genomic_variants_wr.writerow([variant.id, q])\n",
    "\n",
    "        should_be_able_to_normalize_total[v_q_type] += 1\n",
    "\n",
    "        \n",
    "        if q in queries_found:\n",
    "            queries_found[q].append(variant.id)\n",
    "        else:\n",
    "            queries_found[q] = [variant.id]\n",
    "            \n",
    "        try:\n",
    "            variation_norm_resp = await query_handler.normalize_handler.normalize(q)\n",
    "            if not variation_norm_resp.variation_descriptor:\n",
    "\n",
    "                is_incomplete = False\n",
    "                if v_q_type == \"protein\" and len(v_name.split()) == 1:\n",
    "                    if \"-\" in v_name:\n",
    "                        # could be {gene}-{gene}\n",
    "                        genes = v_name.split(\"-\")\n",
    "                    else:\n",
    "                        genes = [v_name]\n",
    "\n",
    "                    is_genes = True\n",
    "                    for g in genes:\n",
    "                        if query_handler.normalize_handler.gene_normalizer.normalize(v_name).match_type == 0:\n",
    "                            # not a gene \n",
    "                            is_genes = False\n",
    "                            break\n",
    "\n",
    "                    if is_genes:\n",
    "                        variant_category_name = VariantCategory.INCOMPLETE_VAR\n",
    "                        variant_category_counts[variant_category_name.name] += 1\n",
    "                        not_supported_wr.writerow([variant.id, gene_name, variant.name, variant_category_name])\n",
    "                        is_incomplete = True\n",
    "\n",
    "                if not is_incomplete:\n",
    "                    unable_to_normalize_wr.writerow([variant.id, q, v_q_type, False,\n",
    "                                                    \"unable to normalize\",\n",
    "                                                    variation_norm_resp.warnings])\n",
    "                    unable_to_normalize_total[v_q_type] += 1\n",
    "            else:\n",
    "                can_normalize_total[v_q_type] += 1\n",
    "        except Exception as e:\n",
    "            unable_to_normalize_wr.writerow([variant.id, q, v_q_type, True, str(e),\n",
    "                                             None])\n",
    "            exception_total[v_q_type] += 1\n",
    "\n",
    "# Close all files\n",
    "no_query_wf.close()\n",
    "protein_variants_wf.close()\n",
    "genomic_variants_wf.close()\n",
    "not_supported_wf.close()\n",
    "unable_to_normalize_wf.close()"
   ]
  },
  {
   "attachments": {},
   "cell_type": "markdown",
   "metadata": {},
   "source": [
    "## Variants that we could not find queries for"
   ]
  },
  {
   "cell_type": "code",
   "execution_count": 10,
   "metadata": {},
   "outputs": [
    {
     "data": {
      "text/plain": [
       "{'protein': 0, 'genomic': 384}"
      ]
     },
     "execution_count": 10,
     "metadata": {},
     "output_type": "execute_result"
    }
   ],
   "source": [
    "no_query_total"
   ]
  },
  {
   "cell_type": "code",
   "execution_count": 11,
   "metadata": {},
   "outputs": [
    {
     "data": {
      "text/plain": [
       "384"
      ]
     },
     "execution_count": 11,
     "metadata": {},
     "output_type": "execute_result"
    }
   ],
   "source": [
    "no_query_total_sum = sum(no_query_total.values())\n",
    "no_query_total_sum"
   ]
  },
  {
   "cell_type": "code",
   "execution_count": 12,
   "metadata": {},
   "outputs": [
    {
     "data": {
      "text/plain": [
       "'11.08% of the total variants had no queries'"
      ]
     },
     "execution_count": 12,
     "metadata": {},
     "output_type": "execute_result"
    }
   ],
   "source": [
    "f\"{no_query_total_sum / total_variants * 100:.2f}% of the total variants had no queries\""
   ]
  },
  {
   "attachments": {},
   "cell_type": "markdown",
   "metadata": {},
   "source": [
    "## Variants we do not support"
   ]
  },
  {
   "cell_type": "code",
   "execution_count": 13,
   "metadata": {},
   "outputs": [],
   "source": [
    "do_not_support_total_sum = sum(variant_category_counts.values())"
   ]
  },
  {
   "cell_type": "code",
   "execution_count": 14,
   "metadata": {},
   "outputs": [
    {
     "data": {
      "text/plain": [
       "'Total number of variants we do not support in the Variation Normalizer: 1151'"
      ]
     },
     "execution_count": 14,
     "metadata": {},
     "output_type": "execute_result"
    }
   ],
   "source": [
    "f\"Total number of variants we do not support in the Variation Normalizer: \"\\\n",
    "f\"{do_not_support_total_sum}\""
   ]
  },
  {
   "attachments": {},
   "cell_type": "markdown",
   "metadata": {},
   "source": [
    "Below are the total number of variants for each category that we do not support"
   ]
  },
  {
   "cell_type": "code",
   "execution_count": 15,
   "metadata": {},
   "outputs": [
    {
     "data": {
      "text/plain": [
       "{'FUSION': 310,\n",
       " 'EXPRESSION': 288,\n",
       " 'REGION_DEFINED_VAR': 174,\n",
       " 'PROTEIN_CONS': 124,\n",
       " 'GENE_FUNC': 89,\n",
       " 'OTHER': 71,\n",
       " 'REARRANGEMENTS': 37,\n",
       " 'COPY_NUMBER': 26,\n",
       " 'EPIGENETIC_MODIFICATION': 15,\n",
       " 'GENOTYPES_EASY': 7,\n",
       " 'GENOTYPES_COMPOUND': 6,\n",
       " 'INCOMPLETE_VAR': 4}"
      ]
     },
     "execution_count": 15,
     "metadata": {},
     "output_type": "execute_result"
    }
   ],
   "source": [
    "sorted_variant_cat_counts = dict(sorted(variant_category_counts.items(), key=lambda x: x[1], reverse=True))\n",
    "sorted_variant_cat_counts"
   ]
  },
  {
   "attachments": {},
   "cell_type": "markdown",
   "metadata": {},
   "source": [
    "Below is the total percentage of variants for each category that we do not support"
   ]
  },
  {
   "cell_type": "code",
   "execution_count": 16,
   "metadata": {},
   "outputs": [
    {
     "data": {
      "text/plain": [
       "{'FUSION': '8.94%',\n",
       " 'EXPRESSION': '8.31%',\n",
       " 'REGION_DEFINED_VAR': '5.02%',\n",
       " 'PROTEIN_CONS': '3.58%',\n",
       " 'GENE_FUNC': '2.57%',\n",
       " 'OTHER': '2.05%',\n",
       " 'REARRANGEMENTS': '1.07%',\n",
       " 'COPY_NUMBER': '0.75%',\n",
       " 'EPIGENETIC_MODIFICATION': '0.43%',\n",
       " 'GENOTYPES_EASY': '0.20%',\n",
       " 'GENOTYPES_COMPOUND': '0.17%',\n",
       " 'INCOMPLETE_VAR': '0.12%'}"
      ]
     },
     "execution_count": 16,
     "metadata": {},
     "output_type": "execute_result"
    }
   ],
   "source": [
    "{k: f\"{v / total_variants * 100:.2f}%\" for k, v in sorted_variant_cat_counts.items()}"
   ]
  },
  {
   "cell_type": "code",
   "execution_count": 17,
   "metadata": {},
   "outputs": [
    {
     "data": {
      "text/plain": [
       "'The Variation Normalizer does not support 33.21% of the total variants'"
      ]
     },
     "execution_count": 17,
     "metadata": {},
     "output_type": "execute_result"
    }
   ],
   "source": [
    "f\"The Variation Normalizer does not support {do_not_support_total_sum / total_variants * 100:.2f}% of the total variants\""
   ]
  },
  {
   "attachments": {},
   "cell_type": "markdown",
   "metadata": {},
   "source": [
    "## Variants we should be able to normalize"
   ]
  },
  {
   "cell_type": "code",
   "execution_count": 18,
   "metadata": {},
   "outputs": [
    {
     "data": {
      "text/plain": [
       "{'protein': 1510, 'genomic': 425}"
      ]
     },
     "execution_count": 18,
     "metadata": {},
     "output_type": "execute_result"
    }
   ],
   "source": [
    "should_be_able_to_normalize_total"
   ]
  },
  {
   "cell_type": "code",
   "execution_count": 19,
   "metadata": {},
   "outputs": [
    {
     "data": {
      "text/plain": [
       "1935"
      ]
     },
     "execution_count": 19,
     "metadata": {},
     "output_type": "execute_result"
    }
   ],
   "source": [
    "should_be_able_to_normalize_total_sum = sum(should_be_able_to_normalize_total.values())\n",
    "should_be_able_to_normalize_total_sum"
   ]
  },
  {
   "cell_type": "code",
   "execution_count": 20,
   "metadata": {},
   "outputs": [
    {
     "data": {
      "text/plain": [
       "'The Variation Normalizer SHOULD be able to normalize 55.83% of the total variants'"
      ]
     },
     "execution_count": 20,
     "metadata": {},
     "output_type": "execute_result"
    }
   ],
   "source": [
    "f\"The Variation Normalizer SHOULD be able to normalize {should_be_able_to_normalize_total_sum / total_variants * 100:.2f}% of the total variants\""
   ]
  },
  {
   "attachments": {},
   "cell_type": "markdown",
   "metadata": {},
   "source": [
    "## Variants we were not able to normalize\n",
    "\n",
    "Either due to a bug or an unsupported query type in Variation Normalizer"
   ]
  },
  {
   "cell_type": "code",
   "execution_count": 21,
   "metadata": {},
   "outputs": [
    {
     "data": {
      "text/plain": [
       "{'protein': 113, 'genomic': 3}"
      ]
     },
     "execution_count": 21,
     "metadata": {},
     "output_type": "execute_result"
    }
   ],
   "source": [
    "unable_to_normalize_total"
   ]
  },
  {
   "cell_type": "code",
   "execution_count": 22,
   "metadata": {},
   "outputs": [
    {
     "data": {
      "text/plain": [
       "116"
      ]
     },
     "execution_count": 22,
     "metadata": {},
     "output_type": "execute_result"
    }
   ],
   "source": [
    "unable_to_normalize_total_sum = sum(unable_to_normalize_total.values())\n",
    "unable_to_normalize_total_sum"
   ]
  },
  {
   "cell_type": "code",
   "execution_count": 23,
   "metadata": {},
   "outputs": [
    {
     "data": {
      "text/plain": [
       "'The Variation Normalizer was unable to normalize 3.346797461050202% of the total variants'"
      ]
     },
     "execution_count": 23,
     "metadata": {},
     "output_type": "execute_result"
    }
   ],
   "source": [
    "f\"The Variation Normalizer was unable to normalize {unable_to_normalize_total_sum / total_variants * 100}% of the total variants\""
   ]
  },
  {
   "attachments": {},
   "cell_type": "markdown",
   "metadata": {},
   "source": [
    "## Breakdown of the variants we weren't able to normalize\n",
    "\n",
    "In this section, we breakdown the reasons on why we weren't able to normalize variants."
   ]
  },
  {
   "cell_type": "code",
   "execution_count": 24,
   "metadata": {},
   "outputs": [],
   "source": [
    "unable_to_tokenize = 0\n",
    "unable_to_find_valid = 0\n",
    "other = 0\n",
    "with open(\"unable_to_normalize_queries.csv\", \"r\") as f:\n",
    "    reader = csv.reader(f, delimiter=\"\\t\")\n",
    "    next(reader)\n",
    "    for row in reader:\n",
    "        if \"Unable to find valid result\" in row[-1]:\n",
    "            unable_to_find_valid += 1\n",
    "        elif \"Unable to tokenize\" in row[-1]:\n",
    "            unable_to_tokenize += 1\n",
    "        else:\n",
    "            other += 1"
   ]
  },
  {
   "attachments": {},
   "cell_type": "markdown",
   "metadata": {},
   "source": [
    "### Due to not passing validation checks\n",
    "\n",
    "The Variation Normalizer performs validation checks on the input query (such as reference sequence). If these validation checks fail, then the input query will fail to normalize."
   ]
  },
  {
   "cell_type": "code",
   "execution_count": 25,
   "metadata": {},
   "outputs": [
    {
     "data": {
      "text/plain": [
       "'The Variation Normalizer found 62 invalid variants (This is 1.79% of the total variants).'"
      ]
     },
     "execution_count": 25,
     "metadata": {},
     "output_type": "execute_result"
    }
   ],
   "source": [
    "f\"The Variation Normalizer found {unable_to_find_valid} invalid variants (This is {unable_to_find_valid / total_variants * 100:.2f}% of the total variants).\""
   ]
  },
  {
   "attachments": {},
   "cell_type": "markdown",
   "metadata": {},
   "source": [
    "### Due to tokenization \n",
    "\n",
    "The Variation Normalizer will tokenize the input query to determine the kind of token. It is limited in the kinds of tokens it accepts, so these tokens are not yet supported in the Variation Normalizer. "
   ]
  },
  {
   "cell_type": "code",
   "execution_count": 26,
   "metadata": {},
   "outputs": [
    {
     "data": {
      "text/plain": [
       "'The Variation Normalizer was unable to tokenize 54 variants (1.56% of the total variants).'"
      ]
     },
     "execution_count": 26,
     "metadata": {},
     "output_type": "execute_result"
    }
   ],
   "source": [
    "f\"The Variation Normalizer was unable to tokenize {unable_to_tokenize} variants ({unable_to_tokenize / total_variants * 100:.2f}% of the total variants).\""
   ]
  },
  {
   "cell_type": "code",
   "execution_count": 27,
   "metadata": {},
   "outputs": [
    {
     "data": {
      "text/plain": [
       "'The Variation Normalizer was unable to normalize 0 variants due to other issues (This is 0.00% of the total variants).'"
      ]
     },
     "execution_count": 27,
     "metadata": {},
     "output_type": "execute_result"
    }
   ],
   "source": [
    "f\"The Variation Normalizer was unable to normalize {other} variants due to other issues (This is {other / total_variants * 100:.2f}% of the total variants).\""
   ]
  },
  {
   "attachments": {},
   "cell_type": "markdown",
   "metadata": {},
   "source": [
    "## Variant queries that raised an exception during normalization"
   ]
  },
  {
   "cell_type": "code",
   "execution_count": 28,
   "metadata": {},
   "outputs": [
    {
     "data": {
      "text/plain": [
       "{'protein': 0, 'genomic': 0}"
      ]
     },
     "execution_count": 28,
     "metadata": {},
     "output_type": "execute_result"
    }
   ],
   "source": [
    "exception_total"
   ]
  },
  {
   "cell_type": "code",
   "execution_count": 29,
   "metadata": {},
   "outputs": [
    {
     "data": {
      "text/plain": [
       "0"
      ]
     },
     "execution_count": 29,
     "metadata": {},
     "output_type": "execute_result"
    }
   ],
   "source": [
    "exception_total_sum = sum(exception_total.values())\n",
    "exception_total_sum"
   ]
  },
  {
   "cell_type": "code",
   "execution_count": 30,
   "metadata": {},
   "outputs": [
    {
     "data": {
      "text/plain": [
       "'The Variation Normalizer raised an exception for 0.00% of the total variants'"
      ]
     },
     "execution_count": 30,
     "metadata": {},
     "output_type": "execute_result"
    }
   ],
   "source": [
    "f\"The Variation Normalizer raised an exception for {exception_total_sum / total_variants * 100:.2f}% of the total variants\""
   ]
  },
  {
   "attachments": {},
   "cell_type": "markdown",
   "metadata": {},
   "source": [
    "## Variants we were able to normalize"
   ]
  },
  {
   "cell_type": "code",
   "execution_count": 31,
   "metadata": {},
   "outputs": [
    {
     "data": {
      "text/plain": [
       "{'protein': 1393, 'genomic': 422}"
      ]
     },
     "execution_count": 31,
     "metadata": {},
     "output_type": "execute_result"
    }
   ],
   "source": [
    "can_normalize_total"
   ]
  },
  {
   "cell_type": "code",
   "execution_count": 32,
   "metadata": {},
   "outputs": [
    {
     "data": {
      "text/plain": [
       "1815"
      ]
     },
     "execution_count": 32,
     "metadata": {},
     "output_type": "execute_result"
    }
   ],
   "source": [
    "can_normalize_total_sum = sum(can_normalize_total.values())\n",
    "can_normalize_total_sum"
   ]
  },
  {
   "cell_type": "code",
   "execution_count": 33,
   "metadata": {},
   "outputs": [
    {
     "data": {
      "text/plain": [
       "'The Variation Normalizer successfully normalized 52.37% of the total variants'"
      ]
     },
     "execution_count": 33,
     "metadata": {},
     "output_type": "execute_result"
    }
   ],
   "source": [
    "f\"The Variation Normalizer successfully normalized {can_normalize_total_sum / total_variants * 100:.2f}% of the total variants\""
   ]
  },
  {
   "attachments": {},
   "cell_type": "markdown",
   "metadata": {},
   "source": [
    "## Duplicate Queries\n",
    "\n",
    "These are duplicate queries found in civic. The values are the associated variant IDs. "
   ]
  },
  {
   "cell_type": "code",
   "execution_count": 34,
   "metadata": {},
   "outputs": [
    {
     "data": {
      "text/plain": [
       "{'NC_000003.11:g.10188243T>C': [2034, 2508],\n",
       " 'NC_000003.11:g.10183725C>G': [1751, 1787]}"
      ]
     },
     "execution_count": 34,
     "metadata": {},
     "output_type": "execute_result"
    }
   ],
   "source": [
    "{k:v for k,v in queries_found.items() if len(v) > 1}"
   ]
  },
  {
   "cell_type": "code",
   "execution_count": null,
   "metadata": {},
   "outputs": [],
   "source": []
  }
 ],
 "metadata": {
  "kernelspec": {
   "display_name": "variation-normalization-KPVKcmjd",
   "language": "python",
   "name": "python3"
  },
  "language_info": {
   "codemirror_mode": {
    "name": "ipython",
    "version": 3
   },
   "file_extension": ".py",
   "mimetype": "text/x-python",
   "name": "python",
   "nbconvert_exporter": "python",
   "pygments_lexer": "ipython3",
   "version": "3.10.8"
  },
  "orig_nbformat": 4,
  "vscode": {
   "interpreter": {
    "hash": "0be8ba9a7b89517724a412b9d40e184059795303560bd1108143a8aed13113be"
   }
  }
 },
 "nbformat": 4,
 "nbformat_minor": 2
}
