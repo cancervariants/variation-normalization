{
 "cells": [
  {
   "attachments": {},
   "cell_type": "markdown",
   "metadata": {},
   "source": [
    "# Analysis for CIViC data\n",
    "\n",
    "This notebook contains an analysis on CIViC variant data"
   ]
  },
  {
   "cell_type": "code",
   "execution_count": 1,
   "metadata": {},
   "outputs": [
    {
     "name": "stderr",
     "output_type": "stream",
     "text": [
      "/Users/kxk102/.local/share/virtualenvs/variation-normalization-KPVKcmjd/lib/python3.10/site-packages/python_jsonschema_objects/__init__.py:49: UserWarning: Schema version http://json-schema.org/draft-07/schema not recognized. Some keywords and features may not be supported.\n",
      "  warnings.warn(\n"
     ]
    }
   ],
   "source": [
    "import logging\n",
    "from enum import Enum\n",
    "import re\n",
    "from typing import Tuple, Optional\n",
    "import csv\n",
    "\n",
    "from civicpy import civic as civicpy\n",
    "from dotenv import load_dotenv\n",
    "\n",
    "from variation.query import QueryHandler\n",
    "\n",
    "logging.getLogger(\"root\").setLevel(logging.WARNING)"
   ]
  },
  {
   "cell_type": "code",
   "execution_count": 2,
   "metadata": {},
   "outputs": [
    {
     "data": {
      "text/plain": [
       "True"
      ]
     },
     "execution_count": 2,
     "metadata": {},
     "output_type": "execute_result"
    }
   ],
   "source": [
    "# Environment variables are set for gene-normalizer dynamodb instance and \n",
    "# UTA DB credentials\n",
    "load_dotenv()"
   ]
  },
  {
   "cell_type": "code",
   "execution_count": 3,
   "metadata": {},
   "outputs": [],
   "source": [
    "query_handler = QueryHandler()"
   ]
  },
  {
   "cell_type": "code",
   "execution_count": 4,
   "metadata": {},
   "outputs": [],
   "source": [
    "# Get latest data\n",
    "# civicpy.update_cache(from_remote_cache=False)"
   ]
  },
  {
   "cell_type": "code",
   "execution_count": 5,
   "metadata": {},
   "outputs": [
    {
     "data": {
      "text/plain": [
       "True"
      ]
     },
     "execution_count": 5,
     "metadata": {},
     "output_type": "execute_result"
    }
   ],
   "source": [
    "civicpy.load_cache(on_stale=\"ignore\")"
   ]
  },
  {
   "cell_type": "code",
   "execution_count": 6,
   "metadata": {},
   "outputs": [
    {
     "data": {
      "text/plain": [
       "'Total Number of variants in CIViC: 3466'"
      ]
     },
     "execution_count": 6,
     "metadata": {},
     "output_type": "execute_result"
    }
   ],
   "source": [
    "variants = civicpy.get_all_variants()\n",
    "total_variants = len(variants)\n",
    "f\"Total Number of variants in CIViC: {total_variants}\""
   ]
  },
  {
   "cell_type": "code",
   "execution_count": 7,
   "metadata": {},
   "outputs": [],
   "source": [
    "class Category(str, Enum):\n",
    "    \"\"\"Create enum for the kind of variants that are in CIViC.\"\"\"\n",
    "    EXPRESSION = \"Expression\"\n",
    "    EPIGENETIC_MODIFICATION = \"Epigenetic Modification\"\n",
    "    FUSION = \"Fusion\"\n",
    "    FUNCTIONAL_PROTEIN_CONS = \"Functional Protein Consequence\"\n",
    "    FUNCTIONAL_GENE_FUNC = \"Functional Gene Function\"\n",
    "    REARRANGEMENTS = \"Rearrangements\"\n",
    "    COPY_NUMBER = \"Copy Number\"\n",
    "    OTHER = \"Other\"\n",
    "    GENOTYPES_EASY = \"Genotypes Easy\"\n",
    "    GENOTYPES_COMPOUND = \"Genotypes Compound\"\n",
    "    REGION_DEFINED_VAR = \"Region Defined Variant\"\n",
    "    "
   ]
  },
  {
   "attachments": {},
   "cell_type": "markdown",
   "metadata": {},
   "source": [
    "Below are terms in CIViC that we know that the variation normalizer cannot support."
   ]
  },
  {
   "cell_type": "code",
   "execution_count": 8,
   "metadata": {},
   "outputs": [],
   "source": [
    "not_supported = {\n",
    "    Category.EXPRESSION: {\n",
    "        \"overexpression\", \"expression\", \"underexpression\", \"serum levels\", \n",
    "        \"transcription levels\"\n",
    "    },\n",
    "    Category.EPIGENETIC_MODIFICATION: {\n",
    "        \"methylation\", \"promoter hypermethylation\", \"promoter methylation\", \n",
    "        \"phosphorylation\"\n",
    "    },\n",
    "    Category.FUSION: {\n",
    "        \"::\", \"fusion\"\n",
    "    },\n",
    "    Category.FUNCTIONAL_PROTEIN_CONS: {\n",
    "        \"frameshift truncation\", \"frameshift\", \"frame shift\"\n",
    "    },\n",
    "    Category.FUNCTIONAL_GENE_FUNC: {\n",
    "        \"gain of function\", \"gain-of-function\", \"loss of function\", \"loss-of-function\",\n",
    "        \"activating mutation\", \"tkd mutation\", \"inactivation\"\n",
    "    },\n",
    "    Category.REARRANGEMENTS: {\n",
    "        \"translocation\", \"rearrangement\", \"double ph\", \"alu insertion\", \n",
    "        \"exon 20 insertion\", \"internal tandem duplications\", \"tandem repeat\"\n",
    "    },\n",
    "    Category.COPY_NUMBER: {\n",
    "        \"copy number\", \"repeat\", \"dup\"\n",
    "    }, \n",
    "    Category.OTHER: {\n",
    "        \"cytoplasmic mislocalization\", \"alternative transcript\"\n",
    "    },\n",
    "    Category.GENOTYPES_EASY: {\n",
    "        \"diplotypes\", \"wild type\", \"wildtype\"\n",
    "    },\n",
    "    Category.GENOTYPES_COMPOUND: {\n",
    "        \"loss of heterozygosity\", \"biallelic inactivation\", \"bi-allelic inactivation\",\n",
    "        \"homozygosity\", \n",
    "    },\n",
    "    Category.REGION_DEFINED_VAR: {\n",
    "        \"deleterious mutation\", \"exon deletion\", \"domain mutation\", \"polymorphism\", \n",
    "        \"non-p-loop mutation\", \"p-loop mutation\"\n",
    "    }\n",
    "}"
   ]
  },
  {
   "cell_type": "code",
   "execution_count": 9,
   "metadata": {},
   "outputs": [],
   "source": [
    "def get_variant_name(variant: civicpy.Variant) -> Tuple[Optional[str], str]:\n",
    "    \"\"\"Get query to use from CIViC Variant data. If c. in query name, we will use the\n",
    "    genomic representative. \n",
    "\n",
    "    :param civicpy.Variant variant: CIViC Variant record\n",
    "    :return: (variant name, whether the variant name is protein or genomic)\n",
    "    \"\"\"\n",
    "    variant_name = None\n",
    "    variant_query_type = None\n",
    "    if \"c.\" in variant.name:\n",
    "        variant_name = ([expr for expr in variant.hgvs_expressions \n",
    "                         if \"g.\" in expr] or [None])[0]\n",
    "        variant_query_type = \"genomic\"\n",
    "    else:\n",
    "        variant_name = variant.name.strip()\n",
    "        variant_query_type = \"protein\"\n",
    "\n",
    "    return variant_name, variant_query_type\n"
   ]
  },
  {
   "cell_type": "code",
   "execution_count": 10,
   "metadata": {},
   "outputs": [],
   "source": [
    "\n",
    "# This file contains CIViC Variants where there are no queries available.\n",
    "# One example would be a CIViC Variant whose name has \"c.\" in it. In this case,\n",
    "# we want the genomic representative. We look at the HGVS expressions to find a genomic\n",
    "# expression. If there is no genomic HGVS expression, we have no name for a query\n",
    "no_query_wf = open(\"no_query.csv\", \"w+\")\n",
    "no_query_wr = csv.writer(no_query_wf, delimiter=\"\\t\")\n",
    "no_query_wr.writerow([\"variant_id\", \"variant_name\"])\n",
    "\n",
    "# This file contains protein queries (gene + variant_name) we SHOULD be able to\n",
    "# normalize\n",
    "protein_variants_wf = open(\"all_protein_variant_queries.csv\", \"w+\")\n",
    "protein_variants_wr = csv.writer(protein_variants_wf, delimiter=\"\\t\")\n",
    "protein_variants_wr.writerow([\"variant_id\", \"gene_name\", \"variant_name\"])\n",
    "\n",
    "# This file contains genomic queries (genomic HGVS expressions) we SHOULD be able to\n",
    "# normalize\n",
    "genomic_variants_wf = open(\"all_genomic_variant_queries.csv\", \"w+\")\n",
    "genomic_variants_wr = csv.writer(genomic_variants_wf, delimiter=\"\\t\")\n",
    "genomic_variants_wr.writerow([\"variant_id\", \"hgvs_g\"])\n",
    "\n",
    "# This file contains CIViC Variants we do not currently support in Variation Normalizer.\n",
    "# In these cases, we do not even attempt to try to normalize\n",
    "not_supported_wf = open(\"not_supported_variants.csv\", \"w+\")\n",
    "not_supported_wr = csv.writer(not_supported_wf, delimiter=\"\\t\")\n",
    "not_supported_wr.writerow([\"variant_id\", \"gene_name\", \"variant_name\", \"category\"])\n",
    "\n",
    "# This file contains CIViC Variant queries that we were not able to normalize.\n",
    "unable_to_normalize_wf = open(\"unable_to_normalize_queries.csv\", \"w+\")\n",
    "unable_to_normalize_wr = csv.writer(unable_to_normalize_wf, delimiter=\"\\t\")\n",
    "unable_to_normalize_wr.writerow([\"variant_id\", \"query\", \"query_type\",\n",
    "                                 \"exception_raised\", \"message\", \"warnings\"])\n",
    "\n",
    "# Category name for variants we do not support: number of variants we found\n",
    "category_counts = {c: 0 for c in Category.__members__}\n",
    "\n",
    "i = 0\n",
    "for variant in variants:\n",
    "    v_name, v_q_type = get_variant_name(variant)\n",
    "    if not v_name:\n",
    "        no_query_wr.writerow([variant.id, variant.name])\n",
    "        continue\n",
    "    \n",
    "    gene_name = variant.gene.name.strip()\n",
    "    v_name_lower = v_name.lower()\n",
    "    \n",
    "    categories = set()\n",
    "    if v_name_lower in {\"loss\", \"deletion\"}:\n",
    "        categories.add(Category.FUNCTIONAL_GENE_FUNC)\n",
    "    elif v_name_lower == \"mutation\":\n",
    "        categories.add(Category.REGION_DEFINED_VAR)\n",
    "    else:\n",
    "        if re.match(r\".*e\\d+-e\\d+\", v_name_lower):  # ex: e20-e20\n",
    "            categories.add(Category.FUSION)\n",
    "        \n",
    "        if \"exon\" in v_name_lower:\n",
    "            if {x for x in {\"deletion\", \"mutation\"}}:\n",
    "                categories.add(Category.REGION_DEFINED_VAR)\n",
    "        \n",
    "        if v_name_lower.endswith(\"fs\"):\n",
    "            categories.add(Category.FUNCTIONAL_PROTEIN_CONS)\n",
    "\n",
    "        for k, v in not_supported.items():\n",
    "            if {x for x in v if x in v_name_lower}:\n",
    "                categories.add(k)\n",
    "\n",
    "    if len(categories) > 1:\n",
    "        # Those with multiple categories will be classified as other\n",
    "        categories = {Category.OTHER}\n",
    "\n",
    "    if len(categories) == 1:\n",
    "        category_name = categories.pop()\n",
    "        category_counts[category_name.name] += 1\n",
    "        not_supported_wr.writerow([variant.id, gene_name, variant.name, category_name])\n",
    "    else:\n",
    "        # We should support this, so we need to query the variation normalizer\n",
    "        if v_q_type == \"protein\":\n",
    "            q = f\"{gene_name} {v_name}\"\n",
    "            protein_variants_wr.writerow([variant.id, gene_name, v_name])\n",
    "        else:\n",
    "            q = v_name\n",
    "            genomic_variants_wr.writerow([variant.id, q])\n",
    "\n",
    "        try:\n",
    "            variation_norm_resp = await query_handler.normalize_handler.normalize(q)\n",
    "            if not variation_norm_resp.variation_descriptor:\n",
    "                unable_to_normalize_wr.writerow([variant.id, q, v_q_type, False,\n",
    "                                                 \"unable to normalize\",\n",
    "                                                 variation_norm_resp.warnings])\n",
    "        except Exception as e:\n",
    "            unable_to_normalize_wr.writerow([variant.id, q, v_q_type, True, str(e),\n",
    "                                             None])\n",
    "\n",
    "# Close all files\n",
    "no_query_wf.close()\n",
    "protein_variants_wf.close()\n",
    "genomic_variants_wf.close()\n",
    "not_supported_wf.close()"
   ]
  },
  {
   "attachments": {},
   "cell_type": "markdown",
   "metadata": {},
   "source": [
    "## Variants we do not support"
   ]
  },
  {
   "cell_type": "code",
   "execution_count": 11,
   "metadata": {},
   "outputs": [
    {
     "data": {
      "text/plain": [
       "'Total number of variants we do not support in the Variation Normalizer: 939'"
      ]
     },
     "execution_count": 11,
     "metadata": {},
     "output_type": "execute_result"
    }
   ],
   "source": [
    "f\"Total number of variants we do not support in the Variation Normalizer: \"\\\n",
    "f\"{sum(category_counts.values())}\""
   ]
  },
  {
   "cell_type": "code",
   "execution_count": 12,
   "metadata": {},
   "outputs": [
    {
     "data": {
      "text/plain": [
       "{'FUSION': 311,\n",
       " 'EXPRESSION': 280,\n",
       " 'REGION_DEFINED_VAR': 154,\n",
       " 'FUNCTIONAL_GENE_FUNC': 82,\n",
       " 'FUNCTIONAL_PROTEIN_CONS': 30,\n",
       " 'COPY_NUMBER': 27,\n",
       " 'EPIGENETIC_MODIFICATION': 15,\n",
       " 'REARRANGEMENTS': 15,\n",
       " 'OTHER': 14,\n",
       " 'GENOTYPES_EASY': 7,\n",
       " 'GENOTYPES_COMPOUND': 4}"
      ]
     },
     "execution_count": 12,
     "metadata": {},
     "output_type": "execute_result"
    }
   ],
   "source": [
    "dict(sorted(category_counts.items(), key=lambda x: x[1], reverse=True))"
   ]
  }
 ],
 "metadata": {
  "kernelspec": {
   "display_name": "variation-normalization-KPVKcmjd",
   "language": "python",
   "name": "python3"
  },
  "language_info": {
   "codemirror_mode": {
    "name": "ipython",
    "version": 3
   },
   "file_extension": ".py",
   "mimetype": "text/x-python",
   "name": "python",
   "nbconvert_exporter": "python",
   "pygments_lexer": "ipython3",
   "version": "3.10.8"
  },
  "orig_nbformat": 4,
  "vscode": {
   "interpreter": {
    "hash": "0be8ba9a7b89517724a412b9d40e184059795303560bd1108143a8aed13113be"
   }
  }
 },
 "nbformat": 4,
 "nbformat_minor": 2
}
