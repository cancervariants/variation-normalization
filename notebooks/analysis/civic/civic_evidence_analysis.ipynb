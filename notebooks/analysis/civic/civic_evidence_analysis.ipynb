{
 "cells": [
  {
   "cell_type": "markdown",
   "metadata": {},
   "source": [
    "# Analysis of Normalized Queries\n",
    "\n",
    "This notebook contains an analysis on CIViC evidence data"
   ]
  },
  {
   "cell_type": "code",
   "execution_count": 1,
   "metadata": {},
   "outputs": [],
   "source": [
    "import csv\n",
    "import pandas as pd\n",
    "import numpy as np\n",
    "from civicpy import civic"
   ]
  },
  {
   "cell_type": "code",
   "execution_count": 2,
   "metadata": {},
   "outputs": [],
   "source": [
    "# civic.load_cache(on_stale=\"ignore\")"
   ]
  },
  {
   "cell_type": "markdown",
   "metadata": {},
   "source": [
    "## Total Variants in CIViC"
   ]
  },
  {
   "cell_type": "code",
   "execution_count": 67,
   "metadata": {},
   "outputs": [
    {
     "data": {
      "text/plain": [
       "'Total Number of variants in CIViC: 3525'"
      ]
     },
     "execution_count": 67,
     "metadata": {},
     "output_type": "execute_result"
    }
   ],
   "source": [
    "civic_variant_ids = civic.get_all_variants()\n",
    "\n",
    "total_number_variants = len(civic_variant_ids)\n",
    "f\"Total Number of variants in CIViC: {total_number_variants}\""
   ]
  },
  {
   "cell_type": "markdown",
   "metadata": {},
   "source": [
    "## Total Evidence items in CIViC"
   ]
  },
  {
   "cell_type": "code",
   "execution_count": 68,
   "metadata": {},
   "outputs": [
    {
     "data": {
      "text/plain": [
       "'Total Number of evidence items in CIViC: 10044'"
      ]
     },
     "execution_count": 68,
     "metadata": {},
     "output_type": "execute_result"
    }
   ],
   "source": [
    "civic_evidence_ids = civic.get_all_evidence()\n",
    "\n",
    "total_number_evidences = len(civic_evidence_ids)\n",
    "f\"Total Number of evidence items in CIViC: {total_number_evidences}\""
   ]
  },
  {
   "cell_type": "markdown",
   "metadata": {},
   "source": [
    "## List of Normalized Variants ID's"
   ]
  },
  {
   "cell_type": "code",
   "execution_count": 5,
   "metadata": {},
   "outputs": [
    {
     "data": {
      "text/html": [
       "<div>\n",
       "<style scoped>\n",
       "    .dataframe tbody tr th:only-of-type {\n",
       "        vertical-align: middle;\n",
       "    }\n",
       "\n",
       "    .dataframe tbody tr th {\n",
       "        vertical-align: top;\n",
       "    }\n",
       "\n",
       "    .dataframe thead th {\n",
       "        text-align: right;\n",
       "    }\n",
       "</style>\n",
       "<table border=\"1\" class=\"dataframe\">\n",
       "  <thead>\n",
       "    <tr style=\"text-align: right;\">\n",
       "      <th></th>\n",
       "      <th>variant_id</th>\n",
       "      <th>query</th>\n",
       "      <th>query_type</th>\n",
       "      <th>variant_accepted</th>\n",
       "    </tr>\n",
       "  </thead>\n",
       "  <tbody>\n",
       "    <tr>\n",
       "      <th>0</th>\n",
       "      <td>2489</td>\n",
       "      <td>NC_000003.11:g.10191648_10191649insC</td>\n",
       "      <td>genomic</td>\n",
       "      <td>True</td>\n",
       "    </tr>\n",
       "    <tr>\n",
       "      <th>1</th>\n",
       "      <td>1988</td>\n",
       "      <td>NC_000003.11:g.10191649A&gt;T</td>\n",
       "      <td>genomic</td>\n",
       "      <td>True</td>\n",
       "    </tr>\n",
       "    <tr>\n",
       "      <th>2</th>\n",
       "      <td>2488</td>\n",
       "      <td>3-10191647-T-G</td>\n",
       "      <td>genomic</td>\n",
       "      <td>True</td>\n",
       "    </tr>\n",
       "    <tr>\n",
       "      <th>3</th>\n",
       "      <td>1986</td>\n",
       "      <td>NC_000003.11:g.10191648G&gt;T</td>\n",
       "      <td>genomic</td>\n",
       "      <td>True</td>\n",
       "    </tr>\n",
       "    <tr>\n",
       "      <th>4</th>\n",
       "      <td>1987</td>\n",
       "      <td>NC_000003.11:g.10191649A&gt;G</td>\n",
       "      <td>genomic</td>\n",
       "      <td>True</td>\n",
       "    </tr>\n",
       "  </tbody>\n",
       "</table>\n",
       "</div>"
      ],
      "text/plain": [
       "   variant_id                                 query query_type   \n",
       "0        2489  NC_000003.11:g.10191648_10191649insC    genomic  \\\n",
       "1        1988            NC_000003.11:g.10191649A>T    genomic   \n",
       "2        2488                        3-10191647-T-G    genomic   \n",
       "3        1986            NC_000003.11:g.10191648G>T    genomic   \n",
       "4        1987            NC_000003.11:g.10191649A>G    genomic   \n",
       "\n",
       "   variant_accepted  \n",
       "0              True  \n",
       "1              True  \n",
       "2              True  \n",
       "3              True  \n",
       "4              True  "
      ]
     },
     "execution_count": 5,
     "metadata": {},
     "output_type": "execute_result"
    }
   ],
   "source": [
    "normalized_queries_df = pd.read_csv(\"./able_to_normalize_queries.csv\", sep= \"\\t\")\n",
    "normalized_queries_df.head()"
   ]
  },
  {
   "cell_type": "code",
   "execution_count": 6,
   "metadata": {},
   "outputs": [],
   "source": [
    "normalized_variant_id_list = list(normalized_queries_df[\"variant_id\"])"
   ]
  },
  {
   "cell_type": "markdown",
   "metadata": {},
   "source": [
    "## Variant analysis"
   ]
  },
  {
   "cell_type": "code",
   "execution_count": 7,
   "metadata": {},
   "outputs": [
    {
     "data": {
      "text/plain": [
       "'Percentage of Normalized Variants in CIViC: 52.79%'"
      ]
     },
     "execution_count": 7,
     "metadata": {},
     "output_type": "execute_result"
    }
   ],
   "source": [
    "total_number_normalized_variants = len(set(normalized_variant_id_list))\n",
    "percentage_normalized_variants = \"{:.2f}\".format(total_number_normalized_variants/total_number_variants*100)\n",
    "f\"Percentage of Normalized Variants in CIViC: {percentage_normalized_variants}%\""
   ]
  },
  {
   "cell_type": "code",
   "execution_count": 8,
   "metadata": {},
   "outputs": [
    {
     "data": {
      "text/plain": [
       "variant_accepted\n",
       "False    995\n",
       "True     866\n",
       "Name: count, dtype: int64"
      ]
     },
     "execution_count": 8,
     "metadata": {},
     "output_type": "execute_result"
    }
   ],
   "source": [
    "normalized_queries_df.variant_accepted.value_counts()"
   ]
  },
  {
   "cell_type": "code",
   "execution_count": 9,
   "metadata": {},
   "outputs": [
    {
     "data": {
      "text/plain": [
       "'Percentage of not accepted Normalized Variants: 53.47%'"
      ]
     },
     "execution_count": 9,
     "metadata": {},
     "output_type": "execute_result"
    }
   ],
   "source": [
    "number_not_accepted_normalized_variants = len(normalized_queries_df) - normalized_queries_df.variant_accepted.sum()\n",
    "percentage_not_accepted_normalized_variants = \"{:.2f}\".format(number_not_accepted_normalized_variants/total_number_normalized_variants*100)\n",
    "f\"Percentage of not accepted Normalized Variants: {percentage_not_accepted_normalized_variants}%\""
   ]
  },
  {
   "cell_type": "code",
   "execution_count": 10,
   "metadata": {},
   "outputs": [
    {
     "data": {
      "text/plain": [
       "'Percentage of accepted Normalized Variants: 46.53%'"
      ]
     },
     "execution_count": 10,
     "metadata": {},
     "output_type": "execute_result"
    }
   ],
   "source": [
    "number_accepted_normalized_variants = normalized_queries_df.variant_accepted.sum()\n",
    "percentage_accepted_normalized_variants = \"{:.2f}\".format(number_accepted_normalized_variants/total_number_normalized_variants*100)\n",
    "f\"Percentage of accepted Normalized Variants: {percentage_accepted_normalized_variants}%\""
   ]
  },
  {
   "cell_type": "markdown",
   "metadata": {},
   "source": [
    "## Import evidence ID's associated with the Normalized Variants using variant ID\n",
    "\n",
    "Evidence items are linked to the molecular profiles associated with variant items. To pull evidence IDs, need to use molecular profiles. For more information on the structure of a variant item"
   ]
  },
  {
   "cell_type": "code",
   "execution_count": 11,
   "metadata": {},
   "outputs": [
    {
     "data": {
      "text/html": [
       "<div>\n",
       "<style scoped>\n",
       "    .dataframe tbody tr th:only-of-type {\n",
       "        vertical-align: middle;\n",
       "    }\n",
       "\n",
       "    .dataframe tbody tr th {\n",
       "        vertical-align: top;\n",
       "    }\n",
       "\n",
       "    .dataframe thead th {\n",
       "        text-align: right;\n",
       "    }\n",
       "</style>\n",
       "<table border=\"1\" class=\"dataframe\">\n",
       "  <thead>\n",
       "    <tr style=\"text-align: right;\">\n",
       "      <th></th>\n",
       "      <th>variant_id</th>\n",
       "      <th>query</th>\n",
       "      <th>query_type</th>\n",
       "      <th>variant_accepted</th>\n",
       "      <th>evidence_ids</th>\n",
       "    </tr>\n",
       "  </thead>\n",
       "  <tbody>\n",
       "    <tr>\n",
       "      <th>0</th>\n",
       "      <td>2489</td>\n",
       "      <td>NC_000003.11:g.10191648_10191649insC</td>\n",
       "      <td>genomic</td>\n",
       "      <td>True</td>\n",
       "      <td>[9347, 6724]</td>\n",
       "    </tr>\n",
       "    <tr>\n",
       "      <th>1</th>\n",
       "      <td>1988</td>\n",
       "      <td>NC_000003.11:g.10191649A&gt;T</td>\n",
       "      <td>genomic</td>\n",
       "      <td>True</td>\n",
       "      <td>[5336]</td>\n",
       "    </tr>\n",
       "    <tr>\n",
       "      <th>2</th>\n",
       "      <td>2488</td>\n",
       "      <td>3-10191647-T-G</td>\n",
       "      <td>genomic</td>\n",
       "      <td>True</td>\n",
       "      <td>[10779, 6723, 8258]</td>\n",
       "    </tr>\n",
       "    <tr>\n",
       "      <th>3</th>\n",
       "      <td>1986</td>\n",
       "      <td>NC_000003.11:g.10191648G&gt;T</td>\n",
       "      <td>genomic</td>\n",
       "      <td>True</td>\n",
       "      <td>[5334]</td>\n",
       "    </tr>\n",
       "    <tr>\n",
       "      <th>4</th>\n",
       "      <td>1987</td>\n",
       "      <td>NC_000003.11:g.10191649A&gt;G</td>\n",
       "      <td>genomic</td>\n",
       "      <td>True</td>\n",
       "      <td>[5335]</td>\n",
       "    </tr>\n",
       "  </tbody>\n",
       "</table>\n",
       "</div>"
      ],
      "text/plain": [
       "   variant_id                                 query query_type   \n",
       "0        2489  NC_000003.11:g.10191648_10191649insC    genomic  \\\n",
       "1        1988            NC_000003.11:g.10191649A>T    genomic   \n",
       "2        2488                        3-10191647-T-G    genomic   \n",
       "3        1986            NC_000003.11:g.10191648G>T    genomic   \n",
       "4        1987            NC_000003.11:g.10191649A>G    genomic   \n",
       "\n",
       "   variant_accepted         evidence_ids  \n",
       "0              True         [9347, 6724]  \n",
       "1              True               [5336]  \n",
       "2              True  [10779, 6723, 8258]  \n",
       "3              True               [5334]  \n",
       "4              True               [5335]  "
      ]
     },
     "execution_count": 11,
     "metadata": {},
     "output_type": "execute_result"
    }
   ],
   "source": [
    "normalized_variants_evidence_ids = []\n",
    "\n",
    "for v in normalized_variant_id_list:\n",
    "    variant_evidence_id_list = []\n",
    "\n",
    "    for variant in civic_variant_ids:\n",
    "        if int(v) == variant.id:\n",
    "\n",
    "            for mp in variant.molecular_profiles:\n",
    "                for e in mp.evidence_items:\n",
    "                    if e.id not in variant_evidence_id_list:\n",
    "                        variant_evidence_id_list.append(e.id)\n",
    "\n",
    "            variant_evidence_id_list = variant_evidence_id_list or \"\"\n",
    "\n",
    "    normalized_variants_evidence_ids.append(variant_evidence_id_list)\n",
    "    \n",
    "normalized_queries_df[\"evidence_ids\"] = normalized_variants_evidence_ids\n",
    "normalized_queries_df.head()"
   ]
  },
  {
   "cell_type": "markdown",
   "metadata": {},
   "source": [
    "## List of Evidence ID's of Normalized Variants"
   ]
  },
  {
   "cell_type": "code",
   "execution_count": 12,
   "metadata": {},
   "outputs": [
    {
     "data": {
      "text/html": [
       "<div>\n",
       "<style scoped>\n",
       "    .dataframe tbody tr th:only-of-type {\n",
       "        vertical-align: middle;\n",
       "    }\n",
       "\n",
       "    .dataframe tbody tr th {\n",
       "        vertical-align: top;\n",
       "    }\n",
       "\n",
       "    .dataframe thead th {\n",
       "        text-align: right;\n",
       "    }\n",
       "</style>\n",
       "<table border=\"1\" class=\"dataframe\">\n",
       "  <thead>\n",
       "    <tr style=\"text-align: right;\">\n",
       "      <th></th>\n",
       "      <th>variant_id</th>\n",
       "      <th>query</th>\n",
       "      <th>query_type</th>\n",
       "      <th>variant_accepted</th>\n",
       "      <th>evidence_ids</th>\n",
       "    </tr>\n",
       "  </thead>\n",
       "  <tbody>\n",
       "    <tr>\n",
       "      <th>0</th>\n",
       "      <td>2489</td>\n",
       "      <td>NC_000003.11:g.10191648_10191649insC</td>\n",
       "      <td>genomic</td>\n",
       "      <td>True</td>\n",
       "      <td>9347</td>\n",
       "    </tr>\n",
       "    <tr>\n",
       "      <th>0</th>\n",
       "      <td>2489</td>\n",
       "      <td>NC_000003.11:g.10191648_10191649insC</td>\n",
       "      <td>genomic</td>\n",
       "      <td>True</td>\n",
       "      <td>6724</td>\n",
       "    </tr>\n",
       "    <tr>\n",
       "      <th>1</th>\n",
       "      <td>1988</td>\n",
       "      <td>NC_000003.11:g.10191649A&gt;T</td>\n",
       "      <td>genomic</td>\n",
       "      <td>True</td>\n",
       "      <td>5336</td>\n",
       "    </tr>\n",
       "    <tr>\n",
       "      <th>2</th>\n",
       "      <td>2488</td>\n",
       "      <td>3-10191647-T-G</td>\n",
       "      <td>genomic</td>\n",
       "      <td>True</td>\n",
       "      <td>10779</td>\n",
       "    </tr>\n",
       "    <tr>\n",
       "      <th>2</th>\n",
       "      <td>2488</td>\n",
       "      <td>3-10191647-T-G</td>\n",
       "      <td>genomic</td>\n",
       "      <td>True</td>\n",
       "      <td>6723</td>\n",
       "    </tr>\n",
       "  </tbody>\n",
       "</table>\n",
       "</div>"
      ],
      "text/plain": [
       "   variant_id                                 query query_type   \n",
       "0        2489  NC_000003.11:g.10191648_10191649insC    genomic  \\\n",
       "0        2489  NC_000003.11:g.10191648_10191649insC    genomic   \n",
       "1        1988            NC_000003.11:g.10191649A>T    genomic   \n",
       "2        2488                        3-10191647-T-G    genomic   \n",
       "2        2488                        3-10191647-T-G    genomic   \n",
       "\n",
       "   variant_accepted evidence_ids  \n",
       "0              True         9347  \n",
       "0              True         6724  \n",
       "1              True         5336  \n",
       "2              True        10779  \n",
       "2              True         6723  "
      ]
     },
     "execution_count": 12,
     "metadata": {},
     "output_type": "execute_result"
    }
   ],
   "source": [
    "normalized_queries_df = normalized_queries_df.explode(column=\"evidence_ids\")\n",
    "normalized_queries_df.head()"
   ]
  },
  {
   "cell_type": "code",
   "execution_count": 13,
   "metadata": {},
   "outputs": [],
   "source": [
    "normalized_variant_evidence_id_list = list(normalized_queries_df[\"evidence_ids\"])"
   ]
  },
  {
   "cell_type": "markdown",
   "metadata": {},
   "source": [
    "## Import evidence status, rating, and level associated with a specific evidence ID\n",
    "    please see the CIViC documentation for evidence item attribute decriptions (https://civic.readthedocs.io/en/latest/model/evidence.html)"
   ]
  },
  {
   "cell_type": "code",
   "execution_count": 14,
   "metadata": {},
   "outputs": [
    {
     "data": {
      "text/html": [
       "<div>\n",
       "<style scoped>\n",
       "    .dataframe tbody tr th:only-of-type {\n",
       "        vertical-align: middle;\n",
       "    }\n",
       "\n",
       "    .dataframe tbody tr th {\n",
       "        vertical-align: top;\n",
       "    }\n",
       "\n",
       "    .dataframe thead th {\n",
       "        text-align: right;\n",
       "    }\n",
       "</style>\n",
       "<table border=\"1\" class=\"dataframe\">\n",
       "  <thead>\n",
       "    <tr style=\"text-align: right;\">\n",
       "      <th></th>\n",
       "      <th>variant_id</th>\n",
       "      <th>query</th>\n",
       "      <th>query_type</th>\n",
       "      <th>variant_accepted</th>\n",
       "      <th>evidence_ids</th>\n",
       "      <th>evidence_status</th>\n",
       "      <th>evidence_rating</th>\n",
       "      <th>evidence_level</th>\n",
       "    </tr>\n",
       "  </thead>\n",
       "  <tbody>\n",
       "    <tr>\n",
       "      <th>0</th>\n",
       "      <td>2489</td>\n",
       "      <td>NC_000003.11:g.10191648_10191649insC</td>\n",
       "      <td>genomic</td>\n",
       "      <td>True</td>\n",
       "      <td>9347</td>\n",
       "      <td>[submitted]</td>\n",
       "      <td>[3]</td>\n",
       "      <td>[C]</td>\n",
       "    </tr>\n",
       "    <tr>\n",
       "      <th>0</th>\n",
       "      <td>2489</td>\n",
       "      <td>NC_000003.11:g.10191648_10191649insC</td>\n",
       "      <td>genomic</td>\n",
       "      <td>True</td>\n",
       "      <td>6724</td>\n",
       "      <td>[accepted]</td>\n",
       "      <td>[2]</td>\n",
       "      <td>[C]</td>\n",
       "    </tr>\n",
       "    <tr>\n",
       "      <th>1</th>\n",
       "      <td>1988</td>\n",
       "      <td>NC_000003.11:g.10191649A&gt;T</td>\n",
       "      <td>genomic</td>\n",
       "      <td>True</td>\n",
       "      <td>5336</td>\n",
       "      <td>[accepted]</td>\n",
       "      <td>[2]</td>\n",
       "      <td>[C]</td>\n",
       "    </tr>\n",
       "    <tr>\n",
       "      <th>2</th>\n",
       "      <td>2488</td>\n",
       "      <td>3-10191647-T-G</td>\n",
       "      <td>genomic</td>\n",
       "      <td>True</td>\n",
       "      <td>10779</td>\n",
       "      <td>[submitted]</td>\n",
       "      <td>[3]</td>\n",
       "      <td>[C]</td>\n",
       "    </tr>\n",
       "    <tr>\n",
       "      <th>2</th>\n",
       "      <td>2488</td>\n",
       "      <td>3-10191647-T-G</td>\n",
       "      <td>genomic</td>\n",
       "      <td>True</td>\n",
       "      <td>6723</td>\n",
       "      <td>[accepted]</td>\n",
       "      <td>[2]</td>\n",
       "      <td>[C]</td>\n",
       "    </tr>\n",
       "  </tbody>\n",
       "</table>\n",
       "</div>"
      ],
      "text/plain": [
       "   variant_id                                 query query_type   \n",
       "0        2489  NC_000003.11:g.10191648_10191649insC    genomic  \\\n",
       "0        2489  NC_000003.11:g.10191648_10191649insC    genomic   \n",
       "1        1988            NC_000003.11:g.10191649A>T    genomic   \n",
       "2        2488                        3-10191647-T-G    genomic   \n",
       "2        2488                        3-10191647-T-G    genomic   \n",
       "\n",
       "   variant_accepted evidence_ids evidence_status evidence_rating   \n",
       "0              True         9347     [submitted]             [3]  \\\n",
       "0              True         6724      [accepted]             [2]   \n",
       "1              True         5336      [accepted]             [2]   \n",
       "2              True        10779     [submitted]             [3]   \n",
       "2              True         6723      [accepted]             [2]   \n",
       "\n",
       "  evidence_level  \n",
       "0            [C]  \n",
       "0            [C]  \n",
       "1            [C]  \n",
       "2            [C]  \n",
       "2            [C]  "
      ]
     },
     "execution_count": 14,
     "metadata": {},
     "output_type": "execute_result"
    }
   ],
   "source": [
    "normalized_variants_evidence_statuses = []\n",
    "normalized_variants_evidence_ratings = []\n",
    "normalized_variants_evidence_levels = []\n",
    "\n",
    "for e in normalized_variant_evidence_id_list:\n",
    "    variant_evidence_status_list = []\n",
    "    variant_evidence_rating_list = []\n",
    "    variant_evidence_level_list = []\n",
    "\n",
    "    for evidence in civic_evidence_ids: \n",
    "        if int(e) == evidence.id:\n",
    "\n",
    "            if evidence.status not in variant_evidence_status_list:\n",
    "                variant_evidence_status_list.append(evidence.status)\n",
    "            variant_evidence_status_list = variant_evidence_status_list or \"\"\n",
    "\n",
    "            if evidence.rating not in variant_evidence_rating_list:\n",
    "                variant_evidence_rating_list.append(evidence.rating)\n",
    "            variant_evidence_rating_list = variant_evidence_rating_list or \"\"\n",
    "\n",
    "            if evidence.evidence_level not in variant_evidence_level_list:\n",
    "                variant_evidence_level_list.append(evidence.evidence_level)\n",
    "            variant_evidence_level_list = variant_evidence_level_list or \"\"\n",
    "\n",
    "    normalized_variants_evidence_statuses.append(variant_evidence_status_list)\n",
    "    normalized_variants_evidence_ratings.append(variant_evidence_rating_list)\n",
    "    normalized_variants_evidence_levels.append(variant_evidence_level_list)\n",
    "\n",
    "normalized_queries_df[\"evidence_status\"] = normalized_variants_evidence_statuses\n",
    "normalized_queries_df[\"evidence_rating\"] = normalized_variants_evidence_ratings\n",
    "normalized_queries_df[\"evidence_level\"] = normalized_variants_evidence_levels\n",
    "normalized_queries_df.head()"
   ]
  },
  {
   "cell_type": "markdown",
   "metadata": {},
   "source": [
    "## Evidence analysis"
   ]
  },
  {
   "cell_type": "code",
   "execution_count": 15,
   "metadata": {},
   "outputs": [
    {
     "data": {
      "text/plain": [
       "'Percentage of Normalized Variant Evidence items in CIViC: 58.71%'"
      ]
     },
     "execution_count": 15,
     "metadata": {},
     "output_type": "execute_result"
    }
   ],
   "source": [
    "total_number_normalized_variant_unique_evidence_items = len(set(normalized_queries_df.evidence_ids))\n",
    "normalized_percentage_evidence_items = \"{:.2f}\".format(total_number_normalized_variant_unique_evidence_items/total_number_evidences*100)\n",
    "f\"Percentage of Normalized Variant Evidence items in CIViC: {normalized_percentage_evidence_items}%\""
   ]
  },
  {
   "cell_type": "code",
   "execution_count": 16,
   "metadata": {},
   "outputs": [],
   "source": [
    "normalized_queries_df['evidence_status'] = normalized_queries_df['evidence_status'].str.join(', ')"
   ]
  },
  {
   "cell_type": "code",
   "execution_count": 17,
   "metadata": {},
   "outputs": [
    {
     "data": {
      "text/html": [
       "<div>\n",
       "<style scoped>\n",
       "    .dataframe tbody tr th:only-of-type {\n",
       "        vertical-align: middle;\n",
       "    }\n",
       "\n",
       "    .dataframe tbody tr th {\n",
       "        vertical-align: top;\n",
       "    }\n",
       "\n",
       "    .dataframe thead th {\n",
       "        text-align: right;\n",
       "    }\n",
       "</style>\n",
       "<table border=\"1\" class=\"dataframe\">\n",
       "  <thead>\n",
       "    <tr style=\"text-align: right;\">\n",
       "      <th></th>\n",
       "      <th>variant_id</th>\n",
       "      <th>query</th>\n",
       "      <th>query_type</th>\n",
       "      <th>variant_accepted</th>\n",
       "      <th>evidence_ids</th>\n",
       "      <th>evidence_status</th>\n",
       "      <th>evidence_rating</th>\n",
       "      <th>evidence_level</th>\n",
       "      <th>evidence_accepted</th>\n",
       "    </tr>\n",
       "  </thead>\n",
       "  <tbody>\n",
       "    <tr>\n",
       "      <th>0</th>\n",
       "      <td>2489</td>\n",
       "      <td>NC_000003.11:g.10191648_10191649insC</td>\n",
       "      <td>genomic</td>\n",
       "      <td>True</td>\n",
       "      <td>9347</td>\n",
       "      <td>submitted</td>\n",
       "      <td>[3]</td>\n",
       "      <td>[C]</td>\n",
       "      <td>False</td>\n",
       "    </tr>\n",
       "    <tr>\n",
       "      <th>0</th>\n",
       "      <td>2489</td>\n",
       "      <td>NC_000003.11:g.10191648_10191649insC</td>\n",
       "      <td>genomic</td>\n",
       "      <td>True</td>\n",
       "      <td>6724</td>\n",
       "      <td>accepted</td>\n",
       "      <td>[2]</td>\n",
       "      <td>[C]</td>\n",
       "      <td>True</td>\n",
       "    </tr>\n",
       "    <tr>\n",
       "      <th>1</th>\n",
       "      <td>1988</td>\n",
       "      <td>NC_000003.11:g.10191649A&gt;T</td>\n",
       "      <td>genomic</td>\n",
       "      <td>True</td>\n",
       "      <td>5336</td>\n",
       "      <td>accepted</td>\n",
       "      <td>[2]</td>\n",
       "      <td>[C]</td>\n",
       "      <td>True</td>\n",
       "    </tr>\n",
       "    <tr>\n",
       "      <th>2</th>\n",
       "      <td>2488</td>\n",
       "      <td>3-10191647-T-G</td>\n",
       "      <td>genomic</td>\n",
       "      <td>True</td>\n",
       "      <td>10779</td>\n",
       "      <td>submitted</td>\n",
       "      <td>[3]</td>\n",
       "      <td>[C]</td>\n",
       "      <td>False</td>\n",
       "    </tr>\n",
       "    <tr>\n",
       "      <th>2</th>\n",
       "      <td>2488</td>\n",
       "      <td>3-10191647-T-G</td>\n",
       "      <td>genomic</td>\n",
       "      <td>True</td>\n",
       "      <td>6723</td>\n",
       "      <td>accepted</td>\n",
       "      <td>[2]</td>\n",
       "      <td>[C]</td>\n",
       "      <td>True</td>\n",
       "    </tr>\n",
       "  </tbody>\n",
       "</table>\n",
       "</div>"
      ],
      "text/plain": [
       "   variant_id                                 query query_type   \n",
       "0        2489  NC_000003.11:g.10191648_10191649insC    genomic  \\\n",
       "0        2489  NC_000003.11:g.10191648_10191649insC    genomic   \n",
       "1        1988            NC_000003.11:g.10191649A>T    genomic   \n",
       "2        2488                        3-10191647-T-G    genomic   \n",
       "2        2488                        3-10191647-T-G    genomic   \n",
       "\n",
       "   variant_accepted evidence_ids evidence_status evidence_rating   \n",
       "0              True         9347       submitted             [3]  \\\n",
       "0              True         6724        accepted             [2]   \n",
       "1              True         5336        accepted             [2]   \n",
       "2              True        10779       submitted             [3]   \n",
       "2              True         6723        accepted             [2]   \n",
       "\n",
       "  evidence_level  evidence_accepted  \n",
       "0            [C]              False  \n",
       "0            [C]               True  \n",
       "1            [C]               True  \n",
       "2            [C]              False  \n",
       "2            [C]               True  "
      ]
     },
     "execution_count": 17,
     "metadata": {},
     "output_type": "execute_result"
    }
   ],
   "source": [
    "normalized_queries_df['evidence_accepted'] = normalized_queries_df.evidence_status.map({'accepted':True ,'submitted':False, 'rejected':False})\n",
    "normalized_queries_df.head()"
   ]
  },
  {
   "cell_type": "code",
   "execution_count": 18,
   "metadata": {},
   "outputs": [
    {
     "data": {
      "text/plain": [
       "evidence_accepted\n",
       "False    3920\n",
       "True     2049\n",
       "Name: count, dtype: int64"
      ]
     },
     "execution_count": 18,
     "metadata": {},
     "output_type": "execute_result"
    }
   ],
   "source": [
    "normalized_queries_df.evidence_accepted.value_counts()"
   ]
  },
  {
   "cell_type": "code",
   "execution_count": 19,
   "metadata": {},
   "outputs": [
    {
     "data": {
      "text/plain": [
       "'Percentage of not accepted Normalized Variant Evidence items: 66.47%'"
      ]
     },
     "execution_count": 19,
     "metadata": {},
     "output_type": "execute_result"
    }
   ],
   "source": [
    "number_not_accepted_evidences_normalized_variants = len(normalized_queries_df) - normalized_queries_df.evidence_accepted.sum()\n",
    "percentage_not_accepted_evidences_normalized_variants = \"{:.2f}\".format(number_not_accepted_evidences_normalized_variants/total_number_normalized_variant_unique_evidence_items*100)\n",
    "f\"Percentage of not accepted Normalized Variant Evidence items: {percentage_not_accepted_evidences_normalized_variants}%\""
   ]
  },
  {
   "cell_type": "code",
   "execution_count": 20,
   "metadata": {},
   "outputs": [
    {
     "data": {
      "text/plain": [
       "'Percentage of accepted Normalized Variant Evidence items: 34.75%'"
      ]
     },
     "execution_count": 20,
     "metadata": {},
     "output_type": "execute_result"
    }
   ],
   "source": [
    "number_accepted_evidences_normalized_variants = normalized_queries_df.evidence_accepted.sum()\n",
    "percentage_accepted_evidences_normalized_variants = \"{:.2f}\".format(number_accepted_evidences_normalized_variants/total_number_normalized_variant_unique_evidence_items*100)\n",
    "f\"Percentage of accepted Normalized Variant Evidence items: {percentage_accepted_evidences_normalized_variants}%\""
   ]
  },
  {
   "cell_type": "markdown",
   "metadata": {},
   "source": [
    "# Analysis of Unable to Normalize Queries"
   ]
  },
  {
   "cell_type": "markdown",
   "metadata": {},
   "source": [
    "## List of Unable to Normalize Variant ID's"
   ]
  },
  {
   "cell_type": "code",
   "execution_count": 21,
   "metadata": {},
   "outputs": [
    {
     "data": {
      "text/html": [
       "<div>\n",
       "<style scoped>\n",
       "    .dataframe tbody tr th:only-of-type {\n",
       "        vertical-align: middle;\n",
       "    }\n",
       "\n",
       "    .dataframe tbody tr th {\n",
       "        vertical-align: top;\n",
       "    }\n",
       "\n",
       "    .dataframe thead th {\n",
       "        text-align: right;\n",
       "    }\n",
       "</style>\n",
       "<table border=\"1\" class=\"dataframe\">\n",
       "  <thead>\n",
       "    <tr style=\"text-align: right;\">\n",
       "      <th></th>\n",
       "      <th>variant_id</th>\n",
       "      <th>query</th>\n",
       "      <th>query_type</th>\n",
       "      <th>variant_accepted</th>\n",
       "      <th>exception_raised</th>\n",
       "      <th>message</th>\n",
       "      <th>warnings</th>\n",
       "    </tr>\n",
       "  </thead>\n",
       "  <tbody>\n",
       "    <tr>\n",
       "      <th>0</th>\n",
       "      <td>748</td>\n",
       "      <td>MLH1 *757L</td>\n",
       "      <td>protein</td>\n",
       "      <td>True</td>\n",
       "      <td>False</td>\n",
       "      <td>unable to normalize</td>\n",
       "      <td>[\"Unable to find valid result for classificati...</td>\n",
       "    </tr>\n",
       "    <tr>\n",
       "      <th>1</th>\n",
       "      <td>3718</td>\n",
       "      <td>AR A748V</td>\n",
       "      <td>protein</td>\n",
       "      <td>False</td>\n",
       "      <td>False</td>\n",
       "      <td>unable to normalize</td>\n",
       "      <td>[\"Unable to find valid result for classificati...</td>\n",
       "    </tr>\n",
       "    <tr>\n",
       "      <th>2</th>\n",
       "      <td>3725</td>\n",
       "      <td>AR A765T</td>\n",
       "      <td>protein</td>\n",
       "      <td>False</td>\n",
       "      <td>False</td>\n",
       "      <td>unable to normalize</td>\n",
       "      <td>[\"Unable to find valid result for classificati...</td>\n",
       "    </tr>\n",
       "    <tr>\n",
       "      <th>3</th>\n",
       "      <td>248</td>\n",
       "      <td>TERT C228T</td>\n",
       "      <td>protein</td>\n",
       "      <td>True</td>\n",
       "      <td>False</td>\n",
       "      <td>unable to normalize</td>\n",
       "      <td>[\"Unable to find valid result for classificati...</td>\n",
       "    </tr>\n",
       "    <tr>\n",
       "      <th>4</th>\n",
       "      <td>4004</td>\n",
       "      <td>TERT C250T</td>\n",
       "      <td>protein</td>\n",
       "      <td>False</td>\n",
       "      <td>False</td>\n",
       "      <td>unable to normalize</td>\n",
       "      <td>[\"Unable to find valid result for classificati...</td>\n",
       "    </tr>\n",
       "  </tbody>\n",
       "</table>\n",
       "</div>"
      ],
      "text/plain": [
       "   variant_id       query query_type  variant_accepted  exception_raised   \n",
       "0         748  MLH1 *757L    protein              True             False  \\\n",
       "1        3718    AR A748V    protein             False             False   \n",
       "2        3725    AR A765T    protein             False             False   \n",
       "3         248  TERT C228T    protein              True             False   \n",
       "4        4004  TERT C250T    protein             False             False   \n",
       "\n",
       "               message                                           warnings  \n",
       "0  unable to normalize  [\"Unable to find valid result for classificati...  \n",
       "1  unable to normalize  [\"Unable to find valid result for classificati...  \n",
       "2  unable to normalize  [\"Unable to find valid result for classificati...  \n",
       "3  unable to normalize  [\"Unable to find valid result for classificati...  \n",
       "4  unable to normalize  [\"Unable to find valid result for classificati...  "
      ]
     },
     "execution_count": 21,
     "metadata": {},
     "output_type": "execute_result"
    }
   ],
   "source": [
    "not_normalized_quer_df = pd.read_csv(\"./unable_to_normalize_queries.csv\", sep= \"\\t\")\n",
    "not_normalized_quer_df.head()"
   ]
  },
  {
   "cell_type": "code",
   "execution_count": 22,
   "metadata": {},
   "outputs": [],
   "source": [
    "not_normalized_variant_id_list = list(not_normalized_quer_df[\"variant_id\"])"
   ]
  },
  {
   "cell_type": "markdown",
   "metadata": {},
   "source": [
    "## Variant analysis"
   ]
  },
  {
   "cell_type": "code",
   "execution_count": 23,
   "metadata": {},
   "outputs": [
    {
     "data": {
      "text/plain": [
       "'Percentage of Unable to Normalize Variants in CIViC: 1.76%'"
      ]
     },
     "execution_count": 23,
     "metadata": {},
     "output_type": "execute_result"
    }
   ],
   "source": [
    "total_number_not_normalized_variants = len(not_normalized_variant_id_list)\n",
    "percentage_not_normalized_variants = \"{:.2f}\".format(total_number_not_normalized_variants/total_number_variants*100)\n",
    "f\"Percentage of Unable to Normalize Variants in CIViC: {percentage_not_normalized_variants}%\""
   ]
  },
  {
   "cell_type": "code",
   "execution_count": 24,
   "metadata": {},
   "outputs": [
    {
     "data": {
      "text/plain": [
       "variant_accepted\n",
       "False    53\n",
       "True      9\n",
       "Name: count, dtype: int64"
      ]
     },
     "execution_count": 24,
     "metadata": {},
     "output_type": "execute_result"
    }
   ],
   "source": [
    "not_normalized_quer_df.variant_accepted.value_counts()"
   ]
  },
  {
   "cell_type": "code",
   "execution_count": 25,
   "metadata": {},
   "outputs": [
    {
     "data": {
      "text/plain": [
       "'Percentage of not accepted Unable to Normalize Variants: 85.48%'"
      ]
     },
     "execution_count": 25,
     "metadata": {},
     "output_type": "execute_result"
    }
   ],
   "source": [
    "number_not_accepted_not_normalized_variants = len(not_normalized_quer_df) - not_normalized_quer_df.variant_accepted.sum()\n",
    "percentage_not_accepted_not_normalized_variants = \"{:.2f}\".format(number_not_accepted_not_normalized_variants/total_number_not_normalized_variants*100)\n",
    "f\"Percentage of not accepted Unable to Normalize Variants: {percentage_not_accepted_not_normalized_variants}%\""
   ]
  },
  {
   "cell_type": "code",
   "execution_count": 26,
   "metadata": {},
   "outputs": [
    {
     "data": {
      "text/plain": [
       "'Percentage of accepted Unable to Normalize Variants: 14.52%'"
      ]
     },
     "execution_count": 26,
     "metadata": {},
     "output_type": "execute_result"
    }
   ],
   "source": [
    "number_accepted_not_normalized_variants = not_normalized_quer_df.variant_accepted.sum()\n",
    "percentage_accepted_not_normalized_variants = \"{:.2f}\".format(number_accepted_not_normalized_variants/total_number_not_normalized_variants*100)\n",
    "f\"Percentage of accepted Unable to Normalize Variants: {percentage_accepted_not_normalized_variants}%\""
   ]
  },
  {
   "cell_type": "markdown",
   "metadata": {},
   "source": [
    "## Import evidence ID's associated with the Unable to Normalize Variants using variant ID\n",
    "\n",
    "Evidence items are linked to the molecular profiles associated with variant items. To pull evidence IDs, need to use molecular profiles. For more information on the structure of a variant item"
   ]
  },
  {
   "cell_type": "code",
   "execution_count": 27,
   "metadata": {},
   "outputs": [
    {
     "data": {
      "text/html": [
       "<div>\n",
       "<style scoped>\n",
       "    .dataframe tbody tr th:only-of-type {\n",
       "        vertical-align: middle;\n",
       "    }\n",
       "\n",
       "    .dataframe tbody tr th {\n",
       "        vertical-align: top;\n",
       "    }\n",
       "\n",
       "    .dataframe thead th {\n",
       "        text-align: right;\n",
       "    }\n",
       "</style>\n",
       "<table border=\"1\" class=\"dataframe\">\n",
       "  <thead>\n",
       "    <tr style=\"text-align: right;\">\n",
       "      <th></th>\n",
       "      <th>variant_id</th>\n",
       "      <th>query</th>\n",
       "      <th>query_type</th>\n",
       "      <th>variant_accepted</th>\n",
       "      <th>exception_raised</th>\n",
       "      <th>message</th>\n",
       "      <th>warnings</th>\n",
       "      <th>evidence_ids</th>\n",
       "    </tr>\n",
       "  </thead>\n",
       "  <tbody>\n",
       "    <tr>\n",
       "      <th>0</th>\n",
       "      <td>748</td>\n",
       "      <td>MLH1 *757L</td>\n",
       "      <td>protein</td>\n",
       "      <td>True</td>\n",
       "      <td>False</td>\n",
       "      <td>unable to normalize</td>\n",
       "      <td>[\"Unable to find valid result for classificati...</td>\n",
       "      <td>[1812]</td>\n",
       "    </tr>\n",
       "    <tr>\n",
       "      <th>1</th>\n",
       "      <td>3718</td>\n",
       "      <td>AR A748V</td>\n",
       "      <td>protein</td>\n",
       "      <td>False</td>\n",
       "      <td>False</td>\n",
       "      <td>unable to normalize</td>\n",
       "      <td>[\"Unable to find valid result for classificati...</td>\n",
       "      <td>[10128]</td>\n",
       "    </tr>\n",
       "    <tr>\n",
       "      <th>2</th>\n",
       "      <td>3725</td>\n",
       "      <td>AR A765T</td>\n",
       "      <td>protein</td>\n",
       "      <td>False</td>\n",
       "      <td>False</td>\n",
       "      <td>unable to normalize</td>\n",
       "      <td>[\"Unable to find valid result for classificati...</td>\n",
       "      <td>[10135]</td>\n",
       "    </tr>\n",
       "    <tr>\n",
       "      <th>3</th>\n",
       "      <td>248</td>\n",
       "      <td>TERT C228T</td>\n",
       "      <td>protein</td>\n",
       "      <td>True</td>\n",
       "      <td>False</td>\n",
       "      <td>unable to normalize</td>\n",
       "      <td>[\"Unable to find valid result for classificati...</td>\n",
       "      <td>[655, 1646, 6934, 6935]</td>\n",
       "    </tr>\n",
       "    <tr>\n",
       "      <th>4</th>\n",
       "      <td>4004</td>\n",
       "      <td>TERT C250T</td>\n",
       "      <td>protein</td>\n",
       "      <td>False</td>\n",
       "      <td>False</td>\n",
       "      <td>unable to normalize</td>\n",
       "      <td>[\"Unable to find valid result for classificati...</td>\n",
       "      <td>[10331]</td>\n",
       "    </tr>\n",
       "  </tbody>\n",
       "</table>\n",
       "</div>"
      ],
      "text/plain": [
       "   variant_id       query query_type  variant_accepted  exception_raised   \n",
       "0         748  MLH1 *757L    protein              True             False  \\\n",
       "1        3718    AR A748V    protein             False             False   \n",
       "2        3725    AR A765T    protein             False             False   \n",
       "3         248  TERT C228T    protein              True             False   \n",
       "4        4004  TERT C250T    protein             False             False   \n",
       "\n",
       "               message                                           warnings   \n",
       "0  unable to normalize  [\"Unable to find valid result for classificati...  \\\n",
       "1  unable to normalize  [\"Unable to find valid result for classificati...   \n",
       "2  unable to normalize  [\"Unable to find valid result for classificati...   \n",
       "3  unable to normalize  [\"Unable to find valid result for classificati...   \n",
       "4  unable to normalize  [\"Unable to find valid result for classificati...   \n",
       "\n",
       "              evidence_ids  \n",
       "0                   [1812]  \n",
       "1                  [10128]  \n",
       "2                  [10135]  \n",
       "3  [655, 1646, 6934, 6935]  \n",
       "4                  [10331]  "
      ]
     },
     "execution_count": 27,
     "metadata": {},
     "output_type": "execute_result"
    }
   ],
   "source": [
    "not_normalized_variants_evidence_ids = []\n",
    "\n",
    "for v in not_normalized_variant_id_list:\n",
    "    not_normalized_variant_evidence_id_list = []\n",
    "\n",
    "    for variant in civic_variant_ids: \n",
    "        if int(v) == variant.id:\n",
    "\n",
    "            for mp in variant.molecular_profiles:\n",
    "                for e in mp.evidence_items:\n",
    "                    if e.id not in not_normalized_variant_evidence_id_list:\n",
    "                        not_normalized_variant_evidence_id_list.append(e.id)\n",
    "\n",
    "            not_normalized_variant_evidence_id_list = not_normalized_variant_evidence_id_list or \"\"\n",
    "\n",
    "    not_normalized_variants_evidence_ids.append(not_normalized_variant_evidence_id_list)\n",
    "\n",
    "not_normalized_quer_df[\"evidence_ids\"] = not_normalized_variants_evidence_ids\n",
    "not_normalized_quer_df.head()"
   ]
  },
  {
   "cell_type": "markdown",
   "metadata": {},
   "source": [
    "## List of Evidence ID's of Unable to Normalize Variants"
   ]
  },
  {
   "cell_type": "code",
   "execution_count": 28,
   "metadata": {},
   "outputs": [
    {
     "data": {
      "text/html": [
       "<div>\n",
       "<style scoped>\n",
       "    .dataframe tbody tr th:only-of-type {\n",
       "        vertical-align: middle;\n",
       "    }\n",
       "\n",
       "    .dataframe tbody tr th {\n",
       "        vertical-align: top;\n",
       "    }\n",
       "\n",
       "    .dataframe thead th {\n",
       "        text-align: right;\n",
       "    }\n",
       "</style>\n",
       "<table border=\"1\" class=\"dataframe\">\n",
       "  <thead>\n",
       "    <tr style=\"text-align: right;\">\n",
       "      <th></th>\n",
       "      <th>variant_id</th>\n",
       "      <th>query</th>\n",
       "      <th>query_type</th>\n",
       "      <th>variant_accepted</th>\n",
       "      <th>exception_raised</th>\n",
       "      <th>message</th>\n",
       "      <th>warnings</th>\n",
       "      <th>evidence_ids</th>\n",
       "    </tr>\n",
       "  </thead>\n",
       "  <tbody>\n",
       "    <tr>\n",
       "      <th>0</th>\n",
       "      <td>748</td>\n",
       "      <td>MLH1 *757L</td>\n",
       "      <td>protein</td>\n",
       "      <td>True</td>\n",
       "      <td>False</td>\n",
       "      <td>unable to normalize</td>\n",
       "      <td>[\"Unable to find valid result for classificati...</td>\n",
       "      <td>1812</td>\n",
       "    </tr>\n",
       "    <tr>\n",
       "      <th>1</th>\n",
       "      <td>3718</td>\n",
       "      <td>AR A748V</td>\n",
       "      <td>protein</td>\n",
       "      <td>False</td>\n",
       "      <td>False</td>\n",
       "      <td>unable to normalize</td>\n",
       "      <td>[\"Unable to find valid result for classificati...</td>\n",
       "      <td>10128</td>\n",
       "    </tr>\n",
       "    <tr>\n",
       "      <th>2</th>\n",
       "      <td>3725</td>\n",
       "      <td>AR A765T</td>\n",
       "      <td>protein</td>\n",
       "      <td>False</td>\n",
       "      <td>False</td>\n",
       "      <td>unable to normalize</td>\n",
       "      <td>[\"Unable to find valid result for classificati...</td>\n",
       "      <td>10135</td>\n",
       "    </tr>\n",
       "    <tr>\n",
       "      <th>3</th>\n",
       "      <td>248</td>\n",
       "      <td>TERT C228T</td>\n",
       "      <td>protein</td>\n",
       "      <td>True</td>\n",
       "      <td>False</td>\n",
       "      <td>unable to normalize</td>\n",
       "      <td>[\"Unable to find valid result for classificati...</td>\n",
       "      <td>655</td>\n",
       "    </tr>\n",
       "    <tr>\n",
       "      <th>3</th>\n",
       "      <td>248</td>\n",
       "      <td>TERT C228T</td>\n",
       "      <td>protein</td>\n",
       "      <td>True</td>\n",
       "      <td>False</td>\n",
       "      <td>unable to normalize</td>\n",
       "      <td>[\"Unable to find valid result for classificati...</td>\n",
       "      <td>1646</td>\n",
       "    </tr>\n",
       "  </tbody>\n",
       "</table>\n",
       "</div>"
      ],
      "text/plain": [
       "   variant_id       query query_type  variant_accepted  exception_raised   \n",
       "0         748  MLH1 *757L    protein              True             False  \\\n",
       "1        3718    AR A748V    protein             False             False   \n",
       "2        3725    AR A765T    protein             False             False   \n",
       "3         248  TERT C228T    protein              True             False   \n",
       "3         248  TERT C228T    protein              True             False   \n",
       "\n",
       "               message                                           warnings   \n",
       "0  unable to normalize  [\"Unable to find valid result for classificati...  \\\n",
       "1  unable to normalize  [\"Unable to find valid result for classificati...   \n",
       "2  unable to normalize  [\"Unable to find valid result for classificati...   \n",
       "3  unable to normalize  [\"Unable to find valid result for classificati...   \n",
       "3  unable to normalize  [\"Unable to find valid result for classificati...   \n",
       "\n",
       "  evidence_ids  \n",
       "0         1812  \n",
       "1        10128  \n",
       "2        10135  \n",
       "3          655  \n",
       "3         1646  "
      ]
     },
     "execution_count": 28,
     "metadata": {},
     "output_type": "execute_result"
    }
   ],
   "source": [
    "not_normalized_quer_df = not_normalized_quer_df.explode(column=\"evidence_ids\")\n",
    "not_normalized_quer_df.head()"
   ]
  },
  {
   "cell_type": "code",
   "execution_count": 29,
   "metadata": {},
   "outputs": [],
   "source": [
    "not_normalized_evidence_id_list = list(not_normalized_quer_df[\"evidence_ids\"])\n"
   ]
  },
  {
   "cell_type": "markdown",
   "metadata": {},
   "source": [
    "## Import evidence status, rating, and level associated with a specific evidence ID"
   ]
  },
  {
   "cell_type": "code",
   "execution_count": 30,
   "metadata": {},
   "outputs": [
    {
     "data": {
      "text/html": [
       "<div>\n",
       "<style scoped>\n",
       "    .dataframe tbody tr th:only-of-type {\n",
       "        vertical-align: middle;\n",
       "    }\n",
       "\n",
       "    .dataframe tbody tr th {\n",
       "        vertical-align: top;\n",
       "    }\n",
       "\n",
       "    .dataframe thead th {\n",
       "        text-align: right;\n",
       "    }\n",
       "</style>\n",
       "<table border=\"1\" class=\"dataframe\">\n",
       "  <thead>\n",
       "    <tr style=\"text-align: right;\">\n",
       "      <th></th>\n",
       "      <th>variant_id</th>\n",
       "      <th>query</th>\n",
       "      <th>query_type</th>\n",
       "      <th>variant_accepted</th>\n",
       "      <th>exception_raised</th>\n",
       "      <th>message</th>\n",
       "      <th>warnings</th>\n",
       "      <th>evidence_ids</th>\n",
       "      <th>evidence_status</th>\n",
       "      <th>evidence_rating</th>\n",
       "      <th>evidence_level</th>\n",
       "    </tr>\n",
       "  </thead>\n",
       "  <tbody>\n",
       "    <tr>\n",
       "      <th>0</th>\n",
       "      <td>748</td>\n",
       "      <td>MLH1 *757L</td>\n",
       "      <td>protein</td>\n",
       "      <td>True</td>\n",
       "      <td>False</td>\n",
       "      <td>unable to normalize</td>\n",
       "      <td>[\"Unable to find valid result for classificati...</td>\n",
       "      <td>1812</td>\n",
       "      <td>[accepted]</td>\n",
       "      <td>[1]</td>\n",
       "      <td>[C]</td>\n",
       "    </tr>\n",
       "    <tr>\n",
       "      <th>1</th>\n",
       "      <td>3718</td>\n",
       "      <td>AR A748V</td>\n",
       "      <td>protein</td>\n",
       "      <td>False</td>\n",
       "      <td>False</td>\n",
       "      <td>unable to normalize</td>\n",
       "      <td>[\"Unable to find valid result for classificati...</td>\n",
       "      <td>10128</td>\n",
       "      <td>[submitted]</td>\n",
       "      <td>[3]</td>\n",
       "      <td>[D]</td>\n",
       "    </tr>\n",
       "    <tr>\n",
       "      <th>2</th>\n",
       "      <td>3725</td>\n",
       "      <td>AR A765T</td>\n",
       "      <td>protein</td>\n",
       "      <td>False</td>\n",
       "      <td>False</td>\n",
       "      <td>unable to normalize</td>\n",
       "      <td>[\"Unable to find valid result for classificati...</td>\n",
       "      <td>10135</td>\n",
       "      <td>[submitted]</td>\n",
       "      <td>[3]</td>\n",
       "      <td>[D]</td>\n",
       "    </tr>\n",
       "    <tr>\n",
       "      <th>3</th>\n",
       "      <td>248</td>\n",
       "      <td>TERT C228T</td>\n",
       "      <td>protein</td>\n",
       "      <td>True</td>\n",
       "      <td>False</td>\n",
       "      <td>unable to normalize</td>\n",
       "      <td>[\"Unable to find valid result for classificati...</td>\n",
       "      <td>655</td>\n",
       "      <td>[accepted]</td>\n",
       "      <td>[5]</td>\n",
       "      <td>[B]</td>\n",
       "    </tr>\n",
       "    <tr>\n",
       "      <th>3</th>\n",
       "      <td>248</td>\n",
       "      <td>TERT C228T</td>\n",
       "      <td>protein</td>\n",
       "      <td>True</td>\n",
       "      <td>False</td>\n",
       "      <td>unable to normalize</td>\n",
       "      <td>[\"Unable to find valid result for classificati...</td>\n",
       "      <td>1646</td>\n",
       "      <td>[accepted]</td>\n",
       "      <td>[3]</td>\n",
       "      <td>[B]</td>\n",
       "    </tr>\n",
       "  </tbody>\n",
       "</table>\n",
       "</div>"
      ],
      "text/plain": [
       "   variant_id       query query_type  variant_accepted  exception_raised   \n",
       "0         748  MLH1 *757L    protein              True             False  \\\n",
       "1        3718    AR A748V    protein             False             False   \n",
       "2        3725    AR A765T    protein             False             False   \n",
       "3         248  TERT C228T    protein              True             False   \n",
       "3         248  TERT C228T    protein              True             False   \n",
       "\n",
       "               message                                           warnings   \n",
       "0  unable to normalize  [\"Unable to find valid result for classificati...  \\\n",
       "1  unable to normalize  [\"Unable to find valid result for classificati...   \n",
       "2  unable to normalize  [\"Unable to find valid result for classificati...   \n",
       "3  unable to normalize  [\"Unable to find valid result for classificati...   \n",
       "3  unable to normalize  [\"Unable to find valid result for classificati...   \n",
       "\n",
       "  evidence_ids evidence_status evidence_rating evidence_level  \n",
       "0         1812      [accepted]             [1]            [C]  \n",
       "1        10128     [submitted]             [3]            [D]  \n",
       "2        10135     [submitted]             [3]            [D]  \n",
       "3          655      [accepted]             [5]            [B]  \n",
       "3         1646      [accepted]             [3]            [B]  "
      ]
     },
     "execution_count": 30,
     "metadata": {},
     "output_type": "execute_result"
    }
   ],
   "source": [
    "not_normalized_variants_evidence_statuses = []\n",
    "not_normalized_variants_evidence_ratings = []\n",
    "not_normalized_variants_evidence_levels = []\n",
    "\n",
    "for e in not_normalized_evidence_id_list:\n",
    "    not_normalized_variant_evidence_status_list = []\n",
    "    not_normalized_variant_evidence_rating_list = []\n",
    "    not_normalized_variant_evidence_level_list = []\n",
    "\n",
    "    for evidence in civic_evidence_ids: \n",
    "        if int(e) == evidence.id:\n",
    "\n",
    "            if evidence.status not in not_normalized_variant_evidence_status_list:\n",
    "                not_normalized_variant_evidence_status_list.append(evidence.status)\n",
    "            not_normalized_variant_evidence_status_list = not_normalized_variant_evidence_status_list or \"\"\n",
    "\n",
    "            if evidence.rating not in not_normalized_variant_evidence_rating_list:\n",
    "                not_normalized_variant_evidence_rating_list.append(evidence.rating)\n",
    "            not_normalized_variant_evidence_rating_list = not_normalized_variant_evidence_rating_list or \"\"\n",
    "\n",
    "            if evidence.evidence_level not in not_normalized_variant_evidence_level_list:\n",
    "                not_normalized_variant_evidence_level_list.append(evidence.evidence_level)\n",
    "            not_normalized_variant_evidence_level_list = not_normalized_variant_evidence_level_list or \"\"\n",
    "\n",
    "    not_normalized_variants_evidence_statuses.append(not_normalized_variant_evidence_status_list)\n",
    "    not_normalized_variants_evidence_ratings.append(not_normalized_variant_evidence_rating_list)\n",
    "    not_normalized_variants_evidence_levels.append(not_normalized_variant_evidence_level_list)\n",
    "\n",
    "not_normalized_quer_df[\"evidence_status\"] = not_normalized_variants_evidence_statuses\n",
    "not_normalized_quer_df[\"evidence_rating\"] = not_normalized_variants_evidence_ratings\n",
    "not_normalized_quer_df[\"evidence_level\"] = not_normalized_variants_evidence_levels\n",
    "not_normalized_quer_df.head()"
   ]
  },
  {
   "cell_type": "markdown",
   "metadata": {},
   "source": [
    "## Evidence analysis"
   ]
  },
  {
   "cell_type": "code",
   "execution_count": 31,
   "metadata": {},
   "outputs": [
    {
     "data": {
      "text/plain": [
       "'Percentage of Unable to Normalize Variant Evidence items in CIViC: 0.79%'"
      ]
     },
     "execution_count": 31,
     "metadata": {},
     "output_type": "execute_result"
    }
   ],
   "source": [
    "total_number_not_normalized_variant_unique_evidence_items = len(not_normalized_evidence_id_list)\n",
    "not_normalized_percentage_evidence_items = \"{:.2f}\".format(total_number_not_normalized_variant_unique_evidence_items/total_number_evidences*100)\n",
    "f\"Percentage of Unable to Normalize Variant Evidence items in CIViC: {not_normalized_percentage_evidence_items}%\""
   ]
  },
  {
   "cell_type": "code",
   "execution_count": 32,
   "metadata": {},
   "outputs": [],
   "source": [
    "not_normalized_quer_df['evidence_status'] = not_normalized_quer_df['evidence_status'].str.join(', ')\n"
   ]
  },
  {
   "cell_type": "code",
   "execution_count": 33,
   "metadata": {},
   "outputs": [
    {
     "data": {
      "text/html": [
       "<div>\n",
       "<style scoped>\n",
       "    .dataframe tbody tr th:only-of-type {\n",
       "        vertical-align: middle;\n",
       "    }\n",
       "\n",
       "    .dataframe tbody tr th {\n",
       "        vertical-align: top;\n",
       "    }\n",
       "\n",
       "    .dataframe thead th {\n",
       "        text-align: right;\n",
       "    }\n",
       "</style>\n",
       "<table border=\"1\" class=\"dataframe\">\n",
       "  <thead>\n",
       "    <tr style=\"text-align: right;\">\n",
       "      <th></th>\n",
       "      <th>variant_id</th>\n",
       "      <th>query</th>\n",
       "      <th>query_type</th>\n",
       "      <th>variant_accepted</th>\n",
       "      <th>exception_raised</th>\n",
       "      <th>message</th>\n",
       "      <th>warnings</th>\n",
       "      <th>evidence_ids</th>\n",
       "      <th>evidence_status</th>\n",
       "      <th>evidence_rating</th>\n",
       "      <th>evidence_level</th>\n",
       "      <th>evidence_accepted</th>\n",
       "    </tr>\n",
       "  </thead>\n",
       "  <tbody>\n",
       "    <tr>\n",
       "      <th>0</th>\n",
       "      <td>748</td>\n",
       "      <td>MLH1 *757L</td>\n",
       "      <td>protein</td>\n",
       "      <td>True</td>\n",
       "      <td>False</td>\n",
       "      <td>unable to normalize</td>\n",
       "      <td>[\"Unable to find valid result for classificati...</td>\n",
       "      <td>1812</td>\n",
       "      <td>accepted</td>\n",
       "      <td>[1]</td>\n",
       "      <td>[C]</td>\n",
       "      <td>True</td>\n",
       "    </tr>\n",
       "    <tr>\n",
       "      <th>1</th>\n",
       "      <td>3718</td>\n",
       "      <td>AR A748V</td>\n",
       "      <td>protein</td>\n",
       "      <td>False</td>\n",
       "      <td>False</td>\n",
       "      <td>unable to normalize</td>\n",
       "      <td>[\"Unable to find valid result for classificati...</td>\n",
       "      <td>10128</td>\n",
       "      <td>submitted</td>\n",
       "      <td>[3]</td>\n",
       "      <td>[D]</td>\n",
       "      <td>False</td>\n",
       "    </tr>\n",
       "    <tr>\n",
       "      <th>2</th>\n",
       "      <td>3725</td>\n",
       "      <td>AR A765T</td>\n",
       "      <td>protein</td>\n",
       "      <td>False</td>\n",
       "      <td>False</td>\n",
       "      <td>unable to normalize</td>\n",
       "      <td>[\"Unable to find valid result for classificati...</td>\n",
       "      <td>10135</td>\n",
       "      <td>submitted</td>\n",
       "      <td>[3]</td>\n",
       "      <td>[D]</td>\n",
       "      <td>False</td>\n",
       "    </tr>\n",
       "    <tr>\n",
       "      <th>3</th>\n",
       "      <td>248</td>\n",
       "      <td>TERT C228T</td>\n",
       "      <td>protein</td>\n",
       "      <td>True</td>\n",
       "      <td>False</td>\n",
       "      <td>unable to normalize</td>\n",
       "      <td>[\"Unable to find valid result for classificati...</td>\n",
       "      <td>655</td>\n",
       "      <td>accepted</td>\n",
       "      <td>[5]</td>\n",
       "      <td>[B]</td>\n",
       "      <td>True</td>\n",
       "    </tr>\n",
       "    <tr>\n",
       "      <th>3</th>\n",
       "      <td>248</td>\n",
       "      <td>TERT C228T</td>\n",
       "      <td>protein</td>\n",
       "      <td>True</td>\n",
       "      <td>False</td>\n",
       "      <td>unable to normalize</td>\n",
       "      <td>[\"Unable to find valid result for classificati...</td>\n",
       "      <td>1646</td>\n",
       "      <td>accepted</td>\n",
       "      <td>[3]</td>\n",
       "      <td>[B]</td>\n",
       "      <td>True</td>\n",
       "    </tr>\n",
       "  </tbody>\n",
       "</table>\n",
       "</div>"
      ],
      "text/plain": [
       "   variant_id       query query_type  variant_accepted  exception_raised   \n",
       "0         748  MLH1 *757L    protein              True             False  \\\n",
       "1        3718    AR A748V    protein             False             False   \n",
       "2        3725    AR A765T    protein             False             False   \n",
       "3         248  TERT C228T    protein              True             False   \n",
       "3         248  TERT C228T    protein              True             False   \n",
       "\n",
       "               message                                           warnings   \n",
       "0  unable to normalize  [\"Unable to find valid result for classificati...  \\\n",
       "1  unable to normalize  [\"Unable to find valid result for classificati...   \n",
       "2  unable to normalize  [\"Unable to find valid result for classificati...   \n",
       "3  unable to normalize  [\"Unable to find valid result for classificati...   \n",
       "3  unable to normalize  [\"Unable to find valid result for classificati...   \n",
       "\n",
       "  evidence_ids evidence_status evidence_rating evidence_level   \n",
       "0         1812        accepted             [1]            [C]  \\\n",
       "1        10128       submitted             [3]            [D]   \n",
       "2        10135       submitted             [3]            [D]   \n",
       "3          655        accepted             [5]            [B]   \n",
       "3         1646        accepted             [3]            [B]   \n",
       "\n",
       "   evidence_accepted  \n",
       "0               True  \n",
       "1              False  \n",
       "2              False  \n",
       "3               True  \n",
       "3               True  "
      ]
     },
     "execution_count": 33,
     "metadata": {},
     "output_type": "execute_result"
    }
   ],
   "source": [
    "not_normalized_quer_df['evidence_accepted'] = not_normalized_quer_df.evidence_status.map({'accepted':True ,'submitted':False, 'rejected':False})\n",
    "not_normalized_quer_df.head()"
   ]
  },
  {
   "cell_type": "code",
   "execution_count": 34,
   "metadata": {},
   "outputs": [
    {
     "data": {
      "text/plain": [
       "evidence_accepted\n",
       "False    65\n",
       "True     14\n",
       "Name: count, dtype: int64"
      ]
     },
     "execution_count": 34,
     "metadata": {},
     "output_type": "execute_result"
    }
   ],
   "source": [
    "not_normalized_quer_df.evidence_accepted.value_counts()"
   ]
  },
  {
   "cell_type": "code",
   "execution_count": 35,
   "metadata": {},
   "outputs": [
    {
     "data": {
      "text/plain": [
       "'Percentage of not accepted Unable to Normalize Variant Evidence items: 82.28%'"
      ]
     },
     "execution_count": 35,
     "metadata": {},
     "output_type": "execute_result"
    }
   ],
   "source": [
    "number_not_accepted_evidences_not_normalized_variants = len(not_normalized_quer_df) - not_normalized_quer_df.evidence_accepted.sum()\n",
    "percentage_not_accepted_evidences_not_normalized_variants = \"{:.2f}\".format(number_not_accepted_evidences_not_normalized_variants/total_number_not_normalized_variant_unique_evidence_items*100)\n",
    "f\"Percentage of not accepted Unable to Normalize Variant Evidence items: {percentage_not_accepted_evidences_not_normalized_variants}%\""
   ]
  },
  {
   "cell_type": "code",
   "execution_count": 36,
   "metadata": {},
   "outputs": [
    {
     "data": {
      "text/plain": [
       "'Percentage of accepted Unable to Normalize Variant Evidence items: 17.72%'"
      ]
     },
     "execution_count": 36,
     "metadata": {},
     "output_type": "execute_result"
    }
   ],
   "source": [
    "number_accepted_evidences_not_normalized_variants = not_normalized_quer_df.evidence_accepted.sum()\n",
    "percentage_accepted_evidences_not_normalized_variants = \"{:.2f}\".format(number_accepted_evidences_not_normalized_variants/total_number_not_normalized_variant_unique_evidence_items*100)\n",
    "f\"Percentage of accepted Unable to Normalize Variant Evidence items: {percentage_accepted_evidences_not_normalized_variants}%\""
   ]
  },
  {
   "cell_type": "markdown",
   "metadata": {},
   "source": [
    "# Analysis of Not Supported Variants"
   ]
  },
  {
   "cell_type": "markdown",
   "metadata": {},
   "source": [
    "### List of Not Supported Variant ID's"
   ]
  },
  {
   "cell_type": "code",
   "execution_count": 37,
   "metadata": {},
   "outputs": [
    {
     "data": {
      "text/html": [
       "<div>\n",
       "<style scoped>\n",
       "    .dataframe tbody tr th:only-of-type {\n",
       "        vertical-align: middle;\n",
       "    }\n",
       "\n",
       "    .dataframe tbody tr th {\n",
       "        vertical-align: top;\n",
       "    }\n",
       "\n",
       "    .dataframe thead th {\n",
       "        text-align: right;\n",
       "    }\n",
       "</style>\n",
       "<table border=\"1\" class=\"dataframe\">\n",
       "  <thead>\n",
       "    <tr style=\"text-align: right;\">\n",
       "      <th></th>\n",
       "      <th>variant_id</th>\n",
       "      <th>gene_name</th>\n",
       "      <th>variant_name</th>\n",
       "      <th>category</th>\n",
       "      <th>variant_accepted</th>\n",
       "    </tr>\n",
       "  </thead>\n",
       "  <tbody>\n",
       "    <tr>\n",
       "      <th>0</th>\n",
       "      <td>4417</td>\n",
       "      <td>ALK</td>\n",
       "      <td>FBXO11::ALK</td>\n",
       "      <td>Fusion</td>\n",
       "      <td>False</td>\n",
       "    </tr>\n",
       "    <tr>\n",
       "      <th>1</th>\n",
       "      <td>4188</td>\n",
       "      <td>VHL</td>\n",
       "      <td>10kb Deletion</td>\n",
       "      <td>Region Defined Variant</td>\n",
       "      <td>False</td>\n",
       "    </tr>\n",
       "    <tr>\n",
       "      <th>2</th>\n",
       "      <td>785</td>\n",
       "      <td>CHEK2</td>\n",
       "      <td>1100DELC</td>\n",
       "      <td>Protein Consequence</td>\n",
       "      <td>True</td>\n",
       "    </tr>\n",
       "    <tr>\n",
       "      <th>3</th>\n",
       "      <td>2438</td>\n",
       "      <td>VHL</td>\n",
       "      <td>235 (CAG-TAG)</td>\n",
       "      <td>Other</td>\n",
       "      <td>False</td>\n",
       "    </tr>\n",
       "    <tr>\n",
       "      <th>4</th>\n",
       "      <td>4186</td>\n",
       "      <td>VHL</td>\n",
       "      <td>2kb Deletion</td>\n",
       "      <td>Region Defined Variant</td>\n",
       "      <td>False</td>\n",
       "    </tr>\n",
       "  </tbody>\n",
       "</table>\n",
       "</div>"
      ],
      "text/plain": [
       "   variant_id gene_name   variant_name                category   \n",
       "0        4417       ALK    FBXO11::ALK                  Fusion  \\\n",
       "1        4188       VHL  10kb Deletion  Region Defined Variant   \n",
       "2         785     CHEK2       1100DELC     Protein Consequence   \n",
       "3        2438       VHL  235 (CAG-TAG)                   Other   \n",
       "4        4186       VHL   2kb Deletion  Region Defined Variant   \n",
       "\n",
       "   variant_accepted  \n",
       "0             False  \n",
       "1             False  \n",
       "2              True  \n",
       "3             False  \n",
       "4             False  "
      ]
     },
     "execution_count": 37,
     "metadata": {},
     "output_type": "execute_result"
    }
   ],
   "source": [
    "not_supported_variants_df = pd.read_csv(\"./not_supported_variants.csv\", sep= \"\\t\")\n",
    "not_supported_variants_df.head()"
   ]
  },
  {
   "cell_type": "code",
   "execution_count": 38,
   "metadata": {},
   "outputs": [],
   "source": [
    "not_supported_variant_id_list = list(not_supported_variants_df[\"variant_id\"])"
   ]
  },
  {
   "cell_type": "markdown",
   "metadata": {},
   "source": [
    "## Variant Analysis"
   ]
  },
  {
   "cell_type": "code",
   "execution_count": 39,
   "metadata": {},
   "outputs": [
    {
     "data": {
      "text/plain": [
       "'Percentage of Not Supported Variants in CIViC: 34.24%'"
      ]
     },
     "execution_count": 39,
     "metadata": {},
     "output_type": "execute_result"
    }
   ],
   "source": [
    "total_number_unique_not_supported_variants = len(set(not_supported_variants_df.variant_id))\n",
    "percentage_not_supported_variants = \"{:.2f}\".format(total_number_unique_not_supported_variants/total_number_variants*100)\n",
    "f\"Percentage of Not Supported Variants in CIViC: {percentage_not_supported_variants}%\""
   ]
  },
  {
   "cell_type": "code",
   "execution_count": 40,
   "metadata": {},
   "outputs": [
    {
     "data": {
      "text/plain": [
       "variant_accepted\n",
       "True     736\n",
       "False    471\n",
       "Name: count, dtype: int64"
      ]
     },
     "execution_count": 40,
     "metadata": {},
     "output_type": "execute_result"
    }
   ],
   "source": [
    "not_supported_variants_df.variant_accepted.value_counts()"
   ]
  },
  {
   "cell_type": "code",
   "execution_count": 41,
   "metadata": {},
   "outputs": [
    {
     "data": {
      "text/plain": [
       "'Percentage of not accepted Not Supported Variants: 39.02%'"
      ]
     },
     "execution_count": 41,
     "metadata": {},
     "output_type": "execute_result"
    }
   ],
   "source": [
    "number_not_accepted_not_supported_variants = len(not_supported_variants_df) - not_supported_variants_df.variant_accepted.sum()\n",
    "percentage_not_accepted_not_supported_variants = \"{:.2f}\".format(number_not_accepted_not_supported_variants/total_number_unique_not_supported_variants*100)\n",
    "f\"Percentage of not accepted Not Supported Variants: {percentage_not_accepted_not_supported_variants}%\""
   ]
  },
  {
   "cell_type": "code",
   "execution_count": 42,
   "metadata": {},
   "outputs": [
    {
     "data": {
      "text/plain": [
       "'Percentage of accepted Not Supported Variants: 60.98%'"
      ]
     },
     "execution_count": 42,
     "metadata": {},
     "output_type": "execute_result"
    }
   ],
   "source": [
    "number_accepted_not_supported_variants = not_supported_variants_df.variant_accepted.sum()\n",
    "percentage_accepted_not_supported_variants = \"{:.2f}\".format(number_accepted_not_supported_variants/total_number_unique_not_supported_variants*100)\n",
    "f\"Percentage of accepted Not Supported Variants: {percentage_accepted_not_supported_variants}%\""
   ]
  },
  {
   "cell_type": "markdown",
   "metadata": {},
   "source": [
    "### Not Supported Variant Analysis by Subcategory "
   ]
  },
  {
   "cell_type": "code",
   "execution_count": 43,
   "metadata": {},
   "outputs": [
    {
     "name": "stdout",
     "output_type": "stream",
     "text": [
      "Expression\n",
      "Percent of Expression Variants in CIViC: 8.26%\n",
      "Percent of Expression Variants in Not Supported Variants: 24.11%\n",
      "Percent of Accepted Expression Variants: 61.86%\n",
      "Percent of Not Accepted Expression Variants: 38.14%\n",
      "--------------------\n",
      "Epigenetic Modification\n",
      "Percent of Epigenetic Modification Variants in CIViC: 0.43%\n",
      "Percent of Epigenetic Modification Variants in Not Supported Variants: 1.24%\n",
      "Percent of Accepted Epigenetic Modification Variants: 93.33%\n",
      "Percent of Not Accepted Epigenetic Modification Variants: 6.67%\n",
      "--------------------\n",
      "Fusion\n",
      "Percent of Fusion Variants in CIViC: 8.48%\n",
      "Percent of Fusion Variants in Not Supported Variants: 24.77%\n",
      "Percent of Accepted Fusion Variants: 67.89%\n",
      "Percent of Not Accepted Fusion Variants: 32.11%\n",
      "--------------------\n",
      "Protein Consequence\n",
      "Percent of Protein Consequence Variants in CIViC: 3.63%\n",
      "Percent of Protein Consequence Variants in Not Supported Variants: 10.60%\n",
      "Percent of Accepted Protein Consequence Variants: 54.69%\n",
      "Percent of Not Accepted Protein Consequence Variants: 45.31%\n",
      "--------------------\n",
      "Gene Function\n",
      "Percent of Gene Function Variants in CIViC: 2.50%\n",
      "Percent of Gene Function Variants in Not Supported Variants: 7.29%\n",
      "Percent of Accepted Gene Function Variants: 55.68%\n",
      "Percent of Not Accepted Gene Function Variants: 44.32%\n",
      "--------------------\n",
      "Rearrangements\n",
      "Percent of Rearrangements Variants in CIViC: 1.42%\n",
      "Percent of Rearrangements Variants in Not Supported Variants: 4.14%\n",
      "Percent of Accepted Rearrangements Variants: 24.00%\n",
      "Percent of Not Accepted Rearrangements Variants: 76.00%\n",
      "--------------------\n",
      "Copy Number\n",
      "Percent of Copy Number Variants in CIViC: 0.96%\n",
      "Percent of Copy Number Variants in Not Supported Variants: 2.82%\n",
      "Percent of Accepted Copy Number Variants: 55.88%\n",
      "Percent of Not Accepted Copy Number Variants: 44.12%\n",
      "--------------------\n",
      "Other\n",
      "Percent of Other Variants in CIViC: 2.61%\n",
      "Percent of Other Variants in Not Supported Variants: 7.62%\n",
      "Percent of Accepted Other Variants: 46.74%\n",
      "Percent of Not Accepted Other Variants: 53.26%\n",
      "--------------------\n",
      "Genotypes Easy\n",
      "Percent of Genotypes Easy Variants in CIViC: 0.31%\n",
      "Percent of Genotypes Easy Variants in Not Supported Variants: 0.91%\n",
      "Percent of Accepted Genotypes Easy Variants: 72.73%\n",
      "Percent of Not Accepted Genotypes Easy Variants: 27.27%\n",
      "--------------------\n",
      "Genotypes Compound\n",
      "Percent of Genotypes Compound Variants in CIViC: 0.17%\n",
      "Percent of Genotypes Compound Variants in Not Supported Variants: 0.50%\n",
      "Percent of Accepted Genotypes Compound Variants: 66.67%\n",
      "Percent of Not Accepted Genotypes Compound Variants: 33.33%\n",
      "--------------------\n",
      "Region Defined Variant\n",
      "Percent of Region Defined Variant Variants in CIViC: 5.48%\n",
      "Percent of Region Defined Variant Variants in Not Supported Variants: 15.99%\n",
      "Percent of Accepted Region Defined Variant Variants: 69.43%\n",
      "Percent of Not Accepted Region Defined Variant Variants: 30.57%\n",
      "--------------------\n"
     ]
    }
   ],
   "source": [
    "not_supported_variant_categories_summary_data = dict()\n",
    "for category in [\"Expression\", \"Epigenetic Modification\", \"Fusion\", \"Protein Consequence\", \"Gene Function\", \"Rearrangements\", \"Copy Number\", \"Other\", \"Genotypes Easy\", \"Genotypes Compound\", \"Region Defined Variant\"]:\n",
    "    print(category)\n",
    "    not_supported_variant_categories_summary_data[category] = {}\n",
    "    category_df = not_supported_variants_df[not_supported_variants_df.category == category]\n",
    "    \n",
    "    number_unique_not_supported_category_variants = len(set(category_df.variant_id))\n",
    "    percent_not_supported_category_variant_of_civic = \"{:.2f}\".format(number_unique_not_supported_category_variants/total_number_variants*100)\n",
    "    not_supported_variant_categories_summary_data[category][\"percent_not_supported_category_variant_of_civic\"] = percent_not_supported_category_variant_of_civic\n",
    "    print(f\"Percent of {category} Variants in CIViC: {percent_not_supported_category_variant_of_civic}%\")\n",
    "\n",
    "    percent_not_supported_category_variant_of_total_not_supported = \"{:.2f}\".format(number_unique_not_supported_category_variants/total_number_unique_not_supported_variants*100)\n",
    "    not_supported_variant_categories_summary_data[category][\"percent_not_supported_category_variant_of_total_not_supported\"] = percent_not_supported_category_variant_of_total_not_supported\n",
    "    print(f\"Percent of {category} Variants in Not Supported Variants: {percent_not_supported_category_variant_of_total_not_supported}%\")\n",
    "\n",
    "    number_accepted_not_supported_category_variants = category_df.variant_accepted.sum()\n",
    "    percentage_accepted_not_supported_category_variants =  \"{:.2f}\".format(number_accepted_not_supported_category_variants/number_unique_not_supported_category_variants*100)\n",
    "    not_supported_variant_categories_summary_data[category][\"percentage_accepted_not_supported_category_variants\"] = percentage_accepted_not_supported_category_variants\n",
    "    print(f\"Percent of Accepted {category} Variants: {percentage_accepted_not_supported_category_variants}%\")\n",
    "  \n",
    "    number_not_accepted_not_supported_category_variants =  len(category_df) - category_df.variant_accepted.sum()\n",
    "    percentage_not_accepted_not_supported_category_variants =  \"{:.2f}\".format(number_not_accepted_not_supported_category_variants/number_unique_not_supported_category_variants*100)\n",
    "    not_supported_variant_categories_summary_data[category][\"percentage_not_accepted_not_supported_category_variants\"] = percentage_not_accepted_not_supported_category_variants\n",
    "    print(f\"Percent of Not Accepted {category} Variants: {percentage_not_accepted_not_supported_category_variants}%\")\n",
    "    \n",
    "    print(\"--------------------\")"
   ]
  },
  {
   "cell_type": "markdown",
   "metadata": {},
   "source": [
    "## Import evidence ID's associated with the Not Supported Variants using variant ID"
   ]
  },
  {
   "cell_type": "code",
   "execution_count": 44,
   "metadata": {},
   "outputs": [
    {
     "data": {
      "text/html": [
       "<div>\n",
       "<style scoped>\n",
       "    .dataframe tbody tr th:only-of-type {\n",
       "        vertical-align: middle;\n",
       "    }\n",
       "\n",
       "    .dataframe tbody tr th {\n",
       "        vertical-align: top;\n",
       "    }\n",
       "\n",
       "    .dataframe thead th {\n",
       "        text-align: right;\n",
       "    }\n",
       "</style>\n",
       "<table border=\"1\" class=\"dataframe\">\n",
       "  <thead>\n",
       "    <tr style=\"text-align: right;\">\n",
       "      <th></th>\n",
       "      <th>variant_id</th>\n",
       "      <th>gene_name</th>\n",
       "      <th>variant_name</th>\n",
       "      <th>category</th>\n",
       "      <th>variant_accepted</th>\n",
       "      <th>evidence_id</th>\n",
       "    </tr>\n",
       "  </thead>\n",
       "  <tbody>\n",
       "    <tr>\n",
       "      <th>0</th>\n",
       "      <td>4417</td>\n",
       "      <td>ALK</td>\n",
       "      <td>FBXO11::ALK</td>\n",
       "      <td>Fusion</td>\n",
       "      <td>False</td>\n",
       "      <td>[7428]</td>\n",
       "    </tr>\n",
       "    <tr>\n",
       "      <th>1</th>\n",
       "      <td>4188</td>\n",
       "      <td>VHL</td>\n",
       "      <td>10kb Deletion</td>\n",
       "      <td>Region Defined Variant</td>\n",
       "      <td>False</td>\n",
       "      <td>[10678]</td>\n",
       "    </tr>\n",
       "    <tr>\n",
       "      <th>2</th>\n",
       "      <td>785</td>\n",
       "      <td>CHEK2</td>\n",
       "      <td>1100DELC</td>\n",
       "      <td>Protein Consequence</td>\n",
       "      <td>True</td>\n",
       "      <td>[7235, 1849, 1850]</td>\n",
       "    </tr>\n",
       "    <tr>\n",
       "      <th>3</th>\n",
       "      <td>2438</td>\n",
       "      <td>VHL</td>\n",
       "      <td>235 (CAG-TAG)</td>\n",
       "      <td>Other</td>\n",
       "      <td>False</td>\n",
       "      <td>[6524]</td>\n",
       "    </tr>\n",
       "    <tr>\n",
       "      <th>4</th>\n",
       "      <td>4186</td>\n",
       "      <td>VHL</td>\n",
       "      <td>2kb Deletion</td>\n",
       "      <td>Region Defined Variant</td>\n",
       "      <td>False</td>\n",
       "      <td>[10791, 10676]</td>\n",
       "    </tr>\n",
       "  </tbody>\n",
       "</table>\n",
       "</div>"
      ],
      "text/plain": [
       "   variant_id gene_name   variant_name                category   \n",
       "0        4417       ALK    FBXO11::ALK                  Fusion  \\\n",
       "1        4188       VHL  10kb Deletion  Region Defined Variant   \n",
       "2         785     CHEK2       1100DELC     Protein Consequence   \n",
       "3        2438       VHL  235 (CAG-TAG)                   Other   \n",
       "4        4186       VHL   2kb Deletion  Region Defined Variant   \n",
       "\n",
       "   variant_accepted         evidence_id  \n",
       "0             False              [7428]  \n",
       "1             False             [10678]  \n",
       "2              True  [7235, 1849, 1850]  \n",
       "3             False              [6524]  \n",
       "4             False      [10791, 10676]  "
      ]
     },
     "execution_count": 44,
     "metadata": {},
     "output_type": "execute_result"
    }
   ],
   "source": [
    "not_supported_variants_add_evidence_df = not_supported_variants_df.copy()\n",
    "not_supported_variants_evidence_ids = []\n",
    "\n",
    "for v in not_supported_variant_id_list:\n",
    "    not_supported_variant_evidence_id_list = []\n",
    "\n",
    "    for variant in civic_variant_ids:\n",
    "        if int(v) == variant.id:\n",
    "\n",
    "            for mp in variant.molecular_profiles:\n",
    "                for e in mp.evidence_items:\n",
    "                    if e.id not in not_supported_variant_evidence_id_list:\n",
    "                        not_supported_variant_evidence_id_list.append(e.id)\n",
    "\n",
    "            not_supported_variant_evidence_id_list = not_supported_variant_evidence_id_list or \"\"\n",
    "\n",
    "    not_supported_variants_evidence_ids.append(not_supported_variant_evidence_id_list)\n",
    "\n",
    "not_supported_variants_add_evidence_df[\"evidence_id\"] = not_supported_variants_evidence_ids\n",
    "not_supported_variants_add_evidence_df.head()"
   ]
  },
  {
   "cell_type": "markdown",
   "metadata": {},
   "source": [
    "## List of Evidence ID's on Not Supported Variants"
   ]
  },
  {
   "cell_type": "code",
   "execution_count": 45,
   "metadata": {},
   "outputs": [
    {
     "data": {
      "text/html": [
       "<div>\n",
       "<style scoped>\n",
       "    .dataframe tbody tr th:only-of-type {\n",
       "        vertical-align: middle;\n",
       "    }\n",
       "\n",
       "    .dataframe tbody tr th {\n",
       "        vertical-align: top;\n",
       "    }\n",
       "\n",
       "    .dataframe thead th {\n",
       "        text-align: right;\n",
       "    }\n",
       "</style>\n",
       "<table border=\"1\" class=\"dataframe\">\n",
       "  <thead>\n",
       "    <tr style=\"text-align: right;\">\n",
       "      <th></th>\n",
       "      <th>variant_id</th>\n",
       "      <th>gene_name</th>\n",
       "      <th>variant_name</th>\n",
       "      <th>category</th>\n",
       "      <th>variant_accepted</th>\n",
       "      <th>evidence_id</th>\n",
       "    </tr>\n",
       "  </thead>\n",
       "  <tbody>\n",
       "    <tr>\n",
       "      <th>0</th>\n",
       "      <td>4417</td>\n",
       "      <td>ALK</td>\n",
       "      <td>FBXO11::ALK</td>\n",
       "      <td>Fusion</td>\n",
       "      <td>False</td>\n",
       "      <td>7428</td>\n",
       "    </tr>\n",
       "    <tr>\n",
       "      <th>1</th>\n",
       "      <td>4188</td>\n",
       "      <td>VHL</td>\n",
       "      <td>10kb Deletion</td>\n",
       "      <td>Region Defined Variant</td>\n",
       "      <td>False</td>\n",
       "      <td>10678</td>\n",
       "    </tr>\n",
       "    <tr>\n",
       "      <th>2</th>\n",
       "      <td>785</td>\n",
       "      <td>CHEK2</td>\n",
       "      <td>1100DELC</td>\n",
       "      <td>Protein Consequence</td>\n",
       "      <td>True</td>\n",
       "      <td>7235</td>\n",
       "    </tr>\n",
       "    <tr>\n",
       "      <th>2</th>\n",
       "      <td>785</td>\n",
       "      <td>CHEK2</td>\n",
       "      <td>1100DELC</td>\n",
       "      <td>Protein Consequence</td>\n",
       "      <td>True</td>\n",
       "      <td>1849</td>\n",
       "    </tr>\n",
       "    <tr>\n",
       "      <th>2</th>\n",
       "      <td>785</td>\n",
       "      <td>CHEK2</td>\n",
       "      <td>1100DELC</td>\n",
       "      <td>Protein Consequence</td>\n",
       "      <td>True</td>\n",
       "      <td>1850</td>\n",
       "    </tr>\n",
       "  </tbody>\n",
       "</table>\n",
       "</div>"
      ],
      "text/plain": [
       "   variant_id gene_name   variant_name                category   \n",
       "0        4417       ALK    FBXO11::ALK                  Fusion  \\\n",
       "1        4188       VHL  10kb Deletion  Region Defined Variant   \n",
       "2         785     CHEK2       1100DELC     Protein Consequence   \n",
       "2         785     CHEK2       1100DELC     Protein Consequence   \n",
       "2         785     CHEK2       1100DELC     Protein Consequence   \n",
       "\n",
       "   variant_accepted evidence_id  \n",
       "0             False        7428  \n",
       "1             False       10678  \n",
       "2              True        7235  \n",
       "2              True        1849  \n",
       "2              True        1850  "
      ]
     },
     "execution_count": 45,
     "metadata": {},
     "output_type": "execute_result"
    }
   ],
   "source": [
    "not_supported_variants_add_evidence_df = not_supported_variants_add_evidence_df.explode(column=\"evidence_id\")\n",
    "not_supported_variants_add_evidence_df.head()"
   ]
  },
  {
   "cell_type": "code",
   "execution_count": 46,
   "metadata": {},
   "outputs": [],
   "source": [
    "not_supported_evidence_id_list = list(not_supported_variants_add_evidence_df[\"evidence_id\"])"
   ]
  },
  {
   "cell_type": "markdown",
   "metadata": {},
   "source": [
    "## Import evidence status, rating, and level associated with a specific evidence ID"
   ]
  },
  {
   "cell_type": "code",
   "execution_count": 47,
   "metadata": {},
   "outputs": [
    {
     "data": {
      "text/html": [
       "<div>\n",
       "<style scoped>\n",
       "    .dataframe tbody tr th:only-of-type {\n",
       "        vertical-align: middle;\n",
       "    }\n",
       "\n",
       "    .dataframe tbody tr th {\n",
       "        vertical-align: top;\n",
       "    }\n",
       "\n",
       "    .dataframe thead th {\n",
       "        text-align: right;\n",
       "    }\n",
       "</style>\n",
       "<table border=\"1\" class=\"dataframe\">\n",
       "  <thead>\n",
       "    <tr style=\"text-align: right;\">\n",
       "      <th></th>\n",
       "      <th>variant_id</th>\n",
       "      <th>gene_name</th>\n",
       "      <th>variant_name</th>\n",
       "      <th>category</th>\n",
       "      <th>variant_accepted</th>\n",
       "      <th>evidence_id</th>\n",
       "      <th>evidence_status</th>\n",
       "      <th>evidence_rating</th>\n",
       "      <th>evidence_level</th>\n",
       "    </tr>\n",
       "  </thead>\n",
       "  <tbody>\n",
       "    <tr>\n",
       "      <th>0</th>\n",
       "      <td>4417</td>\n",
       "      <td>ALK</td>\n",
       "      <td>FBXO11::ALK</td>\n",
       "      <td>Fusion</td>\n",
       "      <td>False</td>\n",
       "      <td>7428</td>\n",
       "      <td>[submitted]</td>\n",
       "      <td>[3]</td>\n",
       "      <td>[C]</td>\n",
       "    </tr>\n",
       "    <tr>\n",
       "      <th>1</th>\n",
       "      <td>4188</td>\n",
       "      <td>VHL</td>\n",
       "      <td>10kb Deletion</td>\n",
       "      <td>Region Defined Variant</td>\n",
       "      <td>False</td>\n",
       "      <td>10678</td>\n",
       "      <td>[submitted]</td>\n",
       "      <td>[3]</td>\n",
       "      <td>[C]</td>\n",
       "    </tr>\n",
       "    <tr>\n",
       "      <th>2</th>\n",
       "      <td>785</td>\n",
       "      <td>CHEK2</td>\n",
       "      <td>1100DELC</td>\n",
       "      <td>Protein Consequence</td>\n",
       "      <td>True</td>\n",
       "      <td>7235</td>\n",
       "      <td>[submitted]</td>\n",
       "      <td>[4]</td>\n",
       "      <td>[B]</td>\n",
       "    </tr>\n",
       "    <tr>\n",
       "      <th>2</th>\n",
       "      <td>785</td>\n",
       "      <td>CHEK2</td>\n",
       "      <td>1100DELC</td>\n",
       "      <td>Protein Consequence</td>\n",
       "      <td>True</td>\n",
       "      <td>1849</td>\n",
       "      <td>[rejected]</td>\n",
       "      <td>[3]</td>\n",
       "      <td>[B]</td>\n",
       "    </tr>\n",
       "    <tr>\n",
       "      <th>2</th>\n",
       "      <td>785</td>\n",
       "      <td>CHEK2</td>\n",
       "      <td>1100DELC</td>\n",
       "      <td>Protein Consequence</td>\n",
       "      <td>True</td>\n",
       "      <td>1850</td>\n",
       "      <td>[accepted]</td>\n",
       "      <td>[3]</td>\n",
       "      <td>[B]</td>\n",
       "    </tr>\n",
       "  </tbody>\n",
       "</table>\n",
       "</div>"
      ],
      "text/plain": [
       "   variant_id gene_name   variant_name                category   \n",
       "0        4417       ALK    FBXO11::ALK                  Fusion  \\\n",
       "1        4188       VHL  10kb Deletion  Region Defined Variant   \n",
       "2         785     CHEK2       1100DELC     Protein Consequence   \n",
       "2         785     CHEK2       1100DELC     Protein Consequence   \n",
       "2         785     CHEK2       1100DELC     Protein Consequence   \n",
       "\n",
       "   variant_accepted evidence_id evidence_status evidence_rating evidence_level  \n",
       "0             False        7428     [submitted]             [3]            [C]  \n",
       "1             False       10678     [submitted]             [3]            [C]  \n",
       "2              True        7235     [submitted]             [4]            [B]  \n",
       "2              True        1849      [rejected]             [3]            [B]  \n",
       "2              True        1850      [accepted]             [3]            [B]  "
      ]
     },
     "execution_count": 47,
     "metadata": {},
     "output_type": "execute_result"
    }
   ],
   "source": [
    "not_supported_variants_evidence_statuses = []\n",
    "not_supported_variants_evidence_ratings = []\n",
    "not_supported_variants_evidence_levels = []\n",
    "\n",
    "for e in not_supported_evidence_id_list:\n",
    "    not_supported_variant_evidence_status_list = []\n",
    "    not_supported_variant_evidence_rating_list = []\n",
    "    not_supported_variant_evidence_level_list = []\n",
    "\n",
    "    for evidence in civic_evidence_ids:\n",
    "        if int(e) == evidence.id:\n",
    "\n",
    "            if evidence.status not in not_supported_variant_evidence_status_list:\n",
    "                not_supported_variant_evidence_status_list.append(evidence.status)\n",
    "            not_supported_variant_evidence_status_list = not_supported_variant_evidence_status_list or \"\"\n",
    "\n",
    "            if evidence.rating not in not_supported_variant_evidence_rating_list:\n",
    "                not_supported_variant_evidence_rating_list.append(evidence.rating)\n",
    "            not_supported_variant_evidence_rating_list = not_supported_variant_evidence_rating_list or \"\"\n",
    "\n",
    "            if evidence.evidence_level not in not_supported_variant_evidence_level_list:\n",
    "                not_supported_variant_evidence_level_list.append(evidence.evidence_level)\n",
    "            not_supported_variant_evidence_level_list = not_supported_variant_evidence_level_list or \"\"\n",
    "\n",
    "    not_supported_variants_evidence_statuses.append(not_supported_variant_evidence_status_list)\n",
    "    not_supported_variants_evidence_ratings.append(not_supported_variant_evidence_rating_list)\n",
    "    not_supported_variants_evidence_levels.append(not_supported_variant_evidence_level_list)\n",
    "\n",
    "not_supported_variants_add_evidence_df[\"evidence_status\"] = not_supported_variants_evidence_statuses\n",
    "not_supported_variants_add_evidence_df[\"evidence_rating\"] = not_supported_variants_evidence_ratings\n",
    "not_supported_variants_add_evidence_df[\"evidence_level\"] = not_supported_variants_evidence_levels\n",
    "not_supported_variants_add_evidence_df.head()"
   ]
  },
  {
   "cell_type": "markdown",
   "metadata": {},
   "source": [
    "## Evidence analysis"
   ]
  },
  {
   "cell_type": "code",
   "execution_count": 48,
   "metadata": {},
   "outputs": [
    {
     "data": {
      "text/plain": [
       "'Percentage of Not Supported Variant Evidence items in CIViC: 37.74%'"
      ]
     },
     "execution_count": 48,
     "metadata": {},
     "output_type": "execute_result"
    }
   ],
   "source": [
    "total_number_not_supported_variant_unique_evidence_items = len(set(not_supported_variants_add_evidence_df.evidence_id))\n",
    "not_supported_variant_percentage_evidence_items = \"{:.2f}\".format(total_number_not_supported_variant_unique_evidence_items/total_number_evidences*100)\n",
    "f\"Percentage of Not Supported Variant Evidence items in CIViC: {not_supported_variant_percentage_evidence_items}%\""
   ]
  },
  {
   "cell_type": "code",
   "execution_count": 49,
   "metadata": {},
   "outputs": [],
   "source": [
    "not_supported_variants_add_evidence_df['evidence_status'] = not_supported_variants_add_evidence_df['evidence_status'].str.join(', ')"
   ]
  },
  {
   "cell_type": "code",
   "execution_count": 50,
   "metadata": {},
   "outputs": [
    {
     "data": {
      "text/html": [
       "<div>\n",
       "<style scoped>\n",
       "    .dataframe tbody tr th:only-of-type {\n",
       "        vertical-align: middle;\n",
       "    }\n",
       "\n",
       "    .dataframe tbody tr th {\n",
       "        vertical-align: top;\n",
       "    }\n",
       "\n",
       "    .dataframe thead th {\n",
       "        text-align: right;\n",
       "    }\n",
       "</style>\n",
       "<table border=\"1\" class=\"dataframe\">\n",
       "  <thead>\n",
       "    <tr style=\"text-align: right;\">\n",
       "      <th></th>\n",
       "      <th>variant_id</th>\n",
       "      <th>gene_name</th>\n",
       "      <th>variant_name</th>\n",
       "      <th>category</th>\n",
       "      <th>variant_accepted</th>\n",
       "      <th>evidence_id</th>\n",
       "      <th>evidence_status</th>\n",
       "      <th>evidence_rating</th>\n",
       "      <th>evidence_level</th>\n",
       "      <th>evidence_accepted</th>\n",
       "    </tr>\n",
       "  </thead>\n",
       "  <tbody>\n",
       "    <tr>\n",
       "      <th>0</th>\n",
       "      <td>4417</td>\n",
       "      <td>ALK</td>\n",
       "      <td>FBXO11::ALK</td>\n",
       "      <td>Fusion</td>\n",
       "      <td>False</td>\n",
       "      <td>7428</td>\n",
       "      <td>submitted</td>\n",
       "      <td>[3]</td>\n",
       "      <td>[C]</td>\n",
       "      <td>False</td>\n",
       "    </tr>\n",
       "    <tr>\n",
       "      <th>1</th>\n",
       "      <td>4188</td>\n",
       "      <td>VHL</td>\n",
       "      <td>10kb Deletion</td>\n",
       "      <td>Region Defined Variant</td>\n",
       "      <td>False</td>\n",
       "      <td>10678</td>\n",
       "      <td>submitted</td>\n",
       "      <td>[3]</td>\n",
       "      <td>[C]</td>\n",
       "      <td>False</td>\n",
       "    </tr>\n",
       "    <tr>\n",
       "      <th>2</th>\n",
       "      <td>785</td>\n",
       "      <td>CHEK2</td>\n",
       "      <td>1100DELC</td>\n",
       "      <td>Protein Consequence</td>\n",
       "      <td>True</td>\n",
       "      <td>7235</td>\n",
       "      <td>submitted</td>\n",
       "      <td>[4]</td>\n",
       "      <td>[B]</td>\n",
       "      <td>False</td>\n",
       "    </tr>\n",
       "    <tr>\n",
       "      <th>2</th>\n",
       "      <td>785</td>\n",
       "      <td>CHEK2</td>\n",
       "      <td>1100DELC</td>\n",
       "      <td>Protein Consequence</td>\n",
       "      <td>True</td>\n",
       "      <td>1849</td>\n",
       "      <td>rejected</td>\n",
       "      <td>[3]</td>\n",
       "      <td>[B]</td>\n",
       "      <td>False</td>\n",
       "    </tr>\n",
       "    <tr>\n",
       "      <th>2</th>\n",
       "      <td>785</td>\n",
       "      <td>CHEK2</td>\n",
       "      <td>1100DELC</td>\n",
       "      <td>Protein Consequence</td>\n",
       "      <td>True</td>\n",
       "      <td>1850</td>\n",
       "      <td>accepted</td>\n",
       "      <td>[3]</td>\n",
       "      <td>[B]</td>\n",
       "      <td>True</td>\n",
       "    </tr>\n",
       "  </tbody>\n",
       "</table>\n",
       "</div>"
      ],
      "text/plain": [
       "   variant_id gene_name   variant_name                category   \n",
       "0        4417       ALK    FBXO11::ALK                  Fusion  \\\n",
       "1        4188       VHL  10kb Deletion  Region Defined Variant   \n",
       "2         785     CHEK2       1100DELC     Protein Consequence   \n",
       "2         785     CHEK2       1100DELC     Protein Consequence   \n",
       "2         785     CHEK2       1100DELC     Protein Consequence   \n",
       "\n",
       "   variant_accepted evidence_id evidence_status evidence_rating   \n",
       "0             False        7428       submitted             [3]  \\\n",
       "1             False       10678       submitted             [3]   \n",
       "2              True        7235       submitted             [4]   \n",
       "2              True        1849        rejected             [3]   \n",
       "2              True        1850        accepted             [3]   \n",
       "\n",
       "  evidence_level  evidence_accepted  \n",
       "0            [C]              False  \n",
       "1            [C]              False  \n",
       "2            [B]              False  \n",
       "2            [B]              False  \n",
       "2            [B]               True  "
      ]
     },
     "execution_count": 50,
     "metadata": {},
     "output_type": "execute_result"
    }
   ],
   "source": [
    "not_supported_variants_add_evidence_df['evidence_accepted'] = not_supported_variants_add_evidence_df.evidence_status.map({'accepted':True ,'submitted':False, 'rejected':False})\n",
    "not_supported_variants_add_evidence_df.head()"
   ]
  },
  {
   "cell_type": "code",
   "execution_count": 51,
   "metadata": {},
   "outputs": [
    {
     "data": {
      "text/plain": [
       "evidence_accepted\n",
       "True     2145\n",
       "False    1687\n",
       "Name: count, dtype: int64"
      ]
     },
     "execution_count": 51,
     "metadata": {},
     "output_type": "execute_result"
    }
   ],
   "source": [
    "not_supported_variants_add_evidence_df.evidence_accepted.value_counts()"
   ]
  },
  {
   "cell_type": "code",
   "execution_count": 52,
   "metadata": {},
   "outputs": [
    {
     "data": {
      "text/plain": [
       "'Percentage of not accepted Not Supported Variant Evidence items: 44.50%'"
      ]
     },
     "execution_count": 52,
     "metadata": {},
     "output_type": "execute_result"
    }
   ],
   "source": [
    "number_not_accepted_evidences_not_supported_variants = len(not_supported_variants_add_evidence_df) - not_supported_variants_add_evidence_df.evidence_accepted.sum()\n",
    "percentage_not_accepted_evidences_not_supported_variants = \"{:.2f}\".format(number_not_accepted_evidences_not_supported_variants/total_number_not_supported_variant_unique_evidence_items*100)\n",
    "f\"Percentage of not accepted Not Supported Variant Evidence items: {percentage_not_accepted_evidences_not_supported_variants}%\""
   ]
  },
  {
   "cell_type": "code",
   "execution_count": 53,
   "metadata": {},
   "outputs": [
    {
     "data": {
      "text/plain": [
       "'Percentage of accepted Not Supported Variant Evidence items: 56.58%'"
      ]
     },
     "execution_count": 53,
     "metadata": {},
     "output_type": "execute_result"
    }
   ],
   "source": [
    "number_accepted_evidences_not_supported_variants = not_supported_variants_add_evidence_df.evidence_accepted.sum()\n",
    "percentage_accepted_evidences_not_supported_variants = \"{:.2f}\".format(number_accepted_evidences_not_supported_variants/total_number_not_supported_variant_unique_evidence_items*100)\n",
    "f\"Percentage of accepted Not Supported Variant Evidence items: {percentage_accepted_evidences_not_supported_variants}%\""
   ]
  },
  {
   "cell_type": "markdown",
   "metadata": {},
   "source": [
    "### Not Supported Variant Evidence Analysis by Subcategory "
   ]
  },
  {
   "cell_type": "markdown",
   "metadata": {},
   "source": [
    " List all the possible variant categories"
   ]
  },
  {
   "cell_type": "code",
   "execution_count": 54,
   "metadata": {},
   "outputs": [
    {
     "data": {
      "text/plain": [
       "array(['Fusion', 'Region Defined Variant', 'Protein Consequence', 'Other',\n",
       "       'Rearrangements', 'Copy Number', 'Expression', 'Gene Function',\n",
       "       'Genotypes Compound', 'Epigenetic Modification', 'Genotypes Easy'],\n",
       "      dtype=object)"
      ]
     },
     "execution_count": 54,
     "metadata": {},
     "output_type": "execute_result"
    }
   ],
   "source": [
    "not_supported_variant_categories = not_supported_variants_add_evidence_df.category.unique()\n",
    "not_supported_variant_categories "
   ]
  },
  {
   "cell_type": "markdown",
   "metadata": {},
   "source": [
    "Evidence ID's can qualify for more than one kind of variant category"
   ]
  },
  {
   "cell_type": "code",
   "execution_count": 55,
   "metadata": {},
   "outputs": [
    {
     "data": {
      "text/html": [
       "<div>\n",
       "<style scoped>\n",
       "    .dataframe tbody tr th:only-of-type {\n",
       "        vertical-align: middle;\n",
       "    }\n",
       "\n",
       "    .dataframe tbody tr th {\n",
       "        vertical-align: top;\n",
       "    }\n",
       "\n",
       "    .dataframe thead th {\n",
       "        text-align: right;\n",
       "    }\n",
       "</style>\n",
       "<table border=\"1\" class=\"dataframe\">\n",
       "  <thead>\n",
       "    <tr style=\"text-align: right;\">\n",
       "      <th></th>\n",
       "      <th>variant_id</th>\n",
       "      <th>gene_name</th>\n",
       "      <th>variant_name</th>\n",
       "      <th>category</th>\n",
       "      <th>variant_accepted</th>\n",
       "      <th>evidence_id</th>\n",
       "      <th>evidence_status</th>\n",
       "      <th>evidence_rating</th>\n",
       "      <th>evidence_level</th>\n",
       "      <th>evidence_accepted</th>\n",
       "    </tr>\n",
       "  </thead>\n",
       "  <tbody>\n",
       "    <tr>\n",
       "      <th>0</th>\n",
       "      <td>4417</td>\n",
       "      <td>ALK</td>\n",
       "      <td>FBXO11::ALK</td>\n",
       "      <td>Fusion</td>\n",
       "      <td>False</td>\n",
       "      <td>7428</td>\n",
       "      <td>submitted</td>\n",
       "      <td>[3]</td>\n",
       "      <td>[C]</td>\n",
       "      <td>False</td>\n",
       "    </tr>\n",
       "    <tr>\n",
       "      <th>160</th>\n",
       "      <td>437</td>\n",
       "      <td>FLT3</td>\n",
       "      <td>D835</td>\n",
       "      <td>Protein Consequence</td>\n",
       "      <td>True</td>\n",
       "      <td>11260</td>\n",
       "      <td>submitted</td>\n",
       "      <td>[4]</td>\n",
       "      <td>[A]</td>\n",
       "      <td>False</td>\n",
       "    </tr>\n",
       "    <tr>\n",
       "      <th>160</th>\n",
       "      <td>437</td>\n",
       "      <td>FLT3</td>\n",
       "      <td>D835</td>\n",
       "      <td>Protein Consequence</td>\n",
       "      <td>True</td>\n",
       "      <td>11261</td>\n",
       "      <td>submitted</td>\n",
       "      <td>[4]</td>\n",
       "      <td>[A]</td>\n",
       "      <td>False</td>\n",
       "    </tr>\n",
       "    <tr>\n",
       "      <th>179</th>\n",
       "      <td>200</td>\n",
       "      <td>IKZF1</td>\n",
       "      <td>Deletion</td>\n",
       "      <td>Gene Function</td>\n",
       "      <td>True</td>\n",
       "      <td>7786</td>\n",
       "      <td>submitted</td>\n",
       "      <td>[5]</td>\n",
       "      <td>[B]</td>\n",
       "      <td>False</td>\n",
       "    </tr>\n",
       "    <tr>\n",
       "      <th>183</th>\n",
       "      <td>696</td>\n",
       "      <td>SMARCB1</td>\n",
       "      <td>Deletion</td>\n",
       "      <td>Gene Function</td>\n",
       "      <td>True</td>\n",
       "      <td>11177</td>\n",
       "      <td>submitted</td>\n",
       "      <td>[4]</td>\n",
       "      <td>[B]</td>\n",
       "      <td>False</td>\n",
       "    </tr>\n",
       "  </tbody>\n",
       "</table>\n",
       "</div>"
      ],
      "text/plain": [
       "     variant_id gene_name  variant_name             category   \n",
       "0          4417       ALK   FBXO11::ALK               Fusion  \\\n",
       "160         437      FLT3          D835  Protein Consequence   \n",
       "160         437      FLT3          D835  Protein Consequence   \n",
       "179         200     IKZF1      Deletion        Gene Function   \n",
       "183         696   SMARCB1      Deletion        Gene Function   \n",
       "\n",
       "     variant_accepted evidence_id evidence_status evidence_rating   \n",
       "0               False        7428       submitted             [3]  \\\n",
       "160              True       11260       submitted             [4]   \n",
       "160              True       11261       submitted             [4]   \n",
       "179              True        7786       submitted             [5]   \n",
       "183              True       11177       submitted             [4]   \n",
       "\n",
       "    evidence_level  evidence_accepted  \n",
       "0              [C]              False  \n",
       "160            [A]              False  \n",
       "160            [A]              False  \n",
       "179            [B]              False  \n",
       "183            [B]              False  "
      ]
     },
     "execution_count": 55,
     "metadata": {},
     "output_type": "execute_result"
    }
   ],
   "source": [
    "duplicate = not_supported_variants_add_evidence_df[not_supported_variants_add_evidence_df.duplicated('evidence_id', keep=False)]\n",
    "duplicate.head()"
   ]
  },
  {
   "cell_type": "code",
   "execution_count": 56,
   "metadata": {},
   "outputs": [
    {
     "name": "stdout",
     "output_type": "stream",
     "text": [
      "Expression\n",
      "Percent of Expression Variant Evidence items in CIViC: 6.14%\n",
      "Percent of Expression Variant Evidence items in total Not Supported Variant Evidence items: 16.28%\n",
      "Percent of Accepted Expression Variant Evidence items: 55.43%\n",
      "Percent of Not Accepted Expression Variant Evidence items: 44.57%\n",
      "--------------------\n",
      "Epigenetic Modification\n",
      "Percent of Epigenetic Modification Variant Evidence items in CIViC: 0.24%\n",
      "Percent of Epigenetic Modification Variant Evidence items in total Not Supported Variant Evidence items: 0.63%\n",
      "Percent of Accepted Epigenetic Modification Variant Evidence items: 91.67%\n",
      "Percent of Not Accepted Epigenetic Modification Variant Evidence items: 8.33%\n",
      "--------------------\n",
      "Fusion\n",
      "Percent of Fusion Variant Evidence items in CIViC: 12.06%\n",
      "Percent of Fusion Variant Evidence items in total Not Supported Variant Evidence items: 31.94%\n",
      "Percent of Accepted Fusion Variant Evidence items: 59.70%\n",
      "Percent of Not Accepted Fusion Variant Evidence items: 40.30%\n",
      "--------------------\n",
      "Protein Consequence\n",
      "Percent of Protein Consequence Variant Evidence items in CIViC: 3.00%\n",
      "Percent of Protein Consequence Variant Evidence items in total Not Supported Variant Evidence items: 7.94%\n",
      "Percent of Accepted Protein Consequence Variant Evidence items: 63.46%\n",
      "Percent of Not Accepted Protein Consequence Variant Evidence items: 36.54%\n",
      "--------------------\n",
      "Gene Function\n",
      "Percent of Gene Function Variant Evidence items in CIViC: 3.42%\n",
      "Percent of Gene Function Variant Evidence items in total Not Supported Variant Evidence items: 9.07%\n",
      "Percent of Accepted Gene Function Variant Evidence items: 43.90%\n",
      "Percent of Not Accepted Gene Function Variant Evidence items: 56.10%\n",
      "--------------------\n",
      "Rearrangements\n",
      "Percent of Rearrangements Variant Evidence items in CIViC: 1.37%\n",
      "Percent of Rearrangements Variant Evidence items in total Not Supported Variant Evidence items: 3.64%\n",
      "Percent of Accepted Rearrangements Variant Evidence items: 38.41%\n",
      "Percent of Not Accepted Rearrangements Variant Evidence items: 61.59%\n",
      "--------------------\n",
      "Copy Number\n",
      "Percent of Copy Number Variant Evidence items in CIViC: 0.69%\n",
      "Percent of Copy Number Variant Evidence items in total Not Supported Variant Evidence items: 1.82%\n",
      "Percent of Accepted Copy Number Variant Evidence items: 44.93%\n",
      "Percent of Not Accepted Copy Number Variant Evidence items: 55.07%\n",
      "--------------------\n",
      "Other\n",
      "Percent of Other Variant Evidence items in CIViC: 1.61%\n",
      "Percent of Other Variant Evidence items in total Not Supported Variant Evidence items: 4.27%\n",
      "Percent of Accepted Other Variant Evidence items: 37.04%\n",
      "Percent of Not Accepted Other Variant Evidence items: 62.96%\n",
      "--------------------\n",
      "Genotypes Easy\n",
      "Percent of Genotypes Easy Variant Evidence items in CIViC: 0.23%\n",
      "Percent of Genotypes Easy Variant Evidence items in total Not Supported Variant Evidence items: 0.61%\n",
      "Percent of Accepted Genotypes Easy Variant Evidence items: 56.52%\n",
      "Percent of Not Accepted Genotypes Easy Variant Evidence items: 43.48%\n",
      "--------------------\n",
      "Genotypes Compound\n",
      "Percent of Genotypes Compound Variant Evidence items in CIViC: 0.07%\n",
      "Percent of Genotypes Compound Variant Evidence items in total Not Supported Variant Evidence items: 0.18%\n",
      "Percent of Accepted Genotypes Compound Variant Evidence items: 57.14%\n",
      "Percent of Not Accepted Genotypes Compound Variant Evidence items: 42.86%\n",
      "--------------------\n",
      "Region Defined Variant\n",
      "Percent of Region Defined Variant Variant Evidence items in CIViC: 9.09%\n",
      "Percent of Region Defined Variant Variant Evidence items in total Not Supported Variant Evidence items: 24.08%\n",
      "Percent of Accepted Region Defined Variant Variant Evidence items: 60.79%\n",
      "Percent of Not Accepted Region Defined Variant Variant Evidence items: 39.21%\n",
      "--------------------\n"
     ]
    }
   ],
   "source": [
    "not_supported_variant_categories_evidence_summary_data = dict()\n",
    "for category in [\"Expression\", \"Epigenetic Modification\", \"Fusion\", \"Protein Consequence\", \"Gene Function\", \"Rearrangements\", \"Copy Number\", \"Other\", \"Genotypes Easy\", \"Genotypes Compound\", \"Region Defined Variant\"]:\n",
    "    print(category)\n",
    "    not_supported_variant_categories_evidence_summary_data[category] = {}\n",
    "    evidence_category_df = not_supported_variants_add_evidence_df[not_supported_variants_add_evidence_df.category == category]\n",
    "    \n",
    "    number_unique_not_supported_category_evidence = len(set(evidence_category_df.evidence_id))\n",
    "    percent_not_supported_category_variant_evidence_of_civic = \"{:.2f}\".format(number_unique_not_supported_category_evidence/total_number_evidences*100)\n",
    "    not_supported_variant_categories_evidence_summary_data[category][\"percent_not_supported_category_variant_evidence_of_civic\"] = percent_not_supported_category_variant_evidence_of_civic\n",
    "    print(f\"Percent of {category} Variant Evidence items in CIViC: {percent_not_supported_category_variant_evidence_of_civic}%\")\n",
    "    \n",
    "\n",
    "    percent_not_supported_category_variant_evidence_of_total_not_supported = \"{:.2f}\".format(number_unique_not_supported_category_evidence/total_number_not_supported_variant_unique_evidence_items*100)\n",
    "    not_supported_variant_categories_evidence_summary_data[category][\"percent_not_supported_category_variant_evidence_of_total_not_supported\"] = percent_not_supported_category_variant_evidence_of_total_not_supported\n",
    "    print(f\"Percent of {category} Variant Evidence items in total Not Supported Variant Evidence items: {percent_not_supported_category_variant_evidence_of_total_not_supported}%\")\n",
    "\n",
    "    number_accepted_not_supported_category_variant_evidence = evidence_category_df.evidence_accepted.sum()\n",
    "    percentage_accepted_evidence_not_supported_category_variants =  \"{:.2f}\".format(number_accepted_not_supported_category_variant_evidence/number_unique_not_supported_category_evidence*100)\n",
    "    not_supported_variant_categories_evidence_summary_data[category][\"percentage_accepted_evidence_not_supported_category_variants\"] = percentage_accepted_evidence_not_supported_category_variants\n",
    "    print(f\"Percent of Accepted {category} Variant Evidence items: {percentage_accepted_evidence_not_supported_category_variants}%\")\n",
    "  \n",
    "    number_not_accepted_not_supported_category_variant_evidence = number_unique_not_supported_category_evidence - evidence_category_df.evidence_accepted.sum()\n",
    "    percentage_not_accepted_evidence_not_supported_category_variants =  \"{:.2f}\".format(number_not_accepted_not_supported_category_variant_evidence/number_unique_not_supported_category_evidence*100)\n",
    "    not_supported_variant_categories_evidence_summary_data[category][\"percentage_not_accepted_evidence_not_supported_category_variants\"] = percentage_not_accepted_evidence_not_supported_category_variants\n",
    "    print(f\"Percent of Not Accepted {category} Variant Evidence items: {percentage_not_accepted_evidence_not_supported_category_variants}%\")\n",
    "    \n",
    "    print(\"--------------------\")"
   ]
  },
  {
   "cell_type": "markdown",
   "metadata": {},
   "source": [
    "# Summary"
   ]
  },
  {
   "cell_type": "markdown",
   "metadata": {},
   "source": [
    "## Variant Analysis"
   ]
  },
  {
   "cell_type": "code",
   "execution_count": 57,
   "metadata": {},
   "outputs": [],
   "source": [
    "all_variant_dict = {'Variant Category':['Normalized', 'Unable to Normalize', 'Not Supported'],\n",
    "        'Percentage of all CIViC Variant Items': [percentage_normalized_variants, percentage_not_normalized_variants, percentage_not_supported_variants],\n",
    "        'Percentage of Accepted Variant Items':[ percentage_accepted_normalized_variants, percentage_accepted_not_normalized_variants, percentage_accepted_not_supported_variants],\n",
    "        'Percentage of Not Accepted Variant Items': [ percentage_not_accepted_normalized_variants, percentage_not_accepted_not_normalized_variants, percentage_not_accepted_not_supported_variants]}"
   ]
  },
  {
   "cell_type": "code",
   "execution_count": 58,
   "metadata": {},
   "outputs": [
    {
     "data": {
      "text/html": [
       "<div>\n",
       "<style scoped>\n",
       "    .dataframe tbody tr th:only-of-type {\n",
       "        vertical-align: middle;\n",
       "    }\n",
       "\n",
       "    .dataframe tbody tr th {\n",
       "        vertical-align: top;\n",
       "    }\n",
       "\n",
       "    .dataframe thead th {\n",
       "        text-align: right;\n",
       "    }\n",
       "</style>\n",
       "<table border=\"1\" class=\"dataframe\">\n",
       "  <thead>\n",
       "    <tr style=\"text-align: right;\">\n",
       "      <th></th>\n",
       "      <th>Variant Category</th>\n",
       "      <th>Percentage of all CIViC Variant Items</th>\n",
       "      <th>Percentage of Accepted Variant Items</th>\n",
       "      <th>Percentage of Not Accepted Variant Items</th>\n",
       "    </tr>\n",
       "  </thead>\n",
       "  <tbody>\n",
       "    <tr>\n",
       "      <th>0</th>\n",
       "      <td>Normalized</td>\n",
       "      <td>52.79</td>\n",
       "      <td>46.53</td>\n",
       "      <td>53.47</td>\n",
       "    </tr>\n",
       "    <tr>\n",
       "      <th>1</th>\n",
       "      <td>Unable to Normalize</td>\n",
       "      <td>1.76</td>\n",
       "      <td>14.52</td>\n",
       "      <td>85.48</td>\n",
       "    </tr>\n",
       "    <tr>\n",
       "      <th>2</th>\n",
       "      <td>Not Supported</td>\n",
       "      <td>34.24</td>\n",
       "      <td>60.98</td>\n",
       "      <td>39.02</td>\n",
       "    </tr>\n",
       "  </tbody>\n",
       "</table>\n",
       "</div>"
      ],
      "text/plain": [
       "      Variant Category Percentage of all CIViC Variant Items   \n",
       "0           Normalized                                 52.79  \\\n",
       "1  Unable to Normalize                                  1.76   \n",
       "2        Not Supported                                 34.24   \n",
       "\n",
       "  Percentage of Accepted Variant Items   \n",
       "0                                46.53  \\\n",
       "1                                14.52   \n",
       "2                                60.98   \n",
       "\n",
       "  Percentage of Not Accepted Variant Items  \n",
       "0                                    53.47  \n",
       "1                                    85.48  \n",
       "2                                    39.02  "
      ]
     },
     "execution_count": 58,
     "metadata": {},
     "output_type": "execute_result"
    }
   ],
   "source": [
    "all_variant_df = pd.DataFrame(all_variant_dict)\n",
    "all_variant_df"
   ]
  },
  {
   "cell_type": "code",
   "execution_count": 59,
   "metadata": {},
   "outputs": [],
   "source": [
    "not_supported_variant_categories = ['Expression','Epigenetic Modification', 'Fusion', 'Protein Consequence', 'Gene Function', 'Rearrangements', 'Copy Number', 'Other', 'Genotypes Easy', 'Genotypes Compound', 'Region Defined Variant' ]\n",
    "not_supported_percent_of_civic_variant_items = [v[\"percent_not_supported_category_variant_of_civic\"] for k, v in not_supported_variant_categories_summary_data.items()]\n",
    "not_supported_percent_not_supported_variant_items = [v[\"percent_not_supported_category_variant_of_total_not_supported\"] for k, v in not_supported_variant_categories_summary_data.items()]\n",
    "not_supported_percent_of_accepted_variant_items = [v[\"percentage_accepted_not_supported_category_variants\"] for k, v in not_supported_variant_categories_summary_data.items()]\n",
    "not_supported_percent_of_not_accepted_variant_items = [v[\"percentage_not_accepted_not_supported_category_variants\"] for k, v in not_supported_variant_categories_summary_data.items()]"
   ]
  },
  {
   "cell_type": "code",
   "execution_count": 60,
   "metadata": {},
   "outputs": [],
   "source": [
    "not_supported_variant_dict = {'Category': not_supported_variant_categories,\n",
    "                                'Percent of Not Supported Variant Items':not_supported_percent_not_supported_variant_items,\n",
    "                                'Percent of all CIViC Variant Items':not_supported_percent_of_civic_variant_items,\n",
    "                                'Percent of Accepted Variant Items':not_supported_percent_of_accepted_variant_items,\n",
    "                                'Percent of Not Accepted Variant Items':not_supported_percent_of_not_accepted_variant_items}"
   ]
  },
  {
   "cell_type": "code",
   "execution_count": 61,
   "metadata": {},
   "outputs": [
    {
     "data": {
      "text/html": [
       "<div>\n",
       "<style scoped>\n",
       "    .dataframe tbody tr th:only-of-type {\n",
       "        vertical-align: middle;\n",
       "    }\n",
       "\n",
       "    .dataframe tbody tr th {\n",
       "        vertical-align: top;\n",
       "    }\n",
       "\n",
       "    .dataframe thead th {\n",
       "        text-align: right;\n",
       "    }\n",
       "</style>\n",
       "<table border=\"1\" class=\"dataframe\">\n",
       "  <thead>\n",
       "    <tr style=\"text-align: right;\">\n",
       "      <th></th>\n",
       "      <th>Category</th>\n",
       "      <th>Percent of Not Supported Variant Items</th>\n",
       "      <th>Percent of all CIViC Variant Items</th>\n",
       "      <th>Percent of Accepted Variant Items</th>\n",
       "      <th>Percent of Not Accepted Variant Items</th>\n",
       "    </tr>\n",
       "  </thead>\n",
       "  <tbody>\n",
       "    <tr>\n",
       "      <th>0</th>\n",
       "      <td>Expression</td>\n",
       "      <td>24.11</td>\n",
       "      <td>8.26</td>\n",
       "      <td>61.86</td>\n",
       "      <td>38.14</td>\n",
       "    </tr>\n",
       "    <tr>\n",
       "      <th>1</th>\n",
       "      <td>Epigenetic Modification</td>\n",
       "      <td>1.24</td>\n",
       "      <td>0.43</td>\n",
       "      <td>93.33</td>\n",
       "      <td>6.67</td>\n",
       "    </tr>\n",
       "    <tr>\n",
       "      <th>2</th>\n",
       "      <td>Fusion</td>\n",
       "      <td>24.77</td>\n",
       "      <td>8.48</td>\n",
       "      <td>67.89</td>\n",
       "      <td>32.11</td>\n",
       "    </tr>\n",
       "    <tr>\n",
       "      <th>3</th>\n",
       "      <td>Protein Consequence</td>\n",
       "      <td>10.60</td>\n",
       "      <td>3.63</td>\n",
       "      <td>54.69</td>\n",
       "      <td>45.31</td>\n",
       "    </tr>\n",
       "    <tr>\n",
       "      <th>4</th>\n",
       "      <td>Gene Function</td>\n",
       "      <td>7.29</td>\n",
       "      <td>2.50</td>\n",
       "      <td>55.68</td>\n",
       "      <td>44.32</td>\n",
       "    </tr>\n",
       "    <tr>\n",
       "      <th>5</th>\n",
       "      <td>Rearrangements</td>\n",
       "      <td>4.14</td>\n",
       "      <td>1.42</td>\n",
       "      <td>24.00</td>\n",
       "      <td>76.00</td>\n",
       "    </tr>\n",
       "    <tr>\n",
       "      <th>6</th>\n",
       "      <td>Copy Number</td>\n",
       "      <td>2.82</td>\n",
       "      <td>0.96</td>\n",
       "      <td>55.88</td>\n",
       "      <td>44.12</td>\n",
       "    </tr>\n",
       "    <tr>\n",
       "      <th>7</th>\n",
       "      <td>Other</td>\n",
       "      <td>7.62</td>\n",
       "      <td>2.61</td>\n",
       "      <td>46.74</td>\n",
       "      <td>53.26</td>\n",
       "    </tr>\n",
       "    <tr>\n",
       "      <th>8</th>\n",
       "      <td>Genotypes Easy</td>\n",
       "      <td>0.91</td>\n",
       "      <td>0.31</td>\n",
       "      <td>72.73</td>\n",
       "      <td>27.27</td>\n",
       "    </tr>\n",
       "    <tr>\n",
       "      <th>9</th>\n",
       "      <td>Genotypes Compound</td>\n",
       "      <td>0.50</td>\n",
       "      <td>0.17</td>\n",
       "      <td>66.67</td>\n",
       "      <td>33.33</td>\n",
       "    </tr>\n",
       "    <tr>\n",
       "      <th>10</th>\n",
       "      <td>Region Defined Variant</td>\n",
       "      <td>15.99</td>\n",
       "      <td>5.48</td>\n",
       "      <td>69.43</td>\n",
       "      <td>30.57</td>\n",
       "    </tr>\n",
       "  </tbody>\n",
       "</table>\n",
       "</div>"
      ],
      "text/plain": [
       "                   Category Percent of Not Supported Variant Items   \n",
       "0                Expression                                  24.11  \\\n",
       "1   Epigenetic Modification                                   1.24   \n",
       "2                    Fusion                                  24.77   \n",
       "3       Protein Consequence                                  10.60   \n",
       "4             Gene Function                                   7.29   \n",
       "5            Rearrangements                                   4.14   \n",
       "6               Copy Number                                   2.82   \n",
       "7                     Other                                   7.62   \n",
       "8            Genotypes Easy                                   0.91   \n",
       "9        Genotypes Compound                                   0.50   \n",
       "10   Region Defined Variant                                  15.99   \n",
       "\n",
       "   Percent of all CIViC Variant Items Percent of Accepted Variant Items   \n",
       "0                                8.26                             61.86  \\\n",
       "1                                0.43                             93.33   \n",
       "2                                8.48                             67.89   \n",
       "3                                3.63                             54.69   \n",
       "4                                2.50                             55.68   \n",
       "5                                1.42                             24.00   \n",
       "6                                0.96                             55.88   \n",
       "7                                2.61                             46.74   \n",
       "8                                0.31                             72.73   \n",
       "9                                0.17                             66.67   \n",
       "10                               5.48                             69.43   \n",
       "\n",
       "   Percent of Not Accepted Variant Items  \n",
       "0                                  38.14  \n",
       "1                                   6.67  \n",
       "2                                  32.11  \n",
       "3                                  45.31  \n",
       "4                                  44.32  \n",
       "5                                  76.00  \n",
       "6                                  44.12  \n",
       "7                                  53.26  \n",
       "8                                  27.27  \n",
       "9                                  33.33  \n",
       "10                                 30.57  "
      ]
     },
     "execution_count": 61,
     "metadata": {},
     "output_type": "execute_result"
    }
   ],
   "source": [
    "not_supported_variant_df = pd.DataFrame(not_supported_variant_dict)\n",
    "not_supported_variant_df"
   ]
  },
  {
   "cell_type": "markdown",
   "metadata": {},
   "source": [
    "## Evidence Analysis"
   ]
  },
  {
   "cell_type": "code",
   "execution_count": 62,
   "metadata": {},
   "outputs": [],
   "source": [
    "all_variant_evidence_dict = {'Variant Category':['Normalized', 'Unable to Normalize', 'Not Supported'],\n",
    "        'Percentage of all CIViC Evidence Items': [normalized_percentage_evidence_items, not_normalized_percentage_evidence_items, not_supported_variant_percentage_evidence_items],\n",
    "        'Percentage of Accepted Evidence Items': [percentage_accepted_evidences_normalized_variants, percentage_accepted_evidences_not_normalized_variants, percentage_accepted_evidences_not_supported_variants],\n",
    "        'Percentage of Not Accepted Evidence Items':[percentage_not_accepted_evidences_normalized_variants, percentage_not_accepted_evidences_not_normalized_variants, percentage_not_accepted_evidences_not_supported_variants],}"
   ]
  },
  {
   "cell_type": "code",
   "execution_count": 63,
   "metadata": {},
   "outputs": [
    {
     "data": {
      "text/html": [
       "<div>\n",
       "<style scoped>\n",
       "    .dataframe tbody tr th:only-of-type {\n",
       "        vertical-align: middle;\n",
       "    }\n",
       "\n",
       "    .dataframe tbody tr th {\n",
       "        vertical-align: top;\n",
       "    }\n",
       "\n",
       "    .dataframe thead th {\n",
       "        text-align: right;\n",
       "    }\n",
       "</style>\n",
       "<table border=\"1\" class=\"dataframe\">\n",
       "  <thead>\n",
       "    <tr style=\"text-align: right;\">\n",
       "      <th></th>\n",
       "      <th>Variant Category</th>\n",
       "      <th>Percentage of all CIViC Evidence Items</th>\n",
       "      <th>Percentage of Accepted Evidence Items</th>\n",
       "      <th>Percentage of Not Accepted Evidence Items</th>\n",
       "    </tr>\n",
       "  </thead>\n",
       "  <tbody>\n",
       "    <tr>\n",
       "      <th>0</th>\n",
       "      <td>Normalized</td>\n",
       "      <td>58.71</td>\n",
       "      <td>34.75</td>\n",
       "      <td>66.47</td>\n",
       "    </tr>\n",
       "    <tr>\n",
       "      <th>1</th>\n",
       "      <td>Unable to Normalize</td>\n",
       "      <td>0.79</td>\n",
       "      <td>17.72</td>\n",
       "      <td>82.28</td>\n",
       "    </tr>\n",
       "    <tr>\n",
       "      <th>2</th>\n",
       "      <td>Not Supported</td>\n",
       "      <td>37.74</td>\n",
       "      <td>56.58</td>\n",
       "      <td>44.50</td>\n",
       "    </tr>\n",
       "  </tbody>\n",
       "</table>\n",
       "</div>"
      ],
      "text/plain": [
       "      Variant Category Percentage of all CIViC Evidence Items   \n",
       "0           Normalized                                  58.71  \\\n",
       "1  Unable to Normalize                                   0.79   \n",
       "2        Not Supported                                  37.74   \n",
       "\n",
       "  Percentage of Accepted Evidence Items   \n",
       "0                                 34.75  \\\n",
       "1                                 17.72   \n",
       "2                                 56.58   \n",
       "\n",
       "  Percentage of Not Accepted Evidence Items  \n",
       "0                                     66.47  \n",
       "1                                     82.28  \n",
       "2                                     44.50  "
      ]
     },
     "execution_count": 63,
     "metadata": {},
     "output_type": "execute_result"
    }
   ],
   "source": [
    "all_variant_evidence_df = pd.DataFrame(all_variant_evidence_dict)\n",
    "all_variant_evidence_df"
   ]
  },
  {
   "cell_type": "code",
   "execution_count": 64,
   "metadata": {},
   "outputs": [],
   "source": [
    "not_supported_variant_categories = ['Expression','Epigenetic Modification', 'Fusion', 'Protein Consequence', 'Gene Function', 'Rearrangements', 'Copy Number', 'Other', 'Genotypes Easy', 'Genotypes Compound', 'Region Defined Variant' ]\n",
    "not_supported_percent_of_civic_evidence_items = [v[\"percent_not_supported_category_variant_evidence_of_civic\"] for k, v in not_supported_variant_categories_evidence_summary_data.items()]\n",
    "not_supported_percent_not_supported_variant_evidence_items = [v[\"percent_not_supported_category_variant_evidence_of_total_not_supported\"] for k, v in not_supported_variant_categories_evidence_summary_data.items()]\n",
    "not_supported_percent_of_accepted_evidence_items = [v[\"percentage_accepted_evidence_not_supported_category_variants\"] for k, v in not_supported_variant_categories_evidence_summary_data.items()]\n",
    "not_supported_percent_of_not_accepted_evidence_items = [v[\"percentage_not_accepted_evidence_not_supported_category_variants\"] for k, v in not_supported_variant_categories_evidence_summary_data.items()]"
   ]
  },
  {
   "cell_type": "code",
   "execution_count": 65,
   "metadata": {},
   "outputs": [],
   "source": [
    "not_supported_variant_evidence_dict = {'Category': not_supported_variant_categories,\n",
    "                                'Percent of CIViC Evidence Items': not_supported_percent_of_civic_evidence_items,\n",
    "                                'Percent of Not Supported Variant Evidence Items': not_supported_percent_not_supported_variant_evidence_items,\n",
    "                                'Percent of Accepted Evidence Items':not_supported_percent_of_accepted_evidence_items,\n",
    "                                'Percent of Not Accepted Evidence Items':not_supported_percent_of_not_accepted_evidence_items}"
   ]
  },
  {
   "cell_type": "code",
   "execution_count": 66,
   "metadata": {},
   "outputs": [
    {
     "data": {
      "text/html": [
       "<div>\n",
       "<style scoped>\n",
       "    .dataframe tbody tr th:only-of-type {\n",
       "        vertical-align: middle;\n",
       "    }\n",
       "\n",
       "    .dataframe tbody tr th {\n",
       "        vertical-align: top;\n",
       "    }\n",
       "\n",
       "    .dataframe thead th {\n",
       "        text-align: right;\n",
       "    }\n",
       "</style>\n",
       "<table border=\"1\" class=\"dataframe\">\n",
       "  <thead>\n",
       "    <tr style=\"text-align: right;\">\n",
       "      <th></th>\n",
       "      <th>Category</th>\n",
       "      <th>Percent of CIViC Evidence Items</th>\n",
       "      <th>Percent of Not Supported Variant Evidence Items</th>\n",
       "      <th>Percent of Accepted Evidence Items</th>\n",
       "      <th>Percent of Not Accepted Evidence Items</th>\n",
       "    </tr>\n",
       "  </thead>\n",
       "  <tbody>\n",
       "    <tr>\n",
       "      <th>0</th>\n",
       "      <td>Expression</td>\n",
       "      <td>6.14</td>\n",
       "      <td>16.28</td>\n",
       "      <td>55.43</td>\n",
       "      <td>44.57</td>\n",
       "    </tr>\n",
       "    <tr>\n",
       "      <th>1</th>\n",
       "      <td>Epigenetic Modification</td>\n",
       "      <td>0.24</td>\n",
       "      <td>0.63</td>\n",
       "      <td>91.67</td>\n",
       "      <td>8.33</td>\n",
       "    </tr>\n",
       "    <tr>\n",
       "      <th>2</th>\n",
       "      <td>Fusion</td>\n",
       "      <td>12.06</td>\n",
       "      <td>31.94</td>\n",
       "      <td>59.70</td>\n",
       "      <td>40.30</td>\n",
       "    </tr>\n",
       "    <tr>\n",
       "      <th>3</th>\n",
       "      <td>Protein Consequence</td>\n",
       "      <td>3.00</td>\n",
       "      <td>7.94</td>\n",
       "      <td>63.46</td>\n",
       "      <td>36.54</td>\n",
       "    </tr>\n",
       "    <tr>\n",
       "      <th>4</th>\n",
       "      <td>Gene Function</td>\n",
       "      <td>3.42</td>\n",
       "      <td>9.07</td>\n",
       "      <td>43.90</td>\n",
       "      <td>56.10</td>\n",
       "    </tr>\n",
       "    <tr>\n",
       "      <th>5</th>\n",
       "      <td>Rearrangements</td>\n",
       "      <td>1.37</td>\n",
       "      <td>3.64</td>\n",
       "      <td>38.41</td>\n",
       "      <td>61.59</td>\n",
       "    </tr>\n",
       "    <tr>\n",
       "      <th>6</th>\n",
       "      <td>Copy Number</td>\n",
       "      <td>0.69</td>\n",
       "      <td>1.82</td>\n",
       "      <td>44.93</td>\n",
       "      <td>55.07</td>\n",
       "    </tr>\n",
       "    <tr>\n",
       "      <th>7</th>\n",
       "      <td>Other</td>\n",
       "      <td>1.61</td>\n",
       "      <td>4.27</td>\n",
       "      <td>37.04</td>\n",
       "      <td>62.96</td>\n",
       "    </tr>\n",
       "    <tr>\n",
       "      <th>8</th>\n",
       "      <td>Genotypes Easy</td>\n",
       "      <td>0.23</td>\n",
       "      <td>0.61</td>\n",
       "      <td>56.52</td>\n",
       "      <td>43.48</td>\n",
       "    </tr>\n",
       "    <tr>\n",
       "      <th>9</th>\n",
       "      <td>Genotypes Compound</td>\n",
       "      <td>0.07</td>\n",
       "      <td>0.18</td>\n",
       "      <td>57.14</td>\n",
       "      <td>42.86</td>\n",
       "    </tr>\n",
       "    <tr>\n",
       "      <th>10</th>\n",
       "      <td>Region Defined Variant</td>\n",
       "      <td>9.09</td>\n",
       "      <td>24.08</td>\n",
       "      <td>60.79</td>\n",
       "      <td>39.21</td>\n",
       "    </tr>\n",
       "  </tbody>\n",
       "</table>\n",
       "</div>"
      ],
      "text/plain": [
       "                   Category Percent of CIViC Evidence Items   \n",
       "0                Expression                            6.14  \\\n",
       "1   Epigenetic Modification                            0.24   \n",
       "2                    Fusion                           12.06   \n",
       "3       Protein Consequence                            3.00   \n",
       "4             Gene Function                            3.42   \n",
       "5            Rearrangements                            1.37   \n",
       "6               Copy Number                            0.69   \n",
       "7                     Other                            1.61   \n",
       "8            Genotypes Easy                            0.23   \n",
       "9        Genotypes Compound                            0.07   \n",
       "10   Region Defined Variant                            9.09   \n",
       "\n",
       "   Percent of Not Supported Variant Evidence Items   \n",
       "0                                            16.28  \\\n",
       "1                                             0.63   \n",
       "2                                            31.94   \n",
       "3                                             7.94   \n",
       "4                                             9.07   \n",
       "5                                             3.64   \n",
       "6                                             1.82   \n",
       "7                                             4.27   \n",
       "8                                             0.61   \n",
       "9                                             0.18   \n",
       "10                                           24.08   \n",
       "\n",
       "   Percent of Accepted Evidence Items Percent of Not Accepted Evidence Items  \n",
       "0                               55.43                                  44.57  \n",
       "1                               91.67                                   8.33  \n",
       "2                               59.70                                  40.30  \n",
       "3                               63.46                                  36.54  \n",
       "4                               43.90                                  56.10  \n",
       "5                               38.41                                  61.59  \n",
       "6                               44.93                                  55.07  \n",
       "7                               37.04                                  62.96  \n",
       "8                               56.52                                  43.48  \n",
       "9                               57.14                                  42.86  \n",
       "10                              60.79                                  39.21  "
      ]
     },
     "execution_count": 66,
     "metadata": {},
     "output_type": "execute_result"
    }
   ],
   "source": [
    "not_supported_variant_evidence_df = pd.DataFrame(not_supported_variant_evidence_dict)\n",
    "not_supported_variant_evidence_df"
   ]
  },
  {
   "cell_type": "markdown",
   "metadata": {},
   "source": [
    "#### Notes: \n",
    "    Kori's analysis has variants under the transcript ariant category, while I do not\n",
    "    Kori's analysis yields 45.26% of not supported variants, mine yeilds 34.4%\n",
    "    other categories in not supported variants match in variant percentages b/w Kori's and mine"
   ]
  },
  {
   "cell_type": "markdown",
   "metadata": {},
   "source": []
  }
 ],
 "metadata": {
  "kernelspec": {
   "display_name": "Python 3.10.9 64-bit ('3.10.9')",
   "language": "python",
   "name": "python3"
  },
  "language_info": {
   "codemirror_mode": {
    "name": "ipython",
    "version": 3
   },
   "file_extension": ".py",
   "mimetype": "text/x-python",
   "name": "python",
   "nbconvert_exporter": "python",
   "pygments_lexer": "ipython3",
   "version": "3.10.9"
  },
  "orig_nbformat": 4,
  "vscode": {
   "interpreter": {
    "hash": "1bd4a0c8bc911393f4a19827cd0d555013b2fcb9ea63c8ddc9b9ae4ac59a8883"
   }
  }
 },
 "nbformat": 4,
 "nbformat_minor": 2
}
