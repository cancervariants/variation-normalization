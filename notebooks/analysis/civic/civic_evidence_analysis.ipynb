{
 "cells": [
  {
   "cell_type": "markdown",
   "metadata": {},
   "source": [
    "# Analysis of Normalized Queries\n",
    "\n",
    "This notebook contains an analysis on CIViC evidence data"
   ]
  },
  {
   "cell_type": "code",
   "execution_count": 235,
   "metadata": {},
   "outputs": [],
   "source": [
    "import csv\n",
    "import pandas as pd\n",
    "import numpy as np\n",
    "from civicpy import civic\n",
    "from pathlib import Path \n",
    "import zipfile \n",
    "import plotly.express as px\n",
    "import seaborn as sb"
   ]
  },
  {
   "cell_type": "code",
   "execution_count": 236,
   "metadata": {},
   "outputs": [
    {
     "data": {
      "text/plain": [
       "True"
      ]
     },
     "execution_count": 236,
     "metadata": {},
     "output_type": "execute_result"
    }
   ],
   "source": [
    "# Use latest cache that has been pushed to the repo\n",
    "latest_cache_zip_path = sorted(Path().glob(\"cache-*.pkl.zip\"))[-1]\n",
    "\n",
    "with zipfile.ZipFile(latest_cache_zip_path, \"r\") as zip_ref:\n",
    "    zip_ref.extractall()\n",
    "\n",
    "civic.load_cache(local_cache_path=Path(\"cache.pkl\"), on_stale=\"ignore\")"
   ]
  },
  {
   "cell_type": "code",
   "execution_count": 237,
   "metadata": {},
   "outputs": [],
   "source": [
    "# civic.load_cache(on_stale=\"ignore\")"
   ]
  },
  {
   "cell_type": "markdown",
   "metadata": {},
   "source": [
    "## Total Variants in CIViC"
   ]
  },
  {
   "cell_type": "code",
   "execution_count": 238,
   "metadata": {},
   "outputs": [
    {
     "data": {
      "text/plain": [
       "'Total Number of variants in CIViC: 3553'"
      ]
     },
     "execution_count": 238,
     "metadata": {},
     "output_type": "execute_result"
    }
   ],
   "source": [
    "civic_variant_ids = civic.get_all_variants()\n",
    "total_number_variants = len(civic_variant_ids)\n",
    "f\"Total Number of variants in CIViC: {total_number_variants}\""
   ]
  },
  {
   "cell_type": "markdown",
   "metadata": {},
   "source": [
    "## Total Evidence items in CIViC"
   ]
  },
  {
   "cell_type": "markdown",
   "metadata": {},
   "source": [
    "Need to remove all rejected evidence items"
   ]
  },
  {
   "cell_type": "code",
   "execution_count": 239,
   "metadata": {},
   "outputs": [],
   "source": [
    "civic_evidence_ids = civic.get_all_evidence(include_status=['accepted', 'submitted'])"
   ]
  },
  {
   "cell_type": "code",
   "execution_count": 240,
   "metadata": {},
   "outputs": [
    {
     "data": {
      "text/plain": [
       "'Total Number of evidence items in CIViC: 9766'"
      ]
     },
     "execution_count": 240,
     "metadata": {},
     "output_type": "execute_result"
    }
   ],
   "source": [
    "total_number_evidences = len(civic_evidence_ids)\n",
    "f\"Total Number of evidence items in CIViC: {total_number_evidences}\""
   ]
  },
  {
   "cell_type": "markdown",
   "metadata": {},
   "source": [
    "## Total Molecular Profiles in CIViC"
   ]
  },
  {
   "cell_type": "code",
   "execution_count": 241,
   "metadata": {},
   "outputs": [],
   "source": [
    "civic_molprof_ids = civic.get_all_molecular_profiles(include_status=['accepted', 'submitted', 'rejected'])"
   ]
  },
  {
   "cell_type": "markdown",
   "metadata": {},
   "source": [
    "## List of Normalized Variants ID's"
   ]
  },
  {
   "cell_type": "code",
   "execution_count": 242,
   "metadata": {},
   "outputs": [
    {
     "data": {
      "text/html": [
       "<div>\n",
       "<style scoped>\n",
       "    .dataframe tbody tr th:only-of-type {\n",
       "        vertical-align: middle;\n",
       "    }\n",
       "\n",
       "    .dataframe tbody tr th {\n",
       "        vertical-align: top;\n",
       "    }\n",
       "\n",
       "    .dataframe thead th {\n",
       "        text-align: right;\n",
       "    }\n",
       "</style>\n",
       "<table border=\"1\" class=\"dataframe\">\n",
       "  <thead>\n",
       "    <tr style=\"text-align: right;\">\n",
       "      <th></th>\n",
       "      <th>variant_id</th>\n",
       "      <th>query</th>\n",
       "      <th>query_type</th>\n",
       "      <th>variant_accepted</th>\n",
       "    </tr>\n",
       "  </thead>\n",
       "  <tbody>\n",
       "    <tr>\n",
       "      <th>0</th>\n",
       "      <td>2489</td>\n",
       "      <td>NC_000003.11:g.10191648_10191649insC</td>\n",
       "      <td>genomic</td>\n",
       "      <td>True</td>\n",
       "    </tr>\n",
       "    <tr>\n",
       "      <th>1</th>\n",
       "      <td>1988</td>\n",
       "      <td>NC_000003.11:g.10191649A&gt;T</td>\n",
       "      <td>genomic</td>\n",
       "      <td>True</td>\n",
       "    </tr>\n",
       "    <tr>\n",
       "      <th>2</th>\n",
       "      <td>2488</td>\n",
       "      <td>3-10191647-T-G</td>\n",
       "      <td>genomic</td>\n",
       "      <td>True</td>\n",
       "    </tr>\n",
       "    <tr>\n",
       "      <th>3</th>\n",
       "      <td>1986</td>\n",
       "      <td>NC_000003.11:g.10191648G&gt;T</td>\n",
       "      <td>genomic</td>\n",
       "      <td>True</td>\n",
       "    </tr>\n",
       "    <tr>\n",
       "      <th>4</th>\n",
       "      <td>1987</td>\n",
       "      <td>NC_000003.11:g.10191649A&gt;G</td>\n",
       "      <td>genomic</td>\n",
       "      <td>True</td>\n",
       "    </tr>\n",
       "  </tbody>\n",
       "</table>\n",
       "</div>"
      ],
      "text/plain": [
       "   variant_id                                 query query_type   \n",
       "0        2489  NC_000003.11:g.10191648_10191649insC    genomic  \\\n",
       "1        1988            NC_000003.11:g.10191649A>T    genomic   \n",
       "2        2488                        3-10191647-T-G    genomic   \n",
       "3        1986            NC_000003.11:g.10191648G>T    genomic   \n",
       "4        1987            NC_000003.11:g.10191649A>G    genomic   \n",
       "\n",
       "   variant_accepted  \n",
       "0              True  \n",
       "1              True  \n",
       "2              True  \n",
       "3              True  \n",
       "4              True  "
      ]
     },
     "execution_count": 242,
     "metadata": {},
     "output_type": "execute_result"
    }
   ],
   "source": [
    "normalized_queries_df = pd.read_csv(\"./able_to_normalize_queries.csv\", sep= \"\\t\")\n",
    "normalized_queries_df.head()"
   ]
  },
  {
   "cell_type": "code",
   "execution_count": 243,
   "metadata": {},
   "outputs": [],
   "source": [
    "normalized_queries_df = normalized_queries_df.drop_duplicates(subset=['variant_id'])"
   ]
  },
  {
   "cell_type": "code",
   "execution_count": 244,
   "metadata": {},
   "outputs": [],
   "source": [
    "normalized_variant_id_list = list(normalized_queries_df[\"variant_id\"])"
   ]
  },
  {
   "cell_type": "markdown",
   "metadata": {},
   "source": [
    "## Variant analysis"
   ]
  },
  {
   "cell_type": "code",
   "execution_count": 245,
   "metadata": {},
   "outputs": [
    {
     "data": {
      "text/plain": [
       "'Number of Normalized Variants in CIViC: 1869 / 3553'"
      ]
     },
     "execution_count": 245,
     "metadata": {},
     "output_type": "execute_result"
    }
   ],
   "source": [
    "total_number_normalized_variants = len(set(normalized_variant_id_list))\n",
    "fraction_normalized_variants = f\"{total_number_normalized_variants} / {total_number_variants}\"\n",
    "f\"Number of Normalized Variants in CIViC: {fraction_normalized_variants}\""
   ]
  },
  {
   "cell_type": "code",
   "execution_count": 246,
   "metadata": {},
   "outputs": [
    {
     "data": {
      "text/plain": [
       "'Percentage of Normalized Variants in CIViC: 52.60%'"
      ]
     },
     "execution_count": 246,
     "metadata": {},
     "output_type": "execute_result"
    }
   ],
   "source": [
    "percentage_normalized_variants = \"{:.2f}\".format(total_number_normalized_variants/total_number_variants*100) + \"%\"\n",
    "f\"Percentage of Normalized Variants in CIViC: {percentage_normalized_variants}\""
   ]
  },
  {
   "cell_type": "code",
   "execution_count": 247,
   "metadata": {},
   "outputs": [
    {
     "data": {
      "text/plain": [
       "variant_accepted\n",
       "False    1003\n",
       "True      866\n",
       "Name: count, dtype: int64"
      ]
     },
     "execution_count": 247,
     "metadata": {},
     "output_type": "execute_result"
    }
   ],
   "source": [
    "normalized_queries_df.variant_accepted.value_counts()"
   ]
  },
  {
   "cell_type": "code",
   "execution_count": 248,
   "metadata": {},
   "outputs": [
    {
     "data": {
      "text/plain": [
       "'Number of not accepted Normalized Variants: 1003 / 1869'"
      ]
     },
     "execution_count": 248,
     "metadata": {},
     "output_type": "execute_result"
    }
   ],
   "source": [
    "number_not_accepted_normalized_variants = len(normalized_queries_df) - normalized_queries_df.variant_accepted.sum()\n",
    "fraction_not_accepted_normalized_variants = f'{number_not_accepted_normalized_variants} / {total_number_normalized_variants}'\n",
    "f\"Number of not accepted Normalized Variants: {fraction_not_accepted_normalized_variants}\""
   ]
  },
  {
   "cell_type": "code",
   "execution_count": 249,
   "metadata": {},
   "outputs": [
    {
     "data": {
      "text/plain": [
       "'Percentage of not accepted Normalized Variants: 53.67%'"
      ]
     },
     "execution_count": 249,
     "metadata": {},
     "output_type": "execute_result"
    }
   ],
   "source": [
    "percentage_not_accepted_normalized_variants = \"{:.2f}\".format(number_not_accepted_normalized_variants/total_number_normalized_variants*100) + \"%\"\n",
    "f\"Percentage of not accepted Normalized Variants: {percentage_not_accepted_normalized_variants}\""
   ]
  },
  {
   "cell_type": "code",
   "execution_count": 250,
   "metadata": {},
   "outputs": [
    {
     "data": {
      "text/plain": [
       "'Number of accepted Normalized Variants: 866 /1869'"
      ]
     },
     "execution_count": 250,
     "metadata": {},
     "output_type": "execute_result"
    }
   ],
   "source": [
    "number_accepted_normalized_variants = normalized_queries_df.variant_accepted.sum()\n",
    "fraction_accepted_normalized_variants= f\"{number_accepted_normalized_variants} /{total_number_normalized_variants}\"\n",
    "f\"Number of accepted Normalized Variants: {fraction_accepted_normalized_variants}\""
   ]
  },
  {
   "cell_type": "code",
   "execution_count": 251,
   "metadata": {},
   "outputs": [
    {
     "data": {
      "text/plain": [
       "'Percentage of accepted Normalized Variants: 46.33%'"
      ]
     },
     "execution_count": 251,
     "metadata": {},
     "output_type": "execute_result"
    }
   ],
   "source": [
    "percentage_accepted_normalized_variants = \"{:.2f}\".format(number_accepted_normalized_variants/total_number_normalized_variants*100) + \"%\"\n",
    "f\"Percentage of accepted Normalized Variants: {percentage_accepted_normalized_variants}\""
   ]
  },
  {
   "cell_type": "markdown",
   "metadata": {},
   "source": [
    "## Import evidence ID's associated with the Normalized Variants using variant ID\n",
    "\n",
    "Evidence items are linked to the molecular profiles associated with variant items. To pull evidence IDs, need to use molecular profiles. For more information on the structure of a variant item"
   ]
  },
  {
   "cell_type": "code",
   "execution_count": 252,
   "metadata": {},
   "outputs": [
    {
     "data": {
      "text/html": [
       "<div>\n",
       "<style scoped>\n",
       "    .dataframe tbody tr th:only-of-type {\n",
       "        vertical-align: middle;\n",
       "    }\n",
       "\n",
       "    .dataframe tbody tr th {\n",
       "        vertical-align: top;\n",
       "    }\n",
       "\n",
       "    .dataframe thead th {\n",
       "        text-align: right;\n",
       "    }\n",
       "</style>\n",
       "<table border=\"1\" class=\"dataframe\">\n",
       "  <thead>\n",
       "    <tr style=\"text-align: right;\">\n",
       "      <th></th>\n",
       "      <th>variant_id</th>\n",
       "      <th>query</th>\n",
       "      <th>query_type</th>\n",
       "      <th>variant_accepted</th>\n",
       "      <th>evidence_id</th>\n",
       "    </tr>\n",
       "  </thead>\n",
       "  <tbody>\n",
       "    <tr>\n",
       "      <th>0</th>\n",
       "      <td>2489</td>\n",
       "      <td>NC_000003.11:g.10191648_10191649insC</td>\n",
       "      <td>genomic</td>\n",
       "      <td>True</td>\n",
       "      <td>[9347, 6724]</td>\n",
       "    </tr>\n",
       "    <tr>\n",
       "      <th>1</th>\n",
       "      <td>1988</td>\n",
       "      <td>NC_000003.11:g.10191649A&gt;T</td>\n",
       "      <td>genomic</td>\n",
       "      <td>True</td>\n",
       "      <td>[5336]</td>\n",
       "    </tr>\n",
       "    <tr>\n",
       "      <th>2</th>\n",
       "      <td>2488</td>\n",
       "      <td>3-10191647-T-G</td>\n",
       "      <td>genomic</td>\n",
       "      <td>True</td>\n",
       "      <td>[10779, 6723, 8258]</td>\n",
       "    </tr>\n",
       "    <tr>\n",
       "      <th>3</th>\n",
       "      <td>1986</td>\n",
       "      <td>NC_000003.11:g.10191648G&gt;T</td>\n",
       "      <td>genomic</td>\n",
       "      <td>True</td>\n",
       "      <td>[5334]</td>\n",
       "    </tr>\n",
       "    <tr>\n",
       "      <th>4</th>\n",
       "      <td>1987</td>\n",
       "      <td>NC_000003.11:g.10191649A&gt;G</td>\n",
       "      <td>genomic</td>\n",
       "      <td>True</td>\n",
       "      <td>[5335]</td>\n",
       "    </tr>\n",
       "  </tbody>\n",
       "</table>\n",
       "</div>"
      ],
      "text/plain": [
       "   variant_id                                 query query_type   \n",
       "0        2489  NC_000003.11:g.10191648_10191649insC    genomic  \\\n",
       "1        1988            NC_000003.11:g.10191649A>T    genomic   \n",
       "2        2488                        3-10191647-T-G    genomic   \n",
       "3        1986            NC_000003.11:g.10191648G>T    genomic   \n",
       "4        1987            NC_000003.11:g.10191649A>G    genomic   \n",
       "\n",
       "   variant_accepted          evidence_id  \n",
       "0              True         [9347, 6724]  \n",
       "1              True               [5336]  \n",
       "2              True  [10779, 6723, 8258]  \n",
       "3              True               [5334]  \n",
       "4              True               [5335]  "
      ]
     },
     "execution_count": 252,
     "metadata": {},
     "output_type": "execute_result"
    }
   ],
   "source": [
    "normalized_queries_add_evidence_df = normalized_queries_df.copy()\n",
    "normalized_variants_evidence_id = []\n",
    "\n",
    "for v in normalized_variant_id_list:\n",
    "    variant_evidence_id_list = []\n",
    "\n",
    "    for variant in civic_variant_ids:\n",
    "        if int(v) == variant.id:\n",
    "\n",
    "            for mp in variant.molecular_profiles:\n",
    "                for e in mp.evidence_items:\n",
    "                    if e.id not in variant_evidence_id_list:\n",
    "                        variant_evidence_id_list.append(e.id)\n",
    "\n",
    "            variant_evidence_id_list = variant_evidence_id_list or \"\"\n",
    "\n",
    "    normalized_variants_evidence_id.append(variant_evidence_id_list)\n",
    "    \n",
    "normalized_queries_add_evidence_df[\"evidence_id\"] = normalized_variants_evidence_id\n",
    "normalized_queries_add_evidence_df.head()"
   ]
  },
  {
   "cell_type": "markdown",
   "metadata": {},
   "source": [
    "## List of Evidence ID's of Normalized Variants"
   ]
  },
  {
   "cell_type": "code",
   "execution_count": 253,
   "metadata": {},
   "outputs": [
    {
     "data": {
      "text/html": [
       "<div>\n",
       "<style scoped>\n",
       "    .dataframe tbody tr th:only-of-type {\n",
       "        vertical-align: middle;\n",
       "    }\n",
       "\n",
       "    .dataframe tbody tr th {\n",
       "        vertical-align: top;\n",
       "    }\n",
       "\n",
       "    .dataframe thead th {\n",
       "        text-align: right;\n",
       "    }\n",
       "</style>\n",
       "<table border=\"1\" class=\"dataframe\">\n",
       "  <thead>\n",
       "    <tr style=\"text-align: right;\">\n",
       "      <th></th>\n",
       "      <th>variant_id</th>\n",
       "      <th>query</th>\n",
       "      <th>query_type</th>\n",
       "      <th>variant_accepted</th>\n",
       "      <th>evidence_id</th>\n",
       "    </tr>\n",
       "  </thead>\n",
       "  <tbody>\n",
       "    <tr>\n",
       "      <th>0</th>\n",
       "      <td>2489</td>\n",
       "      <td>NC_000003.11:g.10191648_10191649insC</td>\n",
       "      <td>genomic</td>\n",
       "      <td>True</td>\n",
       "      <td>9347</td>\n",
       "    </tr>\n",
       "    <tr>\n",
       "      <th>0</th>\n",
       "      <td>2489</td>\n",
       "      <td>NC_000003.11:g.10191648_10191649insC</td>\n",
       "      <td>genomic</td>\n",
       "      <td>True</td>\n",
       "      <td>6724</td>\n",
       "    </tr>\n",
       "    <tr>\n",
       "      <th>1</th>\n",
       "      <td>1988</td>\n",
       "      <td>NC_000003.11:g.10191649A&gt;T</td>\n",
       "      <td>genomic</td>\n",
       "      <td>True</td>\n",
       "      <td>5336</td>\n",
       "    </tr>\n",
       "    <tr>\n",
       "      <th>2</th>\n",
       "      <td>2488</td>\n",
       "      <td>3-10191647-T-G</td>\n",
       "      <td>genomic</td>\n",
       "      <td>True</td>\n",
       "      <td>10779</td>\n",
       "    </tr>\n",
       "    <tr>\n",
       "      <th>2</th>\n",
       "      <td>2488</td>\n",
       "      <td>3-10191647-T-G</td>\n",
       "      <td>genomic</td>\n",
       "      <td>True</td>\n",
       "      <td>6723</td>\n",
       "    </tr>\n",
       "  </tbody>\n",
       "</table>\n",
       "</div>"
      ],
      "text/plain": [
       "   variant_id                                 query query_type   \n",
       "0        2489  NC_000003.11:g.10191648_10191649insC    genomic  \\\n",
       "0        2489  NC_000003.11:g.10191648_10191649insC    genomic   \n",
       "1        1988            NC_000003.11:g.10191649A>T    genomic   \n",
       "2        2488                        3-10191647-T-G    genomic   \n",
       "2        2488                        3-10191647-T-G    genomic   \n",
       "\n",
       "   variant_accepted evidence_id  \n",
       "0              True        9347  \n",
       "0              True        6724  \n",
       "1              True        5336  \n",
       "2              True       10779  \n",
       "2              True        6723  "
      ]
     },
     "execution_count": 253,
     "metadata": {},
     "output_type": "execute_result"
    }
   ],
   "source": [
    "normalized_queries_add_evidence_df = normalized_queries_add_evidence_df.explode(column=\"evidence_id\")\n",
    "normalized_queries_add_evidence_df.head()"
   ]
  },
  {
   "cell_type": "code",
   "execution_count": 254,
   "metadata": {},
   "outputs": [],
   "source": [
    "normalized_variant_evidence_id_list = list(normalized_queries_add_evidence_df[\"evidence_id\"])"
   ]
  },
  {
   "cell_type": "markdown",
   "metadata": {},
   "source": [
    "## Import evidence status, rating, and level associated with a specific evidence ID\n",
    "    please see the CIViC documentation for evidence item attribute decriptions (https://civic.readthedocs.io/en/latest/model/evidence.html)"
   ]
  },
  {
   "cell_type": "code",
   "execution_count": 255,
   "metadata": {},
   "outputs": [
    {
     "data": {
      "text/html": [
       "<div>\n",
       "<style scoped>\n",
       "    .dataframe tbody tr th:only-of-type {\n",
       "        vertical-align: middle;\n",
       "    }\n",
       "\n",
       "    .dataframe tbody tr th {\n",
       "        vertical-align: top;\n",
       "    }\n",
       "\n",
       "    .dataframe thead th {\n",
       "        text-align: right;\n",
       "    }\n",
       "</style>\n",
       "<table border=\"1\" class=\"dataframe\">\n",
       "  <thead>\n",
       "    <tr style=\"text-align: right;\">\n",
       "      <th></th>\n",
       "      <th>variant_id</th>\n",
       "      <th>query</th>\n",
       "      <th>query_type</th>\n",
       "      <th>variant_accepted</th>\n",
       "      <th>evidence_id</th>\n",
       "      <th>evidence_status</th>\n",
       "      <th>evidence_rating</th>\n",
       "      <th>evidence_level</th>\n",
       "    </tr>\n",
       "  </thead>\n",
       "  <tbody>\n",
       "    <tr>\n",
       "      <th>0</th>\n",
       "      <td>2489</td>\n",
       "      <td>NC_000003.11:g.10191648_10191649insC</td>\n",
       "      <td>genomic</td>\n",
       "      <td>True</td>\n",
       "      <td>9347</td>\n",
       "      <td>[submitted]</td>\n",
       "      <td>[3]</td>\n",
       "      <td>[C]</td>\n",
       "    </tr>\n",
       "    <tr>\n",
       "      <th>0</th>\n",
       "      <td>2489</td>\n",
       "      <td>NC_000003.11:g.10191648_10191649insC</td>\n",
       "      <td>genomic</td>\n",
       "      <td>True</td>\n",
       "      <td>6724</td>\n",
       "      <td>[accepted]</td>\n",
       "      <td>[2]</td>\n",
       "      <td>[C]</td>\n",
       "    </tr>\n",
       "    <tr>\n",
       "      <th>1</th>\n",
       "      <td>1988</td>\n",
       "      <td>NC_000003.11:g.10191649A&gt;T</td>\n",
       "      <td>genomic</td>\n",
       "      <td>True</td>\n",
       "      <td>5336</td>\n",
       "      <td>[accepted]</td>\n",
       "      <td>[2]</td>\n",
       "      <td>[C]</td>\n",
       "    </tr>\n",
       "    <tr>\n",
       "      <th>2</th>\n",
       "      <td>2488</td>\n",
       "      <td>3-10191647-T-G</td>\n",
       "      <td>genomic</td>\n",
       "      <td>True</td>\n",
       "      <td>10779</td>\n",
       "      <td>[submitted]</td>\n",
       "      <td>[3]</td>\n",
       "      <td>[C]</td>\n",
       "    </tr>\n",
       "    <tr>\n",
       "      <th>2</th>\n",
       "      <td>2488</td>\n",
       "      <td>3-10191647-T-G</td>\n",
       "      <td>genomic</td>\n",
       "      <td>True</td>\n",
       "      <td>6723</td>\n",
       "      <td>[accepted]</td>\n",
       "      <td>[2]</td>\n",
       "      <td>[C]</td>\n",
       "    </tr>\n",
       "  </tbody>\n",
       "</table>\n",
       "</div>"
      ],
      "text/plain": [
       "   variant_id                                 query query_type   \n",
       "0        2489  NC_000003.11:g.10191648_10191649insC    genomic  \\\n",
       "0        2489  NC_000003.11:g.10191648_10191649insC    genomic   \n",
       "1        1988            NC_000003.11:g.10191649A>T    genomic   \n",
       "2        2488                        3-10191647-T-G    genomic   \n",
       "2        2488                        3-10191647-T-G    genomic   \n",
       "\n",
       "   variant_accepted evidence_id evidence_status evidence_rating evidence_level  \n",
       "0              True        9347     [submitted]             [3]            [C]  \n",
       "0              True        6724      [accepted]             [2]            [C]  \n",
       "1              True        5336      [accepted]             [2]            [C]  \n",
       "2              True       10779     [submitted]             [3]            [C]  \n",
       "2              True        6723      [accepted]             [2]            [C]  "
      ]
     },
     "execution_count": 255,
     "metadata": {},
     "output_type": "execute_result"
    }
   ],
   "source": [
    "normalized_variants_evidence_statuses = []\n",
    "normalized_variants_evidence_ratings = []\n",
    "normalized_variants_evidence_levels = []\n",
    "\n",
    "for e in normalized_variant_evidence_id_list:\n",
    "    variant_evidence_status_list = []\n",
    "    variant_evidence_rating_list = []\n",
    "    variant_evidence_level_list = []\n",
    "\n",
    "    for evidence in civic_evidence_ids: \n",
    "        if int(e) == evidence.id:\n",
    "\n",
    "            if evidence.status not in variant_evidence_status_list:\n",
    "                variant_evidence_status_list.append(evidence.status)\n",
    "            variant_evidence_status_list = variant_evidence_status_list or \"\"\n",
    "\n",
    "            if evidence.rating not in variant_evidence_rating_list:\n",
    "                variant_evidence_rating_list.append(evidence.rating)\n",
    "            variant_evidence_rating_list = variant_evidence_rating_list or \"\"\n",
    "\n",
    "            if evidence.evidence_level not in variant_evidence_level_list:\n",
    "                variant_evidence_level_list.append(evidence.evidence_level)\n",
    "            variant_evidence_level_list = variant_evidence_level_list or \"\"\n",
    "\n",
    "    normalized_variants_evidence_statuses.append(variant_evidence_status_list)\n",
    "    normalized_variants_evidence_ratings.append(variant_evidence_rating_list)\n",
    "    normalized_variants_evidence_levels.append(variant_evidence_level_list)\n",
    "\n",
    "normalized_queries_add_evidence_df[\"evidence_status\"] = normalized_variants_evidence_statuses\n",
    "normalized_queries_add_evidence_df[\"evidence_rating\"] = normalized_variants_evidence_ratings\n",
    "normalized_queries_add_evidence_df[\"evidence_level\"] = normalized_variants_evidence_levels\n",
    "normalized_queries_add_evidence_df.head()"
   ]
  },
  {
   "cell_type": "code",
   "execution_count": 256,
   "metadata": {},
   "outputs": [
    {
     "data": {
      "text/html": [
       "<div>\n",
       "<style scoped>\n",
       "    .dataframe tbody tr th:only-of-type {\n",
       "        vertical-align: middle;\n",
       "    }\n",
       "\n",
       "    .dataframe tbody tr th {\n",
       "        vertical-align: top;\n",
       "    }\n",
       "\n",
       "    .dataframe thead th {\n",
       "        text-align: right;\n",
       "    }\n",
       "</style>\n",
       "<table border=\"1\" class=\"dataframe\">\n",
       "  <thead>\n",
       "    <tr style=\"text-align: right;\">\n",
       "      <th></th>\n",
       "      <th>variant_id</th>\n",
       "      <th>query</th>\n",
       "      <th>query_type</th>\n",
       "      <th>variant_accepted</th>\n",
       "      <th>evidence_id</th>\n",
       "      <th>evidence_status</th>\n",
       "      <th>evidence_rating</th>\n",
       "      <th>evidence_level</th>\n",
       "    </tr>\n",
       "  </thead>\n",
       "  <tbody>\n",
       "    <tr>\n",
       "      <th>0</th>\n",
       "      <td>2489</td>\n",
       "      <td>NC_000003.11:g.10191648_10191649insC</td>\n",
       "      <td>genomic</td>\n",
       "      <td>True</td>\n",
       "      <td>9347</td>\n",
       "      <td>[submitted]</td>\n",
       "      <td>[3]</td>\n",
       "      <td>[C]</td>\n",
       "    </tr>\n",
       "    <tr>\n",
       "      <th>0</th>\n",
       "      <td>2489</td>\n",
       "      <td>NC_000003.11:g.10191648_10191649insC</td>\n",
       "      <td>genomic</td>\n",
       "      <td>True</td>\n",
       "      <td>6724</td>\n",
       "      <td>[accepted]</td>\n",
       "      <td>[2]</td>\n",
       "      <td>[C]</td>\n",
       "    </tr>\n",
       "    <tr>\n",
       "      <th>1</th>\n",
       "      <td>1988</td>\n",
       "      <td>NC_000003.11:g.10191649A&gt;T</td>\n",
       "      <td>genomic</td>\n",
       "      <td>True</td>\n",
       "      <td>5336</td>\n",
       "      <td>[accepted]</td>\n",
       "      <td>[2]</td>\n",
       "      <td>[C]</td>\n",
       "    </tr>\n",
       "    <tr>\n",
       "      <th>2</th>\n",
       "      <td>2488</td>\n",
       "      <td>3-10191647-T-G</td>\n",
       "      <td>genomic</td>\n",
       "      <td>True</td>\n",
       "      <td>10779</td>\n",
       "      <td>[submitted]</td>\n",
       "      <td>[3]</td>\n",
       "      <td>[C]</td>\n",
       "    </tr>\n",
       "    <tr>\n",
       "      <th>2</th>\n",
       "      <td>2488</td>\n",
       "      <td>3-10191647-T-G</td>\n",
       "      <td>genomic</td>\n",
       "      <td>True</td>\n",
       "      <td>6723</td>\n",
       "      <td>[accepted]</td>\n",
       "      <td>[2]</td>\n",
       "      <td>[C]</td>\n",
       "    </tr>\n",
       "    <tr>\n",
       "      <th>...</th>\n",
       "      <td>...</td>\n",
       "      <td>...</td>\n",
       "      <td>...</td>\n",
       "      <td>...</td>\n",
       "      <td>...</td>\n",
       "      <td>...</td>\n",
       "      <td>...</td>\n",
       "      <td>...</td>\n",
       "    </tr>\n",
       "    <tr>\n",
       "      <th>1864</th>\n",
       "      <td>877</td>\n",
       "      <td>NC_000020.11:g.58903752C&gt;T</td>\n",
       "      <td>genomic</td>\n",
       "      <td>True</td>\n",
       "      <td>1995</td>\n",
       "      <td>[accepted]</td>\n",
       "      <td>[2]</td>\n",
       "      <td>[B]</td>\n",
       "    </tr>\n",
       "    <tr>\n",
       "      <th>1865</th>\n",
       "      <td>731</td>\n",
       "      <td>NC_000003.11:g.37056036G&gt;A</td>\n",
       "      <td>genomic</td>\n",
       "      <td>True</td>\n",
       "      <td>1794</td>\n",
       "      <td>[accepted]</td>\n",
       "      <td>[1]</td>\n",
       "      <td>[C]</td>\n",
       "    </tr>\n",
       "    <tr>\n",
       "      <th>1866</th>\n",
       "      <td>3045</td>\n",
       "      <td>VHL p.F76del</td>\n",
       "      <td>protein</td>\n",
       "      <td>False</td>\n",
       "      <td>8240</td>\n",
       "      <td>[submitted]</td>\n",
       "      <td>[2]</td>\n",
       "      <td>[C]</td>\n",
       "    </tr>\n",
       "    <tr>\n",
       "      <th>1867</th>\n",
       "      <td>4475</td>\n",
       "      <td>MAP2K1 p.K57_G61del</td>\n",
       "      <td>protein</td>\n",
       "      <td>False</td>\n",
       "      <td>11301</td>\n",
       "      <td>[submitted]</td>\n",
       "      <td>[4]</td>\n",
       "      <td>[C]</td>\n",
       "    </tr>\n",
       "    <tr>\n",
       "      <th>1868</th>\n",
       "      <td>3310</td>\n",
       "      <td>HDAC9 p.L33R</td>\n",
       "      <td>protein</td>\n",
       "      <td>False</td>\n",
       "      <td>9240</td>\n",
       "      <td>[submitted]</td>\n",
       "      <td>[4]</td>\n",
       "      <td>[D]</td>\n",
       "    </tr>\n",
       "  </tbody>\n",
       "</table>\n",
       "<p>5993 rows × 8 columns</p>\n",
       "</div>"
      ],
      "text/plain": [
       "      variant_id                                 query query_type   \n",
       "0           2489  NC_000003.11:g.10191648_10191649insC    genomic  \\\n",
       "0           2489  NC_000003.11:g.10191648_10191649insC    genomic   \n",
       "1           1988            NC_000003.11:g.10191649A>T    genomic   \n",
       "2           2488                        3-10191647-T-G    genomic   \n",
       "2           2488                        3-10191647-T-G    genomic   \n",
       "...          ...                                   ...        ...   \n",
       "1864         877            NC_000020.11:g.58903752C>T    genomic   \n",
       "1865         731            NC_000003.11:g.37056036G>A    genomic   \n",
       "1866        3045                          VHL p.F76del    protein   \n",
       "1867        4475                   MAP2K1 p.K57_G61del    protein   \n",
       "1868        3310                          HDAC9 p.L33R    protein   \n",
       "\n",
       "      variant_accepted evidence_id evidence_status evidence_rating   \n",
       "0                 True        9347     [submitted]             [3]  \\\n",
       "0                 True        6724      [accepted]             [2]   \n",
       "1                 True        5336      [accepted]             [2]   \n",
       "2                 True       10779     [submitted]             [3]   \n",
       "2                 True        6723      [accepted]             [2]   \n",
       "...                ...         ...             ...             ...   \n",
       "1864              True        1995      [accepted]             [2]   \n",
       "1865              True        1794      [accepted]             [1]   \n",
       "1866             False        8240     [submitted]             [2]   \n",
       "1867             False       11301     [submitted]             [4]   \n",
       "1868             False        9240     [submitted]             [4]   \n",
       "\n",
       "     evidence_level  \n",
       "0               [C]  \n",
       "0               [C]  \n",
       "1               [C]  \n",
       "2               [C]  \n",
       "2               [C]  \n",
       "...             ...  \n",
       "1864            [B]  \n",
       "1865            [C]  \n",
       "1866            [C]  \n",
       "1867            [C]  \n",
       "1868            [D]  \n",
       "\n",
       "[5993 rows x 8 columns]"
      ]
     },
     "execution_count": 256,
     "metadata": {},
     "output_type": "execute_result"
    }
   ],
   "source": [
    "normalized_queries_add_evidence_df"
   ]
  },
  {
   "cell_type": "code",
   "execution_count": 257,
   "metadata": {},
   "outputs": [],
   "source": [
    "normalized_queries_add_evidence_df['evidence_status'] = normalized_queries_add_evidence_df['evidence_status'].str.join(', ')"
   ]
  },
  {
   "cell_type": "code",
   "execution_count": 258,
   "metadata": {},
   "outputs": [
    {
     "data": {
      "text/html": [
       "<div>\n",
       "<style scoped>\n",
       "    .dataframe tbody tr th:only-of-type {\n",
       "        vertical-align: middle;\n",
       "    }\n",
       "\n",
       "    .dataframe tbody tr th {\n",
       "        vertical-align: top;\n",
       "    }\n",
       "\n",
       "    .dataframe thead th {\n",
       "        text-align: right;\n",
       "    }\n",
       "</style>\n",
       "<table border=\"1\" class=\"dataframe\">\n",
       "  <thead>\n",
       "    <tr style=\"text-align: right;\">\n",
       "      <th></th>\n",
       "      <th>variant_id</th>\n",
       "      <th>query</th>\n",
       "      <th>query_type</th>\n",
       "      <th>variant_accepted</th>\n",
       "      <th>evidence_id</th>\n",
       "      <th>evidence_status</th>\n",
       "      <th>evidence_rating</th>\n",
       "      <th>evidence_level</th>\n",
       "    </tr>\n",
       "  </thead>\n",
       "  <tbody>\n",
       "    <tr>\n",
       "      <th>0</th>\n",
       "      <td>2489</td>\n",
       "      <td>NC_000003.11:g.10191648_10191649insC</td>\n",
       "      <td>genomic</td>\n",
       "      <td>True</td>\n",
       "      <td>9347</td>\n",
       "      <td>submitted</td>\n",
       "      <td>[3]</td>\n",
       "      <td>[C]</td>\n",
       "    </tr>\n",
       "    <tr>\n",
       "      <th>0</th>\n",
       "      <td>2489</td>\n",
       "      <td>NC_000003.11:g.10191648_10191649insC</td>\n",
       "      <td>genomic</td>\n",
       "      <td>True</td>\n",
       "      <td>6724</td>\n",
       "      <td>accepted</td>\n",
       "      <td>[2]</td>\n",
       "      <td>[C]</td>\n",
       "    </tr>\n",
       "    <tr>\n",
       "      <th>1</th>\n",
       "      <td>1988</td>\n",
       "      <td>NC_000003.11:g.10191649A&gt;T</td>\n",
       "      <td>genomic</td>\n",
       "      <td>True</td>\n",
       "      <td>5336</td>\n",
       "      <td>accepted</td>\n",
       "      <td>[2]</td>\n",
       "      <td>[C]</td>\n",
       "    </tr>\n",
       "    <tr>\n",
       "      <th>2</th>\n",
       "      <td>2488</td>\n",
       "      <td>3-10191647-T-G</td>\n",
       "      <td>genomic</td>\n",
       "      <td>True</td>\n",
       "      <td>10779</td>\n",
       "      <td>submitted</td>\n",
       "      <td>[3]</td>\n",
       "      <td>[C]</td>\n",
       "    </tr>\n",
       "    <tr>\n",
       "      <th>2</th>\n",
       "      <td>2488</td>\n",
       "      <td>3-10191647-T-G</td>\n",
       "      <td>genomic</td>\n",
       "      <td>True</td>\n",
       "      <td>6723</td>\n",
       "      <td>accepted</td>\n",
       "      <td>[2]</td>\n",
       "      <td>[C]</td>\n",
       "    </tr>\n",
       "    <tr>\n",
       "      <th>...</th>\n",
       "      <td>...</td>\n",
       "      <td>...</td>\n",
       "      <td>...</td>\n",
       "      <td>...</td>\n",
       "      <td>...</td>\n",
       "      <td>...</td>\n",
       "      <td>...</td>\n",
       "      <td>...</td>\n",
       "    </tr>\n",
       "    <tr>\n",
       "      <th>1864</th>\n",
       "      <td>877</td>\n",
       "      <td>NC_000020.11:g.58903752C&gt;T</td>\n",
       "      <td>genomic</td>\n",
       "      <td>True</td>\n",
       "      <td>1995</td>\n",
       "      <td>accepted</td>\n",
       "      <td>[2]</td>\n",
       "      <td>[B]</td>\n",
       "    </tr>\n",
       "    <tr>\n",
       "      <th>1865</th>\n",
       "      <td>731</td>\n",
       "      <td>NC_000003.11:g.37056036G&gt;A</td>\n",
       "      <td>genomic</td>\n",
       "      <td>True</td>\n",
       "      <td>1794</td>\n",
       "      <td>accepted</td>\n",
       "      <td>[1]</td>\n",
       "      <td>[C]</td>\n",
       "    </tr>\n",
       "    <tr>\n",
       "      <th>1866</th>\n",
       "      <td>3045</td>\n",
       "      <td>VHL p.F76del</td>\n",
       "      <td>protein</td>\n",
       "      <td>False</td>\n",
       "      <td>8240</td>\n",
       "      <td>submitted</td>\n",
       "      <td>[2]</td>\n",
       "      <td>[C]</td>\n",
       "    </tr>\n",
       "    <tr>\n",
       "      <th>1867</th>\n",
       "      <td>4475</td>\n",
       "      <td>MAP2K1 p.K57_G61del</td>\n",
       "      <td>protein</td>\n",
       "      <td>False</td>\n",
       "      <td>11301</td>\n",
       "      <td>submitted</td>\n",
       "      <td>[4]</td>\n",
       "      <td>[C]</td>\n",
       "    </tr>\n",
       "    <tr>\n",
       "      <th>1868</th>\n",
       "      <td>3310</td>\n",
       "      <td>HDAC9 p.L33R</td>\n",
       "      <td>protein</td>\n",
       "      <td>False</td>\n",
       "      <td>9240</td>\n",
       "      <td>submitted</td>\n",
       "      <td>[4]</td>\n",
       "      <td>[D]</td>\n",
       "    </tr>\n",
       "  </tbody>\n",
       "</table>\n",
       "<p>5993 rows × 8 columns</p>\n",
       "</div>"
      ],
      "text/plain": [
       "      variant_id                                 query query_type   \n",
       "0           2489  NC_000003.11:g.10191648_10191649insC    genomic  \\\n",
       "0           2489  NC_000003.11:g.10191648_10191649insC    genomic   \n",
       "1           1988            NC_000003.11:g.10191649A>T    genomic   \n",
       "2           2488                        3-10191647-T-G    genomic   \n",
       "2           2488                        3-10191647-T-G    genomic   \n",
       "...          ...                                   ...        ...   \n",
       "1864         877            NC_000020.11:g.58903752C>T    genomic   \n",
       "1865         731            NC_000003.11:g.37056036G>A    genomic   \n",
       "1866        3045                          VHL p.F76del    protein   \n",
       "1867        4475                   MAP2K1 p.K57_G61del    protein   \n",
       "1868        3310                          HDAC9 p.L33R    protein   \n",
       "\n",
       "      variant_accepted evidence_id evidence_status evidence_rating   \n",
       "0                 True        9347       submitted             [3]  \\\n",
       "0                 True        6724        accepted             [2]   \n",
       "1                 True        5336        accepted             [2]   \n",
       "2                 True       10779       submitted             [3]   \n",
       "2                 True        6723        accepted             [2]   \n",
       "...                ...         ...             ...             ...   \n",
       "1864              True        1995        accepted             [2]   \n",
       "1865              True        1794        accepted             [1]   \n",
       "1866             False        8240       submitted             [2]   \n",
       "1867             False       11301       submitted             [4]   \n",
       "1868             False        9240       submitted             [4]   \n",
       "\n",
       "     evidence_level  \n",
       "0               [C]  \n",
       "0               [C]  \n",
       "1               [C]  \n",
       "2               [C]  \n",
       "2               [C]  \n",
       "...             ...  \n",
       "1864            [B]  \n",
       "1865            [C]  \n",
       "1866            [C]  \n",
       "1867            [C]  \n",
       "1868            [D]  \n",
       "\n",
       "[5993 rows x 8 columns]"
      ]
     },
     "execution_count": 258,
     "metadata": {},
     "output_type": "execute_result"
    }
   ],
   "source": [
    "normalized_queries_add_evidence_df = normalized_queries_add_evidence_df.drop(normalized_queries_add_evidence_df[normalized_queries_add_evidence_df.evidence_status == \"rejected\"].index)\n",
    "normalized_queries_add_evidence_df"
   ]
  },
  {
   "cell_type": "code",
   "execution_count": 259,
   "metadata": {},
   "outputs": [],
   "source": [
    "normalized_variant_evidence_id_list = list(normalized_queries_add_evidence_df[\"evidence_id\"])"
   ]
  },
  {
   "cell_type": "markdown",
   "metadata": {},
   "source": [
    "## Evidence analysis"
   ]
  },
  {
   "cell_type": "code",
   "execution_count": 260,
   "metadata": {},
   "outputs": [
    {
     "data": {
      "text/plain": [
       "'Number of Normalized Variant Evidence items in CIViC: 5916 / 9766'"
      ]
     },
     "execution_count": 260,
     "metadata": {},
     "output_type": "execute_result"
    }
   ],
   "source": [
    "total_number_normalized_variant_unique_evidence_items = len(set(normalized_queries_add_evidence_df.evidence_id))\n",
    "normalized_fraction_evidence_items = f'{total_number_normalized_variant_unique_evidence_items} / {total_number_evidences}'\n",
    "f\"Number of Normalized Variant Evidence items in CIViC: {normalized_fraction_evidence_items}\""
   ]
  },
  {
   "cell_type": "code",
   "execution_count": 261,
   "metadata": {},
   "outputs": [
    {
     "data": {
      "text/plain": [
       "'Percentage of Normalized Variant Evidence items in CIViC: 60.58%'"
      ]
     },
     "execution_count": 261,
     "metadata": {},
     "output_type": "execute_result"
    }
   ],
   "source": [
    "normalized_percentage_evidence_items = \"{:.2f}\".format(total_number_normalized_variant_unique_evidence_items/total_number_evidences*100) + '%'\n",
    "f\"Percentage of Normalized Variant Evidence items in CIViC: {normalized_percentage_evidence_items}\""
   ]
  },
  {
   "cell_type": "code",
   "execution_count": 262,
   "metadata": {},
   "outputs": [
    {
     "data": {
      "text/html": [
       "<div>\n",
       "<style scoped>\n",
       "    .dataframe tbody tr th:only-of-type {\n",
       "        vertical-align: middle;\n",
       "    }\n",
       "\n",
       "    .dataframe tbody tr th {\n",
       "        vertical-align: top;\n",
       "    }\n",
       "\n",
       "    .dataframe thead th {\n",
       "        text-align: right;\n",
       "    }\n",
       "</style>\n",
       "<table border=\"1\" class=\"dataframe\">\n",
       "  <thead>\n",
       "    <tr style=\"text-align: right;\">\n",
       "      <th></th>\n",
       "      <th>variant_id</th>\n",
       "      <th>query</th>\n",
       "      <th>query_type</th>\n",
       "      <th>variant_accepted</th>\n",
       "      <th>evidence_id</th>\n",
       "      <th>evidence_status</th>\n",
       "      <th>evidence_rating</th>\n",
       "      <th>evidence_level</th>\n",
       "      <th>evidence_accepted</th>\n",
       "    </tr>\n",
       "  </thead>\n",
       "  <tbody>\n",
       "    <tr>\n",
       "      <th>0</th>\n",
       "      <td>2489</td>\n",
       "      <td>NC_000003.11:g.10191648_10191649insC</td>\n",
       "      <td>genomic</td>\n",
       "      <td>True</td>\n",
       "      <td>9347</td>\n",
       "      <td>submitted</td>\n",
       "      <td>[3]</td>\n",
       "      <td>[C]</td>\n",
       "      <td>False</td>\n",
       "    </tr>\n",
       "    <tr>\n",
       "      <th>0</th>\n",
       "      <td>2489</td>\n",
       "      <td>NC_000003.11:g.10191648_10191649insC</td>\n",
       "      <td>genomic</td>\n",
       "      <td>True</td>\n",
       "      <td>6724</td>\n",
       "      <td>accepted</td>\n",
       "      <td>[2]</td>\n",
       "      <td>[C]</td>\n",
       "      <td>True</td>\n",
       "    </tr>\n",
       "    <tr>\n",
       "      <th>1</th>\n",
       "      <td>1988</td>\n",
       "      <td>NC_000003.11:g.10191649A&gt;T</td>\n",
       "      <td>genomic</td>\n",
       "      <td>True</td>\n",
       "      <td>5336</td>\n",
       "      <td>accepted</td>\n",
       "      <td>[2]</td>\n",
       "      <td>[C]</td>\n",
       "      <td>True</td>\n",
       "    </tr>\n",
       "    <tr>\n",
       "      <th>2</th>\n",
       "      <td>2488</td>\n",
       "      <td>3-10191647-T-G</td>\n",
       "      <td>genomic</td>\n",
       "      <td>True</td>\n",
       "      <td>10779</td>\n",
       "      <td>submitted</td>\n",
       "      <td>[3]</td>\n",
       "      <td>[C]</td>\n",
       "      <td>False</td>\n",
       "    </tr>\n",
       "    <tr>\n",
       "      <th>2</th>\n",
       "      <td>2488</td>\n",
       "      <td>3-10191647-T-G</td>\n",
       "      <td>genomic</td>\n",
       "      <td>True</td>\n",
       "      <td>6723</td>\n",
       "      <td>accepted</td>\n",
       "      <td>[2]</td>\n",
       "      <td>[C]</td>\n",
       "      <td>True</td>\n",
       "    </tr>\n",
       "  </tbody>\n",
       "</table>\n",
       "</div>"
      ],
      "text/plain": [
       "   variant_id                                 query query_type   \n",
       "0        2489  NC_000003.11:g.10191648_10191649insC    genomic  \\\n",
       "0        2489  NC_000003.11:g.10191648_10191649insC    genomic   \n",
       "1        1988            NC_000003.11:g.10191649A>T    genomic   \n",
       "2        2488                        3-10191647-T-G    genomic   \n",
       "2        2488                        3-10191647-T-G    genomic   \n",
       "\n",
       "   variant_accepted evidence_id evidence_status evidence_rating   \n",
       "0              True        9347       submitted             [3]  \\\n",
       "0              True        6724        accepted             [2]   \n",
       "1              True        5336        accepted             [2]   \n",
       "2              True       10779       submitted             [3]   \n",
       "2              True        6723        accepted             [2]   \n",
       "\n",
       "  evidence_level evidence_accepted  \n",
       "0            [C]             False  \n",
       "0            [C]              True  \n",
       "1            [C]              True  \n",
       "2            [C]             False  \n",
       "2            [C]              True  "
      ]
     },
     "execution_count": 262,
     "metadata": {},
     "output_type": "execute_result"
    }
   ],
   "source": [
    "normalized_queries_add_evidence_df['evidence_accepted'] = normalized_queries_add_evidence_df.evidence_status.map({'accepted':True ,'submitted':False})\n",
    "normalized_queries_add_evidence_df.head()"
   ]
  },
  {
   "cell_type": "code",
   "execution_count": 263,
   "metadata": {},
   "outputs": [],
   "source": [
    "normalized_queries_add_evidence_df = normalized_queries_add_evidence_df.drop_duplicates(subset= ['evidence_id'])"
   ]
  },
  {
   "cell_type": "code",
   "execution_count": 264,
   "metadata": {},
   "outputs": [
    {
     "data": {
      "text/plain": [
       "evidence_accepted\n",
       "False    3743\n",
       "True     2032\n",
       "Name: count, dtype: int64"
      ]
     },
     "execution_count": 264,
     "metadata": {},
     "output_type": "execute_result"
    }
   ],
   "source": [
    "normalized_queries_add_evidence_df.evidence_accepted.value_counts()"
   ]
  },
  {
   "cell_type": "code",
   "execution_count": 265,
   "metadata": {},
   "outputs": [
    {
     "data": {
      "text/plain": [
       "'Number of submitted Normalized Variant Evidence items: 3884 / 5916'"
      ]
     },
     "execution_count": 265,
     "metadata": {},
     "output_type": "execute_result"
    }
   ],
   "source": [
    "number_submitted_evidences_normalized_variants = len(normalized_queries_add_evidence_df) - normalized_queries_add_evidence_df.evidence_accepted.sum()\n",
    "fraction_submitted_evidences_normalized_variants = f'{number_submitted_evidences_normalized_variants} / {total_number_normalized_variant_unique_evidence_items}'\n",
    "f\"Number of submitted Normalized Variant Evidence items: {fraction_submitted_evidences_normalized_variants}\""
   ]
  },
  {
   "cell_type": "code",
   "execution_count": 266,
   "metadata": {},
   "outputs": [
    {
     "data": {
      "text/plain": [
       "'Percentage of not submitted Normalized Variant Evidence items: 65.65%'"
      ]
     },
     "execution_count": 266,
     "metadata": {},
     "output_type": "execute_result"
    }
   ],
   "source": [
    "percentage_submitted_evidences_normalized_variants = \"{:.2f}\".format(number_submitted_evidences_normalized_variants/total_number_normalized_variant_unique_evidence_items*100) + '%'\n",
    "f\"Percentage of not submitted Normalized Variant Evidence items: {percentage_submitted_evidences_normalized_variants}\""
   ]
  },
  {
   "cell_type": "code",
   "execution_count": 267,
   "metadata": {},
   "outputs": [
    {
     "data": {
      "text/plain": [
       "'Number of accepted Normalized Variant Evidence items: 2032 / 5916'"
      ]
     },
     "execution_count": 267,
     "metadata": {},
     "output_type": "execute_result"
    }
   ],
   "source": [
    "number_accepted_evidences_normalized_variants = normalized_queries_add_evidence_df.evidence_accepted.sum()\n",
    "fraction_accepted_evidences_normalized_variants = f'{number_accepted_evidences_normalized_variants} / {total_number_normalized_variant_unique_evidence_items}'\n",
    "f\"Number of accepted Normalized Variant Evidence items: {fraction_accepted_evidences_normalized_variants}\""
   ]
  },
  {
   "cell_type": "code",
   "execution_count": 268,
   "metadata": {},
   "outputs": [
    {
     "data": {
      "text/plain": [
       "'Percentage of accepted Normalized Variant Evidence items: 34.35%'"
      ]
     },
     "execution_count": 268,
     "metadata": {},
     "output_type": "execute_result"
    }
   ],
   "source": [
    "percentage_accepted_evidences_normalized_variants = \"{:.2f}\".format(number_accepted_evidences_normalized_variants/total_number_normalized_variant_unique_evidence_items*100) + '%'\n",
    "f\"Percentage of accepted Normalized Variant Evidence items: {percentage_accepted_evidences_normalized_variants}\""
   ]
  },
  {
   "cell_type": "markdown",
   "metadata": {},
   "source": [
    "## Impact\n",
    "molecular profile score"
   ]
  },
  {
   "cell_type": "markdown",
   "metadata": {},
   "source": [
    "### Import molecular profile id"
   ]
  },
  {
   "cell_type": "code",
   "execution_count": 269,
   "metadata": {},
   "outputs": [
    {
     "data": {
      "text/html": [
       "<div>\n",
       "<style scoped>\n",
       "    .dataframe tbody tr th:only-of-type {\n",
       "        vertical-align: middle;\n",
       "    }\n",
       "\n",
       "    .dataframe tbody tr th {\n",
       "        vertical-align: top;\n",
       "    }\n",
       "\n",
       "    .dataframe thead th {\n",
       "        text-align: right;\n",
       "    }\n",
       "</style>\n",
       "<table border=\"1\" class=\"dataframe\">\n",
       "  <thead>\n",
       "    <tr style=\"text-align: right;\">\n",
       "      <th></th>\n",
       "      <th>variant_id</th>\n",
       "      <th>query</th>\n",
       "      <th>query_type</th>\n",
       "      <th>variant_accepted</th>\n",
       "      <th>molecular_profile_id</th>\n",
       "    </tr>\n",
       "  </thead>\n",
       "  <tbody>\n",
       "    <tr>\n",
       "      <th>0</th>\n",
       "      <td>2489</td>\n",
       "      <td>NC_000003.11:g.10191648_10191649insC</td>\n",
       "      <td>genomic</td>\n",
       "      <td>True</td>\n",
       "      <td>[2362]</td>\n",
       "    </tr>\n",
       "    <tr>\n",
       "      <th>1</th>\n",
       "      <td>1988</td>\n",
       "      <td>NC_000003.11:g.10191649A&gt;T</td>\n",
       "      <td>genomic</td>\n",
       "      <td>True</td>\n",
       "      <td>[1864]</td>\n",
       "    </tr>\n",
       "    <tr>\n",
       "      <th>2</th>\n",
       "      <td>2488</td>\n",
       "      <td>3-10191647-T-G</td>\n",
       "      <td>genomic</td>\n",
       "      <td>True</td>\n",
       "      <td>[2361]</td>\n",
       "    </tr>\n",
       "    <tr>\n",
       "      <th>3</th>\n",
       "      <td>1986</td>\n",
       "      <td>NC_000003.11:g.10191648G&gt;T</td>\n",
       "      <td>genomic</td>\n",
       "      <td>True</td>\n",
       "      <td>[1862]</td>\n",
       "    </tr>\n",
       "    <tr>\n",
       "      <th>4</th>\n",
       "      <td>1987</td>\n",
       "      <td>NC_000003.11:g.10191649A&gt;G</td>\n",
       "      <td>genomic</td>\n",
       "      <td>True</td>\n",
       "      <td>[1863]</td>\n",
       "    </tr>\n",
       "  </tbody>\n",
       "</table>\n",
       "</div>"
      ],
      "text/plain": [
       "   variant_id                                 query query_type   \n",
       "0        2489  NC_000003.11:g.10191648_10191649insC    genomic  \\\n",
       "1        1988            NC_000003.11:g.10191649A>T    genomic   \n",
       "2        2488                        3-10191647-T-G    genomic   \n",
       "3        1986            NC_000003.11:g.10191648G>T    genomic   \n",
       "4        1987            NC_000003.11:g.10191649A>G    genomic   \n",
       "\n",
       "   variant_accepted molecular_profile_id  \n",
       "0              True               [2362]  \n",
       "1              True               [1864]  \n",
       "2              True               [2361]  \n",
       "3              True               [1862]  \n",
       "4              True               [1863]  "
      ]
     },
     "execution_count": 269,
     "metadata": {},
     "output_type": "execute_result"
    }
   ],
   "source": [
    "normalized_queries_add_molprof_df = normalized_queries_df.copy()\n",
    "normalized_variants_molprof_id = []\n",
    "\n",
    "for v in normalized_variant_id_list:\n",
    "    variant_molprof_id_list = []\n",
    "\n",
    "    for variant in civic_variant_ids:\n",
    "        if int(v) == variant.id:\n",
    "\n",
    "            for mp in variant.molecular_profiles:\n",
    "                    if mp.id not in variant_molprof_id_list:\n",
    "                        variant_molprof_id_list.append(mp.id)\n",
    "\n",
    "            variant_molprof_id_list = variant_molprof_id_list or \"\"\n",
    "\n",
    "    normalized_variants_molprof_id.append(variant_molprof_id_list)\n",
    "    \n",
    "normalized_queries_add_molprof_df[\"molecular_profile_id\"] = normalized_variants_molprof_id\n",
    "normalized_queries_add_molprof_df.head()"
   ]
  },
  {
   "cell_type": "code",
   "execution_count": 270,
   "metadata": {},
   "outputs": [
    {
     "data": {
      "text/html": [
       "<div>\n",
       "<style scoped>\n",
       "    .dataframe tbody tr th:only-of-type {\n",
       "        vertical-align: middle;\n",
       "    }\n",
       "\n",
       "    .dataframe tbody tr th {\n",
       "        vertical-align: top;\n",
       "    }\n",
       "\n",
       "    .dataframe thead th {\n",
       "        text-align: right;\n",
       "    }\n",
       "</style>\n",
       "<table border=\"1\" class=\"dataframe\">\n",
       "  <thead>\n",
       "    <tr style=\"text-align: right;\">\n",
       "      <th></th>\n",
       "      <th>variant_id</th>\n",
       "      <th>query</th>\n",
       "      <th>query_type</th>\n",
       "      <th>variant_accepted</th>\n",
       "      <th>molecular_profile_id</th>\n",
       "    </tr>\n",
       "  </thead>\n",
       "  <tbody>\n",
       "    <tr>\n",
       "      <th>82</th>\n",
       "      <td>190</td>\n",
       "      <td>EGFR Amplification</td>\n",
       "      <td>protein</td>\n",
       "      <td>True</td>\n",
       "      <td>[190, 4175, 4346]</td>\n",
       "    </tr>\n",
       "  </tbody>\n",
       "</table>\n",
       "</div>"
      ],
      "text/plain": [
       "    variant_id               query query_type  variant_accepted   \n",
       "82         190  EGFR Amplification    protein              True  \\\n",
       "\n",
       "   molecular_profile_id  \n",
       "82    [190, 4175, 4346]  "
      ]
     },
     "execution_count": 270,
     "metadata": {},
     "output_type": "execute_result"
    }
   ],
   "source": [
    "normalized_queries_add_molprof_df.loc[normalized_queries_add_molprof_df['variant_id'] == 190 ]"
   ]
  },
  {
   "cell_type": "code",
   "execution_count": 271,
   "metadata": {},
   "outputs": [],
   "source": [
    "normalized_variant_molprof_id_list = list(normalized_queries_add_molprof_df[\"molecular_profile_id\"])"
   ]
  },
  {
   "cell_type": "markdown",
   "metadata": {},
   "source": [
    "### Import molecular profile scores"
   ]
  },
  {
   "cell_type": "code",
   "execution_count": 272,
   "metadata": {},
   "outputs": [
    {
     "data": {
      "text/html": [
       "<div>\n",
       "<style scoped>\n",
       "    .dataframe tbody tr th:only-of-type {\n",
       "        vertical-align: middle;\n",
       "    }\n",
       "\n",
       "    .dataframe tbody tr th {\n",
       "        vertical-align: top;\n",
       "    }\n",
       "\n",
       "    .dataframe thead th {\n",
       "        text-align: right;\n",
       "    }\n",
       "</style>\n",
       "<table border=\"1\" class=\"dataframe\">\n",
       "  <thead>\n",
       "    <tr style=\"text-align: right;\">\n",
       "      <th></th>\n",
       "      <th>variant_id</th>\n",
       "      <th>query</th>\n",
       "      <th>query_type</th>\n",
       "      <th>variant_accepted</th>\n",
       "      <th>molecular_profile_id</th>\n",
       "      <th>molecular_profile_score</th>\n",
       "    </tr>\n",
       "  </thead>\n",
       "  <tbody>\n",
       "    <tr>\n",
       "      <th>0</th>\n",
       "      <td>2489</td>\n",
       "      <td>NC_000003.11:g.10191648_10191649insC</td>\n",
       "      <td>genomic</td>\n",
       "      <td>True</td>\n",
       "      <td>[2362]</td>\n",
       "      <td>[5.0]</td>\n",
       "    </tr>\n",
       "    <tr>\n",
       "      <th>1</th>\n",
       "      <td>1988</td>\n",
       "      <td>NC_000003.11:g.10191649A&gt;T</td>\n",
       "      <td>genomic</td>\n",
       "      <td>True</td>\n",
       "      <td>[1864]</td>\n",
       "      <td>[5.0]</td>\n",
       "    </tr>\n",
       "    <tr>\n",
       "      <th>2</th>\n",
       "      <td>2488</td>\n",
       "      <td>3-10191647-T-G</td>\n",
       "      <td>genomic</td>\n",
       "      <td>True</td>\n",
       "      <td>[2361]</td>\n",
       "      <td>[5.0]</td>\n",
       "    </tr>\n",
       "    <tr>\n",
       "      <th>3</th>\n",
       "      <td>1986</td>\n",
       "      <td>NC_000003.11:g.10191648G&gt;T</td>\n",
       "      <td>genomic</td>\n",
       "      <td>True</td>\n",
       "      <td>[1862]</td>\n",
       "      <td>[10.0]</td>\n",
       "    </tr>\n",
       "    <tr>\n",
       "      <th>4</th>\n",
       "      <td>1987</td>\n",
       "      <td>NC_000003.11:g.10191649A&gt;G</td>\n",
       "      <td>genomic</td>\n",
       "      <td>True</td>\n",
       "      <td>[1863]</td>\n",
       "      <td>[5.0]</td>\n",
       "    </tr>\n",
       "  </tbody>\n",
       "</table>\n",
       "</div>"
      ],
      "text/plain": [
       "   variant_id                                 query query_type   \n",
       "0        2489  NC_000003.11:g.10191648_10191649insC    genomic  \\\n",
       "1        1988            NC_000003.11:g.10191649A>T    genomic   \n",
       "2        2488                        3-10191647-T-G    genomic   \n",
       "3        1986            NC_000003.11:g.10191648G>T    genomic   \n",
       "4        1987            NC_000003.11:g.10191649A>G    genomic   \n",
       "\n",
       "   variant_accepted molecular_profile_id molecular_profile_score  \n",
       "0              True               [2362]                   [5.0]  \n",
       "1              True               [1864]                   [5.0]  \n",
       "2              True               [2361]                   [5.0]  \n",
       "3              True               [1862]                  [10.0]  \n",
       "4              True               [1863]                   [5.0]  "
      ]
     },
     "execution_count": 272,
     "metadata": {},
     "output_type": "execute_result"
    }
   ],
   "source": [
    "normalized_variants_molprof_score = []\n",
    "\n",
    "for mp_list in normalized_variant_molprof_id_list:\n",
    "    variant_molprof_score_list = []\n",
    "    for mp in mp_list:\n",
    "        \n",
    "        for molprof in civic_molprof_ids: \n",
    "            if int(mp) == molprof.id:\n",
    "\n",
    "                if molprof.molecular_profile_score not in variant_molprof_score_list:\n",
    "                    variant_molprof_score_list.append(molprof.molecular_profile_score)\n",
    "                variant_molprof_score_list = variant_molprof_score_list or \"\"\n",
    "\n",
    "    normalized_variants_molprof_score.append(variant_molprof_score_list)\n",
    "\n",
    "normalized_queries_add_molprof_df[\"molecular_profile_score\"] = normalized_variants_molprof_score\n",
    "\n",
    "normalized_queries_add_molprof_df.head()"
   ]
  },
  {
   "cell_type": "code",
   "execution_count": 273,
   "metadata": {},
   "outputs": [
    {
     "data": {
      "text/html": [
       "<div>\n",
       "<style scoped>\n",
       "    .dataframe tbody tr th:only-of-type {\n",
       "        vertical-align: middle;\n",
       "    }\n",
       "\n",
       "    .dataframe tbody tr th {\n",
       "        vertical-align: top;\n",
       "    }\n",
       "\n",
       "    .dataframe thead th {\n",
       "        text-align: right;\n",
       "    }\n",
       "</style>\n",
       "<table border=\"1\" class=\"dataframe\">\n",
       "  <thead>\n",
       "    <tr style=\"text-align: right;\">\n",
       "      <th></th>\n",
       "      <th>variant_id</th>\n",
       "      <th>query</th>\n",
       "      <th>query_type</th>\n",
       "      <th>variant_accepted</th>\n",
       "      <th>molecular_profile_id</th>\n",
       "      <th>molecular_profile_score</th>\n",
       "    </tr>\n",
       "  </thead>\n",
       "  <tbody>\n",
       "    <tr>\n",
       "      <th>82</th>\n",
       "      <td>190</td>\n",
       "      <td>EGFR Amplification</td>\n",
       "      <td>protein</td>\n",
       "      <td>True</td>\n",
       "      <td>[190, 4175, 4346]</td>\n",
       "      <td>[173.0, 5.0, 0.0]</td>\n",
       "    </tr>\n",
       "  </tbody>\n",
       "</table>\n",
       "</div>"
      ],
      "text/plain": [
       "    variant_id               query query_type  variant_accepted   \n",
       "82         190  EGFR Amplification    protein              True  \\\n",
       "\n",
       "   molecular_profile_id molecular_profile_score  \n",
       "82    [190, 4175, 4346]       [173.0, 5.0, 0.0]  "
      ]
     },
     "execution_count": 273,
     "metadata": {},
     "output_type": "execute_result"
    }
   ],
   "source": [
    "normalized_queries_add_molprof_df.loc[normalized_queries_add_molprof_df['variant_id'] == 190 ]"
   ]
  },
  {
   "cell_type": "code",
   "execution_count": 274,
   "metadata": {},
   "outputs": [
    {
     "data": {
      "text/html": [
       "<div>\n",
       "<style scoped>\n",
       "    .dataframe tbody tr th:only-of-type {\n",
       "        vertical-align: middle;\n",
       "    }\n",
       "\n",
       "    .dataframe tbody tr th {\n",
       "        vertical-align: top;\n",
       "    }\n",
       "\n",
       "    .dataframe thead th {\n",
       "        text-align: right;\n",
       "    }\n",
       "</style>\n",
       "<table border=\"1\" class=\"dataframe\">\n",
       "  <thead>\n",
       "    <tr style=\"text-align: right;\">\n",
       "      <th></th>\n",
       "      <th>variant_id</th>\n",
       "      <th>query</th>\n",
       "      <th>query_type</th>\n",
       "      <th>variant_accepted</th>\n",
       "      <th>molecular_profile_id</th>\n",
       "      <th>molecular_profile_score</th>\n",
       "      <th>molecular_profile_score_sum</th>\n",
       "    </tr>\n",
       "  </thead>\n",
       "  <tbody>\n",
       "    <tr>\n",
       "      <th>0</th>\n",
       "      <td>2489</td>\n",
       "      <td>NC_000003.11:g.10191648_10191649insC</td>\n",
       "      <td>genomic</td>\n",
       "      <td>True</td>\n",
       "      <td>[2362]</td>\n",
       "      <td>[5.0]</td>\n",
       "      <td>5.0</td>\n",
       "    </tr>\n",
       "    <tr>\n",
       "      <th>1</th>\n",
       "      <td>1988</td>\n",
       "      <td>NC_000003.11:g.10191649A&gt;T</td>\n",
       "      <td>genomic</td>\n",
       "      <td>True</td>\n",
       "      <td>[1864]</td>\n",
       "      <td>[5.0]</td>\n",
       "      <td>5.0</td>\n",
       "    </tr>\n",
       "    <tr>\n",
       "      <th>2</th>\n",
       "      <td>2488</td>\n",
       "      <td>3-10191647-T-G</td>\n",
       "      <td>genomic</td>\n",
       "      <td>True</td>\n",
       "      <td>[2361]</td>\n",
       "      <td>[5.0]</td>\n",
       "      <td>5.0</td>\n",
       "    </tr>\n",
       "    <tr>\n",
       "      <th>3</th>\n",
       "      <td>1986</td>\n",
       "      <td>NC_000003.11:g.10191648G&gt;T</td>\n",
       "      <td>genomic</td>\n",
       "      <td>True</td>\n",
       "      <td>[1862]</td>\n",
       "      <td>[10.0]</td>\n",
       "      <td>10.0</td>\n",
       "    </tr>\n",
       "    <tr>\n",
       "      <th>4</th>\n",
       "      <td>1987</td>\n",
       "      <td>NC_000003.11:g.10191649A&gt;G</td>\n",
       "      <td>genomic</td>\n",
       "      <td>True</td>\n",
       "      <td>[1863]</td>\n",
       "      <td>[5.0]</td>\n",
       "      <td>5.0</td>\n",
       "    </tr>\n",
       "  </tbody>\n",
       "</table>\n",
       "</div>"
      ],
      "text/plain": [
       "   variant_id                                 query query_type   \n",
       "0        2489  NC_000003.11:g.10191648_10191649insC    genomic  \\\n",
       "1        1988            NC_000003.11:g.10191649A>T    genomic   \n",
       "2        2488                        3-10191647-T-G    genomic   \n",
       "3        1986            NC_000003.11:g.10191648G>T    genomic   \n",
       "4        1987            NC_000003.11:g.10191649A>G    genomic   \n",
       "\n",
       "   variant_accepted molecular_profile_id molecular_profile_score   \n",
       "0              True               [2362]                   [5.0]  \\\n",
       "1              True               [1864]                   [5.0]   \n",
       "2              True               [2361]                   [5.0]   \n",
       "3              True               [1862]                  [10.0]   \n",
       "4              True               [1863]                   [5.0]   \n",
       "\n",
       "   molecular_profile_score_sum  \n",
       "0                          5.0  \n",
       "1                          5.0  \n",
       "2                          5.0  \n",
       "3                         10.0  \n",
       "4                          5.0  "
      ]
     },
     "execution_count": 274,
     "metadata": {},
     "output_type": "execute_result"
    }
   ],
   "source": [
    "normalized_queries_add_molprof_df['molecular_profile_score_sum'] = normalized_queries_add_molprof_df['molecular_profile_score'].apply(lambda x: sum(x))\n",
    "normalized_queries_add_molprof_df.head()"
   ]
  },
  {
   "cell_type": "code",
   "execution_count": 275,
   "metadata": {},
   "outputs": [
    {
     "data": {
      "text/html": [
       "<div>\n",
       "<style scoped>\n",
       "    .dataframe tbody tr th:only-of-type {\n",
       "        vertical-align: middle;\n",
       "    }\n",
       "\n",
       "    .dataframe tbody tr th {\n",
       "        vertical-align: top;\n",
       "    }\n",
       "\n",
       "    .dataframe thead th {\n",
       "        text-align: right;\n",
       "    }\n",
       "</style>\n",
       "<table border=\"1\" class=\"dataframe\">\n",
       "  <thead>\n",
       "    <tr style=\"text-align: right;\">\n",
       "      <th></th>\n",
       "      <th>variant_id</th>\n",
       "      <th>query</th>\n",
       "      <th>query_type</th>\n",
       "      <th>variant_accepted</th>\n",
       "      <th>molecular_profile_id</th>\n",
       "      <th>molecular_profile_score</th>\n",
       "      <th>molecular_profile_score_sum</th>\n",
       "    </tr>\n",
       "  </thead>\n",
       "  <tbody>\n",
       "    <tr>\n",
       "      <th>82</th>\n",
       "      <td>190</td>\n",
       "      <td>EGFR Amplification</td>\n",
       "      <td>protein</td>\n",
       "      <td>True</td>\n",
       "      <td>[190, 4175, 4346]</td>\n",
       "      <td>[173.0, 5.0, 0.0]</td>\n",
       "      <td>178.0</td>\n",
       "    </tr>\n",
       "  </tbody>\n",
       "</table>\n",
       "</div>"
      ],
      "text/plain": [
       "    variant_id               query query_type  variant_accepted   \n",
       "82         190  EGFR Amplification    protein              True  \\\n",
       "\n",
       "   molecular_profile_id molecular_profile_score  molecular_profile_score_sum  \n",
       "82    [190, 4175, 4346]       [173.0, 5.0, 0.0]                        178.0  "
      ]
     },
     "execution_count": 275,
     "metadata": {},
     "output_type": "execute_result"
    }
   ],
   "source": [
    "normalized_queries_add_molprof_df.loc[normalized_queries_add_molprof_df['variant_id'] == 190 ]"
   ]
  },
  {
   "cell_type": "markdown",
   "metadata": {},
   "source": [
    "# Analysis of Unable to Normalize Queries"
   ]
  },
  {
   "cell_type": "markdown",
   "metadata": {},
   "source": [
    "## List of Unable to Normalize Variant ID's"
   ]
  },
  {
   "cell_type": "code",
   "execution_count": 276,
   "metadata": {},
   "outputs": [
    {
     "data": {
      "text/html": [
       "<div>\n",
       "<style scoped>\n",
       "    .dataframe tbody tr th:only-of-type {\n",
       "        vertical-align: middle;\n",
       "    }\n",
       "\n",
       "    .dataframe tbody tr th {\n",
       "        vertical-align: top;\n",
       "    }\n",
       "\n",
       "    .dataframe thead th {\n",
       "        text-align: right;\n",
       "    }\n",
       "</style>\n",
       "<table border=\"1\" class=\"dataframe\">\n",
       "  <thead>\n",
       "    <tr style=\"text-align: right;\">\n",
       "      <th></th>\n",
       "      <th>variant_id</th>\n",
       "      <th>query</th>\n",
       "      <th>query_type</th>\n",
       "      <th>variant_accepted</th>\n",
       "      <th>exception_raised</th>\n",
       "      <th>message</th>\n",
       "      <th>warnings</th>\n",
       "    </tr>\n",
       "  </thead>\n",
       "  <tbody>\n",
       "    <tr>\n",
       "      <th>0</th>\n",
       "      <td>748</td>\n",
       "      <td>MLH1 *757L</td>\n",
       "      <td>protein</td>\n",
       "      <td>True</td>\n",
       "      <td>False</td>\n",
       "      <td>unable to normalize</td>\n",
       "      <td>[\"Unable to find valid result for classificati...</td>\n",
       "    </tr>\n",
       "    <tr>\n",
       "      <th>1</th>\n",
       "      <td>3718</td>\n",
       "      <td>AR A748V</td>\n",
       "      <td>protein</td>\n",
       "      <td>False</td>\n",
       "      <td>False</td>\n",
       "      <td>unable to normalize</td>\n",
       "      <td>[\"Unable to find valid result for classificati...</td>\n",
       "    </tr>\n",
       "    <tr>\n",
       "      <th>2</th>\n",
       "      <td>3725</td>\n",
       "      <td>AR A765T</td>\n",
       "      <td>protein</td>\n",
       "      <td>False</td>\n",
       "      <td>False</td>\n",
       "      <td>unable to normalize</td>\n",
       "      <td>[\"Unable to find valid result for classificati...</td>\n",
       "    </tr>\n",
       "    <tr>\n",
       "      <th>3</th>\n",
       "      <td>248</td>\n",
       "      <td>TERT C228T</td>\n",
       "      <td>protein</td>\n",
       "      <td>True</td>\n",
       "      <td>False</td>\n",
       "      <td>unable to normalize</td>\n",
       "      <td>[\"Unable to find valid result for classificati...</td>\n",
       "    </tr>\n",
       "    <tr>\n",
       "      <th>4</th>\n",
       "      <td>4004</td>\n",
       "      <td>TERT C250T</td>\n",
       "      <td>protein</td>\n",
       "      <td>False</td>\n",
       "      <td>False</td>\n",
       "      <td>unable to normalize</td>\n",
       "      <td>[\"Unable to find valid result for classificati...</td>\n",
       "    </tr>\n",
       "  </tbody>\n",
       "</table>\n",
       "</div>"
      ],
      "text/plain": [
       "   variant_id       query query_type  variant_accepted  exception_raised   \n",
       "0         748  MLH1 *757L    protein              True             False  \\\n",
       "1        3718    AR A748V    protein             False             False   \n",
       "2        3725    AR A765T    protein             False             False   \n",
       "3         248  TERT C228T    protein              True             False   \n",
       "4        4004  TERT C250T    protein             False             False   \n",
       "\n",
       "               message                                           warnings  \n",
       "0  unable to normalize  [\"Unable to find valid result for classificati...  \n",
       "1  unable to normalize  [\"Unable to find valid result for classificati...  \n",
       "2  unable to normalize  [\"Unable to find valid result for classificati...  \n",
       "3  unable to normalize  [\"Unable to find valid result for classificati...  \n",
       "4  unable to normalize  [\"Unable to find valid result for classificati...  "
      ]
     },
     "execution_count": 276,
     "metadata": {},
     "output_type": "execute_result"
    }
   ],
   "source": [
    "not_normalized_quer_df = pd.read_csv(\"./unable_to_normalize_queries.csv\", sep= \"\\t\")\n",
    "not_normalized_quer_df.head()"
   ]
  },
  {
   "cell_type": "code",
   "execution_count": 277,
   "metadata": {},
   "outputs": [],
   "source": [
    "not_normalized_quer_df = not_normalized_quer_df.drop_duplicates(subset=['variant_id'])"
   ]
  },
  {
   "cell_type": "code",
   "execution_count": 278,
   "metadata": {},
   "outputs": [],
   "source": [
    "not_normalized_variant_id_list = list(not_normalized_quer_df[\"variant_id\"])"
   ]
  },
  {
   "cell_type": "markdown",
   "metadata": {},
   "source": [
    "## Variant analysis"
   ]
  },
  {
   "cell_type": "code",
   "execution_count": 279,
   "metadata": {},
   "outputs": [
    {
     "data": {
      "text/plain": [
       "'Number of Unable to Normalize Variants in CIViC: 63 / 3553'"
      ]
     },
     "execution_count": 279,
     "metadata": {},
     "output_type": "execute_result"
    }
   ],
   "source": [
    "total_number_not_normalized_variants = len(not_normalized_variant_id_list)\n",
    "fraction_not_normalized_variants = f\"{total_number_not_normalized_variants} / {total_number_variants}\"\n",
    "f\"Number of Unable to Normalize Variants in CIViC: {fraction_not_normalized_variants}\""
   ]
  },
  {
   "cell_type": "code",
   "execution_count": 280,
   "metadata": {},
   "outputs": [
    {
     "data": {
      "text/plain": [
       "'Percentage of Unable to Normalize Variants in CIViC: 1.77%'"
      ]
     },
     "execution_count": 280,
     "metadata": {},
     "output_type": "execute_result"
    }
   ],
   "source": [
    "percentage_not_normalized_variants = \"{:.2f}\".format(total_number_not_normalized_variants/total_number_variants*100) +\"%\"\n",
    "f\"Percentage of Unable to Normalize Variants in CIViC: {percentage_not_normalized_variants}\""
   ]
  },
  {
   "cell_type": "code",
   "execution_count": 281,
   "metadata": {},
   "outputs": [
    {
     "data": {
      "text/plain": [
       "variant_accepted\n",
       "False    54\n",
       "True      9\n",
       "Name: count, dtype: int64"
      ]
     },
     "execution_count": 281,
     "metadata": {},
     "output_type": "execute_result"
    }
   ],
   "source": [
    "not_normalized_quer_df.variant_accepted.value_counts()"
   ]
  },
  {
   "cell_type": "code",
   "execution_count": 282,
   "metadata": {},
   "outputs": [
    {
     "data": {
      "text/plain": [
       "'Number of not accepted Unable to Normalize Variants: 54 / 63'"
      ]
     },
     "execution_count": 282,
     "metadata": {},
     "output_type": "execute_result"
    }
   ],
   "source": [
    "number_not_accepted_not_normalized_variants = len(not_normalized_quer_df) - not_normalized_quer_df.variant_accepted.sum()\n",
    "fraction_not_accepted_not_normalized_variants = f\"{number_not_accepted_not_normalized_variants} / {total_number_not_normalized_variants}\"\n",
    "f\"Number of not accepted Unable to Normalize Variants: {fraction_not_accepted_not_normalized_variants}\""
   ]
  },
  {
   "cell_type": "code",
   "execution_count": 283,
   "metadata": {},
   "outputs": [
    {
     "data": {
      "text/plain": [
       "'Percentage of not accepted Unable to Normalize Variants: 85.71%'"
      ]
     },
     "execution_count": 283,
     "metadata": {},
     "output_type": "execute_result"
    }
   ],
   "source": [
    "percentage_not_accepted_not_normalized_variants = \"{:.2f}\".format(number_not_accepted_not_normalized_variants/total_number_not_normalized_variants*100) +\"%\"\n",
    "f\"Percentage of not accepted Unable to Normalize Variants: {percentage_not_accepted_not_normalized_variants}\""
   ]
  },
  {
   "cell_type": "code",
   "execution_count": 284,
   "metadata": {},
   "outputs": [
    {
     "data": {
      "text/plain": [
       "'Number of accepted Unable to Normalize Variants: 9 /63'"
      ]
     },
     "execution_count": 284,
     "metadata": {},
     "output_type": "execute_result"
    }
   ],
   "source": [
    "number_accepted_not_normalized_variants = not_normalized_quer_df.variant_accepted.sum()\n",
    "fraction_accepted_not_normalized_variants = f\"{number_accepted_not_normalized_variants} /{total_number_not_normalized_variants}\"\n",
    "f\"Number of accepted Unable to Normalize Variants: {fraction_accepted_not_normalized_variants}\""
   ]
  },
  {
   "cell_type": "code",
   "execution_count": 285,
   "metadata": {},
   "outputs": [
    {
     "data": {
      "text/plain": [
       "'Percentage of accepted Unable to Normalize Variants: 14.29%'"
      ]
     },
     "execution_count": 285,
     "metadata": {},
     "output_type": "execute_result"
    }
   ],
   "source": [
    "percentage_accepted_not_normalized_variants = \"{:.2f}\".format(number_accepted_not_normalized_variants/total_number_not_normalized_variants*100) +\"%\"\n",
    "f\"Percentage of accepted Unable to Normalize Variants: {percentage_accepted_not_normalized_variants}\""
   ]
  },
  {
   "cell_type": "markdown",
   "metadata": {},
   "source": [
    "## Import evidence ID's associated with the Unable to Normalize Variants using variant ID\n",
    "\n",
    "Evidence items are linked to the molecular profiles associated with variant items. To pull evidence IDs, need to use molecular profiles. For more information on the structure of a variant item"
   ]
  },
  {
   "cell_type": "code",
   "execution_count": 286,
   "metadata": {},
   "outputs": [
    {
     "data": {
      "text/html": [
       "<div>\n",
       "<style scoped>\n",
       "    .dataframe tbody tr th:only-of-type {\n",
       "        vertical-align: middle;\n",
       "    }\n",
       "\n",
       "    .dataframe tbody tr th {\n",
       "        vertical-align: top;\n",
       "    }\n",
       "\n",
       "    .dataframe thead th {\n",
       "        text-align: right;\n",
       "    }\n",
       "</style>\n",
       "<table border=\"1\" class=\"dataframe\">\n",
       "  <thead>\n",
       "    <tr style=\"text-align: right;\">\n",
       "      <th></th>\n",
       "      <th>variant_id</th>\n",
       "      <th>query</th>\n",
       "      <th>query_type</th>\n",
       "      <th>variant_accepted</th>\n",
       "      <th>exception_raised</th>\n",
       "      <th>message</th>\n",
       "      <th>warnings</th>\n",
       "      <th>evidence_id</th>\n",
       "    </tr>\n",
       "  </thead>\n",
       "  <tbody>\n",
       "    <tr>\n",
       "      <th>0</th>\n",
       "      <td>748</td>\n",
       "      <td>MLH1 *757L</td>\n",
       "      <td>protein</td>\n",
       "      <td>True</td>\n",
       "      <td>False</td>\n",
       "      <td>unable to normalize</td>\n",
       "      <td>[\"Unable to find valid result for classificati...</td>\n",
       "      <td>[1812]</td>\n",
       "    </tr>\n",
       "    <tr>\n",
       "      <th>1</th>\n",
       "      <td>3718</td>\n",
       "      <td>AR A748V</td>\n",
       "      <td>protein</td>\n",
       "      <td>False</td>\n",
       "      <td>False</td>\n",
       "      <td>unable to normalize</td>\n",
       "      <td>[\"Unable to find valid result for classificati...</td>\n",
       "      <td>[10128]</td>\n",
       "    </tr>\n",
       "    <tr>\n",
       "      <th>2</th>\n",
       "      <td>3725</td>\n",
       "      <td>AR A765T</td>\n",
       "      <td>protein</td>\n",
       "      <td>False</td>\n",
       "      <td>False</td>\n",
       "      <td>unable to normalize</td>\n",
       "      <td>[\"Unable to find valid result for classificati...</td>\n",
       "      <td>[10135]</td>\n",
       "    </tr>\n",
       "    <tr>\n",
       "      <th>3</th>\n",
       "      <td>248</td>\n",
       "      <td>TERT C228T</td>\n",
       "      <td>protein</td>\n",
       "      <td>True</td>\n",
       "      <td>False</td>\n",
       "      <td>unable to normalize</td>\n",
       "      <td>[\"Unable to find valid result for classificati...</td>\n",
       "      <td>[655, 1646, 6934, 6935]</td>\n",
       "    </tr>\n",
       "    <tr>\n",
       "      <th>4</th>\n",
       "      <td>4004</td>\n",
       "      <td>TERT C250T</td>\n",
       "      <td>protein</td>\n",
       "      <td>False</td>\n",
       "      <td>False</td>\n",
       "      <td>unable to normalize</td>\n",
       "      <td>[\"Unable to find valid result for classificati...</td>\n",
       "      <td>[10331]</td>\n",
       "    </tr>\n",
       "  </tbody>\n",
       "</table>\n",
       "</div>"
      ],
      "text/plain": [
       "   variant_id       query query_type  variant_accepted  exception_raised   \n",
       "0         748  MLH1 *757L    protein              True             False  \\\n",
       "1        3718    AR A748V    protein             False             False   \n",
       "2        3725    AR A765T    protein             False             False   \n",
       "3         248  TERT C228T    protein              True             False   \n",
       "4        4004  TERT C250T    protein             False             False   \n",
       "\n",
       "               message                                           warnings   \n",
       "0  unable to normalize  [\"Unable to find valid result for classificati...  \\\n",
       "1  unable to normalize  [\"Unable to find valid result for classificati...   \n",
       "2  unable to normalize  [\"Unable to find valid result for classificati...   \n",
       "3  unable to normalize  [\"Unable to find valid result for classificati...   \n",
       "4  unable to normalize  [\"Unable to find valid result for classificati...   \n",
       "\n",
       "               evidence_id  \n",
       "0                   [1812]  \n",
       "1                  [10128]  \n",
       "2                  [10135]  \n",
       "3  [655, 1646, 6934, 6935]  \n",
       "4                  [10331]  "
      ]
     },
     "execution_count": 286,
     "metadata": {},
     "output_type": "execute_result"
    }
   ],
   "source": [
    "not_normalized_quer_add_evidence_df = not_normalized_quer_df.copy()\n",
    "not_normalized_variants_evidence_id = []\n",
    "\n",
    "for v in not_normalized_variant_id_list:\n",
    "    not_normalized_variant_evidence_id_list = []\n",
    "\n",
    "    for variant in civic_variant_ids: \n",
    "        if int(v) == variant.id:\n",
    "\n",
    "            for mp in variant.molecular_profiles:\n",
    "                for e in mp.evidence_items:\n",
    "                    if e.id not in not_normalized_variant_evidence_id_list:\n",
    "                        not_normalized_variant_evidence_id_list.append(e.id)\n",
    "\n",
    "            not_normalized_variant_evidence_id_list = not_normalized_variant_evidence_id_list or \"\"\n",
    "\n",
    "    not_normalized_variants_evidence_id.append(not_normalized_variant_evidence_id_list)\n",
    "\n",
    "not_normalized_quer_add_evidence_df[\"evidence_id\"] = not_normalized_variants_evidence_id\n",
    "not_normalized_quer_add_evidence_df.head()"
   ]
  },
  {
   "cell_type": "markdown",
   "metadata": {},
   "source": [
    "## List of Evidence ID's of Unable to Normalize Variants"
   ]
  },
  {
   "cell_type": "code",
   "execution_count": 287,
   "metadata": {},
   "outputs": [
    {
     "data": {
      "text/html": [
       "<div>\n",
       "<style scoped>\n",
       "    .dataframe tbody tr th:only-of-type {\n",
       "        vertical-align: middle;\n",
       "    }\n",
       "\n",
       "    .dataframe tbody tr th {\n",
       "        vertical-align: top;\n",
       "    }\n",
       "\n",
       "    .dataframe thead th {\n",
       "        text-align: right;\n",
       "    }\n",
       "</style>\n",
       "<table border=\"1\" class=\"dataframe\">\n",
       "  <thead>\n",
       "    <tr style=\"text-align: right;\">\n",
       "      <th></th>\n",
       "      <th>variant_id</th>\n",
       "      <th>query</th>\n",
       "      <th>query_type</th>\n",
       "      <th>variant_accepted</th>\n",
       "      <th>exception_raised</th>\n",
       "      <th>message</th>\n",
       "      <th>warnings</th>\n",
       "      <th>evidence_id</th>\n",
       "    </tr>\n",
       "  </thead>\n",
       "  <tbody>\n",
       "    <tr>\n",
       "      <th>0</th>\n",
       "      <td>748</td>\n",
       "      <td>MLH1 *757L</td>\n",
       "      <td>protein</td>\n",
       "      <td>True</td>\n",
       "      <td>False</td>\n",
       "      <td>unable to normalize</td>\n",
       "      <td>[\"Unable to find valid result for classificati...</td>\n",
       "      <td>1812</td>\n",
       "    </tr>\n",
       "    <tr>\n",
       "      <th>1</th>\n",
       "      <td>3718</td>\n",
       "      <td>AR A748V</td>\n",
       "      <td>protein</td>\n",
       "      <td>False</td>\n",
       "      <td>False</td>\n",
       "      <td>unable to normalize</td>\n",
       "      <td>[\"Unable to find valid result for classificati...</td>\n",
       "      <td>10128</td>\n",
       "    </tr>\n",
       "    <tr>\n",
       "      <th>2</th>\n",
       "      <td>3725</td>\n",
       "      <td>AR A765T</td>\n",
       "      <td>protein</td>\n",
       "      <td>False</td>\n",
       "      <td>False</td>\n",
       "      <td>unable to normalize</td>\n",
       "      <td>[\"Unable to find valid result for classificati...</td>\n",
       "      <td>10135</td>\n",
       "    </tr>\n",
       "    <tr>\n",
       "      <th>3</th>\n",
       "      <td>248</td>\n",
       "      <td>TERT C228T</td>\n",
       "      <td>protein</td>\n",
       "      <td>True</td>\n",
       "      <td>False</td>\n",
       "      <td>unable to normalize</td>\n",
       "      <td>[\"Unable to find valid result for classificati...</td>\n",
       "      <td>655</td>\n",
       "    </tr>\n",
       "    <tr>\n",
       "      <th>3</th>\n",
       "      <td>248</td>\n",
       "      <td>TERT C228T</td>\n",
       "      <td>protein</td>\n",
       "      <td>True</td>\n",
       "      <td>False</td>\n",
       "      <td>unable to normalize</td>\n",
       "      <td>[\"Unable to find valid result for classificati...</td>\n",
       "      <td>1646</td>\n",
       "    </tr>\n",
       "  </tbody>\n",
       "</table>\n",
       "</div>"
      ],
      "text/plain": [
       "   variant_id       query query_type  variant_accepted  exception_raised   \n",
       "0         748  MLH1 *757L    protein              True             False  \\\n",
       "1        3718    AR A748V    protein             False             False   \n",
       "2        3725    AR A765T    protein             False             False   \n",
       "3         248  TERT C228T    protein              True             False   \n",
       "3         248  TERT C228T    protein              True             False   \n",
       "\n",
       "               message                                           warnings   \n",
       "0  unable to normalize  [\"Unable to find valid result for classificati...  \\\n",
       "1  unable to normalize  [\"Unable to find valid result for classificati...   \n",
       "2  unable to normalize  [\"Unable to find valid result for classificati...   \n",
       "3  unable to normalize  [\"Unable to find valid result for classificati...   \n",
       "3  unable to normalize  [\"Unable to find valid result for classificati...   \n",
       "\n",
       "  evidence_id  \n",
       "0        1812  \n",
       "1       10128  \n",
       "2       10135  \n",
       "3         655  \n",
       "3        1646  "
      ]
     },
     "execution_count": 287,
     "metadata": {},
     "output_type": "execute_result"
    }
   ],
   "source": [
    "not_normalized_quer_add_evidence_df = not_normalized_quer_add_evidence_df.explode(column=\"evidence_id\")\n",
    "not_normalized_quer_add_evidence_df.head()"
   ]
  },
  {
   "cell_type": "code",
   "execution_count": 288,
   "metadata": {},
   "outputs": [],
   "source": [
    "not_normalized_evidence_id_list = list(not_normalized_quer_add_evidence_df[\"evidence_id\"])\n"
   ]
  },
  {
   "cell_type": "markdown",
   "metadata": {},
   "source": [
    "## Import evidence status, rating, and level associated with a specific evidence ID"
   ]
  },
  {
   "cell_type": "code",
   "execution_count": 289,
   "metadata": {},
   "outputs": [
    {
     "data": {
      "text/html": [
       "<div>\n",
       "<style scoped>\n",
       "    .dataframe tbody tr th:only-of-type {\n",
       "        vertical-align: middle;\n",
       "    }\n",
       "\n",
       "    .dataframe tbody tr th {\n",
       "        vertical-align: top;\n",
       "    }\n",
       "\n",
       "    .dataframe thead th {\n",
       "        text-align: right;\n",
       "    }\n",
       "</style>\n",
       "<table border=\"1\" class=\"dataframe\">\n",
       "  <thead>\n",
       "    <tr style=\"text-align: right;\">\n",
       "      <th></th>\n",
       "      <th>variant_id</th>\n",
       "      <th>query</th>\n",
       "      <th>query_type</th>\n",
       "      <th>variant_accepted</th>\n",
       "      <th>exception_raised</th>\n",
       "      <th>message</th>\n",
       "      <th>warnings</th>\n",
       "      <th>evidence_id</th>\n",
       "      <th>evidence_status</th>\n",
       "      <th>evidence_rating</th>\n",
       "      <th>evidence_level</th>\n",
       "    </tr>\n",
       "  </thead>\n",
       "  <tbody>\n",
       "    <tr>\n",
       "      <th>0</th>\n",
       "      <td>748</td>\n",
       "      <td>MLH1 *757L</td>\n",
       "      <td>protein</td>\n",
       "      <td>True</td>\n",
       "      <td>False</td>\n",
       "      <td>unable to normalize</td>\n",
       "      <td>[\"Unable to find valid result for classificati...</td>\n",
       "      <td>1812</td>\n",
       "      <td>[accepted]</td>\n",
       "      <td>[1]</td>\n",
       "      <td>[C]</td>\n",
       "    </tr>\n",
       "    <tr>\n",
       "      <th>1</th>\n",
       "      <td>3718</td>\n",
       "      <td>AR A748V</td>\n",
       "      <td>protein</td>\n",
       "      <td>False</td>\n",
       "      <td>False</td>\n",
       "      <td>unable to normalize</td>\n",
       "      <td>[\"Unable to find valid result for classificati...</td>\n",
       "      <td>10128</td>\n",
       "      <td>[submitted]</td>\n",
       "      <td>[3]</td>\n",
       "      <td>[D]</td>\n",
       "    </tr>\n",
       "    <tr>\n",
       "      <th>2</th>\n",
       "      <td>3725</td>\n",
       "      <td>AR A765T</td>\n",
       "      <td>protein</td>\n",
       "      <td>False</td>\n",
       "      <td>False</td>\n",
       "      <td>unable to normalize</td>\n",
       "      <td>[\"Unable to find valid result for classificati...</td>\n",
       "      <td>10135</td>\n",
       "      <td>[submitted]</td>\n",
       "      <td>[3]</td>\n",
       "      <td>[D]</td>\n",
       "    </tr>\n",
       "    <tr>\n",
       "      <th>3</th>\n",
       "      <td>248</td>\n",
       "      <td>TERT C228T</td>\n",
       "      <td>protein</td>\n",
       "      <td>True</td>\n",
       "      <td>False</td>\n",
       "      <td>unable to normalize</td>\n",
       "      <td>[\"Unable to find valid result for classificati...</td>\n",
       "      <td>655</td>\n",
       "      <td>[accepted]</td>\n",
       "      <td>[5]</td>\n",
       "      <td>[B]</td>\n",
       "    </tr>\n",
       "    <tr>\n",
       "      <th>3</th>\n",
       "      <td>248</td>\n",
       "      <td>TERT C228T</td>\n",
       "      <td>protein</td>\n",
       "      <td>True</td>\n",
       "      <td>False</td>\n",
       "      <td>unable to normalize</td>\n",
       "      <td>[\"Unable to find valid result for classificati...</td>\n",
       "      <td>1646</td>\n",
       "      <td>[accepted]</td>\n",
       "      <td>[3]</td>\n",
       "      <td>[B]</td>\n",
       "    </tr>\n",
       "  </tbody>\n",
       "</table>\n",
       "</div>"
      ],
      "text/plain": [
       "   variant_id       query query_type  variant_accepted  exception_raised   \n",
       "0         748  MLH1 *757L    protein              True             False  \\\n",
       "1        3718    AR A748V    protein             False             False   \n",
       "2        3725    AR A765T    protein             False             False   \n",
       "3         248  TERT C228T    protein              True             False   \n",
       "3         248  TERT C228T    protein              True             False   \n",
       "\n",
       "               message                                           warnings   \n",
       "0  unable to normalize  [\"Unable to find valid result for classificati...  \\\n",
       "1  unable to normalize  [\"Unable to find valid result for classificati...   \n",
       "2  unable to normalize  [\"Unable to find valid result for classificati...   \n",
       "3  unable to normalize  [\"Unable to find valid result for classificati...   \n",
       "3  unable to normalize  [\"Unable to find valid result for classificati...   \n",
       "\n",
       "  evidence_id evidence_status evidence_rating evidence_level  \n",
       "0        1812      [accepted]             [1]            [C]  \n",
       "1       10128     [submitted]             [3]            [D]  \n",
       "2       10135     [submitted]             [3]            [D]  \n",
       "3         655      [accepted]             [5]            [B]  \n",
       "3        1646      [accepted]             [3]            [B]  "
      ]
     },
     "execution_count": 289,
     "metadata": {},
     "output_type": "execute_result"
    }
   ],
   "source": [
    "not_normalized_variants_evidence_statuses = []\n",
    "not_normalized_variants_evidence_ratings = []\n",
    "not_normalized_variants_evidence_levels = []\n",
    "\n",
    "for e in not_normalized_evidence_id_list:\n",
    "    not_normalized_variant_evidence_status_list = []\n",
    "    not_normalized_variant_evidence_rating_list = []\n",
    "    not_normalized_variant_evidence_level_list = []\n",
    "\n",
    "    for evidence in civic_evidence_ids: \n",
    "        if int(e) == evidence.id:\n",
    "\n",
    "            if evidence.status not in not_normalized_variant_evidence_status_list:\n",
    "                not_normalized_variant_evidence_status_list.append(evidence.status)\n",
    "            not_normalized_variant_evidence_status_list = not_normalized_variant_evidence_status_list or \"\"\n",
    "\n",
    "            if evidence.rating not in not_normalized_variant_evidence_rating_list:\n",
    "                not_normalized_variant_evidence_rating_list.append(evidence.rating)\n",
    "            not_normalized_variant_evidence_rating_list = not_normalized_variant_evidence_rating_list or \"\"\n",
    "\n",
    "            if evidence.evidence_level not in not_normalized_variant_evidence_level_list:\n",
    "                not_normalized_variant_evidence_level_list.append(evidence.evidence_level)\n",
    "            not_normalized_variant_evidence_level_list = not_normalized_variant_evidence_level_list or \"\"\n",
    "\n",
    "    not_normalized_variants_evidence_statuses.append(not_normalized_variant_evidence_status_list)\n",
    "    not_normalized_variants_evidence_ratings.append(not_normalized_variant_evidence_rating_list)\n",
    "    not_normalized_variants_evidence_levels.append(not_normalized_variant_evidence_level_list)\n",
    "\n",
    "not_normalized_quer_add_evidence_df[\"evidence_status\"] = not_normalized_variants_evidence_statuses\n",
    "not_normalized_quer_add_evidence_df[\"evidence_rating\"] = not_normalized_variants_evidence_ratings\n",
    "not_normalized_quer_add_evidence_df[\"evidence_level\"] = not_normalized_variants_evidence_levels\n",
    "not_normalized_quer_add_evidence_df.head()"
   ]
  },
  {
   "cell_type": "code",
   "execution_count": 290,
   "metadata": {},
   "outputs": [
    {
     "data": {
      "text/html": [
       "<div>\n",
       "<style scoped>\n",
       "    .dataframe tbody tr th:only-of-type {\n",
       "        vertical-align: middle;\n",
       "    }\n",
       "\n",
       "    .dataframe tbody tr th {\n",
       "        vertical-align: top;\n",
       "    }\n",
       "\n",
       "    .dataframe thead th {\n",
       "        text-align: right;\n",
       "    }\n",
       "</style>\n",
       "<table border=\"1\" class=\"dataframe\">\n",
       "  <thead>\n",
       "    <tr style=\"text-align: right;\">\n",
       "      <th></th>\n",
       "      <th>variant_id</th>\n",
       "      <th>query</th>\n",
       "      <th>query_type</th>\n",
       "      <th>variant_accepted</th>\n",
       "      <th>exception_raised</th>\n",
       "      <th>message</th>\n",
       "      <th>warnings</th>\n",
       "      <th>evidence_id</th>\n",
       "      <th>evidence_status</th>\n",
       "      <th>evidence_rating</th>\n",
       "      <th>evidence_level</th>\n",
       "    </tr>\n",
       "  </thead>\n",
       "  <tbody>\n",
       "    <tr>\n",
       "      <th>0</th>\n",
       "      <td>748</td>\n",
       "      <td>MLH1 *757L</td>\n",
       "      <td>protein</td>\n",
       "      <td>True</td>\n",
       "      <td>False</td>\n",
       "      <td>unable to normalize</td>\n",
       "      <td>[\"Unable to find valid result for classificati...</td>\n",
       "      <td>1812</td>\n",
       "      <td>[accepted]</td>\n",
       "      <td>[1]</td>\n",
       "      <td>[C]</td>\n",
       "    </tr>\n",
       "    <tr>\n",
       "      <th>1</th>\n",
       "      <td>3718</td>\n",
       "      <td>AR A748V</td>\n",
       "      <td>protein</td>\n",
       "      <td>False</td>\n",
       "      <td>False</td>\n",
       "      <td>unable to normalize</td>\n",
       "      <td>[\"Unable to find valid result for classificati...</td>\n",
       "      <td>10128</td>\n",
       "      <td>[submitted]</td>\n",
       "      <td>[3]</td>\n",
       "      <td>[D]</td>\n",
       "    </tr>\n",
       "    <tr>\n",
       "      <th>2</th>\n",
       "      <td>3725</td>\n",
       "      <td>AR A765T</td>\n",
       "      <td>protein</td>\n",
       "      <td>False</td>\n",
       "      <td>False</td>\n",
       "      <td>unable to normalize</td>\n",
       "      <td>[\"Unable to find valid result for classificati...</td>\n",
       "      <td>10135</td>\n",
       "      <td>[submitted]</td>\n",
       "      <td>[3]</td>\n",
       "      <td>[D]</td>\n",
       "    </tr>\n",
       "    <tr>\n",
       "      <th>3</th>\n",
       "      <td>248</td>\n",
       "      <td>TERT C228T</td>\n",
       "      <td>protein</td>\n",
       "      <td>True</td>\n",
       "      <td>False</td>\n",
       "      <td>unable to normalize</td>\n",
       "      <td>[\"Unable to find valid result for classificati...</td>\n",
       "      <td>655</td>\n",
       "      <td>[accepted]</td>\n",
       "      <td>[5]</td>\n",
       "      <td>[B]</td>\n",
       "    </tr>\n",
       "    <tr>\n",
       "      <th>3</th>\n",
       "      <td>248</td>\n",
       "      <td>TERT C228T</td>\n",
       "      <td>protein</td>\n",
       "      <td>True</td>\n",
       "      <td>False</td>\n",
       "      <td>unable to normalize</td>\n",
       "      <td>[\"Unable to find valid result for classificati...</td>\n",
       "      <td>1646</td>\n",
       "      <td>[accepted]</td>\n",
       "      <td>[3]</td>\n",
       "      <td>[B]</td>\n",
       "    </tr>\n",
       "    <tr>\n",
       "      <th>...</th>\n",
       "      <td>...</td>\n",
       "      <td>...</td>\n",
       "      <td>...</td>\n",
       "      <td>...</td>\n",
       "      <td>...</td>\n",
       "      <td>...</td>\n",
       "      <td>...</td>\n",
       "      <td>...</td>\n",
       "      <td>...</td>\n",
       "      <td>...</td>\n",
       "      <td>...</td>\n",
       "    </tr>\n",
       "    <tr>\n",
       "      <th>58</th>\n",
       "      <td>2825</td>\n",
       "      <td>BRAF V601E</td>\n",
       "      <td>protein</td>\n",
       "      <td>False</td>\n",
       "      <td>False</td>\n",
       "      <td>unable to normalize</td>\n",
       "      <td>[\"Unable to find valid result for classificati...</td>\n",
       "      <td>7627</td>\n",
       "      <td>[submitted]</td>\n",
       "      <td>[3]</td>\n",
       "      <td>[C]</td>\n",
       "    </tr>\n",
       "    <tr>\n",
       "      <th>59</th>\n",
       "      <td>3721</td>\n",
       "      <td>AR V757A</td>\n",
       "      <td>protein</td>\n",
       "      <td>False</td>\n",
       "      <td>False</td>\n",
       "      <td>unable to normalize</td>\n",
       "      <td>[\"Unable to find valid result for classificati...</td>\n",
       "      <td>10131</td>\n",
       "      <td>[submitted]</td>\n",
       "      <td>[3]</td>\n",
       "      <td>[D]</td>\n",
       "    </tr>\n",
       "    <tr>\n",
       "      <th>60</th>\n",
       "      <td>3722</td>\n",
       "      <td>AR V757I</td>\n",
       "      <td>protein</td>\n",
       "      <td>False</td>\n",
       "      <td>False</td>\n",
       "      <td>unable to normalize</td>\n",
       "      <td>[\"Unable to find valid result for classificati...</td>\n",
       "      <td>10132</td>\n",
       "      <td>[submitted]</td>\n",
       "      <td>[3]</td>\n",
       "      <td>[D]</td>\n",
       "    </tr>\n",
       "    <tr>\n",
       "      <th>61</th>\n",
       "      <td>3724</td>\n",
       "      <td>AR Y763C</td>\n",
       "      <td>protein</td>\n",
       "      <td>False</td>\n",
       "      <td>False</td>\n",
       "      <td>unable to normalize</td>\n",
       "      <td>[\"Unable to find valid result for classificati...</td>\n",
       "      <td>10134</td>\n",
       "      <td>[submitted]</td>\n",
       "      <td>[3]</td>\n",
       "      <td>[D]</td>\n",
       "    </tr>\n",
       "    <tr>\n",
       "      <th>62</th>\n",
       "      <td>4474</td>\n",
       "      <td>BRAF p.N486_P490</td>\n",
       "      <td>protein</td>\n",
       "      <td>False</td>\n",
       "      <td>False</td>\n",
       "      <td>unable to normalize</td>\n",
       "      <td>['Unable to tokenize p.N486_P490']</td>\n",
       "      <td>11300</td>\n",
       "      <td>[submitted]</td>\n",
       "      <td>[4]</td>\n",
       "      <td>[C]</td>\n",
       "    </tr>\n",
       "  </tbody>\n",
       "</table>\n",
       "<p>80 rows × 11 columns</p>\n",
       "</div>"
      ],
      "text/plain": [
       "    variant_id             query query_type  variant_accepted   \n",
       "0          748        MLH1 *757L    protein              True  \\\n",
       "1         3718          AR A748V    protein             False   \n",
       "2         3725          AR A765T    protein             False   \n",
       "3          248        TERT C228T    protein              True   \n",
       "3          248        TERT C228T    protein              True   \n",
       "..         ...               ...        ...               ...   \n",
       "58        2825        BRAF V601E    protein             False   \n",
       "59        3721          AR V757A    protein             False   \n",
       "60        3722          AR V757I    protein             False   \n",
       "61        3724          AR Y763C    protein             False   \n",
       "62        4474  BRAF p.N486_P490    protein             False   \n",
       "\n",
       "    exception_raised              message   \n",
       "0              False  unable to normalize  \\\n",
       "1              False  unable to normalize   \n",
       "2              False  unable to normalize   \n",
       "3              False  unable to normalize   \n",
       "3              False  unable to normalize   \n",
       "..               ...                  ...   \n",
       "58             False  unable to normalize   \n",
       "59             False  unable to normalize   \n",
       "60             False  unable to normalize   \n",
       "61             False  unable to normalize   \n",
       "62             False  unable to normalize   \n",
       "\n",
       "                                             warnings evidence_id   \n",
       "0   [\"Unable to find valid result for classificati...        1812  \\\n",
       "1   [\"Unable to find valid result for classificati...       10128   \n",
       "2   [\"Unable to find valid result for classificati...       10135   \n",
       "3   [\"Unable to find valid result for classificati...         655   \n",
       "3   [\"Unable to find valid result for classificati...        1646   \n",
       "..                                                ...         ...   \n",
       "58  [\"Unable to find valid result for classificati...        7627   \n",
       "59  [\"Unable to find valid result for classificati...       10131   \n",
       "60  [\"Unable to find valid result for classificati...       10132   \n",
       "61  [\"Unable to find valid result for classificati...       10134   \n",
       "62                 ['Unable to tokenize p.N486_P490']       11300   \n",
       "\n",
       "   evidence_status evidence_rating evidence_level  \n",
       "0       [accepted]             [1]            [C]  \n",
       "1      [submitted]             [3]            [D]  \n",
       "2      [submitted]             [3]            [D]  \n",
       "3       [accepted]             [5]            [B]  \n",
       "3       [accepted]             [3]            [B]  \n",
       "..             ...             ...            ...  \n",
       "58     [submitted]             [3]            [C]  \n",
       "59     [submitted]             [3]            [D]  \n",
       "60     [submitted]             [3]            [D]  \n",
       "61     [submitted]             [3]            [D]  \n",
       "62     [submitted]             [4]            [C]  \n",
       "\n",
       "[80 rows x 11 columns]"
      ]
     },
     "execution_count": 290,
     "metadata": {},
     "output_type": "execute_result"
    }
   ],
   "source": [
    "not_normalized_quer_add_evidence_df"
   ]
  },
  {
   "cell_type": "code",
   "execution_count": 291,
   "metadata": {},
   "outputs": [],
   "source": [
    "not_normalized_quer_add_evidence_df['evidence_status'] = not_normalized_quer_add_evidence_df['evidence_status'].str.join(', ')"
   ]
  },
  {
   "cell_type": "code",
   "execution_count": 292,
   "metadata": {},
   "outputs": [
    {
     "data": {
      "text/html": [
       "<div>\n",
       "<style scoped>\n",
       "    .dataframe tbody tr th:only-of-type {\n",
       "        vertical-align: middle;\n",
       "    }\n",
       "\n",
       "    .dataframe tbody tr th {\n",
       "        vertical-align: top;\n",
       "    }\n",
       "\n",
       "    .dataframe thead th {\n",
       "        text-align: right;\n",
       "    }\n",
       "</style>\n",
       "<table border=\"1\" class=\"dataframe\">\n",
       "  <thead>\n",
       "    <tr style=\"text-align: right;\">\n",
       "      <th></th>\n",
       "      <th>variant_id</th>\n",
       "      <th>query</th>\n",
       "      <th>query_type</th>\n",
       "      <th>variant_accepted</th>\n",
       "      <th>exception_raised</th>\n",
       "      <th>message</th>\n",
       "      <th>warnings</th>\n",
       "      <th>evidence_id</th>\n",
       "      <th>evidence_status</th>\n",
       "      <th>evidence_rating</th>\n",
       "      <th>evidence_level</th>\n",
       "    </tr>\n",
       "  </thead>\n",
       "  <tbody>\n",
       "    <tr>\n",
       "      <th>0</th>\n",
       "      <td>748</td>\n",
       "      <td>MLH1 *757L</td>\n",
       "      <td>protein</td>\n",
       "      <td>True</td>\n",
       "      <td>False</td>\n",
       "      <td>unable to normalize</td>\n",
       "      <td>[\"Unable to find valid result for classificati...</td>\n",
       "      <td>1812</td>\n",
       "      <td>accepted</td>\n",
       "      <td>[1]</td>\n",
       "      <td>[C]</td>\n",
       "    </tr>\n",
       "    <tr>\n",
       "      <th>1</th>\n",
       "      <td>3718</td>\n",
       "      <td>AR A748V</td>\n",
       "      <td>protein</td>\n",
       "      <td>False</td>\n",
       "      <td>False</td>\n",
       "      <td>unable to normalize</td>\n",
       "      <td>[\"Unable to find valid result for classificati...</td>\n",
       "      <td>10128</td>\n",
       "      <td>submitted</td>\n",
       "      <td>[3]</td>\n",
       "      <td>[D]</td>\n",
       "    </tr>\n",
       "    <tr>\n",
       "      <th>2</th>\n",
       "      <td>3725</td>\n",
       "      <td>AR A765T</td>\n",
       "      <td>protein</td>\n",
       "      <td>False</td>\n",
       "      <td>False</td>\n",
       "      <td>unable to normalize</td>\n",
       "      <td>[\"Unable to find valid result for classificati...</td>\n",
       "      <td>10135</td>\n",
       "      <td>submitted</td>\n",
       "      <td>[3]</td>\n",
       "      <td>[D]</td>\n",
       "    </tr>\n",
       "    <tr>\n",
       "      <th>3</th>\n",
       "      <td>248</td>\n",
       "      <td>TERT C228T</td>\n",
       "      <td>protein</td>\n",
       "      <td>True</td>\n",
       "      <td>False</td>\n",
       "      <td>unable to normalize</td>\n",
       "      <td>[\"Unable to find valid result for classificati...</td>\n",
       "      <td>655</td>\n",
       "      <td>accepted</td>\n",
       "      <td>[5]</td>\n",
       "      <td>[B]</td>\n",
       "    </tr>\n",
       "    <tr>\n",
       "      <th>3</th>\n",
       "      <td>248</td>\n",
       "      <td>TERT C228T</td>\n",
       "      <td>protein</td>\n",
       "      <td>True</td>\n",
       "      <td>False</td>\n",
       "      <td>unable to normalize</td>\n",
       "      <td>[\"Unable to find valid result for classificati...</td>\n",
       "      <td>1646</td>\n",
       "      <td>accepted</td>\n",
       "      <td>[3]</td>\n",
       "      <td>[B]</td>\n",
       "    </tr>\n",
       "    <tr>\n",
       "      <th>...</th>\n",
       "      <td>...</td>\n",
       "      <td>...</td>\n",
       "      <td>...</td>\n",
       "      <td>...</td>\n",
       "      <td>...</td>\n",
       "      <td>...</td>\n",
       "      <td>...</td>\n",
       "      <td>...</td>\n",
       "      <td>...</td>\n",
       "      <td>...</td>\n",
       "      <td>...</td>\n",
       "    </tr>\n",
       "    <tr>\n",
       "      <th>58</th>\n",
       "      <td>2825</td>\n",
       "      <td>BRAF V601E</td>\n",
       "      <td>protein</td>\n",
       "      <td>False</td>\n",
       "      <td>False</td>\n",
       "      <td>unable to normalize</td>\n",
       "      <td>[\"Unable to find valid result for classificati...</td>\n",
       "      <td>7627</td>\n",
       "      <td>submitted</td>\n",
       "      <td>[3]</td>\n",
       "      <td>[C]</td>\n",
       "    </tr>\n",
       "    <tr>\n",
       "      <th>59</th>\n",
       "      <td>3721</td>\n",
       "      <td>AR V757A</td>\n",
       "      <td>protein</td>\n",
       "      <td>False</td>\n",
       "      <td>False</td>\n",
       "      <td>unable to normalize</td>\n",
       "      <td>[\"Unable to find valid result for classificati...</td>\n",
       "      <td>10131</td>\n",
       "      <td>submitted</td>\n",
       "      <td>[3]</td>\n",
       "      <td>[D]</td>\n",
       "    </tr>\n",
       "    <tr>\n",
       "      <th>60</th>\n",
       "      <td>3722</td>\n",
       "      <td>AR V757I</td>\n",
       "      <td>protein</td>\n",
       "      <td>False</td>\n",
       "      <td>False</td>\n",
       "      <td>unable to normalize</td>\n",
       "      <td>[\"Unable to find valid result for classificati...</td>\n",
       "      <td>10132</td>\n",
       "      <td>submitted</td>\n",
       "      <td>[3]</td>\n",
       "      <td>[D]</td>\n",
       "    </tr>\n",
       "    <tr>\n",
       "      <th>61</th>\n",
       "      <td>3724</td>\n",
       "      <td>AR Y763C</td>\n",
       "      <td>protein</td>\n",
       "      <td>False</td>\n",
       "      <td>False</td>\n",
       "      <td>unable to normalize</td>\n",
       "      <td>[\"Unable to find valid result for classificati...</td>\n",
       "      <td>10134</td>\n",
       "      <td>submitted</td>\n",
       "      <td>[3]</td>\n",
       "      <td>[D]</td>\n",
       "    </tr>\n",
       "    <tr>\n",
       "      <th>62</th>\n",
       "      <td>4474</td>\n",
       "      <td>BRAF p.N486_P490</td>\n",
       "      <td>protein</td>\n",
       "      <td>False</td>\n",
       "      <td>False</td>\n",
       "      <td>unable to normalize</td>\n",
       "      <td>['Unable to tokenize p.N486_P490']</td>\n",
       "      <td>11300</td>\n",
       "      <td>submitted</td>\n",
       "      <td>[4]</td>\n",
       "      <td>[C]</td>\n",
       "    </tr>\n",
       "  </tbody>\n",
       "</table>\n",
       "<p>80 rows × 11 columns</p>\n",
       "</div>"
      ],
      "text/plain": [
       "    variant_id             query query_type  variant_accepted   \n",
       "0          748        MLH1 *757L    protein              True  \\\n",
       "1         3718          AR A748V    protein             False   \n",
       "2         3725          AR A765T    protein             False   \n",
       "3          248        TERT C228T    protein              True   \n",
       "3          248        TERT C228T    protein              True   \n",
       "..         ...               ...        ...               ...   \n",
       "58        2825        BRAF V601E    protein             False   \n",
       "59        3721          AR V757A    protein             False   \n",
       "60        3722          AR V757I    protein             False   \n",
       "61        3724          AR Y763C    protein             False   \n",
       "62        4474  BRAF p.N486_P490    protein             False   \n",
       "\n",
       "    exception_raised              message   \n",
       "0              False  unable to normalize  \\\n",
       "1              False  unable to normalize   \n",
       "2              False  unable to normalize   \n",
       "3              False  unable to normalize   \n",
       "3              False  unable to normalize   \n",
       "..               ...                  ...   \n",
       "58             False  unable to normalize   \n",
       "59             False  unable to normalize   \n",
       "60             False  unable to normalize   \n",
       "61             False  unable to normalize   \n",
       "62             False  unable to normalize   \n",
       "\n",
       "                                             warnings evidence_id   \n",
       "0   [\"Unable to find valid result for classificati...        1812  \\\n",
       "1   [\"Unable to find valid result for classificati...       10128   \n",
       "2   [\"Unable to find valid result for classificati...       10135   \n",
       "3   [\"Unable to find valid result for classificati...         655   \n",
       "3   [\"Unable to find valid result for classificati...        1646   \n",
       "..                                                ...         ...   \n",
       "58  [\"Unable to find valid result for classificati...        7627   \n",
       "59  [\"Unable to find valid result for classificati...       10131   \n",
       "60  [\"Unable to find valid result for classificati...       10132   \n",
       "61  [\"Unable to find valid result for classificati...       10134   \n",
       "62                 ['Unable to tokenize p.N486_P490']       11300   \n",
       "\n",
       "   evidence_status evidence_rating evidence_level  \n",
       "0         accepted             [1]            [C]  \n",
       "1        submitted             [3]            [D]  \n",
       "2        submitted             [3]            [D]  \n",
       "3         accepted             [5]            [B]  \n",
       "3         accepted             [3]            [B]  \n",
       "..             ...             ...            ...  \n",
       "58       submitted             [3]            [C]  \n",
       "59       submitted             [3]            [D]  \n",
       "60       submitted             [3]            [D]  \n",
       "61       submitted             [3]            [D]  \n",
       "62       submitted             [4]            [C]  \n",
       "\n",
       "[80 rows x 11 columns]"
      ]
     },
     "execution_count": 292,
     "metadata": {},
     "output_type": "execute_result"
    }
   ],
   "source": [
    "not_normalized_quer_add_evidence_df = not_normalized_quer_add_evidence_df.drop(not_normalized_quer_add_evidence_df[not_normalized_quer_add_evidence_df.evidence_status == \"rejected\"].index)\n",
    "not_normalized_quer_add_evidence_df"
   ]
  },
  {
   "cell_type": "code",
   "execution_count": 293,
   "metadata": {},
   "outputs": [],
   "source": [
    "not_normalized_evidence_id_list = list(not_normalized_quer_add_evidence_df[\"evidence_id\"])"
   ]
  },
  {
   "cell_type": "markdown",
   "metadata": {},
   "source": [
    "## Evidence analysis"
   ]
  },
  {
   "cell_type": "code",
   "execution_count": 294,
   "metadata": {},
   "outputs": [
    {
     "data": {
      "text/plain": [
       "'Number of Unable to Normalize Variant Evidence items in CIViC: 80 / 9766'"
      ]
     },
     "execution_count": 294,
     "metadata": {},
     "output_type": "execute_result"
    }
   ],
   "source": [
    "total_number_not_normalized_variant_unique_evidence_items = len(not_normalized_evidence_id_list)\n",
    "not_normalized_fraction_evidence_items = f\"{total_number_not_normalized_variant_unique_evidence_items} / {total_number_evidences}\"\n",
    "f\"Number of Unable to Normalize Variant Evidence items in CIViC: {not_normalized_fraction_evidence_items}\""
   ]
  },
  {
   "cell_type": "code",
   "execution_count": 295,
   "metadata": {},
   "outputs": [
    {
     "data": {
      "text/plain": [
       "'Percentage of Unable to Normalize Variant Evidence items in CIViC: 0.82%'"
      ]
     },
     "execution_count": 295,
     "metadata": {},
     "output_type": "execute_result"
    }
   ],
   "source": [
    "not_normalized_percentage_evidence_items = \"{:.2f}\".format(total_number_not_normalized_variant_unique_evidence_items/total_number_evidences*100) + \"%\"\n",
    "f\"Percentage of Unable to Normalize Variant Evidence items in CIViC: {not_normalized_percentage_evidence_items}\""
   ]
  },
  {
   "cell_type": "code",
   "execution_count": 296,
   "metadata": {},
   "outputs": [
    {
     "data": {
      "text/html": [
       "<div>\n",
       "<style scoped>\n",
       "    .dataframe tbody tr th:only-of-type {\n",
       "        vertical-align: middle;\n",
       "    }\n",
       "\n",
       "    .dataframe tbody tr th {\n",
       "        vertical-align: top;\n",
       "    }\n",
       "\n",
       "    .dataframe thead th {\n",
       "        text-align: right;\n",
       "    }\n",
       "</style>\n",
       "<table border=\"1\" class=\"dataframe\">\n",
       "  <thead>\n",
       "    <tr style=\"text-align: right;\">\n",
       "      <th></th>\n",
       "      <th>variant_id</th>\n",
       "      <th>query</th>\n",
       "      <th>query_type</th>\n",
       "      <th>variant_accepted</th>\n",
       "      <th>exception_raised</th>\n",
       "      <th>message</th>\n",
       "      <th>warnings</th>\n",
       "      <th>evidence_id</th>\n",
       "      <th>evidence_status</th>\n",
       "      <th>evidence_rating</th>\n",
       "      <th>evidence_level</th>\n",
       "      <th>evidence_accepted</th>\n",
       "    </tr>\n",
       "  </thead>\n",
       "  <tbody>\n",
       "    <tr>\n",
       "      <th>0</th>\n",
       "      <td>748</td>\n",
       "      <td>MLH1 *757L</td>\n",
       "      <td>protein</td>\n",
       "      <td>True</td>\n",
       "      <td>False</td>\n",
       "      <td>unable to normalize</td>\n",
       "      <td>[\"Unable to find valid result for classificati...</td>\n",
       "      <td>1812</td>\n",
       "      <td>accepted</td>\n",
       "      <td>[1]</td>\n",
       "      <td>[C]</td>\n",
       "      <td>True</td>\n",
       "    </tr>\n",
       "    <tr>\n",
       "      <th>1</th>\n",
       "      <td>3718</td>\n",
       "      <td>AR A748V</td>\n",
       "      <td>protein</td>\n",
       "      <td>False</td>\n",
       "      <td>False</td>\n",
       "      <td>unable to normalize</td>\n",
       "      <td>[\"Unable to find valid result for classificati...</td>\n",
       "      <td>10128</td>\n",
       "      <td>submitted</td>\n",
       "      <td>[3]</td>\n",
       "      <td>[D]</td>\n",
       "      <td>False</td>\n",
       "    </tr>\n",
       "    <tr>\n",
       "      <th>2</th>\n",
       "      <td>3725</td>\n",
       "      <td>AR A765T</td>\n",
       "      <td>protein</td>\n",
       "      <td>False</td>\n",
       "      <td>False</td>\n",
       "      <td>unable to normalize</td>\n",
       "      <td>[\"Unable to find valid result for classificati...</td>\n",
       "      <td>10135</td>\n",
       "      <td>submitted</td>\n",
       "      <td>[3]</td>\n",
       "      <td>[D]</td>\n",
       "      <td>False</td>\n",
       "    </tr>\n",
       "    <tr>\n",
       "      <th>3</th>\n",
       "      <td>248</td>\n",
       "      <td>TERT C228T</td>\n",
       "      <td>protein</td>\n",
       "      <td>True</td>\n",
       "      <td>False</td>\n",
       "      <td>unable to normalize</td>\n",
       "      <td>[\"Unable to find valid result for classificati...</td>\n",
       "      <td>655</td>\n",
       "      <td>accepted</td>\n",
       "      <td>[5]</td>\n",
       "      <td>[B]</td>\n",
       "      <td>True</td>\n",
       "    </tr>\n",
       "    <tr>\n",
       "      <th>3</th>\n",
       "      <td>248</td>\n",
       "      <td>TERT C228T</td>\n",
       "      <td>protein</td>\n",
       "      <td>True</td>\n",
       "      <td>False</td>\n",
       "      <td>unable to normalize</td>\n",
       "      <td>[\"Unable to find valid result for classificati...</td>\n",
       "      <td>1646</td>\n",
       "      <td>accepted</td>\n",
       "      <td>[3]</td>\n",
       "      <td>[B]</td>\n",
       "      <td>True</td>\n",
       "    </tr>\n",
       "  </tbody>\n",
       "</table>\n",
       "</div>"
      ],
      "text/plain": [
       "   variant_id       query query_type  variant_accepted  exception_raised   \n",
       "0         748  MLH1 *757L    protein              True             False  \\\n",
       "1        3718    AR A748V    protein             False             False   \n",
       "2        3725    AR A765T    protein             False             False   \n",
       "3         248  TERT C228T    protein              True             False   \n",
       "3         248  TERT C228T    protein              True             False   \n",
       "\n",
       "               message                                           warnings   \n",
       "0  unable to normalize  [\"Unable to find valid result for classificati...  \\\n",
       "1  unable to normalize  [\"Unable to find valid result for classificati...   \n",
       "2  unable to normalize  [\"Unable to find valid result for classificati...   \n",
       "3  unable to normalize  [\"Unable to find valid result for classificati...   \n",
       "3  unable to normalize  [\"Unable to find valid result for classificati...   \n",
       "\n",
       "  evidence_id evidence_status evidence_rating evidence_level evidence_accepted  \n",
       "0        1812        accepted             [1]            [C]              True  \n",
       "1       10128       submitted             [3]            [D]             False  \n",
       "2       10135       submitted             [3]            [D]             False  \n",
       "3         655        accepted             [5]            [B]              True  \n",
       "3        1646        accepted             [3]            [B]              True  "
      ]
     },
     "execution_count": 296,
     "metadata": {},
     "output_type": "execute_result"
    }
   ],
   "source": [
    "not_normalized_quer_add_evidence_df['evidence_accepted'] = not_normalized_quer_add_evidence_df.evidence_status.map({'accepted':True ,'submitted':False})\n",
    "not_normalized_quer_add_evidence_df.head()"
   ]
  },
  {
   "cell_type": "code",
   "execution_count": 297,
   "metadata": {},
   "outputs": [],
   "source": [
    "not_normalized_quer_add_evidence_df = not_normalized_quer_add_evidence_df.drop_duplicates(subset= ['evidence_id'])"
   ]
  },
  {
   "cell_type": "code",
   "execution_count": 298,
   "metadata": {},
   "outputs": [
    {
     "data": {
      "text/plain": [
       "evidence_accepted\n",
       "False    63\n",
       "True     14\n",
       "Name: count, dtype: int64"
      ]
     },
     "execution_count": 298,
     "metadata": {},
     "output_type": "execute_result"
    }
   ],
   "source": [
    "not_normalized_quer_add_evidence_df.evidence_accepted.value_counts()"
   ]
  },
  {
   "cell_type": "code",
   "execution_count": 299,
   "metadata": {},
   "outputs": [
    {
     "data": {
      "text/plain": [
       "'Number of submitted Unable to Normalize Variant Evidence items: 66 / 80'"
      ]
     },
     "execution_count": 299,
     "metadata": {},
     "output_type": "execute_result"
    }
   ],
   "source": [
    "number_submitted_evidences_not_normalized_variants = len(not_normalized_quer_add_evidence_df) - not_normalized_quer_add_evidence_df.evidence_accepted.sum()\n",
    "fraction_submitted_evidences_not_normalized_variants = f\"{number_submitted_evidences_not_normalized_variants} / {total_number_not_normalized_variant_unique_evidence_items}\"\n",
    "f\"Number of submitted Unable to Normalize Variant Evidence items: {fraction_submitted_evidences_not_normalized_variants}\""
   ]
  },
  {
   "cell_type": "code",
   "execution_count": 300,
   "metadata": {},
   "outputs": [
    {
     "data": {
      "text/plain": [
       "'Percentage of not submitted Unable to Normalize Variant Evidence items: 82.50%'"
      ]
     },
     "execution_count": 300,
     "metadata": {},
     "output_type": "execute_result"
    }
   ],
   "source": [
    "percentage_submitted_evidences_not_normalized_variants = \"{:.2f}\".format(number_submitted_evidences_not_normalized_variants/total_number_not_normalized_variant_unique_evidence_items*100) + \"%\"\n",
    "f\"Percentage of not submitted Unable to Normalize Variant Evidence items: {percentage_submitted_evidences_not_normalized_variants}\""
   ]
  },
  {
   "cell_type": "code",
   "execution_count": 301,
   "metadata": {},
   "outputs": [
    {
     "data": {
      "text/plain": [
       "'Number of accepted Unable to Normalize Variant Evidence items: 14 / 80'"
      ]
     },
     "execution_count": 301,
     "metadata": {},
     "output_type": "execute_result"
    }
   ],
   "source": [
    "number_accepted_evidences_not_normalized_variants = not_normalized_quer_add_evidence_df.evidence_accepted.sum()\n",
    "fraction_accepted_evidences_not_normalized_variants = f\"{number_accepted_evidences_not_normalized_variants} / {total_number_not_normalized_variant_unique_evidence_items}\"\n",
    "f\"Number of accepted Unable to Normalize Variant Evidence items: {fraction_accepted_evidences_not_normalized_variants}\""
   ]
  },
  {
   "cell_type": "code",
   "execution_count": 302,
   "metadata": {},
   "outputs": [
    {
     "data": {
      "text/plain": [
       "'Percentage of accepted Unable to Normalize Variant Evidence items: 17.50%'"
      ]
     },
     "execution_count": 302,
     "metadata": {},
     "output_type": "execute_result"
    }
   ],
   "source": [
    "percentage_accepted_evidences_not_normalized_variants = \"{:.2f}\".format(number_accepted_evidences_not_normalized_variants/total_number_not_normalized_variant_unique_evidence_items*100)+ \"%\" \n",
    "f\"Percentage of accepted Unable to Normalize Variant Evidence items: {percentage_accepted_evidences_not_normalized_variants}\""
   ]
  },
  {
   "cell_type": "markdown",
   "metadata": {},
   "source": [
    "## Impact\n",
    "molecular profile score"
   ]
  },
  {
   "cell_type": "markdown",
   "metadata": {},
   "source": [
    "### Import molecular profile id"
   ]
  },
  {
   "cell_type": "code",
   "execution_count": 303,
   "metadata": {},
   "outputs": [
    {
     "data": {
      "text/html": [
       "<div>\n",
       "<style scoped>\n",
       "    .dataframe tbody tr th:only-of-type {\n",
       "        vertical-align: middle;\n",
       "    }\n",
       "\n",
       "    .dataframe tbody tr th {\n",
       "        vertical-align: top;\n",
       "    }\n",
       "\n",
       "    .dataframe thead th {\n",
       "        text-align: right;\n",
       "    }\n",
       "</style>\n",
       "<table border=\"1\" class=\"dataframe\">\n",
       "  <thead>\n",
       "    <tr style=\"text-align: right;\">\n",
       "      <th></th>\n",
       "      <th>variant_id</th>\n",
       "      <th>query</th>\n",
       "      <th>query_type</th>\n",
       "      <th>variant_accepted</th>\n",
       "      <th>exception_raised</th>\n",
       "      <th>message</th>\n",
       "      <th>warnings</th>\n",
       "      <th>molecular_profile_id</th>\n",
       "    </tr>\n",
       "  </thead>\n",
       "  <tbody>\n",
       "    <tr>\n",
       "      <th>0</th>\n",
       "      <td>748</td>\n",
       "      <td>MLH1 *757L</td>\n",
       "      <td>protein</td>\n",
       "      <td>True</td>\n",
       "      <td>False</td>\n",
       "      <td>unable to normalize</td>\n",
       "      <td>[\"Unable to find valid result for classificati...</td>\n",
       "      <td>[729]</td>\n",
       "    </tr>\n",
       "    <tr>\n",
       "      <th>1</th>\n",
       "      <td>3718</td>\n",
       "      <td>AR A748V</td>\n",
       "      <td>protein</td>\n",
       "      <td>False</td>\n",
       "      <td>False</td>\n",
       "      <td>unable to normalize</td>\n",
       "      <td>[\"Unable to find valid result for classificati...</td>\n",
       "      <td>[3586]</td>\n",
       "    </tr>\n",
       "    <tr>\n",
       "      <th>2</th>\n",
       "      <td>3725</td>\n",
       "      <td>AR A765T</td>\n",
       "      <td>protein</td>\n",
       "      <td>False</td>\n",
       "      <td>False</td>\n",
       "      <td>unable to normalize</td>\n",
       "      <td>[\"Unable to find valid result for classificati...</td>\n",
       "      <td>[3593]</td>\n",
       "    </tr>\n",
       "    <tr>\n",
       "      <th>3</th>\n",
       "      <td>248</td>\n",
       "      <td>TERT C228T</td>\n",
       "      <td>protein</td>\n",
       "      <td>True</td>\n",
       "      <td>False</td>\n",
       "      <td>unable to normalize</td>\n",
       "      <td>[\"Unable to find valid result for classificati...</td>\n",
       "      <td>[244]</td>\n",
       "    </tr>\n",
       "    <tr>\n",
       "      <th>4</th>\n",
       "      <td>4004</td>\n",
       "      <td>TERT C250T</td>\n",
       "      <td>protein</td>\n",
       "      <td>False</td>\n",
       "      <td>False</td>\n",
       "      <td>unable to normalize</td>\n",
       "      <td>[\"Unable to find valid result for classificati...</td>\n",
       "      <td>[3872]</td>\n",
       "    </tr>\n",
       "  </tbody>\n",
       "</table>\n",
       "</div>"
      ],
      "text/plain": [
       "   variant_id       query query_type  variant_accepted  exception_raised   \n",
       "0         748  MLH1 *757L    protein              True             False  \\\n",
       "1        3718    AR A748V    protein             False             False   \n",
       "2        3725    AR A765T    protein             False             False   \n",
       "3         248  TERT C228T    protein              True             False   \n",
       "4        4004  TERT C250T    protein             False             False   \n",
       "\n",
       "               message                                           warnings   \n",
       "0  unable to normalize  [\"Unable to find valid result for classificati...  \\\n",
       "1  unable to normalize  [\"Unable to find valid result for classificati...   \n",
       "2  unable to normalize  [\"Unable to find valid result for classificati...   \n",
       "3  unable to normalize  [\"Unable to find valid result for classificati...   \n",
       "4  unable to normalize  [\"Unable to find valid result for classificati...   \n",
       "\n",
       "  molecular_profile_id  \n",
       "0                [729]  \n",
       "1               [3586]  \n",
       "2               [3593]  \n",
       "3                [244]  \n",
       "4               [3872]  "
      ]
     },
     "execution_count": 303,
     "metadata": {},
     "output_type": "execute_result"
    }
   ],
   "source": [
    "not_normalized_queries_add_molprof_df = not_normalized_quer_df.copy()\n",
    "not_normalized_variants_molprof_id = []\n",
    "\n",
    "for v in not_normalized_variant_id_list:\n",
    "    not_normalized_variant_molprof_id_list = []\n",
    "\n",
    "    for variant in civic_variant_ids:\n",
    "        if int(v) == variant.id:\n",
    "\n",
    "            for mp in variant.molecular_profiles:\n",
    "                    if mp.id not in not_normalized_variant_molprof_id_list:\n",
    "                        not_normalized_variant_molprof_id_list.append(mp.id)\n",
    "\n",
    "            not_normalized_variant_molprof_id_list = not_normalized_variant_molprof_id_list or \"\"\n",
    "\n",
    "    not_normalized_variants_molprof_id.append(not_normalized_variant_molprof_id_list)\n",
    "    \n",
    "not_normalized_queries_add_molprof_df[\"molecular_profile_id\"] = not_normalized_variants_molprof_id\n",
    "not_normalized_queries_add_molprof_df.head()"
   ]
  },
  {
   "cell_type": "code",
   "execution_count": 304,
   "metadata": {},
   "outputs": [],
   "source": [
    "not_normalized_variant_molprof_id_list = list(not_normalized_queries_add_molprof_df[\"molecular_profile_id\"])"
   ]
  },
  {
   "cell_type": "markdown",
   "metadata": {},
   "source": [
    "### Import molecular profile scores"
   ]
  },
  {
   "cell_type": "code",
   "execution_count": 305,
   "metadata": {},
   "outputs": [
    {
     "data": {
      "text/html": [
       "<div>\n",
       "<style scoped>\n",
       "    .dataframe tbody tr th:only-of-type {\n",
       "        vertical-align: middle;\n",
       "    }\n",
       "\n",
       "    .dataframe tbody tr th {\n",
       "        vertical-align: top;\n",
       "    }\n",
       "\n",
       "    .dataframe thead th {\n",
       "        text-align: right;\n",
       "    }\n",
       "</style>\n",
       "<table border=\"1\" class=\"dataframe\">\n",
       "  <thead>\n",
       "    <tr style=\"text-align: right;\">\n",
       "      <th></th>\n",
       "      <th>variant_id</th>\n",
       "      <th>query</th>\n",
       "      <th>query_type</th>\n",
       "      <th>variant_accepted</th>\n",
       "      <th>exception_raised</th>\n",
       "      <th>message</th>\n",
       "      <th>warnings</th>\n",
       "      <th>molecular_profile_id</th>\n",
       "      <th>molecular_profile_score</th>\n",
       "    </tr>\n",
       "  </thead>\n",
       "  <tbody>\n",
       "    <tr>\n",
       "      <th>0</th>\n",
       "      <td>748</td>\n",
       "      <td>MLH1 *757L</td>\n",
       "      <td>protein</td>\n",
       "      <td>True</td>\n",
       "      <td>False</td>\n",
       "      <td>unable to normalize</td>\n",
       "      <td>[\"Unable to find valid result for classificati...</td>\n",
       "      <td>[729]</td>\n",
       "      <td>[2.5]</td>\n",
       "    </tr>\n",
       "    <tr>\n",
       "      <th>1</th>\n",
       "      <td>3718</td>\n",
       "      <td>AR A748V</td>\n",
       "      <td>protein</td>\n",
       "      <td>False</td>\n",
       "      <td>False</td>\n",
       "      <td>unable to normalize</td>\n",
       "      <td>[\"Unable to find valid result for classificati...</td>\n",
       "      <td>[3586]</td>\n",
       "      <td>[0.0]</td>\n",
       "    </tr>\n",
       "    <tr>\n",
       "      <th>2</th>\n",
       "      <td>3725</td>\n",
       "      <td>AR A765T</td>\n",
       "      <td>protein</td>\n",
       "      <td>False</td>\n",
       "      <td>False</td>\n",
       "      <td>unable to normalize</td>\n",
       "      <td>[\"Unable to find valid result for classificati...</td>\n",
       "      <td>[3593]</td>\n",
       "      <td>[0.0]</td>\n",
       "    </tr>\n",
       "    <tr>\n",
       "      <th>3</th>\n",
       "      <td>248</td>\n",
       "      <td>TERT C228T</td>\n",
       "      <td>protein</td>\n",
       "      <td>True</td>\n",
       "      <td>False</td>\n",
       "      <td>unable to normalize</td>\n",
       "      <td>[\"Unable to find valid result for classificati...</td>\n",
       "      <td>[244]</td>\n",
       "      <td>[40.0]</td>\n",
       "    </tr>\n",
       "    <tr>\n",
       "      <th>4</th>\n",
       "      <td>4004</td>\n",
       "      <td>TERT C250T</td>\n",
       "      <td>protein</td>\n",
       "      <td>False</td>\n",
       "      <td>False</td>\n",
       "      <td>unable to normalize</td>\n",
       "      <td>[\"Unable to find valid result for classificati...</td>\n",
       "      <td>[3872]</td>\n",
       "      <td>[0.0]</td>\n",
       "    </tr>\n",
       "  </tbody>\n",
       "</table>\n",
       "</div>"
      ],
      "text/plain": [
       "   variant_id       query query_type  variant_accepted  exception_raised   \n",
       "0         748  MLH1 *757L    protein              True             False  \\\n",
       "1        3718    AR A748V    protein             False             False   \n",
       "2        3725    AR A765T    protein             False             False   \n",
       "3         248  TERT C228T    protein              True             False   \n",
       "4        4004  TERT C250T    protein             False             False   \n",
       "\n",
       "               message                                           warnings   \n",
       "0  unable to normalize  [\"Unable to find valid result for classificati...  \\\n",
       "1  unable to normalize  [\"Unable to find valid result for classificati...   \n",
       "2  unable to normalize  [\"Unable to find valid result for classificati...   \n",
       "3  unable to normalize  [\"Unable to find valid result for classificati...   \n",
       "4  unable to normalize  [\"Unable to find valid result for classificati...   \n",
       "\n",
       "  molecular_profile_id molecular_profile_score  \n",
       "0                [729]                   [2.5]  \n",
       "1               [3586]                   [0.0]  \n",
       "2               [3593]                   [0.0]  \n",
       "3                [244]                  [40.0]  \n",
       "4               [3872]                   [0.0]  "
      ]
     },
     "execution_count": 305,
     "metadata": {},
     "output_type": "execute_result"
    }
   ],
   "source": [
    "not_normalized_variants_molprof_score = []\n",
    "\n",
    "for mp_list in not_normalized_variant_molprof_id_list:\n",
    "    not_normalized_variant_molprof_score_list = []\n",
    "    for mp in mp_list:\n",
    "        \n",
    "        for molprof in civic_molprof_ids: \n",
    "            if int(mp) == molprof.id:\n",
    "\n",
    "                if molprof.molecular_profile_score not in not_normalized_variant_molprof_score_list:\n",
    "                    not_normalized_variant_molprof_score_list.append(molprof.molecular_profile_score)\n",
    "                not_normalized_variant_molprof_score_list = not_normalized_variant_molprof_score_list or \"\"\n",
    "\n",
    "    not_normalized_variants_molprof_score.append(not_normalized_variant_molprof_score_list)\n",
    "\n",
    "not_normalized_queries_add_molprof_df[\"molecular_profile_score\"] = not_normalized_variants_molprof_score\n",
    "\n",
    "not_normalized_queries_add_molprof_df.head()"
   ]
  },
  {
   "cell_type": "code",
   "execution_count": 306,
   "metadata": {},
   "outputs": [
    {
     "data": {
      "text/html": [
       "<div>\n",
       "<style scoped>\n",
       "    .dataframe tbody tr th:only-of-type {\n",
       "        vertical-align: middle;\n",
       "    }\n",
       "\n",
       "    .dataframe tbody tr th {\n",
       "        vertical-align: top;\n",
       "    }\n",
       "\n",
       "    .dataframe thead th {\n",
       "        text-align: right;\n",
       "    }\n",
       "</style>\n",
       "<table border=\"1\" class=\"dataframe\">\n",
       "  <thead>\n",
       "    <tr style=\"text-align: right;\">\n",
       "      <th></th>\n",
       "      <th>variant_id</th>\n",
       "      <th>query</th>\n",
       "      <th>query_type</th>\n",
       "      <th>variant_accepted</th>\n",
       "      <th>exception_raised</th>\n",
       "      <th>message</th>\n",
       "      <th>warnings</th>\n",
       "      <th>molecular_profile_id</th>\n",
       "      <th>molecular_profile_score</th>\n",
       "      <th>molecular_profile_score_sum</th>\n",
       "    </tr>\n",
       "  </thead>\n",
       "  <tbody>\n",
       "    <tr>\n",
       "      <th>0</th>\n",
       "      <td>748</td>\n",
       "      <td>MLH1 *757L</td>\n",
       "      <td>protein</td>\n",
       "      <td>True</td>\n",
       "      <td>False</td>\n",
       "      <td>unable to normalize</td>\n",
       "      <td>[\"Unable to find valid result for classificati...</td>\n",
       "      <td>[729]</td>\n",
       "      <td>[2.5]</td>\n",
       "      <td>2.5</td>\n",
       "    </tr>\n",
       "    <tr>\n",
       "      <th>1</th>\n",
       "      <td>3718</td>\n",
       "      <td>AR A748V</td>\n",
       "      <td>protein</td>\n",
       "      <td>False</td>\n",
       "      <td>False</td>\n",
       "      <td>unable to normalize</td>\n",
       "      <td>[\"Unable to find valid result for classificati...</td>\n",
       "      <td>[3586]</td>\n",
       "      <td>[0.0]</td>\n",
       "      <td>0.0</td>\n",
       "    </tr>\n",
       "    <tr>\n",
       "      <th>2</th>\n",
       "      <td>3725</td>\n",
       "      <td>AR A765T</td>\n",
       "      <td>protein</td>\n",
       "      <td>False</td>\n",
       "      <td>False</td>\n",
       "      <td>unable to normalize</td>\n",
       "      <td>[\"Unable to find valid result for classificati...</td>\n",
       "      <td>[3593]</td>\n",
       "      <td>[0.0]</td>\n",
       "      <td>0.0</td>\n",
       "    </tr>\n",
       "    <tr>\n",
       "      <th>3</th>\n",
       "      <td>248</td>\n",
       "      <td>TERT C228T</td>\n",
       "      <td>protein</td>\n",
       "      <td>True</td>\n",
       "      <td>False</td>\n",
       "      <td>unable to normalize</td>\n",
       "      <td>[\"Unable to find valid result for classificati...</td>\n",
       "      <td>[244]</td>\n",
       "      <td>[40.0]</td>\n",
       "      <td>40.0</td>\n",
       "    </tr>\n",
       "    <tr>\n",
       "      <th>4</th>\n",
       "      <td>4004</td>\n",
       "      <td>TERT C250T</td>\n",
       "      <td>protein</td>\n",
       "      <td>False</td>\n",
       "      <td>False</td>\n",
       "      <td>unable to normalize</td>\n",
       "      <td>[\"Unable to find valid result for classificati...</td>\n",
       "      <td>[3872]</td>\n",
       "      <td>[0.0]</td>\n",
       "      <td>0.0</td>\n",
       "    </tr>\n",
       "  </tbody>\n",
       "</table>\n",
       "</div>"
      ],
      "text/plain": [
       "   variant_id       query query_type  variant_accepted  exception_raised   \n",
       "0         748  MLH1 *757L    protein              True             False  \\\n",
       "1        3718    AR A748V    protein             False             False   \n",
       "2        3725    AR A765T    protein             False             False   \n",
       "3         248  TERT C228T    protein              True             False   \n",
       "4        4004  TERT C250T    protein             False             False   \n",
       "\n",
       "               message                                           warnings   \n",
       "0  unable to normalize  [\"Unable to find valid result for classificati...  \\\n",
       "1  unable to normalize  [\"Unable to find valid result for classificati...   \n",
       "2  unable to normalize  [\"Unable to find valid result for classificati...   \n",
       "3  unable to normalize  [\"Unable to find valid result for classificati...   \n",
       "4  unable to normalize  [\"Unable to find valid result for classificati...   \n",
       "\n",
       "  molecular_profile_id molecular_profile_score  molecular_profile_score_sum  \n",
       "0                [729]                   [2.5]                          2.5  \n",
       "1               [3586]                   [0.0]                          0.0  \n",
       "2               [3593]                   [0.0]                          0.0  \n",
       "3                [244]                  [40.0]                         40.0  \n",
       "4               [3872]                   [0.0]                          0.0  "
      ]
     },
     "execution_count": 306,
     "metadata": {},
     "output_type": "execute_result"
    }
   ],
   "source": [
    "not_normalized_queries_add_molprof_df['molecular_profile_score_sum'] = not_normalized_queries_add_molprof_df['molecular_profile_score'].apply(lambda x: sum(x))\n",
    "not_normalized_queries_add_molprof_df.head()"
   ]
  },
  {
   "cell_type": "markdown",
   "metadata": {},
   "source": [
    "# Analysis of Not Supported Variants"
   ]
  },
  {
   "cell_type": "markdown",
   "metadata": {},
   "source": [
    "### List of Not Supported Variant ID's"
   ]
  },
  {
   "cell_type": "code",
   "execution_count": 307,
   "metadata": {},
   "outputs": [
    {
     "data": {
      "text/html": [
       "<div>\n",
       "<style scoped>\n",
       "    .dataframe tbody tr th:only-of-type {\n",
       "        vertical-align: middle;\n",
       "    }\n",
       "\n",
       "    .dataframe tbody tr th {\n",
       "        vertical-align: top;\n",
       "    }\n",
       "\n",
       "    .dataframe thead th {\n",
       "        text-align: right;\n",
       "    }\n",
       "</style>\n",
       "<table border=\"1\" class=\"dataframe\">\n",
       "  <thead>\n",
       "    <tr style=\"text-align: right;\">\n",
       "      <th></th>\n",
       "      <th>variant_id</th>\n",
       "      <th>gene_name</th>\n",
       "      <th>variant_name</th>\n",
       "      <th>category</th>\n",
       "      <th>variant_accepted</th>\n",
       "    </tr>\n",
       "  </thead>\n",
       "  <tbody>\n",
       "    <tr>\n",
       "      <th>0</th>\n",
       "      <td>4170</td>\n",
       "      <td>VHL</td>\n",
       "      <td>NaN</td>\n",
       "      <td>Transcript Variant</td>\n",
       "      <td>False</td>\n",
       "    </tr>\n",
       "    <tr>\n",
       "      <th>1</th>\n",
       "      <td>4417</td>\n",
       "      <td>ALK</td>\n",
       "      <td>FBXO11::ALK</td>\n",
       "      <td>Fusion</td>\n",
       "      <td>False</td>\n",
       "    </tr>\n",
       "    <tr>\n",
       "      <th>2</th>\n",
       "      <td>4214</td>\n",
       "      <td>VHL</td>\n",
       "      <td>NaN</td>\n",
       "      <td>Transcript Variant</td>\n",
       "      <td>False</td>\n",
       "    </tr>\n",
       "    <tr>\n",
       "      <th>3</th>\n",
       "      <td>4216</td>\n",
       "      <td>VHL</td>\n",
       "      <td>NaN</td>\n",
       "      <td>Transcript Variant</td>\n",
       "      <td>False</td>\n",
       "    </tr>\n",
       "    <tr>\n",
       "      <th>4</th>\n",
       "      <td>4278</td>\n",
       "      <td>VHL</td>\n",
       "      <td>NaN</td>\n",
       "      <td>Transcript Variant</td>\n",
       "      <td>False</td>\n",
       "    </tr>\n",
       "  </tbody>\n",
       "</table>\n",
       "</div>"
      ],
      "text/plain": [
       "   variant_id gene_name  variant_name            category  variant_accepted\n",
       "0        4170       VHL           NaN  Transcript Variant             False\n",
       "1        4417       ALK   FBXO11::ALK              Fusion             False\n",
       "2        4214       VHL           NaN  Transcript Variant             False\n",
       "3        4216       VHL           NaN  Transcript Variant             False\n",
       "4        4278       VHL           NaN  Transcript Variant             False"
      ]
     },
     "execution_count": 307,
     "metadata": {},
     "output_type": "execute_result"
    }
   ],
   "source": [
    "not_supported_variants_df = pd.read_csv(\"./not_supported_variants.csv\", sep= \"\\t\")\n",
    "not_supported_variants_df.head()"
   ]
  },
  {
   "cell_type": "code",
   "execution_count": 308,
   "metadata": {},
   "outputs": [],
   "source": [
    "not_supported_variants_df = not_supported_variants_df.drop_duplicates(subset=['variant_id'])"
   ]
  },
  {
   "cell_type": "code",
   "execution_count": 309,
   "metadata": {},
   "outputs": [],
   "source": [
    "not_supported_variant_id_list = list(not_supported_variants_df[\"variant_id\"])"
   ]
  },
  {
   "cell_type": "markdown",
   "metadata": {},
   "source": [
    "## Variant Analysis"
   ]
  },
  {
   "cell_type": "code",
   "execution_count": 310,
   "metadata": {},
   "outputs": [
    {
     "data": {
      "text/plain": [
       "'Number of Not Supported Variants in CIViC:  1621 / 3553'"
      ]
     },
     "execution_count": 310,
     "metadata": {},
     "output_type": "execute_result"
    }
   ],
   "source": [
    "total_number_unique_not_supported_variants = len(set(not_supported_variants_df.variant_id))\n",
    "fraction_not_supported_variants = f\" {total_number_unique_not_supported_variants} / {total_number_variants}\"\n",
    "f\"Number of Not Supported Variants in CIViC: {fraction_not_supported_variants}\""
   ]
  },
  {
   "cell_type": "code",
   "execution_count": 311,
   "metadata": {},
   "outputs": [
    {
     "data": {
      "text/plain": [
       "'Percentage of Not Supported Variants in CIViC: 45.62%'"
      ]
     },
     "execution_count": 311,
     "metadata": {},
     "output_type": "execute_result"
    }
   ],
   "source": [
    "percentage_not_supported_variants = \"{:.2f}\".format(total_number_unique_not_supported_variants/total_number_variants*100) + \"%\"\n",
    "f\"Percentage of Not Supported Variants in CIViC: {percentage_not_supported_variants}\""
   ]
  },
  {
   "cell_type": "code",
   "execution_count": 312,
   "metadata": {},
   "outputs": [
    {
     "data": {
      "text/plain": [
       "variant_accepted\n",
       "False    833\n",
       "True     788\n",
       "Name: count, dtype: int64"
      ]
     },
     "execution_count": 312,
     "metadata": {},
     "output_type": "execute_result"
    }
   ],
   "source": [
    "not_supported_variants_df.variant_accepted.value_counts()"
   ]
  },
  {
   "cell_type": "code",
   "execution_count": 313,
   "metadata": {},
   "outputs": [
    {
     "data": {
      "text/plain": [
       "'Number of not accepted Not Supported Variants: 833 / 1621'"
      ]
     },
     "execution_count": 313,
     "metadata": {},
     "output_type": "execute_result"
    }
   ],
   "source": [
    "number_not_accepted_not_supported_variants = len(not_supported_variants_df) - not_supported_variants_df.variant_accepted.sum()\n",
    "fraction_not_accepted_not_supported_variants = f\"{number_not_accepted_not_supported_variants} / {total_number_unique_not_supported_variants}\"\n",
    "f\"Number of not accepted Not Supported Variants: {fraction_not_accepted_not_supported_variants}\""
   ]
  },
  {
   "cell_type": "code",
   "execution_count": 314,
   "metadata": {},
   "outputs": [
    {
     "data": {
      "text/plain": [
       "'Percentage of not accepted Not Supported Variants: 51.39%'"
      ]
     },
     "execution_count": 314,
     "metadata": {},
     "output_type": "execute_result"
    }
   ],
   "source": [
    "percentage_not_accepted_not_supported_variants = \"{:.2f}\".format(number_not_accepted_not_supported_variants/total_number_unique_not_supported_variants*100) + \"%\"\n",
    "f\"Percentage of not accepted Not Supported Variants: {percentage_not_accepted_not_supported_variants}\""
   ]
  },
  {
   "cell_type": "code",
   "execution_count": 315,
   "metadata": {},
   "outputs": [
    {
     "data": {
      "text/plain": [
       "'Number of accepted Not Supported Variants: 788 /1621'"
      ]
     },
     "execution_count": 315,
     "metadata": {},
     "output_type": "execute_result"
    }
   ],
   "source": [
    "number_accepted_not_supported_variants = not_supported_variants_df.variant_accepted.sum()\n",
    "fraction_accepted_not_supported_variants = f\"{number_accepted_not_supported_variants} /{total_number_unique_not_supported_variants}\"\n",
    "f\"Number of accepted Not Supported Variants: {fraction_accepted_not_supported_variants}\""
   ]
  },
  {
   "cell_type": "code",
   "execution_count": 316,
   "metadata": {},
   "outputs": [
    {
     "data": {
      "text/plain": [
       "'Percentage of accepted Not Supported Variants: 48.61%'"
      ]
     },
     "execution_count": 316,
     "metadata": {},
     "output_type": "execute_result"
    }
   ],
   "source": [
    "percentage_accepted_not_supported_variants = \"{:.2f}\".format(number_accepted_not_supported_variants/total_number_unique_not_supported_variants*100) + \"%\"\n",
    "f\"Percentage of accepted Not Supported Variants: {percentage_accepted_not_supported_variants}\""
   ]
  },
  {
   "cell_type": "markdown",
   "metadata": {},
   "source": [
    "### Not Supported Variant Analysis by Subcategory "
   ]
  },
  {
   "cell_type": "code",
   "execution_count": 317,
   "metadata": {},
   "outputs": [
    {
     "name": "stdout",
     "output_type": "stream",
     "text": [
      "Expression\n",
      "Number of Expression Variants in CIViC:  291 / 3553\n",
      "Percent of Expression Variants in CIViC: 8.19%\n",
      "Number of Expression Variants in Not Supported Variants:  291 / 1621\n",
      "Percent of Expression Variants in Not Supported Variants: 17.95%\n",
      "Number of Accepted Expression Variants:  180 / 291\n",
      "Percent of Accepted Expression Variants: 61.86%\n",
      "Number of Not Accepted Expression Variants:  111 / 291\n",
      "Percent of Not Accepted Expression Variants: 38.14%\n",
      "--------------------\n",
      "Epigenetic Modification\n",
      "Number of Epigenetic Modification Variants in CIViC:  15 / 3553\n",
      "Percent of Epigenetic Modification Variants in CIViC: 0.42%\n",
      "Number of Epigenetic Modification Variants in Not Supported Variants:  15 / 1621\n",
      "Percent of Epigenetic Modification Variants in Not Supported Variants: 0.93%\n",
      "Number of Accepted Epigenetic Modification Variants:  14 / 15\n",
      "Percent of Accepted Epigenetic Modification Variants: 93.33%\n",
      "Number of Not Accepted Epigenetic Modification Variants:  1 / 15\n",
      "Percent of Not Accepted Epigenetic Modification Variants: 6.67%\n",
      "--------------------\n",
      "Fusion\n",
      "Number of Fusion Variants in CIViC:  307 / 3553\n",
      "Percent of Fusion Variants in CIViC: 8.64%\n",
      "Number of Fusion Variants in Not Supported Variants:  307 / 1621\n",
      "Percent of Fusion Variants in Not Supported Variants: 18.94%\n",
      "Number of Accepted Fusion Variants:  204 / 307\n",
      "Percent of Accepted Fusion Variants: 66.45%\n",
      "Number of Not Accepted Fusion Variants:  103 / 307\n",
      "Percent of Not Accepted Fusion Variants: 33.55%\n",
      "--------------------\n",
      "Protein Consequence\n",
      "Number of Protein Consequence Variants in CIViC:  128 / 3553\n",
      "Percent of Protein Consequence Variants in CIViC: 3.60%\n",
      "Number of Protein Consequence Variants in Not Supported Variants:  128 / 1621\n",
      "Percent of Protein Consequence Variants in Not Supported Variants: 7.90%\n",
      "Number of Accepted Protein Consequence Variants:  70 / 128\n",
      "Percent of Accepted Protein Consequence Variants: 54.69%\n",
      "Number of Not Accepted Protein Consequence Variants:  58 / 128\n",
      "Percent of Not Accepted Protein Consequence Variants: 45.31%\n",
      "--------------------\n",
      "Gene Function\n",
      "Number of Gene Function Variants in CIViC:  90 / 3553\n",
      "Percent of Gene Function Variants in CIViC: 2.53%\n",
      "Number of Gene Function Variants in Not Supported Variants:  90 / 1621\n",
      "Percent of Gene Function Variants in Not Supported Variants: 5.55%\n",
      "Number of Accepted Gene Function Variants:  49 / 90\n",
      "Percent of Accepted Gene Function Variants: 54.44%\n",
      "Number of Not Accepted Gene Function Variants:  41 / 90\n",
      "Percent of Not Accepted Gene Function Variants: 45.56%\n",
      "--------------------\n",
      "Rearrangements\n",
      "Number of Rearrangements Variants in CIViC:  52 / 3553\n",
      "Percent of Rearrangements Variants in CIViC: 1.46%\n",
      "Number of Rearrangements Variants in Not Supported Variants:  52 / 1621\n",
      "Percent of Rearrangements Variants in Not Supported Variants: 3.21%\n",
      "Number of Accepted Rearrangements Variants:  12 / 52\n",
      "Percent of Accepted Rearrangements Variants: 23.08%\n",
      "Number of Not Accepted Rearrangements Variants:  40 / 52\n",
      "Percent of Not Accepted Rearrangements Variants: 76.92%\n",
      "--------------------\n",
      "Copy Number\n",
      "Number of Copy Number Variants in CIViC:  34 / 3553\n",
      "Percent of Copy Number Variants in CIViC: 0.96%\n",
      "Number of Copy Number Variants in Not Supported Variants:  34 / 1621\n",
      "Percent of Copy Number Variants in Not Supported Variants: 2.10%\n",
      "Number of Accepted Copy Number Variants:  19 / 34\n",
      "Percent of Accepted Copy Number Variants: 55.88%\n",
      "Number of Not Accepted Copy Number Variants:  15 / 34\n",
      "Percent of Not Accepted Copy Number Variants: 44.12%\n",
      "--------------------\n",
      "Other\n",
      "Number of Other Variants in CIViC:  93 / 3553\n",
      "Percent of Other Variants in CIViC: 2.62%\n",
      "Number of Other Variants in Not Supported Variants:  93 / 1621\n",
      "Percent of Other Variants in Not Supported Variants: 5.74%\n",
      "Number of Accepted Other Variants:  43 / 93\n",
      "Percent of Accepted Other Variants: 46.24%\n",
      "Number of Not Accepted Other Variants:  50 / 93\n",
      "Percent of Not Accepted Other Variants: 53.76%\n",
      "--------------------\n",
      "Genotypes Easy\n",
      "Number of Genotypes Easy Variants in CIViC:  11 / 3553\n",
      "Percent of Genotypes Easy Variants in CIViC: 0.31%\n",
      "Number of Genotypes Easy Variants in Not Supported Variants:  11 / 1621\n",
      "Percent of Genotypes Easy Variants in Not Supported Variants: 0.68%\n",
      "Number of Accepted Genotypes Easy Variants:  8 / 11\n",
      "Percent of Accepted Genotypes Easy Variants: 72.73%\n",
      "Number of Not Accepted Genotypes Easy Variants:  3 / 11\n",
      "Percent of Not Accepted Genotypes Easy Variants: 27.27%\n",
      "--------------------\n",
      "Genotypes Compound\n",
      "Number of Genotypes Compound Variants in CIViC:  6 / 3553\n",
      "Percent of Genotypes Compound Variants in CIViC: 0.17%\n",
      "Number of Genotypes Compound Variants in Not Supported Variants:  6 / 1621\n",
      "Percent of Genotypes Compound Variants in Not Supported Variants: 0.37%\n",
      "Number of Accepted Genotypes Compound Variants:  4 / 6\n",
      "Percent of Accepted Genotypes Compound Variants: 66.67%\n",
      "Number of Not Accepted Genotypes Compound Variants:  2 / 6\n",
      "Percent of Not Accepted Genotypes Compound Variants: 33.33%\n",
      "--------------------\n",
      "Region Defined Variant\n",
      "Number of Region Defined Variant Variants in CIViC:  209 / 3553\n",
      "Percent of Region Defined Variant Variants in CIViC: 5.88%\n",
      "Number of Region Defined Variant Variants in Not Supported Variants:  209 / 1621\n",
      "Percent of Region Defined Variant Variants in Not Supported Variants: 12.89%\n",
      "Number of Accepted Region Defined Variant Variants:  134 / 209\n",
      "Percent of Accepted Region Defined Variant Variants: 64.11%\n",
      "Number of Not Accepted Region Defined Variant Variants:  75 / 209\n",
      "Percent of Not Accepted Region Defined Variant Variants: 35.89%\n",
      "--------------------\n",
      "Transcript Variant\n",
      "Number of Transcript Variant Variants in CIViC:  385 / 3553\n",
      "Percent of Transcript Variant Variants in CIViC: 10.84%\n",
      "Number of Transcript Variant Variants in Not Supported Variants:  385 / 1621\n",
      "Percent of Transcript Variant Variants in Not Supported Variants: 23.75%\n",
      "Number of Accepted Transcript Variant Variants:  51 / 385\n",
      "Percent of Accepted Transcript Variant Variants: 13.25%\n",
      "Number of Not Accepted Transcript Variant Variants:  334 / 385\n",
      "Percent of Not Accepted Transcript Variant Variants: 86.75%\n",
      "--------------------\n"
     ]
    }
   ],
   "source": [
    "not_supported_variant_categories_summary_data = dict()\n",
    "for category in [\"Expression\", \"Epigenetic Modification\", \"Fusion\", \"Protein Consequence\", \"Gene Function\", \"Rearrangements\", \"Copy Number\", \"Other\", \"Genotypes Easy\", \"Genotypes Compound\", \"Region Defined Variant\", \"Transcript Variant\"]:\n",
    "    print(category)\n",
    "    not_supported_variant_categories_summary_data[category] = {}\n",
    "    category_df = not_supported_variants_df[not_supported_variants_df.category == category]\n",
    "    \n",
    "    number_unique_not_supported_category_variants = len(set(category_df.variant_id))\n",
    "    not_supported_variant_categories_summary_data[category][\"number_unique_not_supported_category_variants\"] = number_unique_not_supported_category_variants\n",
    "\n",
    "    fraction_not_supported_category_variant_of_civic = f\" {number_unique_not_supported_category_variants} / {total_number_variants}\"\n",
    "    not_supported_variant_categories_summary_data[category][\"fraction_not_supported_category_variant_of_civic\"] = fraction_not_supported_category_variant_of_civic\n",
    "    print(f\"Number of {category} Variants in CIViC: {fraction_not_supported_category_variant_of_civic}\")\n",
    "    \n",
    "    percent_not_supported_category_variant_of_civic = \"{:.2f}\".format(number_unique_not_supported_category_variants/total_number_variants*100) + \"%\"\n",
    "    not_supported_variant_categories_summary_data[category][\"percent_not_supported_category_variant_of_civic\"] = percent_not_supported_category_variant_of_civic\n",
    "    print(f\"Percent of {category} Variants in CIViC: {percent_not_supported_category_variant_of_civic}\")\n",
    "\n",
    "    fraction_not_supported_category_variant_of_total_not_supported = f\" {number_unique_not_supported_category_variants} / {total_number_unique_not_supported_variants}\"\n",
    "    not_supported_variant_categories_summary_data[category][\"fraction_not_supported_category_variant_of_total_not_supported\"] = fraction_not_supported_category_variant_of_total_not_supported\n",
    "    print(f\"Number of {category} Variants in Not Supported Variants: {fraction_not_supported_category_variant_of_total_not_supported}\")\n",
    "    \n",
    "    percent_not_supported_category_variant_of_total_not_supported = \"{:.2f}\".format(number_unique_not_supported_category_variants/total_number_unique_not_supported_variants*100) + \"%\"\n",
    "    not_supported_variant_categories_summary_data[category][\"percent_not_supported_category_variant_of_total_not_supported\"] = percent_not_supported_category_variant_of_total_not_supported\n",
    "    print(f\"Percent of {category} Variants in Not Supported Variants: {percent_not_supported_category_variant_of_total_not_supported}\")\n",
    "\n",
    "    number_accepted_not_supported_category_variants = category_df.variant_accepted.sum()\n",
    "    fraction_accepted_not_supported_category_variants = f\" {number_accepted_not_supported_category_variants} / {number_unique_not_supported_category_variants}\"\n",
    "    not_supported_variant_categories_summary_data[category][\"fraction_accepted_not_supported_category_variants\"] = fraction_accepted_not_supported_category_variants\n",
    "    print(f\"Number of Accepted {category} Variants: {fraction_accepted_not_supported_category_variants}\")\n",
    "   \n",
    "    percentage_accepted_not_supported_category_variants =  \"{:.2f}\".format(number_accepted_not_supported_category_variants/number_unique_not_supported_category_variants*100) + \"%\"\n",
    "    not_supported_variant_categories_summary_data[category][\"percentage_accepted_not_supported_category_variants\"] = percentage_accepted_not_supported_category_variants\n",
    "    print(f\"Percent of Accepted {category} Variants: {percentage_accepted_not_supported_category_variants}\")\n",
    "  \n",
    "    number_not_accepted_not_supported_category_variants =  len(category_df) - category_df.variant_accepted.sum()\n",
    "    fraction_not_accepted_not_supported_category_variants = f\" {number_not_accepted_not_supported_category_variants} / {number_unique_not_supported_category_variants}\"\n",
    "    not_supported_variant_categories_summary_data[category][\"fraction_not_accepted_not_supported_category_variants\"] = fraction_not_accepted_not_supported_category_variants\n",
    "    print(f\"Number of Not Accepted {category} Variants: {fraction_not_accepted_not_supported_category_variants}\")\n",
    "\n",
    "    percentage_not_accepted_not_supported_category_variants =  \"{:.2f}\".format(number_not_accepted_not_supported_category_variants/number_unique_not_supported_category_variants*100) + \"%\"\n",
    "    not_supported_variant_categories_summary_data[category][\"percentage_not_accepted_not_supported_category_variants\"] = percentage_not_accepted_not_supported_category_variants\n",
    "    print(f\"Percent of Not Accepted {category} Variants: {percentage_not_accepted_not_supported_category_variants}\")\n",
    "    \n",
    "    print(\"--------------------\")"
   ]
  },
  {
   "cell_type": "markdown",
   "metadata": {},
   "source": [
    "## Import evidence ID's associated with the Not Supported Variants using variant ID"
   ]
  },
  {
   "cell_type": "code",
   "execution_count": 318,
   "metadata": {},
   "outputs": [
    {
     "data": {
      "text/html": [
       "<div>\n",
       "<style scoped>\n",
       "    .dataframe tbody tr th:only-of-type {\n",
       "        vertical-align: middle;\n",
       "    }\n",
       "\n",
       "    .dataframe tbody tr th {\n",
       "        vertical-align: top;\n",
       "    }\n",
       "\n",
       "    .dataframe thead th {\n",
       "        text-align: right;\n",
       "    }\n",
       "</style>\n",
       "<table border=\"1\" class=\"dataframe\">\n",
       "  <thead>\n",
       "    <tr style=\"text-align: right;\">\n",
       "      <th></th>\n",
       "      <th>variant_id</th>\n",
       "      <th>gene_name</th>\n",
       "      <th>variant_name</th>\n",
       "      <th>category</th>\n",
       "      <th>variant_accepted</th>\n",
       "      <th>evidence_id</th>\n",
       "    </tr>\n",
       "  </thead>\n",
       "  <tbody>\n",
       "    <tr>\n",
       "      <th>0</th>\n",
       "      <td>4170</td>\n",
       "      <td>VHL</td>\n",
       "      <td>NaN</td>\n",
       "      <td>Transcript Variant</td>\n",
       "      <td>False</td>\n",
       "      <td>[10647]</td>\n",
       "    </tr>\n",
       "    <tr>\n",
       "      <th>1</th>\n",
       "      <td>4417</td>\n",
       "      <td>ALK</td>\n",
       "      <td>FBXO11::ALK</td>\n",
       "      <td>Fusion</td>\n",
       "      <td>False</td>\n",
       "      <td>[7428]</td>\n",
       "    </tr>\n",
       "    <tr>\n",
       "      <th>2</th>\n",
       "      <td>4214</td>\n",
       "      <td>VHL</td>\n",
       "      <td>NaN</td>\n",
       "      <td>Transcript Variant</td>\n",
       "      <td>False</td>\n",
       "      <td>[10752]</td>\n",
       "    </tr>\n",
       "    <tr>\n",
       "      <th>3</th>\n",
       "      <td>4216</td>\n",
       "      <td>VHL</td>\n",
       "      <td>NaN</td>\n",
       "      <td>Transcript Variant</td>\n",
       "      <td>False</td>\n",
       "      <td>[10754]</td>\n",
       "    </tr>\n",
       "    <tr>\n",
       "      <th>4</th>\n",
       "      <td>4278</td>\n",
       "      <td>VHL</td>\n",
       "      <td>NaN</td>\n",
       "      <td>Transcript Variant</td>\n",
       "      <td>False</td>\n",
       "      <td>[10958]</td>\n",
       "    </tr>\n",
       "  </tbody>\n",
       "</table>\n",
       "</div>"
      ],
      "text/plain": [
       "   variant_id gene_name  variant_name            category  variant_accepted   \n",
       "0        4170       VHL           NaN  Transcript Variant             False  \\\n",
       "1        4417       ALK   FBXO11::ALK              Fusion             False   \n",
       "2        4214       VHL           NaN  Transcript Variant             False   \n",
       "3        4216       VHL           NaN  Transcript Variant             False   \n",
       "4        4278       VHL           NaN  Transcript Variant             False   \n",
       "\n",
       "  evidence_id  \n",
       "0     [10647]  \n",
       "1      [7428]  \n",
       "2     [10752]  \n",
       "3     [10754]  \n",
       "4     [10958]  "
      ]
     },
     "execution_count": 318,
     "metadata": {},
     "output_type": "execute_result"
    }
   ],
   "source": [
    "not_supported_variants_add_evidence_df = not_supported_variants_df.copy()\n",
    "not_supported_variants_evidence_ids = []\n",
    "\n",
    "for v in not_supported_variant_id_list:\n",
    "    not_supported_variant_evidence_id_list = []\n",
    "\n",
    "    for variant in civic_variant_ids:\n",
    "        if int(v) == variant.id:\n",
    "\n",
    "            for mp in variant.molecular_profiles:\n",
    "                for e in mp.evidence_items:\n",
    "                    if e.id not in not_supported_variant_evidence_id_list:\n",
    "                        not_supported_variant_evidence_id_list.append(e.id)\n",
    "\n",
    "            not_supported_variant_evidence_id_list = not_supported_variant_evidence_id_list or \"\"\n",
    "\n",
    "    not_supported_variants_evidence_ids.append(not_supported_variant_evidence_id_list)\n",
    "\n",
    "not_supported_variants_add_evidence_df[\"evidence_id\"] = not_supported_variants_evidence_ids\n",
    "not_supported_variants_add_evidence_df.head()"
   ]
  },
  {
   "cell_type": "markdown",
   "metadata": {},
   "source": [
    "## List of Evidence ID's on Not Supported Variants"
   ]
  },
  {
   "cell_type": "code",
   "execution_count": 319,
   "metadata": {},
   "outputs": [
    {
     "data": {
      "text/html": [
       "<div>\n",
       "<style scoped>\n",
       "    .dataframe tbody tr th:only-of-type {\n",
       "        vertical-align: middle;\n",
       "    }\n",
       "\n",
       "    .dataframe tbody tr th {\n",
       "        vertical-align: top;\n",
       "    }\n",
       "\n",
       "    .dataframe thead th {\n",
       "        text-align: right;\n",
       "    }\n",
       "</style>\n",
       "<table border=\"1\" class=\"dataframe\">\n",
       "  <thead>\n",
       "    <tr style=\"text-align: right;\">\n",
       "      <th></th>\n",
       "      <th>variant_id</th>\n",
       "      <th>gene_name</th>\n",
       "      <th>variant_name</th>\n",
       "      <th>category</th>\n",
       "      <th>variant_accepted</th>\n",
       "      <th>evidence_id</th>\n",
       "    </tr>\n",
       "  </thead>\n",
       "  <tbody>\n",
       "    <tr>\n",
       "      <th>0</th>\n",
       "      <td>4170</td>\n",
       "      <td>VHL</td>\n",
       "      <td>NaN</td>\n",
       "      <td>Transcript Variant</td>\n",
       "      <td>False</td>\n",
       "      <td>10647</td>\n",
       "    </tr>\n",
       "    <tr>\n",
       "      <th>1</th>\n",
       "      <td>4417</td>\n",
       "      <td>ALK</td>\n",
       "      <td>FBXO11::ALK</td>\n",
       "      <td>Fusion</td>\n",
       "      <td>False</td>\n",
       "      <td>7428</td>\n",
       "    </tr>\n",
       "    <tr>\n",
       "      <th>2</th>\n",
       "      <td>4214</td>\n",
       "      <td>VHL</td>\n",
       "      <td>NaN</td>\n",
       "      <td>Transcript Variant</td>\n",
       "      <td>False</td>\n",
       "      <td>10752</td>\n",
       "    </tr>\n",
       "    <tr>\n",
       "      <th>3</th>\n",
       "      <td>4216</td>\n",
       "      <td>VHL</td>\n",
       "      <td>NaN</td>\n",
       "      <td>Transcript Variant</td>\n",
       "      <td>False</td>\n",
       "      <td>10754</td>\n",
       "    </tr>\n",
       "    <tr>\n",
       "      <th>4</th>\n",
       "      <td>4278</td>\n",
       "      <td>VHL</td>\n",
       "      <td>NaN</td>\n",
       "      <td>Transcript Variant</td>\n",
       "      <td>False</td>\n",
       "      <td>10958</td>\n",
       "    </tr>\n",
       "  </tbody>\n",
       "</table>\n",
       "</div>"
      ],
      "text/plain": [
       "   variant_id gene_name  variant_name            category  variant_accepted   \n",
       "0        4170       VHL           NaN  Transcript Variant             False  \\\n",
       "1        4417       ALK   FBXO11::ALK              Fusion             False   \n",
       "2        4214       VHL           NaN  Transcript Variant             False   \n",
       "3        4216       VHL           NaN  Transcript Variant             False   \n",
       "4        4278       VHL           NaN  Transcript Variant             False   \n",
       "\n",
       "  evidence_id  \n",
       "0       10647  \n",
       "1        7428  \n",
       "2       10752  \n",
       "3       10754  \n",
       "4       10958  "
      ]
     },
     "execution_count": 319,
     "metadata": {},
     "output_type": "execute_result"
    }
   ],
   "source": [
    "not_supported_variants_add_evidence_df = not_supported_variants_add_evidence_df.explode(column=\"evidence_id\")\n",
    "not_supported_variants_add_evidence_df.head()"
   ]
  },
  {
   "cell_type": "code",
   "execution_count": 320,
   "metadata": {},
   "outputs": [],
   "source": [
    "not_supported_evidence_id_list = list(not_supported_variants_add_evidence_df[\"evidence_id\"])"
   ]
  },
  {
   "cell_type": "markdown",
   "metadata": {},
   "source": [
    "## Import evidence status, rating, and level associated with a specific evidence ID"
   ]
  },
  {
   "cell_type": "code",
   "execution_count": 321,
   "metadata": {},
   "outputs": [
    {
     "data": {
      "text/html": [
       "<div>\n",
       "<style scoped>\n",
       "    .dataframe tbody tr th:only-of-type {\n",
       "        vertical-align: middle;\n",
       "    }\n",
       "\n",
       "    .dataframe tbody tr th {\n",
       "        vertical-align: top;\n",
       "    }\n",
       "\n",
       "    .dataframe thead th {\n",
       "        text-align: right;\n",
       "    }\n",
       "</style>\n",
       "<table border=\"1\" class=\"dataframe\">\n",
       "  <thead>\n",
       "    <tr style=\"text-align: right;\">\n",
       "      <th></th>\n",
       "      <th>variant_id</th>\n",
       "      <th>gene_name</th>\n",
       "      <th>variant_name</th>\n",
       "      <th>category</th>\n",
       "      <th>variant_accepted</th>\n",
       "      <th>evidence_id</th>\n",
       "      <th>evidence_status</th>\n",
       "      <th>evidence_rating</th>\n",
       "      <th>evidence_level</th>\n",
       "    </tr>\n",
       "  </thead>\n",
       "  <tbody>\n",
       "    <tr>\n",
       "      <th>0</th>\n",
       "      <td>4170</td>\n",
       "      <td>VHL</td>\n",
       "      <td>NaN</td>\n",
       "      <td>Transcript Variant</td>\n",
       "      <td>False</td>\n",
       "      <td>10647</td>\n",
       "      <td>[submitted]</td>\n",
       "      <td>[2]</td>\n",
       "      <td>[C]</td>\n",
       "    </tr>\n",
       "    <tr>\n",
       "      <th>1</th>\n",
       "      <td>4417</td>\n",
       "      <td>ALK</td>\n",
       "      <td>FBXO11::ALK</td>\n",
       "      <td>Fusion</td>\n",
       "      <td>False</td>\n",
       "      <td>7428</td>\n",
       "      <td>[submitted]</td>\n",
       "      <td>[3]</td>\n",
       "      <td>[C]</td>\n",
       "    </tr>\n",
       "    <tr>\n",
       "      <th>2</th>\n",
       "      <td>4214</td>\n",
       "      <td>VHL</td>\n",
       "      <td>NaN</td>\n",
       "      <td>Transcript Variant</td>\n",
       "      <td>False</td>\n",
       "      <td>10752</td>\n",
       "      <td>[submitted]</td>\n",
       "      <td>[3]</td>\n",
       "      <td>[C]</td>\n",
       "    </tr>\n",
       "    <tr>\n",
       "      <th>3</th>\n",
       "      <td>4216</td>\n",
       "      <td>VHL</td>\n",
       "      <td>NaN</td>\n",
       "      <td>Transcript Variant</td>\n",
       "      <td>False</td>\n",
       "      <td>10754</td>\n",
       "      <td>[submitted]</td>\n",
       "      <td>[3]</td>\n",
       "      <td>[C]</td>\n",
       "    </tr>\n",
       "    <tr>\n",
       "      <th>4</th>\n",
       "      <td>4278</td>\n",
       "      <td>VHL</td>\n",
       "      <td>NaN</td>\n",
       "      <td>Transcript Variant</td>\n",
       "      <td>False</td>\n",
       "      <td>10958</td>\n",
       "      <td>[submitted]</td>\n",
       "      <td>[3]</td>\n",
       "      <td>[C]</td>\n",
       "    </tr>\n",
       "  </tbody>\n",
       "</table>\n",
       "</div>"
      ],
      "text/plain": [
       "   variant_id gene_name  variant_name            category  variant_accepted   \n",
       "0        4170       VHL           NaN  Transcript Variant             False  \\\n",
       "1        4417       ALK   FBXO11::ALK              Fusion             False   \n",
       "2        4214       VHL           NaN  Transcript Variant             False   \n",
       "3        4216       VHL           NaN  Transcript Variant             False   \n",
       "4        4278       VHL           NaN  Transcript Variant             False   \n",
       "\n",
       "  evidence_id evidence_status evidence_rating evidence_level  \n",
       "0       10647     [submitted]             [2]            [C]  \n",
       "1        7428     [submitted]             [3]            [C]  \n",
       "2       10752     [submitted]             [3]            [C]  \n",
       "3       10754     [submitted]             [3]            [C]  \n",
       "4       10958     [submitted]             [3]            [C]  "
      ]
     },
     "execution_count": 321,
     "metadata": {},
     "output_type": "execute_result"
    }
   ],
   "source": [
    "not_supported_variants_evidence_statuses = []\n",
    "not_supported_variants_evidence_ratings = []\n",
    "not_supported_variants_evidence_levels = []\n",
    "\n",
    "for e in not_supported_evidence_id_list:\n",
    "    not_supported_variant_evidence_status_list = []\n",
    "    not_supported_variant_evidence_rating_list = []\n",
    "    not_supported_variant_evidence_level_list = []\n",
    "\n",
    "    for evidence in civic_evidence_ids:\n",
    "        if int(e) == evidence.id:\n",
    "\n",
    "            if evidence.status not in not_supported_variant_evidence_status_list:\n",
    "                not_supported_variant_evidence_status_list.append(evidence.status)\n",
    "            not_supported_variant_evidence_status_list = not_supported_variant_evidence_status_list or \"\"\n",
    "\n",
    "            if evidence.rating not in not_supported_variant_evidence_rating_list:\n",
    "                not_supported_variant_evidence_rating_list.append(evidence.rating)\n",
    "            not_supported_variant_evidence_rating_list = not_supported_variant_evidence_rating_list or \"\"\n",
    "\n",
    "            if evidence.evidence_level not in not_supported_variant_evidence_level_list:\n",
    "                not_supported_variant_evidence_level_list.append(evidence.evidence_level)\n",
    "            not_supported_variant_evidence_level_list = not_supported_variant_evidence_level_list or \"\"\n",
    "\n",
    "    not_supported_variants_evidence_statuses.append(not_supported_variant_evidence_status_list)\n",
    "    not_supported_variants_evidence_ratings.append(not_supported_variant_evidence_rating_list)\n",
    "    not_supported_variants_evidence_levels.append(not_supported_variant_evidence_level_list)\n",
    "\n",
    "not_supported_variants_add_evidence_df[\"evidence_status\"] = not_supported_variants_evidence_statuses\n",
    "not_supported_variants_add_evidence_df[\"evidence_rating\"] = not_supported_variants_evidence_ratings\n",
    "not_supported_variants_add_evidence_df[\"evidence_level\"] = not_supported_variants_evidence_levels\n",
    "not_supported_variants_add_evidence_df.head()"
   ]
  },
  {
   "cell_type": "markdown",
   "metadata": {},
   "source": [
    "Remove all evidence items that have been rejected"
   ]
  },
  {
   "cell_type": "code",
   "execution_count": 322,
   "metadata": {},
   "outputs": [
    {
     "data": {
      "text/html": [
       "<div>\n",
       "<style scoped>\n",
       "    .dataframe tbody tr th:only-of-type {\n",
       "        vertical-align: middle;\n",
       "    }\n",
       "\n",
       "    .dataframe tbody tr th {\n",
       "        vertical-align: top;\n",
       "    }\n",
       "\n",
       "    .dataframe thead th {\n",
       "        text-align: right;\n",
       "    }\n",
       "</style>\n",
       "<table border=\"1\" class=\"dataframe\">\n",
       "  <thead>\n",
       "    <tr style=\"text-align: right;\">\n",
       "      <th></th>\n",
       "      <th>variant_id</th>\n",
       "      <th>gene_name</th>\n",
       "      <th>variant_name</th>\n",
       "      <th>category</th>\n",
       "      <th>variant_accepted</th>\n",
       "      <th>evidence_id</th>\n",
       "      <th>evidence_status</th>\n",
       "      <th>evidence_rating</th>\n",
       "      <th>evidence_level</th>\n",
       "    </tr>\n",
       "  </thead>\n",
       "  <tbody>\n",
       "    <tr>\n",
       "      <th>0</th>\n",
       "      <td>4170</td>\n",
       "      <td>VHL</td>\n",
       "      <td>NaN</td>\n",
       "      <td>Transcript Variant</td>\n",
       "      <td>False</td>\n",
       "      <td>10647</td>\n",
       "      <td>[submitted]</td>\n",
       "      <td>[2]</td>\n",
       "      <td>[C]</td>\n",
       "    </tr>\n",
       "    <tr>\n",
       "      <th>1</th>\n",
       "      <td>4417</td>\n",
       "      <td>ALK</td>\n",
       "      <td>FBXO11::ALK</td>\n",
       "      <td>Fusion</td>\n",
       "      <td>False</td>\n",
       "      <td>7428</td>\n",
       "      <td>[submitted]</td>\n",
       "      <td>[3]</td>\n",
       "      <td>[C]</td>\n",
       "    </tr>\n",
       "    <tr>\n",
       "      <th>2</th>\n",
       "      <td>4214</td>\n",
       "      <td>VHL</td>\n",
       "      <td>NaN</td>\n",
       "      <td>Transcript Variant</td>\n",
       "      <td>False</td>\n",
       "      <td>10752</td>\n",
       "      <td>[submitted]</td>\n",
       "      <td>[3]</td>\n",
       "      <td>[C]</td>\n",
       "    </tr>\n",
       "    <tr>\n",
       "      <th>3</th>\n",
       "      <td>4216</td>\n",
       "      <td>VHL</td>\n",
       "      <td>NaN</td>\n",
       "      <td>Transcript Variant</td>\n",
       "      <td>False</td>\n",
       "      <td>10754</td>\n",
       "      <td>[submitted]</td>\n",
       "      <td>[3]</td>\n",
       "      <td>[C]</td>\n",
       "    </tr>\n",
       "    <tr>\n",
       "      <th>4</th>\n",
       "      <td>4278</td>\n",
       "      <td>VHL</td>\n",
       "      <td>NaN</td>\n",
       "      <td>Transcript Variant</td>\n",
       "      <td>False</td>\n",
       "      <td>10958</td>\n",
       "      <td>[submitted]</td>\n",
       "      <td>[3]</td>\n",
       "      <td>[C]</td>\n",
       "    </tr>\n",
       "    <tr>\n",
       "      <th>...</th>\n",
       "      <td>...</td>\n",
       "      <td>...</td>\n",
       "      <td>...</td>\n",
       "      <td>...</td>\n",
       "      <td>...</td>\n",
       "      <td>...</td>\n",
       "      <td>...</td>\n",
       "      <td>...</td>\n",
       "      <td>...</td>\n",
       "    </tr>\n",
       "    <tr>\n",
       "      <th>1618</th>\n",
       "      <td>3478</td>\n",
       "      <td>ESR2</td>\n",
       "      <td>underexpression beta-1</td>\n",
       "      <td>Other</td>\n",
       "      <td>False</td>\n",
       "      <td>9618</td>\n",
       "      <td>[submitted]</td>\n",
       "      <td>[4]</td>\n",
       "      <td>[B]</td>\n",
       "    </tr>\n",
       "    <tr>\n",
       "      <th>1618</th>\n",
       "      <td>3478</td>\n",
       "      <td>ESR2</td>\n",
       "      <td>underexpression beta-1</td>\n",
       "      <td>Other</td>\n",
       "      <td>False</td>\n",
       "      <td>9619</td>\n",
       "      <td>[submitted]</td>\n",
       "      <td>[4]</td>\n",
       "      <td>[B]</td>\n",
       "    </tr>\n",
       "    <tr>\n",
       "      <th>1619</th>\n",
       "      <td>3508</td>\n",
       "      <td>CD274</td>\n",
       "      <td>v242</td>\n",
       "      <td>Protein Consequence</td>\n",
       "      <td>False</td>\n",
       "      <td>9695</td>\n",
       "      <td>[submitted]</td>\n",
       "      <td>[4]</td>\n",
       "      <td>[E]</td>\n",
       "    </tr>\n",
       "    <tr>\n",
       "      <th>1620</th>\n",
       "      <td>2422</td>\n",
       "      <td>NTRK3</td>\n",
       "      <td>~DEPRECATED-ETV6-NTRK3</td>\n",
       "      <td>Other</td>\n",
       "      <td>False</td>\n",
       "      <td>10692</td>\n",
       "      <td>[submitted]</td>\n",
       "      <td>[3]</td>\n",
       "      <td>[C]</td>\n",
       "    </tr>\n",
       "    <tr>\n",
       "      <th>1620</th>\n",
       "      <td>2422</td>\n",
       "      <td>NTRK3</td>\n",
       "      <td>~DEPRECATED-ETV6-NTRK3</td>\n",
       "      <td>Other</td>\n",
       "      <td>False</td>\n",
       "      <td>10717</td>\n",
       "      <td>[submitted]</td>\n",
       "      <td>[3]</td>\n",
       "      <td>[C]</td>\n",
       "    </tr>\n",
       "  </tbody>\n",
       "</table>\n",
       "<p>4360 rows × 9 columns</p>\n",
       "</div>"
      ],
      "text/plain": [
       "      variant_id gene_name            variant_name             category   \n",
       "0           4170       VHL                     NaN   Transcript Variant  \\\n",
       "1           4417       ALK             FBXO11::ALK               Fusion   \n",
       "2           4214       VHL                     NaN   Transcript Variant   \n",
       "3           4216       VHL                     NaN   Transcript Variant   \n",
       "4           4278       VHL                     NaN   Transcript Variant   \n",
       "...          ...       ...                     ...                  ...   \n",
       "1618        3478      ESR2  underexpression beta-1                Other   \n",
       "1618        3478      ESR2  underexpression beta-1                Other   \n",
       "1619        3508     CD274                    v242  Protein Consequence   \n",
       "1620        2422     NTRK3  ~DEPRECATED-ETV6-NTRK3                Other   \n",
       "1620        2422     NTRK3  ~DEPRECATED-ETV6-NTRK3                Other   \n",
       "\n",
       "      variant_accepted evidence_id evidence_status evidence_rating   \n",
       "0                False       10647     [submitted]             [2]  \\\n",
       "1                False        7428     [submitted]             [3]   \n",
       "2                False       10752     [submitted]             [3]   \n",
       "3                False       10754     [submitted]             [3]   \n",
       "4                False       10958     [submitted]             [3]   \n",
       "...                ...         ...             ...             ...   \n",
       "1618             False        9618     [submitted]             [4]   \n",
       "1618             False        9619     [submitted]             [4]   \n",
       "1619             False        9695     [submitted]             [4]   \n",
       "1620             False       10692     [submitted]             [3]   \n",
       "1620             False       10717     [submitted]             [3]   \n",
       "\n",
       "     evidence_level  \n",
       "0               [C]  \n",
       "1               [C]  \n",
       "2               [C]  \n",
       "3               [C]  \n",
       "4               [C]  \n",
       "...             ...  \n",
       "1618            [B]  \n",
       "1618            [B]  \n",
       "1619            [E]  \n",
       "1620            [C]  \n",
       "1620            [C]  \n",
       "\n",
       "[4360 rows x 9 columns]"
      ]
     },
     "execution_count": 322,
     "metadata": {},
     "output_type": "execute_result"
    }
   ],
   "source": [
    "not_supported_variants_add_evidence_df"
   ]
  },
  {
   "cell_type": "code",
   "execution_count": 323,
   "metadata": {},
   "outputs": [],
   "source": [
    "not_supported_variants_add_evidence_df['evidence_status'] = not_supported_variants_add_evidence_df['evidence_status'].str.join(', ')"
   ]
  },
  {
   "cell_type": "code",
   "execution_count": 324,
   "metadata": {},
   "outputs": [
    {
     "data": {
      "text/html": [
       "<div>\n",
       "<style scoped>\n",
       "    .dataframe tbody tr th:only-of-type {\n",
       "        vertical-align: middle;\n",
       "    }\n",
       "\n",
       "    .dataframe tbody tr th {\n",
       "        vertical-align: top;\n",
       "    }\n",
       "\n",
       "    .dataframe thead th {\n",
       "        text-align: right;\n",
       "    }\n",
       "</style>\n",
       "<table border=\"1\" class=\"dataframe\">\n",
       "  <thead>\n",
       "    <tr style=\"text-align: right;\">\n",
       "      <th></th>\n",
       "      <th>variant_id</th>\n",
       "      <th>gene_name</th>\n",
       "      <th>variant_name</th>\n",
       "      <th>category</th>\n",
       "      <th>variant_accepted</th>\n",
       "      <th>evidence_id</th>\n",
       "      <th>evidence_status</th>\n",
       "      <th>evidence_rating</th>\n",
       "      <th>evidence_level</th>\n",
       "    </tr>\n",
       "  </thead>\n",
       "  <tbody>\n",
       "    <tr>\n",
       "      <th>0</th>\n",
       "      <td>4170</td>\n",
       "      <td>VHL</td>\n",
       "      <td>NaN</td>\n",
       "      <td>Transcript Variant</td>\n",
       "      <td>False</td>\n",
       "      <td>10647</td>\n",
       "      <td>submitted</td>\n",
       "      <td>[2]</td>\n",
       "      <td>[C]</td>\n",
       "    </tr>\n",
       "    <tr>\n",
       "      <th>1</th>\n",
       "      <td>4417</td>\n",
       "      <td>ALK</td>\n",
       "      <td>FBXO11::ALK</td>\n",
       "      <td>Fusion</td>\n",
       "      <td>False</td>\n",
       "      <td>7428</td>\n",
       "      <td>submitted</td>\n",
       "      <td>[3]</td>\n",
       "      <td>[C]</td>\n",
       "    </tr>\n",
       "    <tr>\n",
       "      <th>2</th>\n",
       "      <td>4214</td>\n",
       "      <td>VHL</td>\n",
       "      <td>NaN</td>\n",
       "      <td>Transcript Variant</td>\n",
       "      <td>False</td>\n",
       "      <td>10752</td>\n",
       "      <td>submitted</td>\n",
       "      <td>[3]</td>\n",
       "      <td>[C]</td>\n",
       "    </tr>\n",
       "    <tr>\n",
       "      <th>3</th>\n",
       "      <td>4216</td>\n",
       "      <td>VHL</td>\n",
       "      <td>NaN</td>\n",
       "      <td>Transcript Variant</td>\n",
       "      <td>False</td>\n",
       "      <td>10754</td>\n",
       "      <td>submitted</td>\n",
       "      <td>[3]</td>\n",
       "      <td>[C]</td>\n",
       "    </tr>\n",
       "    <tr>\n",
       "      <th>4</th>\n",
       "      <td>4278</td>\n",
       "      <td>VHL</td>\n",
       "      <td>NaN</td>\n",
       "      <td>Transcript Variant</td>\n",
       "      <td>False</td>\n",
       "      <td>10958</td>\n",
       "      <td>submitted</td>\n",
       "      <td>[3]</td>\n",
       "      <td>[C]</td>\n",
       "    </tr>\n",
       "    <tr>\n",
       "      <th>...</th>\n",
       "      <td>...</td>\n",
       "      <td>...</td>\n",
       "      <td>...</td>\n",
       "      <td>...</td>\n",
       "      <td>...</td>\n",
       "      <td>...</td>\n",
       "      <td>...</td>\n",
       "      <td>...</td>\n",
       "      <td>...</td>\n",
       "    </tr>\n",
       "    <tr>\n",
       "      <th>1618</th>\n",
       "      <td>3478</td>\n",
       "      <td>ESR2</td>\n",
       "      <td>underexpression beta-1</td>\n",
       "      <td>Other</td>\n",
       "      <td>False</td>\n",
       "      <td>9618</td>\n",
       "      <td>submitted</td>\n",
       "      <td>[4]</td>\n",
       "      <td>[B]</td>\n",
       "    </tr>\n",
       "    <tr>\n",
       "      <th>1618</th>\n",
       "      <td>3478</td>\n",
       "      <td>ESR2</td>\n",
       "      <td>underexpression beta-1</td>\n",
       "      <td>Other</td>\n",
       "      <td>False</td>\n",
       "      <td>9619</td>\n",
       "      <td>submitted</td>\n",
       "      <td>[4]</td>\n",
       "      <td>[B]</td>\n",
       "    </tr>\n",
       "    <tr>\n",
       "      <th>1619</th>\n",
       "      <td>3508</td>\n",
       "      <td>CD274</td>\n",
       "      <td>v242</td>\n",
       "      <td>Protein Consequence</td>\n",
       "      <td>False</td>\n",
       "      <td>9695</td>\n",
       "      <td>submitted</td>\n",
       "      <td>[4]</td>\n",
       "      <td>[E]</td>\n",
       "    </tr>\n",
       "    <tr>\n",
       "      <th>1620</th>\n",
       "      <td>2422</td>\n",
       "      <td>NTRK3</td>\n",
       "      <td>~DEPRECATED-ETV6-NTRK3</td>\n",
       "      <td>Other</td>\n",
       "      <td>False</td>\n",
       "      <td>10692</td>\n",
       "      <td>submitted</td>\n",
       "      <td>[3]</td>\n",
       "      <td>[C]</td>\n",
       "    </tr>\n",
       "    <tr>\n",
       "      <th>1620</th>\n",
       "      <td>2422</td>\n",
       "      <td>NTRK3</td>\n",
       "      <td>~DEPRECATED-ETV6-NTRK3</td>\n",
       "      <td>Other</td>\n",
       "      <td>False</td>\n",
       "      <td>10717</td>\n",
       "      <td>submitted</td>\n",
       "      <td>[3]</td>\n",
       "      <td>[C]</td>\n",
       "    </tr>\n",
       "  </tbody>\n",
       "</table>\n",
       "<p>4360 rows × 9 columns</p>\n",
       "</div>"
      ],
      "text/plain": [
       "      variant_id gene_name            variant_name             category   \n",
       "0           4170       VHL                     NaN   Transcript Variant  \\\n",
       "1           4417       ALK             FBXO11::ALK               Fusion   \n",
       "2           4214       VHL                     NaN   Transcript Variant   \n",
       "3           4216       VHL                     NaN   Transcript Variant   \n",
       "4           4278       VHL                     NaN   Transcript Variant   \n",
       "...          ...       ...                     ...                  ...   \n",
       "1618        3478      ESR2  underexpression beta-1                Other   \n",
       "1618        3478      ESR2  underexpression beta-1                Other   \n",
       "1619        3508     CD274                    v242  Protein Consequence   \n",
       "1620        2422     NTRK3  ~DEPRECATED-ETV6-NTRK3                Other   \n",
       "1620        2422     NTRK3  ~DEPRECATED-ETV6-NTRK3                Other   \n",
       "\n",
       "      variant_accepted evidence_id evidence_status evidence_rating   \n",
       "0                False       10647       submitted             [2]  \\\n",
       "1                False        7428       submitted             [3]   \n",
       "2                False       10752       submitted             [3]   \n",
       "3                False       10754       submitted             [3]   \n",
       "4                False       10958       submitted             [3]   \n",
       "...                ...         ...             ...             ...   \n",
       "1618             False        9618       submitted             [4]   \n",
       "1618             False        9619       submitted             [4]   \n",
       "1619             False        9695       submitted             [4]   \n",
       "1620             False       10692       submitted             [3]   \n",
       "1620             False       10717       submitted             [3]   \n",
       "\n",
       "     evidence_level  \n",
       "0               [C]  \n",
       "1               [C]  \n",
       "2               [C]  \n",
       "3               [C]  \n",
       "4               [C]  \n",
       "...             ...  \n",
       "1618            [B]  \n",
       "1618            [B]  \n",
       "1619            [E]  \n",
       "1620            [C]  \n",
       "1620            [C]  \n",
       "\n",
       "[4360 rows x 9 columns]"
      ]
     },
     "execution_count": 324,
     "metadata": {},
     "output_type": "execute_result"
    }
   ],
   "source": [
    "not_supported_variants_add_evidence_df = not_supported_variants_add_evidence_df.drop(not_supported_variants_add_evidence_df[not_supported_variants_add_evidence_df.evidence_status == \"rejected\"].index)\n",
    "not_supported_variants_add_evidence_df"
   ]
  },
  {
   "cell_type": "code",
   "execution_count": 325,
   "metadata": {},
   "outputs": [],
   "source": [
    "not_supported_evidence_id_list = list(not_supported_variants_add_evidence_df[\"evidence_id\"])"
   ]
  },
  {
   "cell_type": "markdown",
   "metadata": {},
   "source": [
    "## Evidence analysis"
   ]
  },
  {
   "cell_type": "code",
   "execution_count": 326,
   "metadata": {},
   "outputs": [
    {
     "data": {
      "text/plain": [
       "'Number of Not Supported Variant Evidence items in CIViC: 4286 / 9766'"
      ]
     },
     "execution_count": 326,
     "metadata": {},
     "output_type": "execute_result"
    }
   ],
   "source": [
    "total_number_not_supported_variant_unique_evidence_items = len(set(not_supported_variants_add_evidence_df.evidence_id))\n",
    "not_supported_variant_fraction_evidence_items = f\"{total_number_not_supported_variant_unique_evidence_items} / {total_number_evidences}\"\n",
    "f\"Number of Not Supported Variant Evidence items in CIViC: {not_supported_variant_fraction_evidence_items}\""
   ]
  },
  {
   "cell_type": "code",
   "execution_count": 327,
   "metadata": {},
   "outputs": [
    {
     "data": {
      "text/plain": [
       "'Percentage of Not Supported Variant Evidence items in CIViC: 43.89%'"
      ]
     },
     "execution_count": 327,
     "metadata": {},
     "output_type": "execute_result"
    }
   ],
   "source": [
    "not_supported_variant_percentage_evidence_items = \"{:.2f}\".format(total_number_not_supported_variant_unique_evidence_items/total_number_evidences*100) + \"%\"\n",
    "f\"Percentage of Not Supported Variant Evidence items in CIViC: {not_supported_variant_percentage_evidence_items}\""
   ]
  },
  {
   "cell_type": "code",
   "execution_count": 328,
   "metadata": {},
   "outputs": [
    {
     "data": {
      "text/html": [
       "<div>\n",
       "<style scoped>\n",
       "    .dataframe tbody tr th:only-of-type {\n",
       "        vertical-align: middle;\n",
       "    }\n",
       "\n",
       "    .dataframe tbody tr th {\n",
       "        vertical-align: top;\n",
       "    }\n",
       "\n",
       "    .dataframe thead th {\n",
       "        text-align: right;\n",
       "    }\n",
       "</style>\n",
       "<table border=\"1\" class=\"dataframe\">\n",
       "  <thead>\n",
       "    <tr style=\"text-align: right;\">\n",
       "      <th></th>\n",
       "      <th>variant_id</th>\n",
       "      <th>gene_name</th>\n",
       "      <th>variant_name</th>\n",
       "      <th>category</th>\n",
       "      <th>variant_accepted</th>\n",
       "      <th>evidence_id</th>\n",
       "      <th>evidence_status</th>\n",
       "      <th>evidence_rating</th>\n",
       "      <th>evidence_level</th>\n",
       "      <th>evidence_accepted</th>\n",
       "    </tr>\n",
       "  </thead>\n",
       "  <tbody>\n",
       "    <tr>\n",
       "      <th>0</th>\n",
       "      <td>4170</td>\n",
       "      <td>VHL</td>\n",
       "      <td>NaN</td>\n",
       "      <td>Transcript Variant</td>\n",
       "      <td>False</td>\n",
       "      <td>10647</td>\n",
       "      <td>submitted</td>\n",
       "      <td>[2]</td>\n",
       "      <td>[C]</td>\n",
       "      <td>False</td>\n",
       "    </tr>\n",
       "    <tr>\n",
       "      <th>1</th>\n",
       "      <td>4417</td>\n",
       "      <td>ALK</td>\n",
       "      <td>FBXO11::ALK</td>\n",
       "      <td>Fusion</td>\n",
       "      <td>False</td>\n",
       "      <td>7428</td>\n",
       "      <td>submitted</td>\n",
       "      <td>[3]</td>\n",
       "      <td>[C]</td>\n",
       "      <td>False</td>\n",
       "    </tr>\n",
       "    <tr>\n",
       "      <th>2</th>\n",
       "      <td>4214</td>\n",
       "      <td>VHL</td>\n",
       "      <td>NaN</td>\n",
       "      <td>Transcript Variant</td>\n",
       "      <td>False</td>\n",
       "      <td>10752</td>\n",
       "      <td>submitted</td>\n",
       "      <td>[3]</td>\n",
       "      <td>[C]</td>\n",
       "      <td>False</td>\n",
       "    </tr>\n",
       "    <tr>\n",
       "      <th>3</th>\n",
       "      <td>4216</td>\n",
       "      <td>VHL</td>\n",
       "      <td>NaN</td>\n",
       "      <td>Transcript Variant</td>\n",
       "      <td>False</td>\n",
       "      <td>10754</td>\n",
       "      <td>submitted</td>\n",
       "      <td>[3]</td>\n",
       "      <td>[C]</td>\n",
       "      <td>False</td>\n",
       "    </tr>\n",
       "    <tr>\n",
       "      <th>4</th>\n",
       "      <td>4278</td>\n",
       "      <td>VHL</td>\n",
       "      <td>NaN</td>\n",
       "      <td>Transcript Variant</td>\n",
       "      <td>False</td>\n",
       "      <td>10958</td>\n",
       "      <td>submitted</td>\n",
       "      <td>[3]</td>\n",
       "      <td>[C]</td>\n",
       "      <td>False</td>\n",
       "    </tr>\n",
       "  </tbody>\n",
       "</table>\n",
       "</div>"
      ],
      "text/plain": [
       "   variant_id gene_name  variant_name            category  variant_accepted   \n",
       "0        4170       VHL           NaN  Transcript Variant             False  \\\n",
       "1        4417       ALK   FBXO11::ALK              Fusion             False   \n",
       "2        4214       VHL           NaN  Transcript Variant             False   \n",
       "3        4216       VHL           NaN  Transcript Variant             False   \n",
       "4        4278       VHL           NaN  Transcript Variant             False   \n",
       "\n",
       "  evidence_id evidence_status evidence_rating evidence_level evidence_accepted  \n",
       "0       10647       submitted             [2]            [C]             False  \n",
       "1        7428       submitted             [3]            [C]             False  \n",
       "2       10752       submitted             [3]            [C]             False  \n",
       "3       10754       submitted             [3]            [C]             False  \n",
       "4       10958       submitted             [3]            [C]             False  "
      ]
     },
     "execution_count": 328,
     "metadata": {},
     "output_type": "execute_result"
    }
   ],
   "source": [
    "not_supported_variants_add_evidence_df['evidence_accepted'] = not_supported_variants_add_evidence_df.evidence_status.map({'accepted':True ,'submitted':False})\n",
    "not_supported_variants_add_evidence_df.head()"
   ]
  },
  {
   "cell_type": "code",
   "execution_count": 329,
   "metadata": {},
   "outputs": [],
   "source": [
    "not_supported_variants_add_evidence_unique_df = not_supported_variants_add_evidence_df.drop_duplicates(subset= ['evidence_id'])"
   ]
  },
  {
   "cell_type": "code",
   "execution_count": 330,
   "metadata": {},
   "outputs": [
    {
     "data": {
      "text/plain": [
       "evidence_accepted\n",
       "True     2198\n",
       "False    1930\n",
       "Name: count, dtype: int64"
      ]
     },
     "execution_count": 330,
     "metadata": {},
     "output_type": "execute_result"
    }
   ],
   "source": [
    "not_supported_variants_add_evidence_unique_df.evidence_accepted.value_counts()"
   ]
  },
  {
   "cell_type": "code",
   "execution_count": 331,
   "metadata": {},
   "outputs": [
    {
     "data": {
      "text/plain": [
       "'Number of submitted Not Supported Variant Evidence items: 2088 / 4286'"
      ]
     },
     "execution_count": 331,
     "metadata": {},
     "output_type": "execute_result"
    }
   ],
   "source": [
    "number_submitted_evidences_not_supported_variants = len(not_supported_variants_add_evidence_unique_df) - not_supported_variants_add_evidence_unique_df.evidence_accepted.sum()\n",
    "fraction_submitted_evidences_not_supported_variants = f\"{number_submitted_evidences_not_supported_variants} / {total_number_not_supported_variant_unique_evidence_items}\"\n",
    "f\"Number of submitted Not Supported Variant Evidence items: {fraction_submitted_evidences_not_supported_variants}\""
   ]
  },
  {
   "cell_type": "code",
   "execution_count": 332,
   "metadata": {},
   "outputs": [
    {
     "data": {
      "text/plain": [
       "'Percentage of submitted Not Supported Variant Evidence items: 48.72%'"
      ]
     },
     "execution_count": 332,
     "metadata": {},
     "output_type": "execute_result"
    }
   ],
   "source": [
    "percentage_submitted_evidences_not_supported_variants = \"{:.2f}\".format(number_submitted_evidences_not_supported_variants/total_number_not_supported_variant_unique_evidence_items*100) +\"%\"\n",
    "f\"Percentage of submitted Not Supported Variant Evidence items: {percentage_submitted_evidences_not_supported_variants}\""
   ]
  },
  {
   "cell_type": "code",
   "execution_count": 333,
   "metadata": {},
   "outputs": [
    {
     "data": {
      "text/plain": [
       "'Number of accepted Not Supported Variant Evidence items: 2198 / 4286'"
      ]
     },
     "execution_count": 333,
     "metadata": {},
     "output_type": "execute_result"
    }
   ],
   "source": [
    "number_accepted_evidences_not_supported_variants = not_supported_variants_add_evidence_unique_df.evidence_accepted.sum()\n",
    "fraction_accepted_evidences_not_supported_variants = f\"{number_accepted_evidences_not_supported_variants} / {total_number_not_supported_variant_unique_evidence_items}\"\n",
    "f\"Number of accepted Not Supported Variant Evidence items: {fraction_accepted_evidences_not_supported_variants}\""
   ]
  },
  {
   "cell_type": "code",
   "execution_count": 334,
   "metadata": {},
   "outputs": [
    {
     "data": {
      "text/plain": [
       "'Percentage of accepted Not Supported Variant Evidence items: 51.28%'"
      ]
     },
     "execution_count": 334,
     "metadata": {},
     "output_type": "execute_result"
    }
   ],
   "source": [
    "percentage_accepted_evidences_not_supported_variants = \"{:.2f}\".format(number_accepted_evidences_not_supported_variants/total_number_not_supported_variant_unique_evidence_items*100)\n",
    "f\"Percentage of accepted Not Supported Variant Evidence items: {percentage_accepted_evidences_not_supported_variants}%\""
   ]
  },
  {
   "cell_type": "markdown",
   "metadata": {},
   "source": [
    "### Not Supported Variant Evidence Analysis by Subcategory "
   ]
  },
  {
   "cell_type": "markdown",
   "metadata": {},
   "source": [
    " List all the possible variant categories, have to use non unique file since evidence items are used more than once across groups\n"
   ]
  },
  {
   "cell_type": "code",
   "execution_count": 335,
   "metadata": {},
   "outputs": [
    {
     "data": {
      "text/plain": [
       "array(['Transcript Variant', 'Fusion', 'Region Defined Variant',\n",
       "       'Protein Consequence', 'Other', 'Rearrangements', 'Copy Number',\n",
       "       'Expression', 'Gene Function', 'Genotypes Compound',\n",
       "       'Epigenetic Modification', 'Genotypes Easy'], dtype=object)"
      ]
     },
     "execution_count": 335,
     "metadata": {},
     "output_type": "execute_result"
    }
   ],
   "source": [
    "not_supported_variant_categories = not_supported_variants_add_evidence_df.category.unique()\n",
    "not_supported_variant_categories "
   ]
  },
  {
   "cell_type": "markdown",
   "metadata": {},
   "source": [
    "Evidence ID's can qualify for more than one kind of variant category"
   ]
  },
  {
   "cell_type": "code",
   "execution_count": 336,
   "metadata": {},
   "outputs": [
    {
     "data": {
      "text/html": [
       "<div>\n",
       "<style scoped>\n",
       "    .dataframe tbody tr th:only-of-type {\n",
       "        vertical-align: middle;\n",
       "    }\n",
       "\n",
       "    .dataframe tbody tr th {\n",
       "        vertical-align: top;\n",
       "    }\n",
       "\n",
       "    .dataframe thead th {\n",
       "        text-align: right;\n",
       "    }\n",
       "</style>\n",
       "<table border=\"1\" class=\"dataframe\">\n",
       "  <thead>\n",
       "    <tr style=\"text-align: right;\">\n",
       "      <th></th>\n",
       "      <th>variant_id</th>\n",
       "      <th>gene_name</th>\n",
       "      <th>variant_name</th>\n",
       "      <th>category</th>\n",
       "      <th>variant_accepted</th>\n",
       "      <th>evidence_id</th>\n",
       "      <th>evidence_status</th>\n",
       "      <th>evidence_rating</th>\n",
       "      <th>evidence_level</th>\n",
       "      <th>evidence_accepted</th>\n",
       "    </tr>\n",
       "  </thead>\n",
       "  <tbody>\n",
       "    <tr>\n",
       "      <th>1</th>\n",
       "      <td>4417</td>\n",
       "      <td>ALK</td>\n",
       "      <td>FBXO11::ALK</td>\n",
       "      <td>Fusion</td>\n",
       "      <td>False</td>\n",
       "      <td>7428</td>\n",
       "      <td>submitted</td>\n",
       "      <td>[3]</td>\n",
       "      <td>[C]</td>\n",
       "      <td>False</td>\n",
       "    </tr>\n",
       "    <tr>\n",
       "      <th>58</th>\n",
       "      <td>1</td>\n",
       "      <td>ABL1</td>\n",
       "      <td>BCR::ABL</td>\n",
       "      <td>Fusion</td>\n",
       "      <td>True</td>\n",
       "      <td>11289</td>\n",
       "      <td>submitted</td>\n",
       "      <td>[4]</td>\n",
       "      <td>[A]</td>\n",
       "      <td>False</td>\n",
       "    </tr>\n",
       "    <tr>\n",
       "      <th>126</th>\n",
       "      <td>4467</td>\n",
       "      <td>ABL1</td>\n",
       "      <td>BCR::ABL mutations</td>\n",
       "      <td>Fusion</td>\n",
       "      <td>False</td>\n",
       "      <td>11289</td>\n",
       "      <td>submitted</td>\n",
       "      <td>[4]</td>\n",
       "      <td>[A]</td>\n",
       "      <td>False</td>\n",
       "    </tr>\n",
       "    <tr>\n",
       "      <th>127</th>\n",
       "      <td>4497</td>\n",
       "      <td>FGFR1</td>\n",
       "      <td>BCR::FGFR1</td>\n",
       "      <td>Fusion</td>\n",
       "      <td>False</td>\n",
       "      <td>11324</td>\n",
       "      <td>submitted</td>\n",
       "      <td>[3]</td>\n",
       "      <td>[B]</td>\n",
       "      <td>False</td>\n",
       "    </tr>\n",
       "    <tr>\n",
       "      <th>128</th>\n",
       "      <td>2860</td>\n",
       "      <td>JAK2</td>\n",
       "      <td>BCR::JAK2</td>\n",
       "      <td>Fusion</td>\n",
       "      <td>True</td>\n",
       "      <td>11325</td>\n",
       "      <td>submitted</td>\n",
       "      <td>[2]</td>\n",
       "      <td>[B]</td>\n",
       "      <td>False</td>\n",
       "    </tr>\n",
       "    <tr>\n",
       "      <th>...</th>\n",
       "      <td>...</td>\n",
       "      <td>...</td>\n",
       "      <td>...</td>\n",
       "      <td>...</td>\n",
       "      <td>...</td>\n",
       "      <td>...</td>\n",
       "      <td>...</td>\n",
       "      <td>...</td>\n",
       "      <td>...</td>\n",
       "      <td>...</td>\n",
       "    </tr>\n",
       "    <tr>\n",
       "      <th>1421</th>\n",
       "      <td>4500</td>\n",
       "      <td>FGFR1</td>\n",
       "      <td>Translocation</td>\n",
       "      <td>Rearrangements</td>\n",
       "      <td>False</td>\n",
       "      <td>11324</td>\n",
       "      <td>submitted</td>\n",
       "      <td>[3]</td>\n",
       "      <td>[B]</td>\n",
       "      <td>False</td>\n",
       "    </tr>\n",
       "    <tr>\n",
       "      <th>1536</th>\n",
       "      <td>4496</td>\n",
       "      <td>FGFR1</td>\n",
       "      <td>ZMYM2::FGFR1</td>\n",
       "      <td>Fusion</td>\n",
       "      <td>False</td>\n",
       "      <td>11324</td>\n",
       "      <td>submitted</td>\n",
       "      <td>[3]</td>\n",
       "      <td>[B]</td>\n",
       "      <td>False</td>\n",
       "    </tr>\n",
       "    <tr>\n",
       "      <th>1542</th>\n",
       "      <td>4466</td>\n",
       "      <td>TERT</td>\n",
       "      <td>NaN</td>\n",
       "      <td>Transcript Variant</td>\n",
       "      <td>False</td>\n",
       "      <td>11278</td>\n",
       "      <td>submitted</td>\n",
       "      <td>[2]</td>\n",
       "      <td>[C]</td>\n",
       "      <td>False</td>\n",
       "    </tr>\n",
       "    <tr>\n",
       "      <th>1594</th>\n",
       "      <td>4463</td>\n",
       "      <td>TSC1</td>\n",
       "      <td>mutation</td>\n",
       "      <td>Region Defined Variant</td>\n",
       "      <td>False</td>\n",
       "      <td>11269</td>\n",
       "      <td>submitted</td>\n",
       "      <td>[4]</td>\n",
       "      <td>[A]</td>\n",
       "      <td>False</td>\n",
       "    </tr>\n",
       "    <tr>\n",
       "      <th>1595</th>\n",
       "      <td>4464</td>\n",
       "      <td>TSC2</td>\n",
       "      <td>mutation</td>\n",
       "      <td>Region Defined Variant</td>\n",
       "      <td>False</td>\n",
       "      <td>11269</td>\n",
       "      <td>submitted</td>\n",
       "      <td>[4]</td>\n",
       "      <td>[A]</td>\n",
       "      <td>False</td>\n",
       "    </tr>\n",
       "  </tbody>\n",
       "</table>\n",
       "<p>117 rows × 10 columns</p>\n",
       "</div>"
      ],
      "text/plain": [
       "      variant_id gene_name        variant_name                category   \n",
       "1           4417       ALK         FBXO11::ALK                  Fusion  \\\n",
       "58             1      ABL1            BCR::ABL                  Fusion   \n",
       "126         4467      ABL1  BCR::ABL mutations                  Fusion   \n",
       "127         4497     FGFR1          BCR::FGFR1                  Fusion   \n",
       "128         2860      JAK2           BCR::JAK2                  Fusion   \n",
       "...          ...       ...                 ...                     ...   \n",
       "1421        4500     FGFR1       Translocation          Rearrangements   \n",
       "1536        4496     FGFR1        ZMYM2::FGFR1                  Fusion   \n",
       "1542        4466      TERT                 NaN      Transcript Variant   \n",
       "1594        4463      TSC1            mutation  Region Defined Variant   \n",
       "1595        4464      TSC2            mutation  Region Defined Variant   \n",
       "\n",
       "      variant_accepted evidence_id evidence_status evidence_rating   \n",
       "1                False        7428       submitted             [3]  \\\n",
       "58                True       11289       submitted             [4]   \n",
       "126              False       11289       submitted             [4]   \n",
       "127              False       11324       submitted             [3]   \n",
       "128               True       11325       submitted             [2]   \n",
       "...                ...         ...             ...             ...   \n",
       "1421             False       11324       submitted             [3]   \n",
       "1536             False       11324       submitted             [3]   \n",
       "1542             False       11278       submitted             [2]   \n",
       "1594             False       11269       submitted             [4]   \n",
       "1595             False       11269       submitted             [4]   \n",
       "\n",
       "     evidence_level evidence_accepted  \n",
       "1               [C]             False  \n",
       "58              [A]             False  \n",
       "126             [A]             False  \n",
       "127             [B]             False  \n",
       "128             [B]             False  \n",
       "...             ...               ...  \n",
       "1421            [B]             False  \n",
       "1536            [B]             False  \n",
       "1542            [C]             False  \n",
       "1594            [A]             False  \n",
       "1595            [A]             False  \n",
       "\n",
       "[117 rows x 10 columns]"
      ]
     },
     "execution_count": 336,
     "metadata": {},
     "output_type": "execute_result"
    }
   ],
   "source": [
    "duplicate = not_supported_variants_add_evidence_df[not_supported_variants_add_evidence_df.duplicated('evidence_id', keep=False)]\n",
    "duplicate"
   ]
  },
  {
   "cell_type": "code",
   "execution_count": 337,
   "metadata": {},
   "outputs": [
    {
     "name": "stdout",
     "output_type": "stream",
     "text": [
      "Expression\n",
      "Number of Expression Variant Evidence items in CIViC: 617 / 9766\n",
      "Percent of Expression Variant Evidence items in CIViC: 6.32%\n",
      "Number of Expression Variant Evidence items in total Not Supported Variant Evidence items: 617 / 4286\n",
      "Percent of Expression Variant Evidence items in total Not Supported Variant Evidence items: 14.40%\n",
      "Number of Accepted Expression Variant Evidence items: 342 / 617\n",
      "Percent of Accepted Expression Variant Evidence items: 55.43%\n",
      "Number of submitted Expression Variant Evidence items: 275 / 617\n",
      "Percent of submitted Expression Variant Evidence items: 44.57%\n",
      "--------------------\n",
      "Epigenetic Modification\n",
      "Number of Epigenetic Modification Variant Evidence items in CIViC: 24 / 9766\n",
      "Percent of Epigenetic Modification Variant Evidence items in CIViC: 0.25%\n",
      "Number of Epigenetic Modification Variant Evidence items in total Not Supported Variant Evidence items: 24 / 4286\n",
      "Percent of Epigenetic Modification Variant Evidence items in total Not Supported Variant Evidence items: 0.56%\n",
      "Number of Accepted Epigenetic Modification Variant Evidence items: 22 / 24\n",
      "Percent of Accepted Epigenetic Modification Variant Evidence items: 91.67%\n",
      "Number of submitted Epigenetic Modification Variant Evidence items: 2 / 24\n",
      "Percent of submitted Epigenetic Modification Variant Evidence items: 8.33%\n",
      "--------------------\n",
      "Fusion\n",
      "Number of Fusion Variant Evidence items in CIViC: 1220 / 9766\n",
      "Percent of Fusion Variant Evidence items in CIViC: 12.49%\n",
      "Number of Fusion Variant Evidence items in total Not Supported Variant Evidence items: 1220 / 4286\n",
      "Percent of Fusion Variant Evidence items in total Not Supported Variant Evidence items: 28.46%\n",
      "Number of Accepted Fusion Variant Evidence items: 724 / 1220\n",
      "Percent of Accepted Fusion Variant Evidence items: 59.34%\n",
      "Number of submitted Fusion Variant Evidence items: 496 / 1220\n",
      "Percent of submitted Fusion Variant Evidence items: 40.66%\n",
      "--------------------\n",
      "Protein Consequence\n",
      "Number of Protein Consequence Variant Evidence items in CIViC: 301 / 9766\n",
      "Percent of Protein Consequence Variant Evidence items in CIViC: 3.08%\n",
      "Number of Protein Consequence Variant Evidence items in total Not Supported Variant Evidence items: 301 / 4286\n",
      "Percent of Protein Consequence Variant Evidence items in total Not Supported Variant Evidence items: 7.02%\n",
      "Number of Accepted Protein Consequence Variant Evidence items: 191 / 301\n",
      "Percent of Accepted Protein Consequence Variant Evidence items: 63.46%\n",
      "Number of submitted Protein Consequence Variant Evidence items: 110 / 301\n",
      "Percent of submitted Protein Consequence Variant Evidence items: 36.54%\n",
      "--------------------\n",
      "Gene Function\n",
      "Number of Gene Function Variant Evidence items in CIViC: 346 / 9766\n",
      "Percent of Gene Function Variant Evidence items in CIViC: 3.54%\n",
      "Number of Gene Function Variant Evidence items in total Not Supported Variant Evidence items: 346 / 4286\n",
      "Percent of Gene Function Variant Evidence items in total Not Supported Variant Evidence items: 8.07%\n",
      "Number of Accepted Gene Function Variant Evidence items: 151 / 346\n",
      "Percent of Accepted Gene Function Variant Evidence items: 43.64%\n",
      "Number of submitted Gene Function Variant Evidence items: 195 / 346\n",
      "Percent of submitted Gene Function Variant Evidence items: 56.36%\n",
      "--------------------\n",
      "Rearrangements\n",
      "Number of Rearrangements Variant Evidence items in CIViC: 140 / 9766\n",
      "Percent of Rearrangements Variant Evidence items in CIViC: 1.43%\n",
      "Number of Rearrangements Variant Evidence items in total Not Supported Variant Evidence items: 140 / 4286\n",
      "Percent of Rearrangements Variant Evidence items in total Not Supported Variant Evidence items: 3.27%\n",
      "Number of Accepted Rearrangements Variant Evidence items: 53 / 140\n",
      "Percent of Accepted Rearrangements Variant Evidence items: 37.86%\n",
      "Number of submitted Rearrangements Variant Evidence items: 87 / 140\n",
      "Percent of submitted Rearrangements Variant Evidence items: 62.14%\n",
      "--------------------\n",
      "Copy Number\n",
      "Number of Copy Number Variant Evidence items in CIViC: 69 / 9766\n",
      "Percent of Copy Number Variant Evidence items in CIViC: 0.71%\n",
      "Number of Copy Number Variant Evidence items in total Not Supported Variant Evidence items: 69 / 4286\n",
      "Percent of Copy Number Variant Evidence items in total Not Supported Variant Evidence items: 1.61%\n",
      "Number of Accepted Copy Number Variant Evidence items: 31 / 69\n",
      "Percent of Accepted Copy Number Variant Evidence items: 44.93%\n",
      "Number of submitted Copy Number Variant Evidence items: 38 / 69\n",
      "Percent of submitted Copy Number Variant Evidence items: 55.07%\n",
      "--------------------\n",
      "Other\n",
      "Number of Other Variant Evidence items in CIViC: 163 / 9766\n",
      "Percent of Other Variant Evidence items in CIViC: 1.67%\n",
      "Number of Other Variant Evidence items in total Not Supported Variant Evidence items: 163 / 4286\n",
      "Percent of Other Variant Evidence items in total Not Supported Variant Evidence items: 3.80%\n",
      "Number of Accepted Other Variant Evidence items: 60 / 163\n",
      "Percent of Accepted Other Variant Evidence items: 36.81%\n",
      "Number of submitted Other Variant Evidence items: 103 / 163\n",
      "Percent of submitted Other Variant Evidence items: 63.19%\n",
      "--------------------\n",
      "Genotypes Easy\n",
      "Number of Genotypes Easy Variant Evidence items in CIViC: 23 / 9766\n",
      "Percent of Genotypes Easy Variant Evidence items in CIViC: 0.24%\n",
      "Number of Genotypes Easy Variant Evidence items in total Not Supported Variant Evidence items: 23 / 4286\n",
      "Percent of Genotypes Easy Variant Evidence items in total Not Supported Variant Evidence items: 0.54%\n",
      "Number of Accepted Genotypes Easy Variant Evidence items: 13 / 23\n",
      "Percent of Accepted Genotypes Easy Variant Evidence items: 56.52%\n",
      "Number of submitted Genotypes Easy Variant Evidence items: 10 / 23\n",
      "Percent of submitted Genotypes Easy Variant Evidence items: 43.48%\n",
      "--------------------\n",
      "Genotypes Compound\n",
      "Number of Genotypes Compound Variant Evidence items in CIViC: 7 / 9766\n",
      "Percent of Genotypes Compound Variant Evidence items in CIViC: 0.07%\n",
      "Number of Genotypes Compound Variant Evidence items in total Not Supported Variant Evidence items: 7 / 4286\n",
      "Percent of Genotypes Compound Variant Evidence items in total Not Supported Variant Evidence items: 0.16%\n",
      "Number of Accepted Genotypes Compound Variant Evidence items: 4 / 7\n",
      "Percent of Accepted Genotypes Compound Variant Evidence items: 57.14%\n",
      "Number of submitted Genotypes Compound Variant Evidence items: 3 / 7\n",
      "Percent of submitted Genotypes Compound Variant Evidence items: 42.86%\n",
      "--------------------\n",
      "Region Defined Variant\n",
      "Number of Region Defined Variant Variant Evidence items in CIViC: 925 / 9766\n",
      "Percent of Region Defined Variant Variant Evidence items in CIViC: 9.47%\n",
      "Number of Region Defined Variant Variant Evidence items in total Not Supported Variant Evidence items: 925 / 4286\n",
      "Percent of Region Defined Variant Variant Evidence items in total Not Supported Variant Evidence items: 21.58%\n",
      "Number of Accepted Region Defined Variant Variant Evidence items: 557 / 925\n",
      "Percent of Accepted Region Defined Variant Variant Evidence items: 60.22%\n",
      "Number of submitted Region Defined Variant Variant Evidence items: 368 / 925\n",
      "Percent of submitted Region Defined Variant Variant Evidence items: 39.78%\n",
      "--------------------\n",
      "Transcript Variant\n",
      "Number of Transcript Variant Variant Evidence items in CIViC: 472 / 9766\n",
      "Percent of Transcript Variant Variant Evidence items in CIViC: 4.83%\n",
      "Number of Transcript Variant Variant Evidence items in total Not Supported Variant Evidence items: 472 / 4286\n",
      "Percent of Transcript Variant Variant Evidence items in total Not Supported Variant Evidence items: 11.01%\n",
      "Number of Accepted Transcript Variant Variant Evidence items: 54 / 472\n",
      "Percent of Accepted Transcript Variant Variant Evidence items: 11.44%\n",
      "Number of submitted Transcript Variant Variant Evidence items: 418 / 472\n",
      "Percent of submitted Transcript Variant Variant Evidence items: 88.56%\n",
      "--------------------\n"
     ]
    }
   ],
   "source": [
    "not_supported_variant_categories_evidence_summary_data = dict()\n",
    "for category in [\"Expression\", \"Epigenetic Modification\", \"Fusion\", \"Protein Consequence\", \"Gene Function\", \"Rearrangements\", \"Copy Number\", \"Other\", \"Genotypes Easy\", \"Genotypes Compound\", \"Region Defined Variant\", \"Transcript Variant\"]:\n",
    "    print(category)\n",
    "    not_supported_variant_categories_evidence_summary_data[category] = {}\n",
    "    evidence_category_df = not_supported_variants_add_evidence_df[not_supported_variants_add_evidence_df.category == category]\n",
    "    evidence_category_df = evidence_category_df.drop_duplicates(subset=['evidence_id'])\n",
    "\n",
    "    number_unique_not_supported_category_evidence = len(set(evidence_category_df.evidence_id))\n",
    "    not_supported_variant_categories_evidence_summary_data[category][\"number_unique_not_supported_category_evidence\"]=  number_unique_not_supported_category_evidence\n",
    "    \n",
    "    fraction_not_supported_category_variant_evidence_of_civic = f\"{number_unique_not_supported_category_evidence} / {total_number_evidences}\"\n",
    "    not_supported_variant_categories_evidence_summary_data[category][\"fraction_not_supported_category_variant_evidence_of_civic\"]=  fraction_not_supported_category_variant_evidence_of_civic\n",
    "    print(f\"Number of {category} Variant Evidence items in CIViC: {fraction_not_supported_category_variant_evidence_of_civic}\")\n",
    "\n",
    "    percent_not_supported_category_variant_evidence_of_civic = \"{:.2f}\".format(number_unique_not_supported_category_evidence/total_number_evidences*100)  + '%'\n",
    "    not_supported_variant_categories_evidence_summary_data[category][\"percent_not_supported_category_variant_evidence_of_civic\"] = percent_not_supported_category_variant_evidence_of_civic\n",
    "    print(f\"Percent of {category} Variant Evidence items in CIViC: {percent_not_supported_category_variant_evidence_of_civic}\")\n",
    "    \n",
    "    fraction_not_supported_category_variant_evidence_of_total_not_supported = f\"{number_unique_not_supported_category_evidence} / {total_number_not_supported_variant_unique_evidence_items}\"\n",
    "    not_supported_variant_categories_evidence_summary_data[category][\"fraction_not_supported_category_variant_evidence_of_total_not_supported\"]= fraction_not_supported_category_variant_evidence_of_total_not_supported\n",
    "    print(f\"Number of {category} Variant Evidence items in total Not Supported Variant Evidence items: {fraction_not_supported_category_variant_evidence_of_total_not_supported}\")\n",
    "\n",
    "    percent_not_supported_category_variant_evidence_of_total_not_supported = \"{:.2f}\".format(number_unique_not_supported_category_evidence/total_number_not_supported_variant_unique_evidence_items*100) + '%'\n",
    "    not_supported_variant_categories_evidence_summary_data[category][\"percent_not_supported_category_variant_evidence_of_total_not_supported\"] = percent_not_supported_category_variant_evidence_of_total_not_supported\n",
    "    print(f\"Percent of {category} Variant Evidence items in total Not Supported Variant Evidence items: {percent_not_supported_category_variant_evidence_of_total_not_supported}\")\n",
    "\n",
    "    number_accepted_not_supported_category_variant_evidence = evidence_category_df.evidence_accepted.sum()\n",
    "    fraction_accepted_evidence_not_supported_category_variants = f\"{number_accepted_not_supported_category_variant_evidence} / {number_unique_not_supported_category_evidence}\"\n",
    "    not_supported_variant_categories_evidence_summary_data[category][\"fraction_accepted_evidence_not_supported_category_variants\"] = fraction_accepted_evidence_not_supported_category_variants\n",
    "    print(f\"Number of Accepted {category} Variant Evidence items: {fraction_accepted_evidence_not_supported_category_variants}\")\n",
    "\n",
    "    percentage_accepted_evidence_not_supported_category_variants =  \"{:.2f}\".format(number_accepted_not_supported_category_variant_evidence/number_unique_not_supported_category_evidence*100) + '%'\n",
    "    not_supported_variant_categories_evidence_summary_data[category][\"percentage_accepted_evidence_not_supported_category_variants\"] = percentage_accepted_evidence_not_supported_category_variants\n",
    "    print(f\"Percent of Accepted {category} Variant Evidence items: {percentage_accepted_evidence_not_supported_category_variants}\")\n",
    "  \n",
    "    number_submitted_not_supported_category_variant_evidence = number_unique_not_supported_category_evidence - evidence_category_df.evidence_accepted.sum()\n",
    "    fraction_submitted_evidence_not_supported_category_variants = f\"{number_submitted_not_supported_category_variant_evidence} / {number_unique_not_supported_category_evidence}\"\n",
    "    not_supported_variant_categories_evidence_summary_data[category][\"fraction_submitted_evidence_not_supported_category_variants\"] = fraction_submitted_evidence_not_supported_category_variants\n",
    "    print(f\"Number of submitted {category} Variant Evidence items: {fraction_submitted_evidence_not_supported_category_variants}\")\n",
    "\n",
    "    percentage_submitted_evidence_not_supported_category_variants =  \"{:.2f}\".format(number_submitted_not_supported_category_variant_evidence/number_unique_not_supported_category_evidence*100) + '%'\n",
    "    not_supported_variant_categories_evidence_summary_data[category][\"percentage_submitted_evidence_not_supported_category_variants\"] = percentage_submitted_evidence_not_supported_category_variants\n",
    "    print(f\"Percent of submitted {category} Variant Evidence items: {percentage_submitted_evidence_not_supported_category_variants}\")\n",
    "    \n",
    "    print(\"--------------------\")\n"
   ]
  },
  {
   "cell_type": "markdown",
   "metadata": {},
   "source": [
    "## Impact\n",
    "molecular profile score"
   ]
  },
  {
   "cell_type": "markdown",
   "metadata": {},
   "source": [
    "### Import molecular profile id"
   ]
  },
  {
   "cell_type": "code",
   "execution_count": 338,
   "metadata": {},
   "outputs": [
    {
     "data": {
      "text/html": [
       "<div>\n",
       "<style scoped>\n",
       "    .dataframe tbody tr th:only-of-type {\n",
       "        vertical-align: middle;\n",
       "    }\n",
       "\n",
       "    .dataframe tbody tr th {\n",
       "        vertical-align: top;\n",
       "    }\n",
       "\n",
       "    .dataframe thead th {\n",
       "        text-align: right;\n",
       "    }\n",
       "</style>\n",
       "<table border=\"1\" class=\"dataframe\">\n",
       "  <thead>\n",
       "    <tr style=\"text-align: right;\">\n",
       "      <th></th>\n",
       "      <th>variant_id</th>\n",
       "      <th>gene_name</th>\n",
       "      <th>variant_name</th>\n",
       "      <th>category</th>\n",
       "      <th>variant_accepted</th>\n",
       "      <th>molecular_profile_id</th>\n",
       "    </tr>\n",
       "  </thead>\n",
       "  <tbody>\n",
       "    <tr>\n",
       "      <th>0</th>\n",
       "      <td>4170</td>\n",
       "      <td>VHL</td>\n",
       "      <td>NaN</td>\n",
       "      <td>Transcript Variant</td>\n",
       "      <td>False</td>\n",
       "      <td>[4038]</td>\n",
       "    </tr>\n",
       "    <tr>\n",
       "      <th>1</th>\n",
       "      <td>4417</td>\n",
       "      <td>ALK</td>\n",
       "      <td>FBXO11::ALK</td>\n",
       "      <td>Fusion</td>\n",
       "      <td>False</td>\n",
       "      <td>[4350]</td>\n",
       "    </tr>\n",
       "    <tr>\n",
       "      <th>2</th>\n",
       "      <td>4214</td>\n",
       "      <td>VHL</td>\n",
       "      <td>NaN</td>\n",
       "      <td>Transcript Variant</td>\n",
       "      <td>False</td>\n",
       "      <td>[4082]</td>\n",
       "    </tr>\n",
       "    <tr>\n",
       "      <th>3</th>\n",
       "      <td>4216</td>\n",
       "      <td>VHL</td>\n",
       "      <td>NaN</td>\n",
       "      <td>Transcript Variant</td>\n",
       "      <td>False</td>\n",
       "      <td>[4084]</td>\n",
       "    </tr>\n",
       "    <tr>\n",
       "      <th>4</th>\n",
       "      <td>4278</td>\n",
       "      <td>VHL</td>\n",
       "      <td>NaN</td>\n",
       "      <td>Transcript Variant</td>\n",
       "      <td>False</td>\n",
       "      <td>[4146]</td>\n",
       "    </tr>\n",
       "  </tbody>\n",
       "</table>\n",
       "</div>"
      ],
      "text/plain": [
       "   variant_id gene_name  variant_name            category  variant_accepted   \n",
       "0        4170       VHL           NaN  Transcript Variant             False  \\\n",
       "1        4417       ALK   FBXO11::ALK              Fusion             False   \n",
       "2        4214       VHL           NaN  Transcript Variant             False   \n",
       "3        4216       VHL           NaN  Transcript Variant             False   \n",
       "4        4278       VHL           NaN  Transcript Variant             False   \n",
       "\n",
       "  molecular_profile_id  \n",
       "0               [4038]  \n",
       "1               [4350]  \n",
       "2               [4082]  \n",
       "3               [4084]  \n",
       "4               [4146]  "
      ]
     },
     "execution_count": 338,
     "metadata": {},
     "output_type": "execute_result"
    }
   ],
   "source": [
    "not_supported_variants_add_molprof_df = not_supported_variants_df.copy()\n",
    "not_supported_variants_molprof_id = []\n",
    "\n",
    "for v in not_supported_variant_id_list:\n",
    "    variant_molprof_id_list = []\n",
    "\n",
    "    for variant in civic_variant_ids:\n",
    "        if int(v) == variant.id:\n",
    "\n",
    "            for mp in variant.molecular_profiles:\n",
    "                    if mp.id not in variant_molprof_id_list:\n",
    "                        variant_molprof_id_list.append(mp.id)\n",
    "\n",
    "            variant_molprof_id_list = variant_molprof_id_list or \"\"\n",
    "\n",
    "    not_supported_variants_molprof_id.append(variant_molprof_id_list)\n",
    "    \n",
    "not_supported_variants_add_molprof_df[\"molecular_profile_id\"] = not_supported_variants_molprof_id\n",
    "not_supported_variants_add_molprof_df.head()"
   ]
  },
  {
   "cell_type": "code",
   "execution_count": 339,
   "metadata": {},
   "outputs": [],
   "source": [
    "not_supported_variants_molprof_id_list = list(not_supported_variants_add_molprof_df[\"molecular_profile_id\"])"
   ]
  },
  {
   "cell_type": "markdown",
   "metadata": {},
   "source": [
    "### Import molecular profile scores"
   ]
  },
  {
   "cell_type": "code",
   "execution_count": 340,
   "metadata": {},
   "outputs": [
    {
     "data": {
      "text/html": [
       "<div>\n",
       "<style scoped>\n",
       "    .dataframe tbody tr th:only-of-type {\n",
       "        vertical-align: middle;\n",
       "    }\n",
       "\n",
       "    .dataframe tbody tr th {\n",
       "        vertical-align: top;\n",
       "    }\n",
       "\n",
       "    .dataframe thead th {\n",
       "        text-align: right;\n",
       "    }\n",
       "</style>\n",
       "<table border=\"1\" class=\"dataframe\">\n",
       "  <thead>\n",
       "    <tr style=\"text-align: right;\">\n",
       "      <th></th>\n",
       "      <th>variant_id</th>\n",
       "      <th>gene_name</th>\n",
       "      <th>variant_name</th>\n",
       "      <th>category</th>\n",
       "      <th>variant_accepted</th>\n",
       "      <th>molecular_profile_id</th>\n",
       "      <th>molecular_profile_score</th>\n",
       "    </tr>\n",
       "  </thead>\n",
       "  <tbody>\n",
       "    <tr>\n",
       "      <th>0</th>\n",
       "      <td>4170</td>\n",
       "      <td>VHL</td>\n",
       "      <td>NaN</td>\n",
       "      <td>Transcript Variant</td>\n",
       "      <td>False</td>\n",
       "      <td>[4038]</td>\n",
       "      <td>[0.0]</td>\n",
       "    </tr>\n",
       "    <tr>\n",
       "      <th>1</th>\n",
       "      <td>4417</td>\n",
       "      <td>ALK</td>\n",
       "      <td>FBXO11::ALK</td>\n",
       "      <td>Fusion</td>\n",
       "      <td>False</td>\n",
       "      <td>[4350]</td>\n",
       "      <td>[0.0]</td>\n",
       "    </tr>\n",
       "    <tr>\n",
       "      <th>2</th>\n",
       "      <td>4214</td>\n",
       "      <td>VHL</td>\n",
       "      <td>NaN</td>\n",
       "      <td>Transcript Variant</td>\n",
       "      <td>False</td>\n",
       "      <td>[4082]</td>\n",
       "      <td>[0.0]</td>\n",
       "    </tr>\n",
       "    <tr>\n",
       "      <th>3</th>\n",
       "      <td>4216</td>\n",
       "      <td>VHL</td>\n",
       "      <td>NaN</td>\n",
       "      <td>Transcript Variant</td>\n",
       "      <td>False</td>\n",
       "      <td>[4084]</td>\n",
       "      <td>[0.0]</td>\n",
       "    </tr>\n",
       "    <tr>\n",
       "      <th>4</th>\n",
       "      <td>4278</td>\n",
       "      <td>VHL</td>\n",
       "      <td>NaN</td>\n",
       "      <td>Transcript Variant</td>\n",
       "      <td>False</td>\n",
       "      <td>[4146]</td>\n",
       "      <td>[0.0]</td>\n",
       "    </tr>\n",
       "  </tbody>\n",
       "</table>\n",
       "</div>"
      ],
      "text/plain": [
       "   variant_id gene_name  variant_name            category  variant_accepted   \n",
       "0        4170       VHL           NaN  Transcript Variant             False  \\\n",
       "1        4417       ALK   FBXO11::ALK              Fusion             False   \n",
       "2        4214       VHL           NaN  Transcript Variant             False   \n",
       "3        4216       VHL           NaN  Transcript Variant             False   \n",
       "4        4278       VHL           NaN  Transcript Variant             False   \n",
       "\n",
       "  molecular_profile_id molecular_profile_score  \n",
       "0               [4038]                   [0.0]  \n",
       "1               [4350]                   [0.0]  \n",
       "2               [4082]                   [0.0]  \n",
       "3               [4084]                   [0.0]  \n",
       "4               [4146]                   [0.0]  "
      ]
     },
     "execution_count": 340,
     "metadata": {},
     "output_type": "execute_result"
    }
   ],
   "source": [
    "not_supported_variants_molprof_score = []\n",
    "\n",
    "for mp_list in not_supported_variants_molprof_id_list:\n",
    "    variant_molprof_score_list = []\n",
    "    for mp in mp_list:\n",
    "        \n",
    "        for molprof in civic_molprof_ids: \n",
    "            if int(mp) == molprof.id:\n",
    "\n",
    "                if molprof.molecular_profile_score not in variant_molprof_score_list:\n",
    "                    variant_molprof_score_list.append(molprof.molecular_profile_score)\n",
    "                variant_molprof_score_list = variant_molprof_score_list or \"\"\n",
    "\n",
    "    not_supported_variants_molprof_score.append(variant_molprof_score_list)\n",
    "\n",
    "not_supported_variants_add_molprof_df[\"molecular_profile_score\"] = not_supported_variants_molprof_score\n",
    "\n",
    "not_supported_variants_add_molprof_df.head()"
   ]
  },
  {
   "cell_type": "code",
   "execution_count": 341,
   "metadata": {},
   "outputs": [
    {
     "data": {
      "text/html": [
       "<div>\n",
       "<style scoped>\n",
       "    .dataframe tbody tr th:only-of-type {\n",
       "        vertical-align: middle;\n",
       "    }\n",
       "\n",
       "    .dataframe tbody tr th {\n",
       "        vertical-align: top;\n",
       "    }\n",
       "\n",
       "    .dataframe thead th {\n",
       "        text-align: right;\n",
       "    }\n",
       "</style>\n",
       "<table border=\"1\" class=\"dataframe\">\n",
       "  <thead>\n",
       "    <tr style=\"text-align: right;\">\n",
       "      <th></th>\n",
       "      <th>variant_id</th>\n",
       "      <th>gene_name</th>\n",
       "      <th>variant_name</th>\n",
       "      <th>category</th>\n",
       "      <th>variant_accepted</th>\n",
       "      <th>molecular_profile_id</th>\n",
       "      <th>molecular_profile_score</th>\n",
       "      <th>molecular_profile_score_sum</th>\n",
       "    </tr>\n",
       "  </thead>\n",
       "  <tbody>\n",
       "    <tr>\n",
       "      <th>0</th>\n",
       "      <td>4170</td>\n",
       "      <td>VHL</td>\n",
       "      <td>NaN</td>\n",
       "      <td>Transcript Variant</td>\n",
       "      <td>False</td>\n",
       "      <td>[4038]</td>\n",
       "      <td>[0.0]</td>\n",
       "      <td>0.0</td>\n",
       "    </tr>\n",
       "    <tr>\n",
       "      <th>1</th>\n",
       "      <td>4417</td>\n",
       "      <td>ALK</td>\n",
       "      <td>FBXO11::ALK</td>\n",
       "      <td>Fusion</td>\n",
       "      <td>False</td>\n",
       "      <td>[4350]</td>\n",
       "      <td>[0.0]</td>\n",
       "      <td>0.0</td>\n",
       "    </tr>\n",
       "    <tr>\n",
       "      <th>2</th>\n",
       "      <td>4214</td>\n",
       "      <td>VHL</td>\n",
       "      <td>NaN</td>\n",
       "      <td>Transcript Variant</td>\n",
       "      <td>False</td>\n",
       "      <td>[4082]</td>\n",
       "      <td>[0.0]</td>\n",
       "      <td>0.0</td>\n",
       "    </tr>\n",
       "    <tr>\n",
       "      <th>3</th>\n",
       "      <td>4216</td>\n",
       "      <td>VHL</td>\n",
       "      <td>NaN</td>\n",
       "      <td>Transcript Variant</td>\n",
       "      <td>False</td>\n",
       "      <td>[4084]</td>\n",
       "      <td>[0.0]</td>\n",
       "      <td>0.0</td>\n",
       "    </tr>\n",
       "    <tr>\n",
       "      <th>4</th>\n",
       "      <td>4278</td>\n",
       "      <td>VHL</td>\n",
       "      <td>NaN</td>\n",
       "      <td>Transcript Variant</td>\n",
       "      <td>False</td>\n",
       "      <td>[4146]</td>\n",
       "      <td>[0.0]</td>\n",
       "      <td>0.0</td>\n",
       "    </tr>\n",
       "  </tbody>\n",
       "</table>\n",
       "</div>"
      ],
      "text/plain": [
       "   variant_id gene_name  variant_name            category  variant_accepted   \n",
       "0        4170       VHL           NaN  Transcript Variant             False  \\\n",
       "1        4417       ALK   FBXO11::ALK              Fusion             False   \n",
       "2        4214       VHL           NaN  Transcript Variant             False   \n",
       "3        4216       VHL           NaN  Transcript Variant             False   \n",
       "4        4278       VHL           NaN  Transcript Variant             False   \n",
       "\n",
       "  molecular_profile_id molecular_profile_score  molecular_profile_score_sum  \n",
       "0               [4038]                   [0.0]                          0.0  \n",
       "1               [4350]                   [0.0]                          0.0  \n",
       "2               [4082]                   [0.0]                          0.0  \n",
       "3               [4084]                   [0.0]                          0.0  \n",
       "4               [4146]                   [0.0]                          0.0  "
      ]
     },
     "execution_count": 341,
     "metadata": {},
     "output_type": "execute_result"
    }
   ],
   "source": [
    "not_supported_variants_add_molprof_df['molecular_profile_score_sum'] = not_supported_variants_add_molprof_df['molecular_profile_score'].apply(lambda x: sum(x))\n",
    "not_supported_variants_add_molprof_df.head()"
   ]
  },
  {
   "cell_type": "markdown",
   "metadata": {},
   "source": [
    "### Impact by Subcategory"
   ]
  },
  {
   "cell_type": "code",
   "execution_count": 342,
   "metadata": {},
   "outputs": [
    {
     "name": "stdout",
     "output_type": "stream",
     "text": [
      "Expression\n",
      "3618.0\n",
      "--------------------\n",
      "Epigenetic Modification\n",
      "285.5\n",
      "--------------------\n",
      "Fusion\n",
      "5689.25\n",
      "--------------------\n",
      "Protein Consequence\n",
      "2683.75\n",
      "--------------------\n",
      "Gene Function\n",
      "1792.5\n",
      "--------------------\n",
      "Rearrangements\n",
      "653.0\n",
      "--------------------\n",
      "Copy Number\n",
      "207.0\n",
      "--------------------\n",
      "Other\n",
      "673.5\n",
      "--------------------\n",
      "Genotypes Easy\n",
      "195.0\n",
      "--------------------\n",
      "Genotypes Compound\n",
      "117.5\n",
      "--------------------\n",
      "Region Defined Variant\n",
      "8311.5\n",
      "--------------------\n",
      "Transcript Variant\n",
      "346.5\n",
      "--------------------\n"
     ]
    }
   ],
   "source": [
    "not_supported_variant_categories_impact_data = dict()\n",
    "for category in [\"Expression\", \"Epigenetic Modification\", \"Fusion\", \"Protein Consequence\", \"Gene Function\", \"Rearrangements\", \"Copy Number\", \"Other\", \"Genotypes Easy\", \"Genotypes Compound\", \"Region Defined Variant\", \"Transcript Variant\"]:\n",
    "    print(category)\n",
    "    not_supported_variant_categories_impact_data[category] = {}\n",
    "    impact_category_df = not_supported_variants_add_molprof_df[not_supported_variants_add_molprof_df.category == category]\n",
    "\n",
    "    total_sum_not_supported_category_impact = impact_category_df['molecular_profile_score_sum'].sum()\n",
    "    not_supported_variant_categories_impact_data[category][\"total_sum_not_supported_category_impact\"]=  total_sum_not_supported_category_impact\n",
    "    print(total_sum_not_supported_category_impact)\n",
    "\n",
    "    print(\"--------------------\")"
   ]
  },
  {
   "cell_type": "code",
   "execution_count": 343,
   "metadata": {},
   "outputs": [],
   "source": [
    "not_supported_variant_categories = ['Expression','Epigenetic Modification', 'Fusion', 'Protein Consequence', 'Gene Function', 'Rearrangements', 'Copy Number', 'Other', 'Genotypes Easy', 'Genotypes Compound', 'Region Defined Variant','Transcript Variant' ]\n",
    "not_supported_total_sum_impact_score =[v[\"total_sum_not_supported_category_impact\"] for k, v in not_supported_variant_categories_impact_data.items()]\n",
    "not_supported_total_number_evidence_items = [v[\"number_unique_not_supported_category_evidence\"]for k, v in not_supported_variant_categories_evidence_summary_data.items()]\n",
    "not_supported_percent_evidence_items = [v[\"percentage_accepted_evidence_not_supported_category_variants\"]for k, v in not_supported_variant_categories_evidence_summary_data.items()]\n",
    "not_supported_total_number_variants = [v[\"number_unique_not_supported_category_variants\"]for k, v in not_supported_variant_categories_summary_data.items()]"
   ]
  },
  {
   "cell_type": "code",
   "execution_count": 344,
   "metadata": {},
   "outputs": [],
   "source": [
    "not_supported_impact_dict = {'Category': not_supported_variant_categories,\n",
    "                            'Total Sum Impact Score':not_supported_total_sum_impact_score,\n",
    "                            'Total Number Evidence Items':not_supported_total_number_evidence_items,\n",
    "                            '% Accepted Evidence Items': not_supported_percent_evidence_items,\n",
    "                            'Total Number Variants':not_supported_total_number_variants}"
   ]
  },
  {
   "cell_type": "code",
   "execution_count": 345,
   "metadata": {},
   "outputs": [],
   "source": [
    "not_supported_variant_impact_df = pd.DataFrame(not_supported_impact_dict)"
   ]
  },
  {
   "cell_type": "markdown",
   "metadata": {},
   "source": [
    "# Summary"
   ]
  },
  {
   "cell_type": "markdown",
   "metadata": {},
   "source": [
    "## Variant Analysis"
   ]
  },
  {
   "cell_type": "code",
   "execution_count": 347,
   "metadata": {},
   "outputs": [],
   "source": [
    "all_variant_dict = {'Variant Category':['Normalized', 'Unable to Normalize', 'Not Supported'],\n",
    "        'Fraction of all CIViC Variant Items': [fraction_normalized_variants, fraction_not_normalized_variants, fraction_not_supported_variants],\n",
    "        'Percentage of all CIViC Variant Items': [percentage_normalized_variants, percentage_not_normalized_variants, percentage_not_supported_variants],\n",
    "        'Fraction of Accepted Variant Items': [fraction_accepted_normalized_variants, fraction_accepted_not_normalized_variants, fraction_accepted_not_supported_variants],\n",
    "        'Percentage of Accepted Variant Items':[ percentage_accepted_normalized_variants, percentage_accepted_not_normalized_variants, percentage_accepted_not_supported_variants],\n",
    "        'Fraction of Not Accepted Variant Items': [fraction_not_accepted_normalized_variants,fraction_not_accepted_not_normalized_variants, fraction_not_accepted_not_supported_variants],\n",
    "        'Percentage of Not Accepted Variant Items': [ percentage_not_accepted_normalized_variants, percentage_not_accepted_not_normalized_variants, percentage_not_accepted_not_supported_variants]}"
   ]
  },
  {
   "cell_type": "code",
   "execution_count": 348,
   "metadata": {},
   "outputs": [],
   "source": [
    "all_variant_df = pd.DataFrame(all_variant_dict)"
   ]
  },
  {
   "cell_type": "code",
   "execution_count": 349,
   "metadata": {},
   "outputs": [],
   "source": [
    "all_variant_df[\"Percentage of all CIViC Variant Items\"] = all_variant_df['Fraction of all CIViC Variant Items'].astype(str) + \"  (\" + all_variant_df[\"Percentage of all CIViC Variant Items\"]+ \")\"\n",
    "all_variant_df[\"Percentage of Accepted Variant Items\"] = all_variant_df['Fraction of Accepted Variant Items'].astype(str) + \"  (\" + all_variant_df[\"Percentage of Accepted Variant Items\"]+ \")\"\n",
    "all_variant_df[\"Percentage of Not Accepted Variant Items\"] = all_variant_df['Fraction of Not Accepted Variant Items'].astype(str) + \"  (\" + all_variant_df[\"Percentage of Not Accepted Variant Items\"]+ \")\""
   ]
  },
  {
   "cell_type": "code",
   "execution_count": 350,
   "metadata": {},
   "outputs": [],
   "source": [
    "all_variant_df = all_variant_df.drop(['Fraction of all CIViC Variant Items', 'Fraction of Accepted Variant Items', 'Fraction of Not Accepted Variant Items'], axis=1)"
   ]
  },
  {
   "cell_type": "code",
   "execution_count": 351,
   "metadata": {},
   "outputs": [],
   "source": [
    "all_variant_percent_of_civic_df = all_variant_df.drop(['Percentage of Accepted Variant Items', 'Percentage of Not Accepted Variant Items'], axis=1)\n",
    "all_variant_percent_evidence_df = all_variant_df.drop(['Percentage of all CIViC Variant Items'], axis=1)"
   ]
  },
  {
   "cell_type": "markdown",
   "metadata": {},
   "source": [
    "Summary Table 1: The table below shows the 3 categories that CIViC variants were divided into after normalization and what percentage they make up of all variants in CIViC data. "
   ]
  },
  {
   "cell_type": "code",
   "execution_count": 352,
   "metadata": {},
   "outputs": [
    {
     "data": {
      "text/html": [
       "<div>\n",
       "<style scoped>\n",
       "    .dataframe tbody tr th:only-of-type {\n",
       "        vertical-align: middle;\n",
       "    }\n",
       "\n",
       "    .dataframe tbody tr th {\n",
       "        vertical-align: top;\n",
       "    }\n",
       "\n",
       "    .dataframe thead th {\n",
       "        text-align: right;\n",
       "    }\n",
       "</style>\n",
       "<table border=\"1\" class=\"dataframe\">\n",
       "  <thead>\n",
       "    <tr style=\"text-align: right;\">\n",
       "      <th></th>\n",
       "      <th>Percentage of all CIViC Variant Items</th>\n",
       "    </tr>\n",
       "    <tr>\n",
       "      <th>Variant Category</th>\n",
       "      <th></th>\n",
       "    </tr>\n",
       "  </thead>\n",
       "  <tbody>\n",
       "    <tr>\n",
       "      <th>Normalized</th>\n",
       "      <td>1869 / 3553  (52.60%)</td>\n",
       "    </tr>\n",
       "    <tr>\n",
       "      <th>Unable to Normalize</th>\n",
       "      <td>63 / 3553  (1.77%)</td>\n",
       "    </tr>\n",
       "    <tr>\n",
       "      <th>Not Supported</th>\n",
       "      <td>1621 / 3553  (45.62%)</td>\n",
       "    </tr>\n",
       "  </tbody>\n",
       "</table>\n",
       "</div>"
      ],
      "text/plain": [
       "                    Percentage of all CIViC Variant Items\n",
       "Variant Category                                         \n",
       "Normalized                          1869 / 3553  (52.60%)\n",
       "Unable to Normalize                    63 / 3553  (1.77%)\n",
       "Not Supported                       1621 / 3553  (45.62%)"
      ]
     },
     "execution_count": 352,
     "metadata": {},
     "output_type": "execute_result"
    }
   ],
   "source": [
    "all_variant_percent_of_civic_df = all_variant_percent_of_civic_df.set_index('Variant Category')\n",
    "all_variant_percent_of_civic_df"
   ]
  },
  {
   "cell_type": "code",
   "execution_count": 381,
   "metadata": {},
   "outputs": [],
   "source": [
    "summary_table_1 = all_variant_percent_of_civic_df"
   ]
  },
  {
   "cell_type": "markdown",
   "metadata": {},
   "source": [
    "Summary Table 2: The table below shows the 3 categories that CIViC variants were divided into after normalization and what percentage of the variants in each category are accepted (have at least one evidence item that is accepted) or not."
   ]
  },
  {
   "cell_type": "code",
   "execution_count": 353,
   "metadata": {},
   "outputs": [
    {
     "data": {
      "text/html": [
       "<div>\n",
       "<style scoped>\n",
       "    .dataframe tbody tr th:only-of-type {\n",
       "        vertical-align: middle;\n",
       "    }\n",
       "\n",
       "    .dataframe tbody tr th {\n",
       "        vertical-align: top;\n",
       "    }\n",
       "\n",
       "    .dataframe thead th {\n",
       "        text-align: right;\n",
       "    }\n",
       "</style>\n",
       "<table border=\"1\" class=\"dataframe\">\n",
       "  <thead>\n",
       "    <tr style=\"text-align: right;\">\n",
       "      <th></th>\n",
       "      <th>Percentage of Accepted Variant Items</th>\n",
       "      <th>Percentage of Not Accepted Variant Items</th>\n",
       "    </tr>\n",
       "    <tr>\n",
       "      <th>Variant Category</th>\n",
       "      <th></th>\n",
       "      <th></th>\n",
       "    </tr>\n",
       "  </thead>\n",
       "  <tbody>\n",
       "    <tr>\n",
       "      <th>Normalized</th>\n",
       "      <td>866 /1869  (46.33%)</td>\n",
       "      <td>1003 / 1869  (53.67%)</td>\n",
       "    </tr>\n",
       "    <tr>\n",
       "      <th>Unable to Normalize</th>\n",
       "      <td>9 /63  (14.29%)</td>\n",
       "      <td>54 / 63  (85.71%)</td>\n",
       "    </tr>\n",
       "    <tr>\n",
       "      <th>Not Supported</th>\n",
       "      <td>788 /1621  (48.61%)</td>\n",
       "      <td>833 / 1621  (51.39%)</td>\n",
       "    </tr>\n",
       "  </tbody>\n",
       "</table>\n",
       "</div>"
      ],
      "text/plain": [
       "                    Percentage of Accepted Variant Items   \n",
       "Variant Category                                           \n",
       "Normalized                           866 /1869  (46.33%)  \\\n",
       "Unable to Normalize                      9 /63  (14.29%)   \n",
       "Not Supported                        788 /1621  (48.61%)   \n",
       "\n",
       "                    Percentage of Not Accepted Variant Items  \n",
       "Variant Category                                              \n",
       "Normalized                             1003 / 1869  (53.67%)  \n",
       "Unable to Normalize                        54 / 63  (85.71%)  \n",
       "Not Supported                           833 / 1621  (51.39%)  "
      ]
     },
     "execution_count": 353,
     "metadata": {},
     "output_type": "execute_result"
    }
   ],
   "source": [
    "all_variant_percent_evidence_df = all_variant_percent_evidence_df.set_index('Variant Category')\n",
    "all_variant_percent_evidence_df"
   ]
  },
  {
   "cell_type": "code",
   "execution_count": null,
   "metadata": {},
   "outputs": [],
   "source": [
    "summary_table_2 = all_variant_percent_evidence_df"
   ]
  },
  {
   "cell_type": "code",
   "execution_count": 354,
   "metadata": {},
   "outputs": [],
   "source": [
    "not_supported_variant_categories = ['Expression','Epigenetic Modification', 'Fusion', 'Protein Consequence', 'Gene Function', 'Rearrangements', 'Copy Number', 'Other', 'Genotypes Easy', 'Genotypes Compound', 'Region Defined Variant','Transcript Variant' ]\n",
    "not_supported_fraction_of_civic_variant_items =[v[\"fraction_not_supported_category_variant_of_civic\"] for k, v in not_supported_variant_categories_summary_data.items()]\n",
    "not_supported_percent_of_civic_variant_items = [v[\"percent_not_supported_category_variant_of_civic\"] for k, v in not_supported_variant_categories_summary_data.items()]\n",
    "not_supported_fraction_not_supported_variant_items =[v[\"fraction_not_supported_category_variant_of_total_not_supported\"] for k, v in not_supported_variant_categories_summary_data.items()]\n",
    "not_supported_percent_not_supported_variant_items = [v[\"percent_not_supported_category_variant_of_total_not_supported\"] for k, v in not_supported_variant_categories_summary_data.items()]\n",
    "not_supported_fraction_of_accepted_variant_items =[v[\"fraction_accepted_not_supported_category_variants\"] for k, v in not_supported_variant_categories_summary_data.items()]\n",
    "not_supported_percent_of_accepted_variant_items = [v[\"percentage_accepted_not_supported_category_variants\"] for k, v in not_supported_variant_categories_summary_data.items()]\n",
    "not_supported_fraction_of_not_accepted_variant_items =[v[\"fraction_not_accepted_not_supported_category_variants\"] for k, v in not_supported_variant_categories_summary_data.items()]\n",
    "not_supported_percent_of_not_accepted_variant_items = [v[\"percentage_not_accepted_not_supported_category_variants\"] for k, v in not_supported_variant_categories_summary_data.items()]"
   ]
  },
  {
   "cell_type": "code",
   "execution_count": 355,
   "metadata": {},
   "outputs": [],
   "source": [
    "not_supported_variant_dict = {'Category': not_supported_variant_categories,\n",
    "                                'Fraction of Not Supported Variant Items':not_supported_fraction_not_supported_variant_items ,\n",
    "                                'Percent of Not Supported Variant Items':not_supported_percent_not_supported_variant_items,\n",
    "                                'Fraction of all CIViC Variant Items': not_supported_fraction_of_civic_variant_items,\n",
    "                                'Percent of all CIViC Variant Items':not_supported_percent_of_civic_variant_items,\n",
    "                                'Fraction of Accepted Variant Items': not_supported_fraction_of_accepted_variant_items,\n",
    "                                'Percent of Accepted Variant Items':not_supported_percent_of_accepted_variant_items,\n",
    "                                'Fraction of Not Accepted Variant Items': not_supported_fraction_of_not_accepted_variant_items,\n",
    "                                'Percent of Not Accepted Variant Items':not_supported_percent_of_not_accepted_variant_items}"
   ]
  },
  {
   "cell_type": "code",
   "execution_count": 356,
   "metadata": {},
   "outputs": [],
   "source": [
    "not_supported_variant_df = pd.DataFrame(not_supported_variant_dict)"
   ]
  },
  {
   "cell_type": "code",
   "execution_count": 357,
   "metadata": {},
   "outputs": [],
   "source": [
    "not_supported_variant_df['Percent of Not Supported Variant Items'] = not_supported_variant_df['Fraction of Not Supported Variant Items'].astype(str) + \"  (\" +  not_supported_variant_df['Percent of Not Supported Variant Items']+ \")\"\n",
    "not_supported_variant_df['Percent of all CIViC Variant Items'] = not_supported_variant_df['Fraction of all CIViC Variant Items'].astype(str) + \"  (\" +  not_supported_variant_df['Percent of all CIViC Variant Items']+ \")\"\n",
    "not_supported_variant_df['Percent of Accepted Variant Items'] = not_supported_variant_df['Fraction of Accepted Variant Items'].astype(str) + \"  (\" +  not_supported_variant_df['Percent of Accepted Variant Items']+ \")\"\n",
    "not_supported_variant_df['Percent of Not Accepted Variant Items'] = not_supported_variant_df['Fraction of Not Accepted Variant Items'].astype(str) + \"  (\" +  not_supported_variant_df['Percent of Not Accepted Variant Items']+ \")\""
   ]
  },
  {
   "cell_type": "code",
   "execution_count": 358,
   "metadata": {},
   "outputs": [
    {
     "data": {
      "text/html": [
       "<div>\n",
       "<style scoped>\n",
       "    .dataframe tbody tr th:only-of-type {\n",
       "        vertical-align: middle;\n",
       "    }\n",
       "\n",
       "    .dataframe tbody tr th {\n",
       "        vertical-align: top;\n",
       "    }\n",
       "\n",
       "    .dataframe thead th {\n",
       "        text-align: right;\n",
       "    }\n",
       "</style>\n",
       "<table border=\"1\" class=\"dataframe\">\n",
       "  <thead>\n",
       "    <tr style=\"text-align: right;\">\n",
       "      <th></th>\n",
       "      <th>Category</th>\n",
       "      <th>Percent of Not Supported Variant Items</th>\n",
       "      <th>Percent of all CIViC Variant Items</th>\n",
       "      <th>Percent of Accepted Variant Items</th>\n",
       "      <th>Percent of Not Accepted Variant Items</th>\n",
       "    </tr>\n",
       "  </thead>\n",
       "  <tbody>\n",
       "    <tr>\n",
       "      <th>0</th>\n",
       "      <td>Expression</td>\n",
       "      <td>291 / 1621  (17.95%)</td>\n",
       "      <td>291 / 3553  (8.19%)</td>\n",
       "      <td>180 / 291  (61.86%)</td>\n",
       "      <td>111 / 291  (38.14%)</td>\n",
       "    </tr>\n",
       "    <tr>\n",
       "      <th>1</th>\n",
       "      <td>Epigenetic Modification</td>\n",
       "      <td>15 / 1621  (0.93%)</td>\n",
       "      <td>15 / 3553  (0.42%)</td>\n",
       "      <td>14 / 15  (93.33%)</td>\n",
       "      <td>1 / 15  (6.67%)</td>\n",
       "    </tr>\n",
       "    <tr>\n",
       "      <th>2</th>\n",
       "      <td>Fusion</td>\n",
       "      <td>307 / 1621  (18.94%)</td>\n",
       "      <td>307 / 3553  (8.64%)</td>\n",
       "      <td>204 / 307  (66.45%)</td>\n",
       "      <td>103 / 307  (33.55%)</td>\n",
       "    </tr>\n",
       "    <tr>\n",
       "      <th>3</th>\n",
       "      <td>Protein Consequence</td>\n",
       "      <td>128 / 1621  (7.90%)</td>\n",
       "      <td>128 / 3553  (3.60%)</td>\n",
       "      <td>70 / 128  (54.69%)</td>\n",
       "      <td>58 / 128  (45.31%)</td>\n",
       "    </tr>\n",
       "    <tr>\n",
       "      <th>4</th>\n",
       "      <td>Gene Function</td>\n",
       "      <td>90 / 1621  (5.55%)</td>\n",
       "      <td>90 / 3553  (2.53%)</td>\n",
       "      <td>49 / 90  (54.44%)</td>\n",
       "      <td>41 / 90  (45.56%)</td>\n",
       "    </tr>\n",
       "    <tr>\n",
       "      <th>5</th>\n",
       "      <td>Rearrangements</td>\n",
       "      <td>52 / 1621  (3.21%)</td>\n",
       "      <td>52 / 3553  (1.46%)</td>\n",
       "      <td>12 / 52  (23.08%)</td>\n",
       "      <td>40 / 52  (76.92%)</td>\n",
       "    </tr>\n",
       "    <tr>\n",
       "      <th>6</th>\n",
       "      <td>Copy Number</td>\n",
       "      <td>34 / 1621  (2.10%)</td>\n",
       "      <td>34 / 3553  (0.96%)</td>\n",
       "      <td>19 / 34  (55.88%)</td>\n",
       "      <td>15 / 34  (44.12%)</td>\n",
       "    </tr>\n",
       "    <tr>\n",
       "      <th>7</th>\n",
       "      <td>Other</td>\n",
       "      <td>93 / 1621  (5.74%)</td>\n",
       "      <td>93 / 3553  (2.62%)</td>\n",
       "      <td>43 / 93  (46.24%)</td>\n",
       "      <td>50 / 93  (53.76%)</td>\n",
       "    </tr>\n",
       "    <tr>\n",
       "      <th>8</th>\n",
       "      <td>Genotypes Easy</td>\n",
       "      <td>11 / 1621  (0.68%)</td>\n",
       "      <td>11 / 3553  (0.31%)</td>\n",
       "      <td>8 / 11  (72.73%)</td>\n",
       "      <td>3 / 11  (27.27%)</td>\n",
       "    </tr>\n",
       "    <tr>\n",
       "      <th>9</th>\n",
       "      <td>Genotypes Compound</td>\n",
       "      <td>6 / 1621  (0.37%)</td>\n",
       "      <td>6 / 3553  (0.17%)</td>\n",
       "      <td>4 / 6  (66.67%)</td>\n",
       "      <td>2 / 6  (33.33%)</td>\n",
       "    </tr>\n",
       "    <tr>\n",
       "      <th>10</th>\n",
       "      <td>Region Defined Variant</td>\n",
       "      <td>209 / 1621  (12.89%)</td>\n",
       "      <td>209 / 3553  (5.88%)</td>\n",
       "      <td>134 / 209  (64.11%)</td>\n",
       "      <td>75 / 209  (35.89%)</td>\n",
       "    </tr>\n",
       "    <tr>\n",
       "      <th>11</th>\n",
       "      <td>Transcript Variant</td>\n",
       "      <td>385 / 1621  (23.75%)</td>\n",
       "      <td>385 / 3553  (10.84%)</td>\n",
       "      <td>51 / 385  (13.25%)</td>\n",
       "      <td>334 / 385  (86.75%)</td>\n",
       "    </tr>\n",
       "  </tbody>\n",
       "</table>\n",
       "</div>"
      ],
      "text/plain": [
       "                   Category Percent of Not Supported Variant Items   \n",
       "0                Expression                   291 / 1621  (17.95%)  \\\n",
       "1   Epigenetic Modification                     15 / 1621  (0.93%)   \n",
       "2                    Fusion                   307 / 1621  (18.94%)   \n",
       "3       Protein Consequence                    128 / 1621  (7.90%)   \n",
       "4             Gene Function                     90 / 1621  (5.55%)   \n",
       "5            Rearrangements                     52 / 1621  (3.21%)   \n",
       "6               Copy Number                     34 / 1621  (2.10%)   \n",
       "7                     Other                     93 / 1621  (5.74%)   \n",
       "8            Genotypes Easy                     11 / 1621  (0.68%)   \n",
       "9        Genotypes Compound                      6 / 1621  (0.37%)   \n",
       "10   Region Defined Variant                   209 / 1621  (12.89%)   \n",
       "11       Transcript Variant                   385 / 1621  (23.75%)   \n",
       "\n",
       "   Percent of all CIViC Variant Items Percent of Accepted Variant Items   \n",
       "0                 291 / 3553  (8.19%)               180 / 291  (61.86%)  \\\n",
       "1                  15 / 3553  (0.42%)                 14 / 15  (93.33%)   \n",
       "2                 307 / 3553  (8.64%)               204 / 307  (66.45%)   \n",
       "3                 128 / 3553  (3.60%)                70 / 128  (54.69%)   \n",
       "4                  90 / 3553  (2.53%)                 49 / 90  (54.44%)   \n",
       "5                  52 / 3553  (1.46%)                 12 / 52  (23.08%)   \n",
       "6                  34 / 3553  (0.96%)                 19 / 34  (55.88%)   \n",
       "7                  93 / 3553  (2.62%)                 43 / 93  (46.24%)   \n",
       "8                  11 / 3553  (0.31%)                  8 / 11  (72.73%)   \n",
       "9                   6 / 3553  (0.17%)                   4 / 6  (66.67%)   \n",
       "10                209 / 3553  (5.88%)               134 / 209  (64.11%)   \n",
       "11               385 / 3553  (10.84%)                51 / 385  (13.25%)   \n",
       "\n",
       "   Percent of Not Accepted Variant Items  \n",
       "0                    111 / 291  (38.14%)  \n",
       "1                        1 / 15  (6.67%)  \n",
       "2                    103 / 307  (33.55%)  \n",
       "3                     58 / 128  (45.31%)  \n",
       "4                      41 / 90  (45.56%)  \n",
       "5                      40 / 52  (76.92%)  \n",
       "6                      15 / 34  (44.12%)  \n",
       "7                      50 / 93  (53.76%)  \n",
       "8                       3 / 11  (27.27%)  \n",
       "9                        2 / 6  (33.33%)  \n",
       "10                    75 / 209  (35.89%)  \n",
       "11                   334 / 385  (86.75%)  "
      ]
     },
     "execution_count": 358,
     "metadata": {},
     "output_type": "execute_result"
    }
   ],
   "source": [
    "not_supported_variant_df = not_supported_variant_df.drop(['Fraction of Not Supported Variant Items','Fraction of all CIViC Variant Items','Fraction of Accepted Variant Items','Fraction of Not Accepted Variant Items'], axis=1)\n",
    "not_supported_variant_df"
   ]
  },
  {
   "cell_type": "code",
   "execution_count": 359,
   "metadata": {},
   "outputs": [],
   "source": [
    "not_supported_variant_percent_of_civic_df =not_supported_variant_df.drop(['Percent of Not Supported Variant Items','Percent of Accepted Variant Items','Percent of Not Accepted Variant Items'], axis=1)\n",
    "not_supported_variant_percent_of_not_supported_df = not_supported_variant_df.drop(['Percent of all CIViC Variant Items','Percent of Accepted Variant Items','Percent of Not Accepted Variant Items'], axis=1)\n",
    "not_supported_variant_percent_evidence_df = not_supported_variant_df.drop(['Percent of all CIViC Variant Items','Percent of Not Supported Variant Items'], axis=1)"
   ]
  },
  {
   "cell_type": "markdown",
   "metadata": {},
   "source": [
    "Summary Table 3: The table below shows the categories that the Not Supported variants were broken into and what percentage of all CIViC variants they make up. These percentages will not add up to 100% because Not Supported variants make up 45.62% of all CIViC variants. "
   ]
  },
  {
   "cell_type": "code",
   "execution_count": 360,
   "metadata": {},
   "outputs": [
    {
     "data": {
      "text/html": [
       "<div>\n",
       "<style scoped>\n",
       "    .dataframe tbody tr th:only-of-type {\n",
       "        vertical-align: middle;\n",
       "    }\n",
       "\n",
       "    .dataframe tbody tr th {\n",
       "        vertical-align: top;\n",
       "    }\n",
       "\n",
       "    .dataframe thead th {\n",
       "        text-align: right;\n",
       "    }\n",
       "</style>\n",
       "<table border=\"1\" class=\"dataframe\">\n",
       "  <thead>\n",
       "    <tr style=\"text-align: right;\">\n",
       "      <th></th>\n",
       "      <th>Percent of all CIViC Variant Items</th>\n",
       "    </tr>\n",
       "    <tr>\n",
       "      <th>Category</th>\n",
       "      <th></th>\n",
       "    </tr>\n",
       "  </thead>\n",
       "  <tbody>\n",
       "    <tr>\n",
       "      <th>Expression</th>\n",
       "      <td>291 / 3553  (8.19%)</td>\n",
       "    </tr>\n",
       "    <tr>\n",
       "      <th>Epigenetic Modification</th>\n",
       "      <td>15 / 3553  (0.42%)</td>\n",
       "    </tr>\n",
       "    <tr>\n",
       "      <th>Fusion</th>\n",
       "      <td>307 / 3553  (8.64%)</td>\n",
       "    </tr>\n",
       "    <tr>\n",
       "      <th>Protein Consequence</th>\n",
       "      <td>128 / 3553  (3.60%)</td>\n",
       "    </tr>\n",
       "    <tr>\n",
       "      <th>Gene Function</th>\n",
       "      <td>90 / 3553  (2.53%)</td>\n",
       "    </tr>\n",
       "    <tr>\n",
       "      <th>Rearrangements</th>\n",
       "      <td>52 / 3553  (1.46%)</td>\n",
       "    </tr>\n",
       "    <tr>\n",
       "      <th>Copy Number</th>\n",
       "      <td>34 / 3553  (0.96%)</td>\n",
       "    </tr>\n",
       "    <tr>\n",
       "      <th>Other</th>\n",
       "      <td>93 / 3553  (2.62%)</td>\n",
       "    </tr>\n",
       "    <tr>\n",
       "      <th>Genotypes Easy</th>\n",
       "      <td>11 / 3553  (0.31%)</td>\n",
       "    </tr>\n",
       "    <tr>\n",
       "      <th>Genotypes Compound</th>\n",
       "      <td>6 / 3553  (0.17%)</td>\n",
       "    </tr>\n",
       "    <tr>\n",
       "      <th>Region Defined Variant</th>\n",
       "      <td>209 / 3553  (5.88%)</td>\n",
       "    </tr>\n",
       "    <tr>\n",
       "      <th>Transcript Variant</th>\n",
       "      <td>385 / 3553  (10.84%)</td>\n",
       "    </tr>\n",
       "  </tbody>\n",
       "</table>\n",
       "</div>"
      ],
      "text/plain": [
       "                        Percent of all CIViC Variant Items\n",
       "Category                                                  \n",
       "Expression                             291 / 3553  (8.19%)\n",
       "Epigenetic Modification                 15 / 3553  (0.42%)\n",
       "Fusion                                 307 / 3553  (8.64%)\n",
       "Protein Consequence                    128 / 3553  (3.60%)\n",
       "Gene Function                           90 / 3553  (2.53%)\n",
       "Rearrangements                          52 / 3553  (1.46%)\n",
       "Copy Number                             34 / 3553  (0.96%)\n",
       "Other                                   93 / 3553  (2.62%)\n",
       "Genotypes Easy                          11 / 3553  (0.31%)\n",
       "Genotypes Compound                       6 / 3553  (0.17%)\n",
       "Region Defined Variant                 209 / 3553  (5.88%)\n",
       "Transcript Variant                    385 / 3553  (10.84%)"
      ]
     },
     "execution_count": 360,
     "metadata": {},
     "output_type": "execute_result"
    }
   ],
   "source": [
    "not_supported_variant_percent_of_civic_df = not_supported_variant_percent_of_civic_df.set_index('Category')\n",
    "not_supported_variant_percent_of_civic_df"
   ]
  },
  {
   "cell_type": "code",
   "execution_count": null,
   "metadata": {},
   "outputs": [],
   "source": [
    "summary_table_3 = not_supported_variant_percent_of_civic_df"
   ]
  },
  {
   "cell_type": "markdown",
   "metadata": {},
   "source": [
    "Summary Table 4: The table below shows the Not Supported variants broken up into 12 sub categories and what percent each sub category take up in Not Supported variant group."
   ]
  },
  {
   "cell_type": "code",
   "execution_count": 361,
   "metadata": {},
   "outputs": [
    {
     "data": {
      "text/html": [
       "<div>\n",
       "<style scoped>\n",
       "    .dataframe tbody tr th:only-of-type {\n",
       "        vertical-align: middle;\n",
       "    }\n",
       "\n",
       "    .dataframe tbody tr th {\n",
       "        vertical-align: top;\n",
       "    }\n",
       "\n",
       "    .dataframe thead th {\n",
       "        text-align: right;\n",
       "    }\n",
       "</style>\n",
       "<table border=\"1\" class=\"dataframe\">\n",
       "  <thead>\n",
       "    <tr style=\"text-align: right;\">\n",
       "      <th></th>\n",
       "      <th>Percent of Not Supported Variant Items</th>\n",
       "    </tr>\n",
       "    <tr>\n",
       "      <th>Category</th>\n",
       "      <th></th>\n",
       "    </tr>\n",
       "  </thead>\n",
       "  <tbody>\n",
       "    <tr>\n",
       "      <th>Expression</th>\n",
       "      <td>291 / 1621  (17.95%)</td>\n",
       "    </tr>\n",
       "    <tr>\n",
       "      <th>Epigenetic Modification</th>\n",
       "      <td>15 / 1621  (0.93%)</td>\n",
       "    </tr>\n",
       "    <tr>\n",
       "      <th>Fusion</th>\n",
       "      <td>307 / 1621  (18.94%)</td>\n",
       "    </tr>\n",
       "    <tr>\n",
       "      <th>Protein Consequence</th>\n",
       "      <td>128 / 1621  (7.90%)</td>\n",
       "    </tr>\n",
       "    <tr>\n",
       "      <th>Gene Function</th>\n",
       "      <td>90 / 1621  (5.55%)</td>\n",
       "    </tr>\n",
       "    <tr>\n",
       "      <th>Rearrangements</th>\n",
       "      <td>52 / 1621  (3.21%)</td>\n",
       "    </tr>\n",
       "    <tr>\n",
       "      <th>Copy Number</th>\n",
       "      <td>34 / 1621  (2.10%)</td>\n",
       "    </tr>\n",
       "    <tr>\n",
       "      <th>Other</th>\n",
       "      <td>93 / 1621  (5.74%)</td>\n",
       "    </tr>\n",
       "    <tr>\n",
       "      <th>Genotypes Easy</th>\n",
       "      <td>11 / 1621  (0.68%)</td>\n",
       "    </tr>\n",
       "    <tr>\n",
       "      <th>Genotypes Compound</th>\n",
       "      <td>6 / 1621  (0.37%)</td>\n",
       "    </tr>\n",
       "    <tr>\n",
       "      <th>Region Defined Variant</th>\n",
       "      <td>209 / 1621  (12.89%)</td>\n",
       "    </tr>\n",
       "    <tr>\n",
       "      <th>Transcript Variant</th>\n",
       "      <td>385 / 1621  (23.75%)</td>\n",
       "    </tr>\n",
       "  </tbody>\n",
       "</table>\n",
       "</div>"
      ],
      "text/plain": [
       "                        Percent of Not Supported Variant Items\n",
       "Category                                                      \n",
       "Expression                                291 / 1621  (17.95%)\n",
       "Epigenetic Modification                     15 / 1621  (0.93%)\n",
       "Fusion                                    307 / 1621  (18.94%)\n",
       "Protein Consequence                        128 / 1621  (7.90%)\n",
       "Gene Function                               90 / 1621  (5.55%)\n",
       "Rearrangements                              52 / 1621  (3.21%)\n",
       "Copy Number                                 34 / 1621  (2.10%)\n",
       "Other                                       93 / 1621  (5.74%)\n",
       "Genotypes Easy                              11 / 1621  (0.68%)\n",
       "Genotypes Compound                           6 / 1621  (0.37%)\n",
       "Region Defined Variant                    209 / 1621  (12.89%)\n",
       "Transcript Variant                        385 / 1621  (23.75%)"
      ]
     },
     "execution_count": 361,
     "metadata": {},
     "output_type": "execute_result"
    }
   ],
   "source": [
    "not_supported_variant_percent_of_not_supported_df = not_supported_variant_percent_of_not_supported_df.set_index('Category')\n",
    "not_supported_variant_percent_of_not_supported_df"
   ]
  },
  {
   "cell_type": "code",
   "execution_count": null,
   "metadata": {},
   "outputs": [],
   "source": [
    "summary_table_4: not_supported_variant_percent_of_not_supported_df"
   ]
  },
  {
   "cell_type": "markdown",
   "metadata": {},
   "source": [
    "Summary Table 5: The table below shows the percent of variant items in each Not Supported variant sub category that are accepted(have at least one evidence item that is accepted) or not, per category."
   ]
  },
  {
   "cell_type": "code",
   "execution_count": 362,
   "metadata": {},
   "outputs": [
    {
     "data": {
      "text/html": [
       "<div>\n",
       "<style scoped>\n",
       "    .dataframe tbody tr th:only-of-type {\n",
       "        vertical-align: middle;\n",
       "    }\n",
       "\n",
       "    .dataframe tbody tr th {\n",
       "        vertical-align: top;\n",
       "    }\n",
       "\n",
       "    .dataframe thead th {\n",
       "        text-align: right;\n",
       "    }\n",
       "</style>\n",
       "<table border=\"1\" class=\"dataframe\">\n",
       "  <thead>\n",
       "    <tr style=\"text-align: right;\">\n",
       "      <th></th>\n",
       "      <th>Percent of Accepted Variant Items</th>\n",
       "      <th>Percent of Not Accepted Variant Items</th>\n",
       "    </tr>\n",
       "    <tr>\n",
       "      <th>Category</th>\n",
       "      <th></th>\n",
       "      <th></th>\n",
       "    </tr>\n",
       "  </thead>\n",
       "  <tbody>\n",
       "    <tr>\n",
       "      <th>Expression</th>\n",
       "      <td>180 / 291  (61.86%)</td>\n",
       "      <td>111 / 291  (38.14%)</td>\n",
       "    </tr>\n",
       "    <tr>\n",
       "      <th>Epigenetic Modification</th>\n",
       "      <td>14 / 15  (93.33%)</td>\n",
       "      <td>1 / 15  (6.67%)</td>\n",
       "    </tr>\n",
       "    <tr>\n",
       "      <th>Fusion</th>\n",
       "      <td>204 / 307  (66.45%)</td>\n",
       "      <td>103 / 307  (33.55%)</td>\n",
       "    </tr>\n",
       "    <tr>\n",
       "      <th>Protein Consequence</th>\n",
       "      <td>70 / 128  (54.69%)</td>\n",
       "      <td>58 / 128  (45.31%)</td>\n",
       "    </tr>\n",
       "    <tr>\n",
       "      <th>Gene Function</th>\n",
       "      <td>49 / 90  (54.44%)</td>\n",
       "      <td>41 / 90  (45.56%)</td>\n",
       "    </tr>\n",
       "    <tr>\n",
       "      <th>Rearrangements</th>\n",
       "      <td>12 / 52  (23.08%)</td>\n",
       "      <td>40 / 52  (76.92%)</td>\n",
       "    </tr>\n",
       "    <tr>\n",
       "      <th>Copy Number</th>\n",
       "      <td>19 / 34  (55.88%)</td>\n",
       "      <td>15 / 34  (44.12%)</td>\n",
       "    </tr>\n",
       "    <tr>\n",
       "      <th>Other</th>\n",
       "      <td>43 / 93  (46.24%)</td>\n",
       "      <td>50 / 93  (53.76%)</td>\n",
       "    </tr>\n",
       "    <tr>\n",
       "      <th>Genotypes Easy</th>\n",
       "      <td>8 / 11  (72.73%)</td>\n",
       "      <td>3 / 11  (27.27%)</td>\n",
       "    </tr>\n",
       "    <tr>\n",
       "      <th>Genotypes Compound</th>\n",
       "      <td>4 / 6  (66.67%)</td>\n",
       "      <td>2 / 6  (33.33%)</td>\n",
       "    </tr>\n",
       "    <tr>\n",
       "      <th>Region Defined Variant</th>\n",
       "      <td>134 / 209  (64.11%)</td>\n",
       "      <td>75 / 209  (35.89%)</td>\n",
       "    </tr>\n",
       "    <tr>\n",
       "      <th>Transcript Variant</th>\n",
       "      <td>51 / 385  (13.25%)</td>\n",
       "      <td>334 / 385  (86.75%)</td>\n",
       "    </tr>\n",
       "  </tbody>\n",
       "</table>\n",
       "</div>"
      ],
      "text/plain": [
       "                        Percent of Accepted Variant Items   \n",
       "Category                                                    \n",
       "Expression                            180 / 291  (61.86%)  \\\n",
       "Epigenetic Modification                 14 / 15  (93.33%)   \n",
       "Fusion                                204 / 307  (66.45%)   \n",
       "Protein Consequence                    70 / 128  (54.69%)   \n",
       "Gene Function                           49 / 90  (54.44%)   \n",
       "Rearrangements                          12 / 52  (23.08%)   \n",
       "Copy Number                             19 / 34  (55.88%)   \n",
       "Other                                   43 / 93  (46.24%)   \n",
       "Genotypes Easy                           8 / 11  (72.73%)   \n",
       "Genotypes Compound                        4 / 6  (66.67%)   \n",
       "Region Defined Variant                134 / 209  (64.11%)   \n",
       "Transcript Variant                     51 / 385  (13.25%)   \n",
       "\n",
       "                        Percent of Not Accepted Variant Items  \n",
       "Category                                                       \n",
       "Expression                                111 / 291  (38.14%)  \n",
       "Epigenetic Modification                       1 / 15  (6.67%)  \n",
       "Fusion                                    103 / 307  (33.55%)  \n",
       "Protein Consequence                        58 / 128  (45.31%)  \n",
       "Gene Function                               41 / 90  (45.56%)  \n",
       "Rearrangements                              40 / 52  (76.92%)  \n",
       "Copy Number                                 15 / 34  (44.12%)  \n",
       "Other                                       50 / 93  (53.76%)  \n",
       "Genotypes Easy                               3 / 11  (27.27%)  \n",
       "Genotypes Compound                            2 / 6  (33.33%)  \n",
       "Region Defined Variant                     75 / 209  (35.89%)  \n",
       "Transcript Variant                        334 / 385  (86.75%)  "
      ]
     },
     "execution_count": 362,
     "metadata": {},
     "output_type": "execute_result"
    }
   ],
   "source": [
    "not_supported_variant_percent_evidence_df = not_supported_variant_percent_evidence_df.set_index('Category')\n",
    "not_supported_variant_percent_evidence_df"
   ]
  },
  {
   "cell_type": "code",
   "execution_count": null,
   "metadata": {},
   "outputs": [],
   "source": [
    "summary_table_5= not_supported_variant_percent_evidence_df"
   ]
  },
  {
   "cell_type": "markdown",
   "metadata": {},
   "source": [
    "## Evidence Analysis"
   ]
  },
  {
   "cell_type": "code",
   "execution_count": 363,
   "metadata": {},
   "outputs": [],
   "source": [
    "all_variant_evidence_dict = {'Variant Category':['Normalized', 'Unable to Normalize', 'Not Supported'],\n",
    "        'Fraction of all CIViC Evidence Items': [normalized_fraction_evidence_items, not_normalized_fraction_evidence_items, not_supported_variant_fraction_evidence_items],\n",
    "        'Percentage of all CIViC Evidence Items': [normalized_percentage_evidence_items, not_normalized_percentage_evidence_items, not_supported_variant_percentage_evidence_items],\n",
    "        'Fraction of Accepted Evidence Items': [fraction_accepted_evidences_normalized_variants, fraction_accepted_evidences_not_normalized_variants, fraction_accepted_evidences_not_supported_variants],\n",
    "        'Percentage of Accepted Evidence Items': [percentage_accepted_evidences_normalized_variants, percentage_accepted_evidences_not_normalized_variants, percentage_accepted_evidences_not_supported_variants],\n",
    "        'Fraction of Submitted Evidence Items': [fraction_submitted_evidences_normalized_variants, fraction_submitted_evidences_not_normalized_variants, fraction_submitted_evidences_not_supported_variants],\n",
    "        'Percentage of Submitted Evidence Items':[percentage_submitted_evidences_normalized_variants, percentage_submitted_evidences_not_normalized_variants, percentage_submitted_evidences_not_supported_variants]}"
   ]
  },
  {
   "cell_type": "code",
   "execution_count": 364,
   "metadata": {},
   "outputs": [],
   "source": [
    "all_variant_evidence_df = pd.DataFrame(all_variant_evidence_dict)"
   ]
  },
  {
   "cell_type": "code",
   "execution_count": 365,
   "metadata": {},
   "outputs": [],
   "source": [
    "all_variant_evidence_df[\"Percentage of all CIViC Evidence Items\"] = all_variant_evidence_df['Fraction of all CIViC Evidence Items'].astype(str) + \"  (\" + all_variant_evidence_df[\"Percentage of all CIViC Evidence Items\"]+ \")\"\n",
    "all_variant_evidence_df[\"Percentage of Accepted Evidence Items\"] = all_variant_evidence_df['Fraction of Accepted Evidence Items'].astype(str) + \"  (\" + all_variant_evidence_df[\"Percentage of Accepted Evidence Items\"]+ \")\"\n",
    "all_variant_evidence_df[\"Percentage of Submitted Evidence Items\"] = all_variant_evidence_df['Fraction of Submitted Evidence Items'].astype(str) + \"  (\" + all_variant_evidence_df[\"Percentage of Submitted Evidence Items\"]+ \")\""
   ]
  },
  {
   "cell_type": "code",
   "execution_count": 366,
   "metadata": {},
   "outputs": [],
   "source": [
    "all_variant_evidence_df = all_variant_evidence_df.drop(['Fraction of all CIViC Evidence Items', 'Fraction of Accepted Evidence Items', 'Fraction of Submitted Evidence Items'], axis=1)"
   ]
  },
  {
   "cell_type": "code",
   "execution_count": 367,
   "metadata": {},
   "outputs": [],
   "source": [
    "all_variant_evidence_percent_of_civic_df = all_variant_evidence_df.drop(['Percentage of Accepted Evidence Items', 'Percentage of Submitted Evidence Items'], axis=1)\t\n",
    "all_variant_evidence_percent_evidence_df = all_variant_evidence_df.drop(['Percentage of all CIViC Evidence Items'], axis=1)"
   ]
  },
  {
   "cell_type": "markdown",
   "metadata": {},
   "source": [
    "Summary Table 6: The table below shows what percentage of all evidence items in CIViC are associated with Normalized, Unable to Normalize, and Not Supported variants. This will not add up to 100% because evidence itmes may be used across multiple variants."
   ]
  },
  {
   "cell_type": "code",
   "execution_count": 368,
   "metadata": {},
   "outputs": [
    {
     "data": {
      "text/html": [
       "<div>\n",
       "<style scoped>\n",
       "    .dataframe tbody tr th:only-of-type {\n",
       "        vertical-align: middle;\n",
       "    }\n",
       "\n",
       "    .dataframe tbody tr th {\n",
       "        vertical-align: top;\n",
       "    }\n",
       "\n",
       "    .dataframe thead th {\n",
       "        text-align: right;\n",
       "    }\n",
       "</style>\n",
       "<table border=\"1\" class=\"dataframe\">\n",
       "  <thead>\n",
       "    <tr style=\"text-align: right;\">\n",
       "      <th></th>\n",
       "      <th>Percentage of all CIViC Evidence Items</th>\n",
       "    </tr>\n",
       "    <tr>\n",
       "      <th>Variant Category</th>\n",
       "      <th></th>\n",
       "    </tr>\n",
       "  </thead>\n",
       "  <tbody>\n",
       "    <tr>\n",
       "      <th>Normalized</th>\n",
       "      <td>5916 / 9766  (60.58%)</td>\n",
       "    </tr>\n",
       "    <tr>\n",
       "      <th>Unable to Normalize</th>\n",
       "      <td>80 / 9766  (0.82%)</td>\n",
       "    </tr>\n",
       "    <tr>\n",
       "      <th>Not Supported</th>\n",
       "      <td>4286 / 9766  (43.89%)</td>\n",
       "    </tr>\n",
       "  </tbody>\n",
       "</table>\n",
       "</div>"
      ],
      "text/plain": [
       "                    Percentage of all CIViC Evidence Items\n",
       "Variant Category                                          \n",
       "Normalized                           5916 / 9766  (60.58%)\n",
       "Unable to Normalize                     80 / 9766  (0.82%)\n",
       "Not Supported                        4286 / 9766  (43.89%)"
      ]
     },
     "execution_count": 368,
     "metadata": {},
     "output_type": "execute_result"
    }
   ],
   "source": [
    "all_variant_evidence_percent_of_civic_df = all_variant_evidence_percent_of_civic_df.set_index('Variant Category')\n",
    "all_variant_evidence_percent_of_civic_df"
   ]
  },
  {
   "cell_type": "code",
   "execution_count": null,
   "metadata": {},
   "outputs": [],
   "source": [
    "summary_table_6 = all_variant_evidence_percent_of_civic_df"
   ]
  },
  {
   "cell_type": "markdown",
   "metadata": {},
   "source": [
    "Summmary Table 7: The table below shows the percentage of accepted and sumbitted evidence items per category of variants. "
   ]
  },
  {
   "cell_type": "code",
   "execution_count": 369,
   "metadata": {},
   "outputs": [
    {
     "data": {
      "text/html": [
       "<div>\n",
       "<style scoped>\n",
       "    .dataframe tbody tr th:only-of-type {\n",
       "        vertical-align: middle;\n",
       "    }\n",
       "\n",
       "    .dataframe tbody tr th {\n",
       "        vertical-align: top;\n",
       "    }\n",
       "\n",
       "    .dataframe thead th {\n",
       "        text-align: right;\n",
       "    }\n",
       "</style>\n",
       "<table border=\"1\" class=\"dataframe\">\n",
       "  <thead>\n",
       "    <tr style=\"text-align: right;\">\n",
       "      <th></th>\n",
       "      <th>Percentage of Accepted Evidence Items</th>\n",
       "      <th>Percentage of Submitted Evidence Items</th>\n",
       "    </tr>\n",
       "    <tr>\n",
       "      <th>Variant Category</th>\n",
       "      <th></th>\n",
       "      <th></th>\n",
       "    </tr>\n",
       "  </thead>\n",
       "  <tbody>\n",
       "    <tr>\n",
       "      <th>Normalized</th>\n",
       "      <td>2032 / 5916  (34.35%)</td>\n",
       "      <td>3884 / 5916  (65.65%)</td>\n",
       "    </tr>\n",
       "    <tr>\n",
       "      <th>Unable to Normalize</th>\n",
       "      <td>14 / 80  (17.50%)</td>\n",
       "      <td>66 / 80  (82.50%)</td>\n",
       "    </tr>\n",
       "    <tr>\n",
       "      <th>Not Supported</th>\n",
       "      <td>2198 / 4286  (51.28)</td>\n",
       "      <td>2088 / 4286  (48.72%)</td>\n",
       "    </tr>\n",
       "  </tbody>\n",
       "</table>\n",
       "</div>"
      ],
      "text/plain": [
       "                    Percentage of Accepted Evidence Items   \n",
       "Variant Category                                            \n",
       "Normalized                          2032 / 5916  (34.35%)  \\\n",
       "Unable to Normalize                     14 / 80  (17.50%)   \n",
       "Not Supported                        2198 / 4286  (51.28)   \n",
       "\n",
       "                    Percentage of Submitted Evidence Items  \n",
       "Variant Category                                            \n",
       "Normalized                           3884 / 5916  (65.65%)  \n",
       "Unable to Normalize                      66 / 80  (82.50%)  \n",
       "Not Supported                        2088 / 4286  (48.72%)  "
      ]
     },
     "execution_count": 369,
     "metadata": {},
     "output_type": "execute_result"
    }
   ],
   "source": [
    "all_variant_evidence_percent_evidence_df = all_variant_evidence_percent_evidence_df.set_index('Variant Category')\n",
    "all_variant_evidence_percent_evidence_df"
   ]
  },
  {
   "cell_type": "code",
   "execution_count": null,
   "metadata": {},
   "outputs": [],
   "source": [
    "summary_table_7 = all_variant_evidence_percent_evidence_df"
   ]
  },
  {
   "cell_type": "code",
   "execution_count": 370,
   "metadata": {},
   "outputs": [],
   "source": [
    "not_supported_variant_categories = ['Expression','Epigenetic Modification', 'Fusion', 'Protein Consequence', 'Gene Function', 'Rearrangements', 'Copy Number', 'Other', 'Genotypes Easy', 'Genotypes Compound', 'Region Defined Variant', 'Transcript Variant' ]\n",
    "not_supported_fraction_of_civic_evidence_items = [v[\"fraction_not_supported_category_variant_evidence_of_civic\"] for k, v in not_supported_variant_categories_evidence_summary_data.items()]\n",
    "not_supported_percent_of_civic_evidence_items = [v[\"percent_not_supported_category_variant_evidence_of_civic\"] for k, v in not_supported_variant_categories_evidence_summary_data.items()]\n",
    "not_supported_fraction_not_supported_variant_evidence_items = [v[\"fraction_not_supported_category_variant_evidence_of_total_not_supported\"] for k, v in not_supported_variant_categories_evidence_summary_data.items()]\n",
    "not_supported_percent_not_supported_variant_evidence_items = [v[\"percent_not_supported_category_variant_evidence_of_total_not_supported\"] for k, v in not_supported_variant_categories_evidence_summary_data.items()]\n",
    "not_supported_fraction_of_accepted_evidence_items = [v[\"fraction_accepted_evidence_not_supported_category_variants\"] for k, v in not_supported_variant_categories_evidence_summary_data.items()]\n",
    "not_supported_percent_of_accepted_evidence_items = [v[\"percentage_accepted_evidence_not_supported_category_variants\"] for k, v in not_supported_variant_categories_evidence_summary_data.items()]\n",
    "not_supported_fraction_of_submitted_evidence_items = [v[\"fraction_submitted_evidence_not_supported_category_variants\"]for k, v in not_supported_variant_categories_evidence_summary_data.items()]\n",
    "not_supported_percent_of_submitted_evidence_items = [v[\"percentage_submitted_evidence_not_supported_category_variants\"] for k, v in not_supported_variant_categories_evidence_summary_data.items()]"
   ]
  },
  {
   "cell_type": "code",
   "execution_count": 371,
   "metadata": {},
   "outputs": [],
   "source": [
    "not_supported_variant_evidence_dict = {'Category': not_supported_variant_categories,\n",
    "                                'Fraction of Not Supported Variant Evidence Items': not_supported_fraction_not_supported_variant_evidence_items,\n",
    "                                'Percent of Not Supported Variant Evidence Items': not_supported_percent_not_supported_variant_evidence_items,\n",
    "                                'Fraction of CIViC Evidence Items': not_supported_fraction_of_civic_evidence_items,\n",
    "                                'Percent of CIViC Evidence Items': not_supported_percent_of_civic_evidence_items,\n",
    "                                'Fraction of Accepted Evidence Items': not_supported_fraction_of_accepted_evidence_items,\n",
    "                                'Percent of Accepted Evidence Items': not_supported_percent_of_accepted_evidence_items,\n",
    "                                'Fraction of Submitted Evidence Items': not_supported_fraction_of_submitted_evidence_items,\n",
    "                                'Percent of Submitted Evidence Items':not_supported_percent_of_submitted_evidence_items}"
   ]
  },
  {
   "cell_type": "code",
   "execution_count": 372,
   "metadata": {},
   "outputs": [],
   "source": [
    "not_supported_variant_evidence_df = pd.DataFrame(not_supported_variant_evidence_dict)"
   ]
  },
  {
   "cell_type": "code",
   "execution_count": 373,
   "metadata": {},
   "outputs": [],
   "source": [
    "not_supported_variant_evidence_df[\"Percent of CIViC Evidence Items\"] = not_supported_variant_evidence_df['Fraction of CIViC Evidence Items'].astype(str) + \"  (\" + not_supported_variant_evidence_df[\"Percent of CIViC Evidence Items\"]+ \")\"\n",
    "not_supported_variant_evidence_df[\"Percent of Not Supported Variant Evidence Items\"] = not_supported_variant_evidence_df['Fraction of Not Supported Variant Evidence Items'].astype(str) + \"  (\"+ not_supported_variant_evidence_df[\"Percent of Not Supported Variant Evidence Items\"]+ \")\"\n",
    "not_supported_variant_evidence_df[\"Percent of Accepted Evidence Items\"] = not_supported_variant_evidence_df['Fraction of Accepted Evidence Items'].astype(str) + \"  (\"+ not_supported_variant_evidence_df[\"Percent of Accepted Evidence Items\"]+ \")\"\n",
    "not_supported_variant_evidence_df[\"Percent of Submitted Evidence Items\"] = not_supported_variant_evidence_df['Fraction of Submitted Evidence Items'].astype(str) + \"  (\"+ not_supported_variant_evidence_df[\"Percent of Submitted Evidence Items\"]+ \")\""
   ]
  },
  {
   "cell_type": "code",
   "execution_count": 374,
   "metadata": {},
   "outputs": [],
   "source": [
    "not_supported_variant_evidence_df = not_supported_variant_evidence_df.drop(['Fraction of CIViC Evidence Items', 'Fraction of Not Supported Variant Evidence Items', 'Fraction of Accepted Evidence Items', 'Fraction of Submitted Evidence Items'], axis=1)"
   ]
  },
  {
   "cell_type": "code",
   "execution_count": 375,
   "metadata": {},
   "outputs": [],
   "source": [
    "not_supported_variant_evidence_percent_of_civic_df = not_supported_variant_evidence_df.drop(['Percent of Not Supported Variant Evidence Items', 'Percent of Accepted Evidence Items', 'Percent of Submitted Evidence Items'], axis=1) \n",
    "not_supported_variant_evidence_percent_of_not_supported_df = not_supported_variant_evidence_df.drop(['Percent of CIViC Evidence Items',  'Percent of Accepted Evidence Items', 'Percent of Submitted Evidence Items'], axis=1) \n",
    "not_supported_variant_evidence_percent_evidence_df = not_supported_variant_evidence_df.drop(['Percent of Not Supported Variant Evidence Items', 'Percent of CIViC Evidence Items'], axis=1) "
   ]
  },
  {
   "cell_type": "markdown",
   "metadata": {},
   "source": [
    "Summary Table 8: The table below shows the percentage of all CIViC evidenec items that are associated with a Not Supported variant sub category. This will not add up to 100% since the evidence items can be associated with multiple variants."
   ]
  },
  {
   "cell_type": "code",
   "execution_count": 376,
   "metadata": {},
   "outputs": [
    {
     "data": {
      "text/html": [
       "<div>\n",
       "<style scoped>\n",
       "    .dataframe tbody tr th:only-of-type {\n",
       "        vertical-align: middle;\n",
       "    }\n",
       "\n",
       "    .dataframe tbody tr th {\n",
       "        vertical-align: top;\n",
       "    }\n",
       "\n",
       "    .dataframe thead th {\n",
       "        text-align: right;\n",
       "    }\n",
       "</style>\n",
       "<table border=\"1\" class=\"dataframe\">\n",
       "  <thead>\n",
       "    <tr style=\"text-align: right;\">\n",
       "      <th></th>\n",
       "      <th>Percent of CIViC Evidence Items</th>\n",
       "    </tr>\n",
       "    <tr>\n",
       "      <th>Category</th>\n",
       "      <th></th>\n",
       "    </tr>\n",
       "  </thead>\n",
       "  <tbody>\n",
       "    <tr>\n",
       "      <th>Expression</th>\n",
       "      <td>617 / 9766  (6.32%)</td>\n",
       "    </tr>\n",
       "    <tr>\n",
       "      <th>Epigenetic Modification</th>\n",
       "      <td>24 / 9766  (0.25%)</td>\n",
       "    </tr>\n",
       "    <tr>\n",
       "      <th>Fusion</th>\n",
       "      <td>1220 / 9766  (12.49%)</td>\n",
       "    </tr>\n",
       "    <tr>\n",
       "      <th>Protein Consequence</th>\n",
       "      <td>301 / 9766  (3.08%)</td>\n",
       "    </tr>\n",
       "    <tr>\n",
       "      <th>Gene Function</th>\n",
       "      <td>346 / 9766  (3.54%)</td>\n",
       "    </tr>\n",
       "    <tr>\n",
       "      <th>Rearrangements</th>\n",
       "      <td>140 / 9766  (1.43%)</td>\n",
       "    </tr>\n",
       "    <tr>\n",
       "      <th>Copy Number</th>\n",
       "      <td>69 / 9766  (0.71%)</td>\n",
       "    </tr>\n",
       "    <tr>\n",
       "      <th>Other</th>\n",
       "      <td>163 / 9766  (1.67%)</td>\n",
       "    </tr>\n",
       "    <tr>\n",
       "      <th>Genotypes Easy</th>\n",
       "      <td>23 / 9766  (0.24%)</td>\n",
       "    </tr>\n",
       "    <tr>\n",
       "      <th>Genotypes Compound</th>\n",
       "      <td>7 / 9766  (0.07%)</td>\n",
       "    </tr>\n",
       "    <tr>\n",
       "      <th>Region Defined Variant</th>\n",
       "      <td>925 / 9766  (9.47%)</td>\n",
       "    </tr>\n",
       "    <tr>\n",
       "      <th>Transcript Variant</th>\n",
       "      <td>472 / 9766  (4.83%)</td>\n",
       "    </tr>\n",
       "  </tbody>\n",
       "</table>\n",
       "</div>"
      ],
      "text/plain": [
       "                        Percent of CIViC Evidence Items\n",
       "Category                                               \n",
       "Expression                          617 / 9766  (6.32%)\n",
       "Epigenetic Modification              24 / 9766  (0.25%)\n",
       "Fusion                            1220 / 9766  (12.49%)\n",
       "Protein Consequence                 301 / 9766  (3.08%)\n",
       "Gene Function                       346 / 9766  (3.54%)\n",
       "Rearrangements                      140 / 9766  (1.43%)\n",
       "Copy Number                          69 / 9766  (0.71%)\n",
       "Other                               163 / 9766  (1.67%)\n",
       "Genotypes Easy                       23 / 9766  (0.24%)\n",
       "Genotypes Compound                    7 / 9766  (0.07%)\n",
       "Region Defined Variant              925 / 9766  (9.47%)\n",
       "Transcript Variant                  472 / 9766  (4.83%)"
      ]
     },
     "execution_count": 376,
     "metadata": {},
     "output_type": "execute_result"
    }
   ],
   "source": [
    "not_supported_variant_evidence_percent_of_civic_df = not_supported_variant_evidence_percent_of_civic_df.set_index('Category')\n",
    "not_supported_variant_evidence_percent_of_civic_df"
   ]
  },
  {
   "cell_type": "code",
   "execution_count": null,
   "metadata": {},
   "outputs": [],
   "source": [
    "summary_table_8 = not_supported_variant_evidence_percent_of_civic_df"
   ]
  },
  {
   "cell_type": "markdown",
   "metadata": {},
   "source": [
    "Summary Table 9: The table below shows the percentage of all evidenec items associated with Not Supported variants that are associated with a variant sub category. "
   ]
  },
  {
   "cell_type": "code",
   "execution_count": 377,
   "metadata": {},
   "outputs": [
    {
     "data": {
      "text/html": [
       "<div>\n",
       "<style scoped>\n",
       "    .dataframe tbody tr th:only-of-type {\n",
       "        vertical-align: middle;\n",
       "    }\n",
       "\n",
       "    .dataframe tbody tr th {\n",
       "        vertical-align: top;\n",
       "    }\n",
       "\n",
       "    .dataframe thead th {\n",
       "        text-align: right;\n",
       "    }\n",
       "</style>\n",
       "<table border=\"1\" class=\"dataframe\">\n",
       "  <thead>\n",
       "    <tr style=\"text-align: right;\">\n",
       "      <th></th>\n",
       "      <th>Percent of Not Supported Variant Evidence Items</th>\n",
       "    </tr>\n",
       "    <tr>\n",
       "      <th>Category</th>\n",
       "      <th></th>\n",
       "    </tr>\n",
       "  </thead>\n",
       "  <tbody>\n",
       "    <tr>\n",
       "      <th>Expression</th>\n",
       "      <td>617 / 4286  (14.40%)</td>\n",
       "    </tr>\n",
       "    <tr>\n",
       "      <th>Epigenetic Modification</th>\n",
       "      <td>24 / 4286  (0.56%)</td>\n",
       "    </tr>\n",
       "    <tr>\n",
       "      <th>Fusion</th>\n",
       "      <td>1220 / 4286  (28.46%)</td>\n",
       "    </tr>\n",
       "    <tr>\n",
       "      <th>Protein Consequence</th>\n",
       "      <td>301 / 4286  (7.02%)</td>\n",
       "    </tr>\n",
       "    <tr>\n",
       "      <th>Gene Function</th>\n",
       "      <td>346 / 4286  (8.07%)</td>\n",
       "    </tr>\n",
       "    <tr>\n",
       "      <th>Rearrangements</th>\n",
       "      <td>140 / 4286  (3.27%)</td>\n",
       "    </tr>\n",
       "    <tr>\n",
       "      <th>Copy Number</th>\n",
       "      <td>69 / 4286  (1.61%)</td>\n",
       "    </tr>\n",
       "    <tr>\n",
       "      <th>Other</th>\n",
       "      <td>163 / 4286  (3.80%)</td>\n",
       "    </tr>\n",
       "    <tr>\n",
       "      <th>Genotypes Easy</th>\n",
       "      <td>23 / 4286  (0.54%)</td>\n",
       "    </tr>\n",
       "    <tr>\n",
       "      <th>Genotypes Compound</th>\n",
       "      <td>7 / 4286  (0.16%)</td>\n",
       "    </tr>\n",
       "    <tr>\n",
       "      <th>Region Defined Variant</th>\n",
       "      <td>925 / 4286  (21.58%)</td>\n",
       "    </tr>\n",
       "    <tr>\n",
       "      <th>Transcript Variant</th>\n",
       "      <td>472 / 4286  (11.01%)</td>\n",
       "    </tr>\n",
       "  </tbody>\n",
       "</table>\n",
       "</div>"
      ],
      "text/plain": [
       "                        Percent of Not Supported Variant Evidence Items\n",
       "Category                                                               \n",
       "Expression                                         617 / 4286  (14.40%)\n",
       "Epigenetic Modification                              24 / 4286  (0.56%)\n",
       "Fusion                                            1220 / 4286  (28.46%)\n",
       "Protein Consequence                                 301 / 4286  (7.02%)\n",
       "Gene Function                                       346 / 4286  (8.07%)\n",
       "Rearrangements                                      140 / 4286  (3.27%)\n",
       "Copy Number                                          69 / 4286  (1.61%)\n",
       "Other                                               163 / 4286  (3.80%)\n",
       "Genotypes Easy                                       23 / 4286  (0.54%)\n",
       "Genotypes Compound                                    7 / 4286  (0.16%)\n",
       "Region Defined Variant                             925 / 4286  (21.58%)\n",
       "Transcript Variant                                 472 / 4286  (11.01%)"
      ]
     },
     "execution_count": 377,
     "metadata": {},
     "output_type": "execute_result"
    }
   ],
   "source": [
    "not_supported_variant_evidence_percent_of_not_supported_df = not_supported_variant_evidence_percent_of_not_supported_df.set_index('Category')\n",
    "not_supported_variant_evidence_percent_of_not_supported_df"
   ]
  },
  {
   "cell_type": "code",
   "execution_count": null,
   "metadata": {},
   "outputs": [],
   "source": [
    "summary_table_9 = not_supported_variant_evidence_percent_of_not_supported_df"
   ]
  },
  {
   "cell_type": "markdown",
   "metadata": {},
   "source": [
    "Summary Table 10: The table below shows the percentage of evidence items associated with Not Supported variant sub categories that are accepted or submitted."
   ]
  },
  {
   "cell_type": "code",
   "execution_count": 378,
   "metadata": {},
   "outputs": [
    {
     "data": {
      "text/html": [
       "<div>\n",
       "<style scoped>\n",
       "    .dataframe tbody tr th:only-of-type {\n",
       "        vertical-align: middle;\n",
       "    }\n",
       "\n",
       "    .dataframe tbody tr th {\n",
       "        vertical-align: top;\n",
       "    }\n",
       "\n",
       "    .dataframe thead th {\n",
       "        text-align: right;\n",
       "    }\n",
       "</style>\n",
       "<table border=\"1\" class=\"dataframe\">\n",
       "  <thead>\n",
       "    <tr style=\"text-align: right;\">\n",
       "      <th></th>\n",
       "      <th>Percent of Accepted Evidence Items</th>\n",
       "      <th>Percent of Submitted Evidence Items</th>\n",
       "    </tr>\n",
       "    <tr>\n",
       "      <th>Category</th>\n",
       "      <th></th>\n",
       "      <th></th>\n",
       "    </tr>\n",
       "  </thead>\n",
       "  <tbody>\n",
       "    <tr>\n",
       "      <th>Expression</th>\n",
       "      <td>342 / 617  (55.43%)</td>\n",
       "      <td>275 / 617  (44.57%)</td>\n",
       "    </tr>\n",
       "    <tr>\n",
       "      <th>Epigenetic Modification</th>\n",
       "      <td>22 / 24  (91.67%)</td>\n",
       "      <td>2 / 24  (8.33%)</td>\n",
       "    </tr>\n",
       "    <tr>\n",
       "      <th>Fusion</th>\n",
       "      <td>724 / 1220  (59.34%)</td>\n",
       "      <td>496 / 1220  (40.66%)</td>\n",
       "    </tr>\n",
       "    <tr>\n",
       "      <th>Protein Consequence</th>\n",
       "      <td>191 / 301  (63.46%)</td>\n",
       "      <td>110 / 301  (36.54%)</td>\n",
       "    </tr>\n",
       "    <tr>\n",
       "      <th>Gene Function</th>\n",
       "      <td>151 / 346  (43.64%)</td>\n",
       "      <td>195 / 346  (56.36%)</td>\n",
       "    </tr>\n",
       "    <tr>\n",
       "      <th>Rearrangements</th>\n",
       "      <td>53 / 140  (37.86%)</td>\n",
       "      <td>87 / 140  (62.14%)</td>\n",
       "    </tr>\n",
       "    <tr>\n",
       "      <th>Copy Number</th>\n",
       "      <td>31 / 69  (44.93%)</td>\n",
       "      <td>38 / 69  (55.07%)</td>\n",
       "    </tr>\n",
       "    <tr>\n",
       "      <th>Other</th>\n",
       "      <td>60 / 163  (36.81%)</td>\n",
       "      <td>103 / 163  (63.19%)</td>\n",
       "    </tr>\n",
       "    <tr>\n",
       "      <th>Genotypes Easy</th>\n",
       "      <td>13 / 23  (56.52%)</td>\n",
       "      <td>10 / 23  (43.48%)</td>\n",
       "    </tr>\n",
       "    <tr>\n",
       "      <th>Genotypes Compound</th>\n",
       "      <td>4 / 7  (57.14%)</td>\n",
       "      <td>3 / 7  (42.86%)</td>\n",
       "    </tr>\n",
       "    <tr>\n",
       "      <th>Region Defined Variant</th>\n",
       "      <td>557 / 925  (60.22%)</td>\n",
       "      <td>368 / 925  (39.78%)</td>\n",
       "    </tr>\n",
       "    <tr>\n",
       "      <th>Transcript Variant</th>\n",
       "      <td>54 / 472  (11.44%)</td>\n",
       "      <td>418 / 472  (88.56%)</td>\n",
       "    </tr>\n",
       "  </tbody>\n",
       "</table>\n",
       "</div>"
      ],
      "text/plain": [
       "                        Percent of Accepted Evidence Items   \n",
       "Category                                                     \n",
       "Expression                             342 / 617  (55.43%)  \\\n",
       "Epigenetic Modification                  22 / 24  (91.67%)   \n",
       "Fusion                                724 / 1220  (59.34%)   \n",
       "Protein Consequence                    191 / 301  (63.46%)   \n",
       "Gene Function                          151 / 346  (43.64%)   \n",
       "Rearrangements                          53 / 140  (37.86%)   \n",
       "Copy Number                              31 / 69  (44.93%)   \n",
       "Other                                   60 / 163  (36.81%)   \n",
       "Genotypes Easy                           13 / 23  (56.52%)   \n",
       "Genotypes Compound                         4 / 7  (57.14%)   \n",
       "Region Defined Variant                 557 / 925  (60.22%)   \n",
       "Transcript Variant                      54 / 472  (11.44%)   \n",
       "\n",
       "                        Percent of Submitted Evidence Items  \n",
       "Category                                                     \n",
       "Expression                              275 / 617  (44.57%)  \n",
       "Epigenetic Modification                     2 / 24  (8.33%)  \n",
       "Fusion                                 496 / 1220  (40.66%)  \n",
       "Protein Consequence                     110 / 301  (36.54%)  \n",
       "Gene Function                           195 / 346  (56.36%)  \n",
       "Rearrangements                           87 / 140  (62.14%)  \n",
       "Copy Number                               38 / 69  (55.07%)  \n",
       "Other                                   103 / 163  (63.19%)  \n",
       "Genotypes Easy                            10 / 23  (43.48%)  \n",
       "Genotypes Compound                          3 / 7  (42.86%)  \n",
       "Region Defined Variant                  368 / 925  (39.78%)  \n",
       "Transcript Variant                      418 / 472  (88.56%)  "
      ]
     },
     "execution_count": 378,
     "metadata": {},
     "output_type": "execute_result"
    }
   ],
   "source": [
    "not_supported_variant_evidence_percent_evidence_df= not_supported_variant_evidence_percent_evidence_df.set_index('Category')\n",
    "not_supported_variant_evidence_percent_evidence_df"
   ]
  },
  {
   "cell_type": "code",
   "execution_count": null,
   "metadata": {},
   "outputs": [],
   "source": [
    "summary_table_10 = not_supported_variant_evidence_percent_evidence_df"
   ]
  },
  {
   "cell_type": "markdown",
   "metadata": {},
   "source": [
    "## Impact"
   ]
  },
  {
   "cell_type": "markdown",
   "metadata": {},
   "source": [
    "The bar graph below shows the relationship between the Not Suported variant sub category impact score and the sub category. Additionally, the colors illustrate the number of evidence items associated each sub category."
   ]
  },
  {
   "cell_type": "code",
   "execution_count": 380,
   "metadata": {},
   "outputs": [
    {
     "data": {
      "application/vnd.plotly.v1+json": {
       "config": {
        "plotlyServerURL": "https://plot.ly"
       },
       "data": [
        {
         "alignmentgroup": "True",
         "customdata": [
          [
           617,
           "55.43%"
          ],
          [
           24,
           "91.67%"
          ],
          [
           1220,
           "59.34%"
          ],
          [
           301,
           "63.46%"
          ],
          [
           346,
           "43.64%"
          ],
          [
           140,
           "37.86%"
          ],
          [
           69,
           "44.93%"
          ],
          [
           163,
           "36.81%"
          ],
          [
           23,
           "56.52%"
          ],
          [
           7,
           "57.14%"
          ],
          [
           925,
           "60.22%"
          ],
          [
           472,
           "11.44%"
          ]
         ],
         "hovertemplate": "Category=%{x}<br>Total Sum Impact Score=%{y}<br>Total Number Evidence Items=%{marker.color}<br>% Accepted Evidence Items=%{customdata[1]}<extra></extra>",
         "legendgroup": "",
         "marker": {
          "color": [
           617,
           24,
           1220,
           301,
           346,
           140,
           69,
           163,
           23,
           7,
           925,
           472
          ],
          "coloraxis": "coloraxis",
          "pattern": {
           "shape": ""
          }
         },
         "name": "",
         "offsetgroup": "",
         "orientation": "v",
         "showlegend": false,
         "textposition": "auto",
         "texttemplate": "%{y:.1f}",
         "type": "bar",
         "width": 1,
         "x": [
          "Expression",
          "Epigenetic Modification",
          "Fusion",
          "Protein Consequence",
          "Gene Function",
          "Rearrangements",
          "Copy Number",
          "Other",
          "Genotypes Easy",
          "Genotypes Compound",
          "Region Defined Variant",
          "Transcript Variant"
         ],
         "xaxis": "x",
         "y": [
          3618,
          285.5,
          5689.25,
          2683.75,
          1792.5,
          653,
          207,
          673.5,
          195,
          117.5,
          8311.5,
          346.5
         ],
         "yaxis": "y"
        }
       ],
       "layout": {
        "barmode": "relative",
        "coloraxis": {
         "colorbar": {
          "title": {
           "text": "Total Number Evidence Items"
          }
         },
         "colorscale": [
          [
           0,
           "rgb(0, 128, 128)"
          ],
          [
           0.16666666666666666,
           "rgb(112, 164, 148)"
          ],
          [
           0.3333333333333333,
           "rgb(180, 200, 168)"
          ],
          [
           0.5,
           "rgb(246, 237, 189)"
          ],
          [
           0.6666666666666666,
           "rgb(237, 187, 138)"
          ],
          [
           0.8333333333333334,
           "rgb(222, 138, 90)"
          ],
          [
           1,
           "rgb(202, 86, 44)"
          ]
         ]
        },
        "legend": {
         "tracegroupgap": 0
        },
        "margin": {
         "t": 60
        },
        "template": {
         "data": {
          "bar": [
           {
            "error_x": {
             "color": "#2a3f5f"
            },
            "error_y": {
             "color": "#2a3f5f"
            },
            "marker": {
             "line": {
              "color": "#E5ECF6",
              "width": 0.5
             },
             "pattern": {
              "fillmode": "overlay",
              "size": 10,
              "solidity": 0.2
             }
            },
            "type": "bar"
           }
          ],
          "barpolar": [
           {
            "marker": {
             "line": {
              "color": "#E5ECF6",
              "width": 0.5
             },
             "pattern": {
              "fillmode": "overlay",
              "size": 10,
              "solidity": 0.2
             }
            },
            "type": "barpolar"
           }
          ],
          "carpet": [
           {
            "aaxis": {
             "endlinecolor": "#2a3f5f",
             "gridcolor": "white",
             "linecolor": "white",
             "minorgridcolor": "white",
             "startlinecolor": "#2a3f5f"
            },
            "baxis": {
             "endlinecolor": "#2a3f5f",
             "gridcolor": "white",
             "linecolor": "white",
             "minorgridcolor": "white",
             "startlinecolor": "#2a3f5f"
            },
            "type": "carpet"
           }
          ],
          "choropleth": [
           {
            "colorbar": {
             "outlinewidth": 0,
             "ticks": ""
            },
            "type": "choropleth"
           }
          ],
          "contour": [
           {
            "colorbar": {
             "outlinewidth": 0,
             "ticks": ""
            },
            "colorscale": [
             [
              0,
              "#0d0887"
             ],
             [
              0.1111111111111111,
              "#46039f"
             ],
             [
              0.2222222222222222,
              "#7201a8"
             ],
             [
              0.3333333333333333,
              "#9c179e"
             ],
             [
              0.4444444444444444,
              "#bd3786"
             ],
             [
              0.5555555555555556,
              "#d8576b"
             ],
             [
              0.6666666666666666,
              "#ed7953"
             ],
             [
              0.7777777777777778,
              "#fb9f3a"
             ],
             [
              0.8888888888888888,
              "#fdca26"
             ],
             [
              1,
              "#f0f921"
             ]
            ],
            "type": "contour"
           }
          ],
          "contourcarpet": [
           {
            "colorbar": {
             "outlinewidth": 0,
             "ticks": ""
            },
            "type": "contourcarpet"
           }
          ],
          "heatmap": [
           {
            "colorbar": {
             "outlinewidth": 0,
             "ticks": ""
            },
            "colorscale": [
             [
              0,
              "#0d0887"
             ],
             [
              0.1111111111111111,
              "#46039f"
             ],
             [
              0.2222222222222222,
              "#7201a8"
             ],
             [
              0.3333333333333333,
              "#9c179e"
             ],
             [
              0.4444444444444444,
              "#bd3786"
             ],
             [
              0.5555555555555556,
              "#d8576b"
             ],
             [
              0.6666666666666666,
              "#ed7953"
             ],
             [
              0.7777777777777778,
              "#fb9f3a"
             ],
             [
              0.8888888888888888,
              "#fdca26"
             ],
             [
              1,
              "#f0f921"
             ]
            ],
            "type": "heatmap"
           }
          ],
          "heatmapgl": [
           {
            "colorbar": {
             "outlinewidth": 0,
             "ticks": ""
            },
            "colorscale": [
             [
              0,
              "#0d0887"
             ],
             [
              0.1111111111111111,
              "#46039f"
             ],
             [
              0.2222222222222222,
              "#7201a8"
             ],
             [
              0.3333333333333333,
              "#9c179e"
             ],
             [
              0.4444444444444444,
              "#bd3786"
             ],
             [
              0.5555555555555556,
              "#d8576b"
             ],
             [
              0.6666666666666666,
              "#ed7953"
             ],
             [
              0.7777777777777778,
              "#fb9f3a"
             ],
             [
              0.8888888888888888,
              "#fdca26"
             ],
             [
              1,
              "#f0f921"
             ]
            ],
            "type": "heatmapgl"
           }
          ],
          "histogram": [
           {
            "marker": {
             "pattern": {
              "fillmode": "overlay",
              "size": 10,
              "solidity": 0.2
             }
            },
            "type": "histogram"
           }
          ],
          "histogram2d": [
           {
            "colorbar": {
             "outlinewidth": 0,
             "ticks": ""
            },
            "colorscale": [
             [
              0,
              "#0d0887"
             ],
             [
              0.1111111111111111,
              "#46039f"
             ],
             [
              0.2222222222222222,
              "#7201a8"
             ],
             [
              0.3333333333333333,
              "#9c179e"
             ],
             [
              0.4444444444444444,
              "#bd3786"
             ],
             [
              0.5555555555555556,
              "#d8576b"
             ],
             [
              0.6666666666666666,
              "#ed7953"
             ],
             [
              0.7777777777777778,
              "#fb9f3a"
             ],
             [
              0.8888888888888888,
              "#fdca26"
             ],
             [
              1,
              "#f0f921"
             ]
            ],
            "type": "histogram2d"
           }
          ],
          "histogram2dcontour": [
           {
            "colorbar": {
             "outlinewidth": 0,
             "ticks": ""
            },
            "colorscale": [
             [
              0,
              "#0d0887"
             ],
             [
              0.1111111111111111,
              "#46039f"
             ],
             [
              0.2222222222222222,
              "#7201a8"
             ],
             [
              0.3333333333333333,
              "#9c179e"
             ],
             [
              0.4444444444444444,
              "#bd3786"
             ],
             [
              0.5555555555555556,
              "#d8576b"
             ],
             [
              0.6666666666666666,
              "#ed7953"
             ],
             [
              0.7777777777777778,
              "#fb9f3a"
             ],
             [
              0.8888888888888888,
              "#fdca26"
             ],
             [
              1,
              "#f0f921"
             ]
            ],
            "type": "histogram2dcontour"
           }
          ],
          "mesh3d": [
           {
            "colorbar": {
             "outlinewidth": 0,
             "ticks": ""
            },
            "type": "mesh3d"
           }
          ],
          "parcoords": [
           {
            "line": {
             "colorbar": {
              "outlinewidth": 0,
              "ticks": ""
             }
            },
            "type": "parcoords"
           }
          ],
          "pie": [
           {
            "automargin": true,
            "type": "pie"
           }
          ],
          "scatter": [
           {
            "fillpattern": {
             "fillmode": "overlay",
             "size": 10,
             "solidity": 0.2
            },
            "type": "scatter"
           }
          ],
          "scatter3d": [
           {
            "line": {
             "colorbar": {
              "outlinewidth": 0,
              "ticks": ""
             }
            },
            "marker": {
             "colorbar": {
              "outlinewidth": 0,
              "ticks": ""
             }
            },
            "type": "scatter3d"
           }
          ],
          "scattercarpet": [
           {
            "marker": {
             "colorbar": {
              "outlinewidth": 0,
              "ticks": ""
             }
            },
            "type": "scattercarpet"
           }
          ],
          "scattergeo": [
           {
            "marker": {
             "colorbar": {
              "outlinewidth": 0,
              "ticks": ""
             }
            },
            "type": "scattergeo"
           }
          ],
          "scattergl": [
           {
            "marker": {
             "colorbar": {
              "outlinewidth": 0,
              "ticks": ""
             }
            },
            "type": "scattergl"
           }
          ],
          "scattermapbox": [
           {
            "marker": {
             "colorbar": {
              "outlinewidth": 0,
              "ticks": ""
             }
            },
            "type": "scattermapbox"
           }
          ],
          "scatterpolar": [
           {
            "marker": {
             "colorbar": {
              "outlinewidth": 0,
              "ticks": ""
             }
            },
            "type": "scatterpolar"
           }
          ],
          "scatterpolargl": [
           {
            "marker": {
             "colorbar": {
              "outlinewidth": 0,
              "ticks": ""
             }
            },
            "type": "scatterpolargl"
           }
          ],
          "scatterternary": [
           {
            "marker": {
             "colorbar": {
              "outlinewidth": 0,
              "ticks": ""
             }
            },
            "type": "scatterternary"
           }
          ],
          "surface": [
           {
            "colorbar": {
             "outlinewidth": 0,
             "ticks": ""
            },
            "colorscale": [
             [
              0,
              "#0d0887"
             ],
             [
              0.1111111111111111,
              "#46039f"
             ],
             [
              0.2222222222222222,
              "#7201a8"
             ],
             [
              0.3333333333333333,
              "#9c179e"
             ],
             [
              0.4444444444444444,
              "#bd3786"
             ],
             [
              0.5555555555555556,
              "#d8576b"
             ],
             [
              0.6666666666666666,
              "#ed7953"
             ],
             [
              0.7777777777777778,
              "#fb9f3a"
             ],
             [
              0.8888888888888888,
              "#fdca26"
             ],
             [
              1,
              "#f0f921"
             ]
            ],
            "type": "surface"
           }
          ],
          "table": [
           {
            "cells": {
             "fill": {
              "color": "#EBF0F8"
             },
             "line": {
              "color": "white"
             }
            },
            "header": {
             "fill": {
              "color": "#C8D4E3"
             },
             "line": {
              "color": "white"
             }
            },
            "type": "table"
           }
          ]
         },
         "layout": {
          "annotationdefaults": {
           "arrowcolor": "#2a3f5f",
           "arrowhead": 0,
           "arrowwidth": 1
          },
          "autotypenumbers": "strict",
          "coloraxis": {
           "colorbar": {
            "outlinewidth": 0,
            "ticks": ""
           }
          },
          "colorscale": {
           "diverging": [
            [
             0,
             "#8e0152"
            ],
            [
             0.1,
             "#c51b7d"
            ],
            [
             0.2,
             "#de77ae"
            ],
            [
             0.3,
             "#f1b6da"
            ],
            [
             0.4,
             "#fde0ef"
            ],
            [
             0.5,
             "#f7f7f7"
            ],
            [
             0.6,
             "#e6f5d0"
            ],
            [
             0.7,
             "#b8e186"
            ],
            [
             0.8,
             "#7fbc41"
            ],
            [
             0.9,
             "#4d9221"
            ],
            [
             1,
             "#276419"
            ]
           ],
           "sequential": [
            [
             0,
             "#0d0887"
            ],
            [
             0.1111111111111111,
             "#46039f"
            ],
            [
             0.2222222222222222,
             "#7201a8"
            ],
            [
             0.3333333333333333,
             "#9c179e"
            ],
            [
             0.4444444444444444,
             "#bd3786"
            ],
            [
             0.5555555555555556,
             "#d8576b"
            ],
            [
             0.6666666666666666,
             "#ed7953"
            ],
            [
             0.7777777777777778,
             "#fb9f3a"
            ],
            [
             0.8888888888888888,
             "#fdca26"
            ],
            [
             1,
             "#f0f921"
            ]
           ],
           "sequentialminus": [
            [
             0,
             "#0d0887"
            ],
            [
             0.1111111111111111,
             "#46039f"
            ],
            [
             0.2222222222222222,
             "#7201a8"
            ],
            [
             0.3333333333333333,
             "#9c179e"
            ],
            [
             0.4444444444444444,
             "#bd3786"
            ],
            [
             0.5555555555555556,
             "#d8576b"
            ],
            [
             0.6666666666666666,
             "#ed7953"
            ],
            [
             0.7777777777777778,
             "#fb9f3a"
            ],
            [
             0.8888888888888888,
             "#fdca26"
            ],
            [
             1,
             "#f0f921"
            ]
           ]
          },
          "colorway": [
           "#636efa",
           "#EF553B",
           "#00cc96",
           "#ab63fa",
           "#FFA15A",
           "#19d3f3",
           "#FF6692",
           "#B6E880",
           "#FF97FF",
           "#FECB52"
          ],
          "font": {
           "color": "#2a3f5f"
          },
          "geo": {
           "bgcolor": "white",
           "lakecolor": "white",
           "landcolor": "#E5ECF6",
           "showlakes": true,
           "showland": true,
           "subunitcolor": "white"
          },
          "hoverlabel": {
           "align": "left"
          },
          "hovermode": "closest",
          "mapbox": {
           "style": "light"
          },
          "paper_bgcolor": "white",
          "plot_bgcolor": "#E5ECF6",
          "polar": {
           "angularaxis": {
            "gridcolor": "white",
            "linecolor": "white",
            "ticks": ""
           },
           "bgcolor": "#E5ECF6",
           "radialaxis": {
            "gridcolor": "white",
            "linecolor": "white",
            "ticks": ""
           }
          },
          "scene": {
           "xaxis": {
            "backgroundcolor": "#E5ECF6",
            "gridcolor": "white",
            "gridwidth": 2,
            "linecolor": "white",
            "showbackground": true,
            "ticks": "",
            "zerolinecolor": "white"
           },
           "yaxis": {
            "backgroundcolor": "#E5ECF6",
            "gridcolor": "white",
            "gridwidth": 2,
            "linecolor": "white",
            "showbackground": true,
            "ticks": "",
            "zerolinecolor": "white"
           },
           "zaxis": {
            "backgroundcolor": "#E5ECF6",
            "gridcolor": "white",
            "gridwidth": 2,
            "linecolor": "white",
            "showbackground": true,
            "ticks": "",
            "zerolinecolor": "white"
           }
          },
          "shapedefaults": {
           "line": {
            "color": "#2a3f5f"
           }
          },
          "ternary": {
           "aaxis": {
            "gridcolor": "white",
            "linecolor": "white",
            "ticks": ""
           },
           "baxis": {
            "gridcolor": "white",
            "linecolor": "white",
            "ticks": ""
           },
           "bgcolor": "#E5ECF6",
           "caxis": {
            "gridcolor": "white",
            "linecolor": "white",
            "ticks": ""
           }
          },
          "title": {
           "x": 0.05
          },
          "xaxis": {
           "automargin": true,
           "gridcolor": "white",
           "linecolor": "white",
           "ticks": "",
           "title": {
            "standoff": 15
           },
           "zerolinecolor": "white",
           "zerolinewidth": 2
          },
          "yaxis": {
           "automargin": true,
           "gridcolor": "white",
           "linecolor": "white",
           "ticks": "",
           "title": {
            "standoff": 15
           },
           "zerolinecolor": "white",
           "zerolinewidth": 2
          }
         }
        },
        "xaxis": {
         "anchor": "y",
         "domain": [
          0,
          1
         ],
         "title": {
          "text": "Category"
         }
        },
        "yaxis": {
         "anchor": "x",
         "domain": [
          0,
          1
         ],
         "title": {
          "text": "Total Sum Impact Score"
         }
        }
       }
      }
     },
     "metadata": {},
     "output_type": "display_data"
    }
   ],
   "source": [
    "fig = px.bar(not_supported_variant_impact_df, x='Category', \n",
    "             y='Total Sum Impact Score',\n",
    "             hover_data=['Total Number Evidence Items', \n",
    "             not_supported_variant_impact_df[\"% Accepted Evidence Items\"]], \n",
    "             color='Total Number Evidence Items',\n",
    "             labels={'Total Sum Impact Score':'Total Sum Impact Score'},\n",
    "             text_auto= '.1f',\n",
    "             color_continuous_scale= 'geyser')\n",
    "fig.update_traces(width=1)\n",
    "fig.show()"
   ]
  },
  {
   "cell_type": "code",
   "execution_count": null,
   "metadata": {},
   "outputs": [],
   "source": [
    "#fig.write_html(\"../../../../../../civic_ns_categories_impact_redgreen.html\")"
   ]
  },
  {
   "cell_type": "markdown",
   "metadata": {},
   "source": [
    "The scatterplot below shows the relationship between the Not Suported variant sub category impact score and the number of evidence items associated with variants in each sub category. Additionally, the sizes of the data point represent the number of variants in each sub category. "
   ]
  },
  {
   "cell_type": "code",
   "execution_count": null,
   "metadata": {},
   "outputs": [
    {
     "data": {
      "application/vnd.plotly.v1+json": {
       "config": {
        "plotlyServerURL": "https://plot.ly"
       },
       "data": [
        {
         "customdata": [
          [
           "55.43%"
          ]
         ],
         "hovertemplate": "Category=Expression<br>Total Number Evidence Items=%{x}<br>Total Sum Impact Score=%{y}<br>Total Number Variants=%{text}<br>% Accepted Evidence Items=%{customdata[0]}<extra></extra>",
         "legendgroup": "Expression",
         "marker": {
          "color": "#636efa",
          "size": [
           291
          ],
          "sizemode": "area",
          "sizeref": 0.240625,
          "symbol": "circle"
         },
         "mode": "markers+text",
         "name": "Expression",
         "orientation": "v",
         "showlegend": true,
         "text": [
          291
         ],
         "type": "scatter",
         "x": [
          617
         ],
         "xaxis": "x",
         "y": [
          3618
         ],
         "yaxis": "y"
        },
        {
         "customdata": [
          [
           "91.67%"
          ]
         ],
         "hovertemplate": "Category=Epigenetic Modification<br>Total Number Evidence Items=%{x}<br>Total Sum Impact Score=%{y}<br>Total Number Variants=%{text}<br>% Accepted Evidence Items=%{customdata[0]}<extra></extra>",
         "legendgroup": "Epigenetic Modification",
         "marker": {
          "color": "#EF553B",
          "size": [
           15
          ],
          "sizemode": "area",
          "sizeref": 0.240625,
          "symbol": "circle"
         },
         "mode": "markers+text",
         "name": "Epigenetic Modification",
         "orientation": "v",
         "showlegend": true,
         "text": [
          15
         ],
         "type": "scatter",
         "x": [
          24
         ],
         "xaxis": "x",
         "y": [
          285.5
         ],
         "yaxis": "y"
        },
        {
         "customdata": [
          [
           "59.34%"
          ]
         ],
         "hovertemplate": "Category=Fusion<br>Total Number Evidence Items=%{x}<br>Total Sum Impact Score=%{y}<br>Total Number Variants=%{text}<br>% Accepted Evidence Items=%{customdata[0]}<extra></extra>",
         "legendgroup": "Fusion",
         "marker": {
          "color": "#00cc96",
          "size": [
           307
          ],
          "sizemode": "area",
          "sizeref": 0.240625,
          "symbol": "circle"
         },
         "mode": "markers+text",
         "name": "Fusion",
         "orientation": "v",
         "showlegend": true,
         "text": [
          307
         ],
         "type": "scatter",
         "x": [
          1220
         ],
         "xaxis": "x",
         "y": [
          5689.25
         ],
         "yaxis": "y"
        },
        {
         "customdata": [
          [
           "63.46%"
          ]
         ],
         "hovertemplate": "Category=Protein Consequence<br>Total Number Evidence Items=%{x}<br>Total Sum Impact Score=%{y}<br>Total Number Variants=%{text}<br>% Accepted Evidence Items=%{customdata[0]}<extra></extra>",
         "legendgroup": "Protein Consequence",
         "marker": {
          "color": "#ab63fa",
          "size": [
           128
          ],
          "sizemode": "area",
          "sizeref": 0.240625,
          "symbol": "circle"
         },
         "mode": "markers+text",
         "name": "Protein Consequence",
         "orientation": "v",
         "showlegend": true,
         "text": [
          128
         ],
         "type": "scatter",
         "x": [
          301
         ],
         "xaxis": "x",
         "y": [
          2683.75
         ],
         "yaxis": "y"
        },
        {
         "customdata": [
          [
           "43.64%"
          ]
         ],
         "hovertemplate": "Category=Gene Function<br>Total Number Evidence Items=%{x}<br>Total Sum Impact Score=%{y}<br>Total Number Variants=%{text}<br>% Accepted Evidence Items=%{customdata[0]}<extra></extra>",
         "legendgroup": "Gene Function",
         "marker": {
          "color": "#FFA15A",
          "size": [
           90
          ],
          "sizemode": "area",
          "sizeref": 0.240625,
          "symbol": "circle"
         },
         "mode": "markers+text",
         "name": "Gene Function",
         "orientation": "v",
         "showlegend": true,
         "text": [
          90
         ],
         "type": "scatter",
         "x": [
          346
         ],
         "xaxis": "x",
         "y": [
          1792.5
         ],
         "yaxis": "y"
        },
        {
         "customdata": [
          [
           "37.86%"
          ]
         ],
         "hovertemplate": "Category=Rearrangements<br>Total Number Evidence Items=%{x}<br>Total Sum Impact Score=%{y}<br>Total Number Variants=%{text}<br>% Accepted Evidence Items=%{customdata[0]}<extra></extra>",
         "legendgroup": "Rearrangements",
         "marker": {
          "color": "#19d3f3",
          "size": [
           52
          ],
          "sizemode": "area",
          "sizeref": 0.240625,
          "symbol": "circle"
         },
         "mode": "markers+text",
         "name": "Rearrangements",
         "orientation": "v",
         "showlegend": true,
         "text": [
          52
         ],
         "type": "scatter",
         "x": [
          140
         ],
         "xaxis": "x",
         "y": [
          653
         ],
         "yaxis": "y"
        },
        {
         "customdata": [
          [
           "44.93%"
          ]
         ],
         "hovertemplate": "Category=Copy Number<br>Total Number Evidence Items=%{x}<br>Total Sum Impact Score=%{y}<br>Total Number Variants=%{text}<br>% Accepted Evidence Items=%{customdata[0]}<extra></extra>",
         "legendgroup": "Copy Number",
         "marker": {
          "color": "#FF6692",
          "size": [
           34
          ],
          "sizemode": "area",
          "sizeref": 0.240625,
          "symbol": "circle"
         },
         "mode": "markers+text",
         "name": "Copy Number",
         "orientation": "v",
         "showlegend": true,
         "text": [
          34
         ],
         "type": "scatter",
         "x": [
          69
         ],
         "xaxis": "x",
         "y": [
          207
         ],
         "yaxis": "y"
        },
        {
         "customdata": [
          [
           "36.81%"
          ]
         ],
         "hovertemplate": "Category=Other<br>Total Number Evidence Items=%{x}<br>Total Sum Impact Score=%{y}<br>Total Number Variants=%{text}<br>% Accepted Evidence Items=%{customdata[0]}<extra></extra>",
         "legendgroup": "Other",
         "marker": {
          "color": "#B6E880",
          "size": [
           93
          ],
          "sizemode": "area",
          "sizeref": 0.240625,
          "symbol": "circle"
         },
         "mode": "markers+text",
         "name": "Other",
         "orientation": "v",
         "showlegend": true,
         "text": [
          93
         ],
         "type": "scatter",
         "x": [
          163
         ],
         "xaxis": "x",
         "y": [
          673.5
         ],
         "yaxis": "y"
        },
        {
         "customdata": [
          [
           "56.52%"
          ]
         ],
         "hovertemplate": "Category=Genotypes Easy<br>Total Number Evidence Items=%{x}<br>Total Sum Impact Score=%{y}<br>Total Number Variants=%{text}<br>% Accepted Evidence Items=%{customdata[0]}<extra></extra>",
         "legendgroup": "Genotypes Easy",
         "marker": {
          "color": "#FF97FF",
          "size": [
           11
          ],
          "sizemode": "area",
          "sizeref": 0.240625,
          "symbol": "circle"
         },
         "mode": "markers+text",
         "name": "Genotypes Easy",
         "orientation": "v",
         "showlegend": true,
         "text": [
          11
         ],
         "type": "scatter",
         "x": [
          23
         ],
         "xaxis": "x",
         "y": [
          195
         ],
         "yaxis": "y"
        },
        {
         "customdata": [
          [
           "57.14%"
          ]
         ],
         "hovertemplate": "Category=Genotypes Compound<br>Total Number Evidence Items=%{x}<br>Total Sum Impact Score=%{y}<br>Total Number Variants=%{text}<br>% Accepted Evidence Items=%{customdata[0]}<extra></extra>",
         "legendgroup": "Genotypes Compound",
         "marker": {
          "color": "#FECB52",
          "size": [
           6
          ],
          "sizemode": "area",
          "sizeref": 0.240625,
          "symbol": "circle"
         },
         "mode": "markers+text",
         "name": "Genotypes Compound",
         "orientation": "v",
         "showlegend": true,
         "text": [
          6
         ],
         "type": "scatter",
         "x": [
          7
         ],
         "xaxis": "x",
         "y": [
          117.5
         ],
         "yaxis": "y"
        },
        {
         "customdata": [
          [
           "60.22%"
          ]
         ],
         "hovertemplate": "Category=Region Defined Variant<br>Total Number Evidence Items=%{x}<br>Total Sum Impact Score=%{y}<br>Total Number Variants=%{text}<br>% Accepted Evidence Items=%{customdata[0]}<extra></extra>",
         "legendgroup": "Region Defined Variant",
         "marker": {
          "color": "#636efa",
          "size": [
           209
          ],
          "sizemode": "area",
          "sizeref": 0.240625,
          "symbol": "circle"
         },
         "mode": "markers+text",
         "name": "Region Defined Variant",
         "orientation": "v",
         "showlegend": true,
         "text": [
          209
         ],
         "type": "scatter",
         "x": [
          925
         ],
         "xaxis": "x",
         "y": [
          8311.5
         ],
         "yaxis": "y"
        },
        {
         "customdata": [
          [
           "11.44%"
          ]
         ],
         "hovertemplate": "Category=Transcript Variant<br>Total Number Evidence Items=%{x}<br>Total Sum Impact Score=%{y}<br>Total Number Variants=%{text}<br>% Accepted Evidence Items=%{customdata[0]}<extra></extra>",
         "legendgroup": "Transcript Variant",
         "marker": {
          "color": "#EF553B",
          "size": [
           385
          ],
          "sizemode": "area",
          "sizeref": 0.240625,
          "symbol": "circle"
         },
         "mode": "markers+text",
         "name": "Transcript Variant",
         "orientation": "v",
         "showlegend": true,
         "text": [
          385
         ],
         "type": "scatter",
         "x": [
          472
         ],
         "xaxis": "x",
         "y": [
          346.5
         ],
         "yaxis": "y"
        }
       ],
       "layout": {
        "legend": {
         "itemsizing": "constant",
         "title": {
          "text": "Category"
         },
         "tracegroupgap": 0
        },
        "margin": {
         "t": 60
        },
        "template": {
         "data": {
          "bar": [
           {
            "error_x": {
             "color": "#2a3f5f"
            },
            "error_y": {
             "color": "#2a3f5f"
            },
            "marker": {
             "line": {
              "color": "#E5ECF6",
              "width": 0.5
             },
             "pattern": {
              "fillmode": "overlay",
              "size": 10,
              "solidity": 0.2
             }
            },
            "type": "bar"
           }
          ],
          "barpolar": [
           {
            "marker": {
             "line": {
              "color": "#E5ECF6",
              "width": 0.5
             },
             "pattern": {
              "fillmode": "overlay",
              "size": 10,
              "solidity": 0.2
             }
            },
            "type": "barpolar"
           }
          ],
          "carpet": [
           {
            "aaxis": {
             "endlinecolor": "#2a3f5f",
             "gridcolor": "white",
             "linecolor": "white",
             "minorgridcolor": "white",
             "startlinecolor": "#2a3f5f"
            },
            "baxis": {
             "endlinecolor": "#2a3f5f",
             "gridcolor": "white",
             "linecolor": "white",
             "minorgridcolor": "white",
             "startlinecolor": "#2a3f5f"
            },
            "type": "carpet"
           }
          ],
          "choropleth": [
           {
            "colorbar": {
             "outlinewidth": 0,
             "ticks": ""
            },
            "type": "choropleth"
           }
          ],
          "contour": [
           {
            "colorbar": {
             "outlinewidth": 0,
             "ticks": ""
            },
            "colorscale": [
             [
              0,
              "#0d0887"
             ],
             [
              0.1111111111111111,
              "#46039f"
             ],
             [
              0.2222222222222222,
              "#7201a8"
             ],
             [
              0.3333333333333333,
              "#9c179e"
             ],
             [
              0.4444444444444444,
              "#bd3786"
             ],
             [
              0.5555555555555556,
              "#d8576b"
             ],
             [
              0.6666666666666666,
              "#ed7953"
             ],
             [
              0.7777777777777778,
              "#fb9f3a"
             ],
             [
              0.8888888888888888,
              "#fdca26"
             ],
             [
              1,
              "#f0f921"
             ]
            ],
            "type": "contour"
           }
          ],
          "contourcarpet": [
           {
            "colorbar": {
             "outlinewidth": 0,
             "ticks": ""
            },
            "type": "contourcarpet"
           }
          ],
          "heatmap": [
           {
            "colorbar": {
             "outlinewidth": 0,
             "ticks": ""
            },
            "colorscale": [
             [
              0,
              "#0d0887"
             ],
             [
              0.1111111111111111,
              "#46039f"
             ],
             [
              0.2222222222222222,
              "#7201a8"
             ],
             [
              0.3333333333333333,
              "#9c179e"
             ],
             [
              0.4444444444444444,
              "#bd3786"
             ],
             [
              0.5555555555555556,
              "#d8576b"
             ],
             [
              0.6666666666666666,
              "#ed7953"
             ],
             [
              0.7777777777777778,
              "#fb9f3a"
             ],
             [
              0.8888888888888888,
              "#fdca26"
             ],
             [
              1,
              "#f0f921"
             ]
            ],
            "type": "heatmap"
           }
          ],
          "heatmapgl": [
           {
            "colorbar": {
             "outlinewidth": 0,
             "ticks": ""
            },
            "colorscale": [
             [
              0,
              "#0d0887"
             ],
             [
              0.1111111111111111,
              "#46039f"
             ],
             [
              0.2222222222222222,
              "#7201a8"
             ],
             [
              0.3333333333333333,
              "#9c179e"
             ],
             [
              0.4444444444444444,
              "#bd3786"
             ],
             [
              0.5555555555555556,
              "#d8576b"
             ],
             [
              0.6666666666666666,
              "#ed7953"
             ],
             [
              0.7777777777777778,
              "#fb9f3a"
             ],
             [
              0.8888888888888888,
              "#fdca26"
             ],
             [
              1,
              "#f0f921"
             ]
            ],
            "type": "heatmapgl"
           }
          ],
          "histogram": [
           {
            "marker": {
             "pattern": {
              "fillmode": "overlay",
              "size": 10,
              "solidity": 0.2
             }
            },
            "type": "histogram"
           }
          ],
          "histogram2d": [
           {
            "colorbar": {
             "outlinewidth": 0,
             "ticks": ""
            },
            "colorscale": [
             [
              0,
              "#0d0887"
             ],
             [
              0.1111111111111111,
              "#46039f"
             ],
             [
              0.2222222222222222,
              "#7201a8"
             ],
             [
              0.3333333333333333,
              "#9c179e"
             ],
             [
              0.4444444444444444,
              "#bd3786"
             ],
             [
              0.5555555555555556,
              "#d8576b"
             ],
             [
              0.6666666666666666,
              "#ed7953"
             ],
             [
              0.7777777777777778,
              "#fb9f3a"
             ],
             [
              0.8888888888888888,
              "#fdca26"
             ],
             [
              1,
              "#f0f921"
             ]
            ],
            "type": "histogram2d"
           }
          ],
          "histogram2dcontour": [
           {
            "colorbar": {
             "outlinewidth": 0,
             "ticks": ""
            },
            "colorscale": [
             [
              0,
              "#0d0887"
             ],
             [
              0.1111111111111111,
              "#46039f"
             ],
             [
              0.2222222222222222,
              "#7201a8"
             ],
             [
              0.3333333333333333,
              "#9c179e"
             ],
             [
              0.4444444444444444,
              "#bd3786"
             ],
             [
              0.5555555555555556,
              "#d8576b"
             ],
             [
              0.6666666666666666,
              "#ed7953"
             ],
             [
              0.7777777777777778,
              "#fb9f3a"
             ],
             [
              0.8888888888888888,
              "#fdca26"
             ],
             [
              1,
              "#f0f921"
             ]
            ],
            "type": "histogram2dcontour"
           }
          ],
          "mesh3d": [
           {
            "colorbar": {
             "outlinewidth": 0,
             "ticks": ""
            },
            "type": "mesh3d"
           }
          ],
          "parcoords": [
           {
            "line": {
             "colorbar": {
              "outlinewidth": 0,
              "ticks": ""
             }
            },
            "type": "parcoords"
           }
          ],
          "pie": [
           {
            "automargin": true,
            "type": "pie"
           }
          ],
          "scatter": [
           {
            "fillpattern": {
             "fillmode": "overlay",
             "size": 10,
             "solidity": 0.2
            },
            "type": "scatter"
           }
          ],
          "scatter3d": [
           {
            "line": {
             "colorbar": {
              "outlinewidth": 0,
              "ticks": ""
             }
            },
            "marker": {
             "colorbar": {
              "outlinewidth": 0,
              "ticks": ""
             }
            },
            "type": "scatter3d"
           }
          ],
          "scattercarpet": [
           {
            "marker": {
             "colorbar": {
              "outlinewidth": 0,
              "ticks": ""
             }
            },
            "type": "scattercarpet"
           }
          ],
          "scattergeo": [
           {
            "marker": {
             "colorbar": {
              "outlinewidth": 0,
              "ticks": ""
             }
            },
            "type": "scattergeo"
           }
          ],
          "scattergl": [
           {
            "marker": {
             "colorbar": {
              "outlinewidth": 0,
              "ticks": ""
             }
            },
            "type": "scattergl"
           }
          ],
          "scattermapbox": [
           {
            "marker": {
             "colorbar": {
              "outlinewidth": 0,
              "ticks": ""
             }
            },
            "type": "scattermapbox"
           }
          ],
          "scatterpolar": [
           {
            "marker": {
             "colorbar": {
              "outlinewidth": 0,
              "ticks": ""
             }
            },
            "type": "scatterpolar"
           }
          ],
          "scatterpolargl": [
           {
            "marker": {
             "colorbar": {
              "outlinewidth": 0,
              "ticks": ""
             }
            },
            "type": "scatterpolargl"
           }
          ],
          "scatterternary": [
           {
            "marker": {
             "colorbar": {
              "outlinewidth": 0,
              "ticks": ""
             }
            },
            "type": "scatterternary"
           }
          ],
          "surface": [
           {
            "colorbar": {
             "outlinewidth": 0,
             "ticks": ""
            },
            "colorscale": [
             [
              0,
              "#0d0887"
             ],
             [
              0.1111111111111111,
              "#46039f"
             ],
             [
              0.2222222222222222,
              "#7201a8"
             ],
             [
              0.3333333333333333,
              "#9c179e"
             ],
             [
              0.4444444444444444,
              "#bd3786"
             ],
             [
              0.5555555555555556,
              "#d8576b"
             ],
             [
              0.6666666666666666,
              "#ed7953"
             ],
             [
              0.7777777777777778,
              "#fb9f3a"
             ],
             [
              0.8888888888888888,
              "#fdca26"
             ],
             [
              1,
              "#f0f921"
             ]
            ],
            "type": "surface"
           }
          ],
          "table": [
           {
            "cells": {
             "fill": {
              "color": "#EBF0F8"
             },
             "line": {
              "color": "white"
             }
            },
            "header": {
             "fill": {
              "color": "#C8D4E3"
             },
             "line": {
              "color": "white"
             }
            },
            "type": "table"
           }
          ]
         },
         "layout": {
          "annotationdefaults": {
           "arrowcolor": "#2a3f5f",
           "arrowhead": 0,
           "arrowwidth": 1
          },
          "autotypenumbers": "strict",
          "coloraxis": {
           "colorbar": {
            "outlinewidth": 0,
            "ticks": ""
           }
          },
          "colorscale": {
           "diverging": [
            [
             0,
             "#8e0152"
            ],
            [
             0.1,
             "#c51b7d"
            ],
            [
             0.2,
             "#de77ae"
            ],
            [
             0.3,
             "#f1b6da"
            ],
            [
             0.4,
             "#fde0ef"
            ],
            [
             0.5,
             "#f7f7f7"
            ],
            [
             0.6,
             "#e6f5d0"
            ],
            [
             0.7,
             "#b8e186"
            ],
            [
             0.8,
             "#7fbc41"
            ],
            [
             0.9,
             "#4d9221"
            ],
            [
             1,
             "#276419"
            ]
           ],
           "sequential": [
            [
             0,
             "#0d0887"
            ],
            [
             0.1111111111111111,
             "#46039f"
            ],
            [
             0.2222222222222222,
             "#7201a8"
            ],
            [
             0.3333333333333333,
             "#9c179e"
            ],
            [
             0.4444444444444444,
             "#bd3786"
            ],
            [
             0.5555555555555556,
             "#d8576b"
            ],
            [
             0.6666666666666666,
             "#ed7953"
            ],
            [
             0.7777777777777778,
             "#fb9f3a"
            ],
            [
             0.8888888888888888,
             "#fdca26"
            ],
            [
             1,
             "#f0f921"
            ]
           ],
           "sequentialminus": [
            [
             0,
             "#0d0887"
            ],
            [
             0.1111111111111111,
             "#46039f"
            ],
            [
             0.2222222222222222,
             "#7201a8"
            ],
            [
             0.3333333333333333,
             "#9c179e"
            ],
            [
             0.4444444444444444,
             "#bd3786"
            ],
            [
             0.5555555555555556,
             "#d8576b"
            ],
            [
             0.6666666666666666,
             "#ed7953"
            ],
            [
             0.7777777777777778,
             "#fb9f3a"
            ],
            [
             0.8888888888888888,
             "#fdca26"
            ],
            [
             1,
             "#f0f921"
            ]
           ]
          },
          "colorway": [
           "#636efa",
           "#EF553B",
           "#00cc96",
           "#ab63fa",
           "#FFA15A",
           "#19d3f3",
           "#FF6692",
           "#B6E880",
           "#FF97FF",
           "#FECB52"
          ],
          "font": {
           "color": "#2a3f5f"
          },
          "geo": {
           "bgcolor": "white",
           "lakecolor": "white",
           "landcolor": "#E5ECF6",
           "showlakes": true,
           "showland": true,
           "subunitcolor": "white"
          },
          "hoverlabel": {
           "align": "left"
          },
          "hovermode": "closest",
          "mapbox": {
           "style": "light"
          },
          "paper_bgcolor": "white",
          "plot_bgcolor": "#E5ECF6",
          "polar": {
           "angularaxis": {
            "gridcolor": "white",
            "linecolor": "white",
            "ticks": ""
           },
           "bgcolor": "#E5ECF6",
           "radialaxis": {
            "gridcolor": "white",
            "linecolor": "white",
            "ticks": ""
           }
          },
          "scene": {
           "xaxis": {
            "backgroundcolor": "#E5ECF6",
            "gridcolor": "white",
            "gridwidth": 2,
            "linecolor": "white",
            "showbackground": true,
            "ticks": "",
            "zerolinecolor": "white"
           },
           "yaxis": {
            "backgroundcolor": "#E5ECF6",
            "gridcolor": "white",
            "gridwidth": 2,
            "linecolor": "white",
            "showbackground": true,
            "ticks": "",
            "zerolinecolor": "white"
           },
           "zaxis": {
            "backgroundcolor": "#E5ECF6",
            "gridcolor": "white",
            "gridwidth": 2,
            "linecolor": "white",
            "showbackground": true,
            "ticks": "",
            "zerolinecolor": "white"
           }
          },
          "shapedefaults": {
           "line": {
            "color": "#2a3f5f"
           }
          },
          "ternary": {
           "aaxis": {
            "gridcolor": "white",
            "linecolor": "white",
            "ticks": ""
           },
           "baxis": {
            "gridcolor": "white",
            "linecolor": "white",
            "ticks": ""
           },
           "bgcolor": "#E5ECF6",
           "caxis": {
            "gridcolor": "white",
            "linecolor": "white",
            "ticks": ""
           }
          },
          "title": {
           "x": 0.05
          },
          "xaxis": {
           "automargin": true,
           "gridcolor": "white",
           "linecolor": "white",
           "ticks": "",
           "title": {
            "standoff": 15
           },
           "zerolinecolor": "white",
           "zerolinewidth": 2
          },
          "yaxis": {
           "automargin": true,
           "gridcolor": "white",
           "linecolor": "white",
           "ticks": "",
           "title": {
            "standoff": 15
           },
           "zerolinecolor": "white",
           "zerolinewidth": 2
          }
         }
        },
        "xaxis": {
         "anchor": "y",
         "domain": [
          0,
          1
         ],
         "title": {
          "text": "Total Number Evidence Items"
         }
        },
        "yaxis": {
         "anchor": "x",
         "domain": [
          0,
          1
         ],
         "title": {
          "text": "Total Sum Impact Score"
         }
        }
       }
      }
     },
     "metadata": {},
     "output_type": "display_data"
    }
   ],
   "source": [
    "fig2= px.scatter(data_frame= not_supported_variant_impact_df,\n",
    "                x= 'Total Number Evidence Items',\n",
    "                y= 'Total Sum Impact Score',\n",
    "                size= 'Total Number Variants',\n",
    "                size_max= 40,\n",
    "                text= 'Total Number Variants',\n",
    "                # color_discrete_sequence= Bold,\n",
    "                color= 'Category',\n",
    "                hover_data= '% Accepted Evidence Items')\n",
    "fig2.show()"
   ]
  },
  {
   "cell_type": "code",
   "execution_count": null,
   "metadata": {},
   "outputs": [],
   "source": [
    "#fig2.write_html(\"../../../../../../civic_ns_categories_impact_scatterplot.html\")"
   ]
  }
 ],
 "metadata": {
  "kernelspec": {
   "display_name": "Python 3.10.9 64-bit ('3.10.9')",
   "language": "python",
   "name": "python3"
  },
  "language_info": {
   "codemirror_mode": {
    "name": "ipython",
    "version": 3
   },
   "file_extension": ".py",
   "mimetype": "text/x-python",
   "name": "python",
   "nbconvert_exporter": "python",
   "pygments_lexer": "ipython3",
   "version": "3.10.9"
  },
  "orig_nbformat": 4,
  "vscode": {
   "interpreter": {
    "hash": "1bd4a0c8bc911393f4a19827cd0d555013b2fcb9ea63c8ddc9b9ae4ac59a8883"
   }
  }
 },
 "nbformat": 4,
 "nbformat_minor": 2
}
