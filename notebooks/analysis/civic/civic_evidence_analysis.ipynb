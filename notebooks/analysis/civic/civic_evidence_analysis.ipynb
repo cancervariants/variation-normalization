{
 "cells": [
  {
   "cell_type": "markdown",
   "metadata": {},
   "source": [
    "# Analysis of Normalized Queries\n",
    "\n",
    "This notebook contains an analysis on CIViC evidence data"
   ]
  },
  {
   "cell_type": "code",
   "execution_count": 1,
   "metadata": {},
   "outputs": [],
   "source": [
    "import csv\n",
    "import pandas as pd\n",
    "from civicpy import civic"
   ]
  },
  {
   "cell_type": "code",
   "execution_count": 2,
   "metadata": {},
   "outputs": [
    {
     "name": "stderr",
     "output_type": "stream",
     "text": [
      "WARNING:root:Getting all molecular_profiles. This may take a couple of minutes...\n",
      "WARNING:root:Getting all genes. This may take a couple of minutes...\n"
     ]
    },
    {
     "ename": "KeyboardInterrupt",
     "evalue": "",
     "output_type": "error",
     "traceback": [
      "\u001b[0;31m---------------------------------------------------------------------------\u001b[0m",
      "\u001b[0;31mKeyboardInterrupt\u001b[0m                         Traceback (most recent call last)",
      "Cell \u001b[0;32mIn[2], line 1\u001b[0m\n\u001b[0;32m----> 1\u001b[0m \u001b[43mcivic\u001b[49m\u001b[38;5;241;43m.\u001b[39;49m\u001b[43mupdate_cache\u001b[49m\u001b[43m(\u001b[49m\u001b[43mfrom_remote_cache\u001b[49m\u001b[38;5;241;43m=\u001b[39;49m\u001b[38;5;28;43;01mFalse\u001b[39;49;00m\u001b[43m)\u001b[49m\n",
      "File \u001b[0;32m~/.pyenv/versions/3.10.9/lib/python3.10/site-packages/civicpy/civic.py:269\u001b[0m, in \u001b[0;36mupdate_cache\u001b[0;34m(from_remote_cache, remote_cache_url, local_cache_path)\u001b[0m\n\u001b[1;32m    267\u001b[0m \u001b[39melse\u001b[39;00m:\n\u001b[1;32m    268\u001b[0m     molecular_profiles \u001b[39m=\u001b[39m _get_elements_by_ids(\u001b[39m'\u001b[39m\u001b[39mmolecular_profile\u001b[39m\u001b[39m'\u001b[39m, allow_cached\u001b[39m=\u001b[39m\u001b[39mFalse\u001b[39;00m, get_all\u001b[39m=\u001b[39m\u001b[39mTrue\u001b[39;00m)\n\u001b[0;32m--> 269\u001b[0m     genes \u001b[39m=\u001b[39m _get_elements_by_ids(\u001b[39m'\u001b[39;49m\u001b[39mgene\u001b[39;49m\u001b[39m'\u001b[39;49m, allow_cached\u001b[39m=\u001b[39;49m\u001b[39mFalse\u001b[39;49;00m, get_all\u001b[39m=\u001b[39;49m\u001b[39mTrue\u001b[39;49;00m)\n\u001b[1;32m    270\u001b[0m     variants \u001b[39m=\u001b[39m _get_elements_by_ids(\u001b[39m'\u001b[39m\u001b[39mvariant\u001b[39m\u001b[39m'\u001b[39m, allow_cached\u001b[39m=\u001b[39m\u001b[39mFalse\u001b[39;00m, get_all\u001b[39m=\u001b[39m\u001b[39mTrue\u001b[39;00m)\n\u001b[1;32m    271\u001b[0m     evidence \u001b[39m=\u001b[39m _get_elements_by_ids(\u001b[39m'\u001b[39m\u001b[39mevidence\u001b[39m\u001b[39m'\u001b[39m, allow_cached\u001b[39m=\u001b[39m\u001b[39mFalse\u001b[39;00m, get_all\u001b[39m=\u001b[39m\u001b[39mTrue\u001b[39;00m)\n",
      "File \u001b[0;32m~/.pyenv/versions/3.10.9/lib/python3.10/site-packages/civicpy/civic.py:1203\u001b[0m, in \u001b[0;36m_get_elements_by_ids\u001b[0;34m(element, id_list, allow_cached, get_all)\u001b[0m\n\u001b[1;32m   1201\u001b[0m \u001b[39mif\u001b[39;00m get_all:\n\u001b[1;32m   1202\u001b[0m     logging\u001b[39m.\u001b[39mwarning(\u001b[39m'\u001b[39m\u001b[39mGetting all \u001b[39m\u001b[39m{}\u001b[39;00m\u001b[39m. This may take a couple of minutes...\u001b[39m\u001b[39m'\u001b[39m\u001b[39m.\u001b[39mformat(pluralize(element)))\n\u001b[0;32m-> 1203\u001b[0m     response_elements \u001b[39m=\u001b[39m _request_all(element)\n\u001b[1;32m   1204\u001b[0m \u001b[39melse\u001b[39;00m:\n\u001b[1;32m   1205\u001b[0m     response_elements \u001b[39m=\u001b[39m _request_by_ids(element, id_list)\n",
      "File \u001b[0;32m~/.pyenv/versions/3.10.9/lib/python3.10/site-packages/civicpy/civic.py:1309\u001b[0m, in \u001b[0;36m_request_all\u001b[0;34m(element)\u001b[0m\n\u001b[1;32m   1305\u001b[0m \u001b[39mwhile\u001b[39;00m has_next_page:\n\u001b[1;32m   1306\u001b[0m     variables \u001b[39m=\u001b[39m {\n\u001b[1;32m   1307\u001b[0m       \u001b[39m\"\u001b[39m\u001b[39mafter\u001b[39m\u001b[39m\"\u001b[39m: after_cursor\n\u001b[1;32m   1308\u001b[0m     }\n\u001b[0;32m-> 1309\u001b[0m     resp \u001b[39m=\u001b[39m requests\u001b[39m.\u001b[39;49mpost(API_URL, json\u001b[39m=\u001b[39;49m{\u001b[39m'\u001b[39;49m\u001b[39mquery\u001b[39;49m\u001b[39m'\u001b[39;49m: payload, \u001b[39m'\u001b[39;49m\u001b[39mvariables\u001b[39;49m\u001b[39m'\u001b[39;49m: variables}, timeout\u001b[39m=\u001b[39;49m(\u001b[39m10\u001b[39;49m,\u001b[39m200\u001b[39;49m))\n\u001b[1;32m   1310\u001b[0m     resp\u001b[39m.\u001b[39mraise_for_status()\n\u001b[1;32m   1311\u001b[0m     response \u001b[39m=\u001b[39m resp\u001b[39m.\u001b[39mjson()[\u001b[39m'\u001b[39m\u001b[39mdata\u001b[39m\u001b[39m'\u001b[39m][pluralize(element)]\n",
      "File \u001b[0;32m~/.pyenv/versions/3.10.9/lib/python3.10/site-packages/requests/api.py:115\u001b[0m, in \u001b[0;36mpost\u001b[0;34m(url, data, json, **kwargs)\u001b[0m\n\u001b[1;32m    103\u001b[0m \u001b[39mdef\u001b[39;00m \u001b[39mpost\u001b[39m(url, data\u001b[39m=\u001b[39m\u001b[39mNone\u001b[39;00m, json\u001b[39m=\u001b[39m\u001b[39mNone\u001b[39;00m, \u001b[39m*\u001b[39m\u001b[39m*\u001b[39mkwargs):\n\u001b[1;32m    104\u001b[0m \u001b[39m    \u001b[39m\u001b[39mr\u001b[39m\u001b[39m\"\"\"Sends a POST request.\u001b[39;00m\n\u001b[1;32m    105\u001b[0m \n\u001b[1;32m    106\u001b[0m \u001b[39m    :param url: URL for the new :class:`Request` object.\u001b[39;00m\n\u001b[0;32m   (...)\u001b[0m\n\u001b[1;32m    112\u001b[0m \u001b[39m    :rtype: requests.Response\u001b[39;00m\n\u001b[1;32m    113\u001b[0m \u001b[39m    \"\"\"\u001b[39;00m\n\u001b[0;32m--> 115\u001b[0m     \u001b[39mreturn\u001b[39;00m request(\u001b[39m\"\u001b[39;49m\u001b[39mpost\u001b[39;49m\u001b[39m\"\u001b[39;49m, url, data\u001b[39m=\u001b[39;49mdata, json\u001b[39m=\u001b[39;49mjson, \u001b[39m*\u001b[39;49m\u001b[39m*\u001b[39;49mkwargs)\n",
      "File \u001b[0;32m~/.pyenv/versions/3.10.9/lib/python3.10/site-packages/requests/api.py:59\u001b[0m, in \u001b[0;36mrequest\u001b[0;34m(method, url, **kwargs)\u001b[0m\n\u001b[1;32m     55\u001b[0m \u001b[39m# By using the 'with' statement we are sure the session is closed, thus we\u001b[39;00m\n\u001b[1;32m     56\u001b[0m \u001b[39m# avoid leaving sockets open which can trigger a ResourceWarning in some\u001b[39;00m\n\u001b[1;32m     57\u001b[0m \u001b[39m# cases, and look like a memory leak in others.\u001b[39;00m\n\u001b[1;32m     58\u001b[0m \u001b[39mwith\u001b[39;00m sessions\u001b[39m.\u001b[39mSession() \u001b[39mas\u001b[39;00m session:\n\u001b[0;32m---> 59\u001b[0m     \u001b[39mreturn\u001b[39;00m session\u001b[39m.\u001b[39;49mrequest(method\u001b[39m=\u001b[39;49mmethod, url\u001b[39m=\u001b[39;49murl, \u001b[39m*\u001b[39;49m\u001b[39m*\u001b[39;49mkwargs)\n",
      "File \u001b[0;32m~/.pyenv/versions/3.10.9/lib/python3.10/site-packages/requests/sessions.py:587\u001b[0m, in \u001b[0;36mSession.request\u001b[0;34m(self, method, url, params, data, headers, cookies, files, auth, timeout, allow_redirects, proxies, hooks, stream, verify, cert, json)\u001b[0m\n\u001b[1;32m    582\u001b[0m send_kwargs \u001b[39m=\u001b[39m {\n\u001b[1;32m    583\u001b[0m     \u001b[39m\"\u001b[39m\u001b[39mtimeout\u001b[39m\u001b[39m\"\u001b[39m: timeout,\n\u001b[1;32m    584\u001b[0m     \u001b[39m\"\u001b[39m\u001b[39mallow_redirects\u001b[39m\u001b[39m\"\u001b[39m: allow_redirects,\n\u001b[1;32m    585\u001b[0m }\n\u001b[1;32m    586\u001b[0m send_kwargs\u001b[39m.\u001b[39mupdate(settings)\n\u001b[0;32m--> 587\u001b[0m resp \u001b[39m=\u001b[39m \u001b[39mself\u001b[39;49m\u001b[39m.\u001b[39;49msend(prep, \u001b[39m*\u001b[39;49m\u001b[39m*\u001b[39;49msend_kwargs)\n\u001b[1;32m    589\u001b[0m \u001b[39mreturn\u001b[39;00m resp\n",
      "File \u001b[0;32m~/.pyenv/versions/3.10.9/lib/python3.10/site-packages/requests/sessions.py:701\u001b[0m, in \u001b[0;36mSession.send\u001b[0;34m(self, request, **kwargs)\u001b[0m\n\u001b[1;32m    698\u001b[0m start \u001b[39m=\u001b[39m preferred_clock()\n\u001b[1;32m    700\u001b[0m \u001b[39m# Send the request\u001b[39;00m\n\u001b[0;32m--> 701\u001b[0m r \u001b[39m=\u001b[39m adapter\u001b[39m.\u001b[39;49msend(request, \u001b[39m*\u001b[39;49m\u001b[39m*\u001b[39;49mkwargs)\n\u001b[1;32m    703\u001b[0m \u001b[39m# Total elapsed time of the request (approximately)\u001b[39;00m\n\u001b[1;32m    704\u001b[0m elapsed \u001b[39m=\u001b[39m preferred_clock() \u001b[39m-\u001b[39m start\n",
      "File \u001b[0;32m~/.pyenv/versions/3.10.9/lib/python3.10/site-packages/requests/adapters.py:489\u001b[0m, in \u001b[0;36mHTTPAdapter.send\u001b[0;34m(self, request, stream, timeout, verify, cert, proxies)\u001b[0m\n\u001b[1;32m    487\u001b[0m \u001b[39mtry\u001b[39;00m:\n\u001b[1;32m    488\u001b[0m     \u001b[39mif\u001b[39;00m \u001b[39mnot\u001b[39;00m chunked:\n\u001b[0;32m--> 489\u001b[0m         resp \u001b[39m=\u001b[39m conn\u001b[39m.\u001b[39;49murlopen(\n\u001b[1;32m    490\u001b[0m             method\u001b[39m=\u001b[39;49mrequest\u001b[39m.\u001b[39;49mmethod,\n\u001b[1;32m    491\u001b[0m             url\u001b[39m=\u001b[39;49murl,\n\u001b[1;32m    492\u001b[0m             body\u001b[39m=\u001b[39;49mrequest\u001b[39m.\u001b[39;49mbody,\n\u001b[1;32m    493\u001b[0m             headers\u001b[39m=\u001b[39;49mrequest\u001b[39m.\u001b[39;49mheaders,\n\u001b[1;32m    494\u001b[0m             redirect\u001b[39m=\u001b[39;49m\u001b[39mFalse\u001b[39;49;00m,\n\u001b[1;32m    495\u001b[0m             assert_same_host\u001b[39m=\u001b[39;49m\u001b[39mFalse\u001b[39;49;00m,\n\u001b[1;32m    496\u001b[0m             preload_content\u001b[39m=\u001b[39;49m\u001b[39mFalse\u001b[39;49;00m,\n\u001b[1;32m    497\u001b[0m             decode_content\u001b[39m=\u001b[39;49m\u001b[39mFalse\u001b[39;49;00m,\n\u001b[1;32m    498\u001b[0m             retries\u001b[39m=\u001b[39;49m\u001b[39mself\u001b[39;49m\u001b[39m.\u001b[39;49mmax_retries,\n\u001b[1;32m    499\u001b[0m             timeout\u001b[39m=\u001b[39;49mtimeout,\n\u001b[1;32m    500\u001b[0m         )\n\u001b[1;32m    502\u001b[0m     \u001b[39m# Send the request.\u001b[39;00m\n\u001b[1;32m    503\u001b[0m     \u001b[39melse\u001b[39;00m:\n\u001b[1;32m    504\u001b[0m         \u001b[39mif\u001b[39;00m \u001b[39mhasattr\u001b[39m(conn, \u001b[39m\"\u001b[39m\u001b[39mproxy_pool\u001b[39m\u001b[39m\"\u001b[39m):\n",
      "File \u001b[0;32m~/.pyenv/versions/3.10.9/lib/python3.10/site-packages/urllib3/connectionpool.py:703\u001b[0m, in \u001b[0;36mHTTPConnectionPool.urlopen\u001b[0;34m(self, method, url, body, headers, retries, redirect, assert_same_host, timeout, pool_timeout, release_conn, chunked, body_pos, **response_kw)\u001b[0m\n\u001b[1;32m    700\u001b[0m     \u001b[39mself\u001b[39m\u001b[39m.\u001b[39m_prepare_proxy(conn)\n\u001b[1;32m    702\u001b[0m \u001b[39m# Make the request on the httplib connection object.\u001b[39;00m\n\u001b[0;32m--> 703\u001b[0m httplib_response \u001b[39m=\u001b[39m \u001b[39mself\u001b[39;49m\u001b[39m.\u001b[39;49m_make_request(\n\u001b[1;32m    704\u001b[0m     conn,\n\u001b[1;32m    705\u001b[0m     method,\n\u001b[1;32m    706\u001b[0m     url,\n\u001b[1;32m    707\u001b[0m     timeout\u001b[39m=\u001b[39;49mtimeout_obj,\n\u001b[1;32m    708\u001b[0m     body\u001b[39m=\u001b[39;49mbody,\n\u001b[1;32m    709\u001b[0m     headers\u001b[39m=\u001b[39;49mheaders,\n\u001b[1;32m    710\u001b[0m     chunked\u001b[39m=\u001b[39;49mchunked,\n\u001b[1;32m    711\u001b[0m )\n\u001b[1;32m    713\u001b[0m \u001b[39m# If we're going to release the connection in ``finally:``, then\u001b[39;00m\n\u001b[1;32m    714\u001b[0m \u001b[39m# the response doesn't need to know about the connection. Otherwise\u001b[39;00m\n\u001b[1;32m    715\u001b[0m \u001b[39m# it will also try to release it and we'll have a double-release\u001b[39;00m\n\u001b[1;32m    716\u001b[0m \u001b[39m# mess.\u001b[39;00m\n\u001b[1;32m    717\u001b[0m response_conn \u001b[39m=\u001b[39m conn \u001b[39mif\u001b[39;00m \u001b[39mnot\u001b[39;00m release_conn \u001b[39melse\u001b[39;00m \u001b[39mNone\u001b[39;00m\n",
      "File \u001b[0;32m~/.pyenv/versions/3.10.9/lib/python3.10/site-packages/urllib3/connectionpool.py:449\u001b[0m, in \u001b[0;36mHTTPConnectionPool._make_request\u001b[0;34m(self, conn, method, url, timeout, chunked, **httplib_request_kw)\u001b[0m\n\u001b[1;32m    444\u001b[0m             httplib_response \u001b[39m=\u001b[39m conn\u001b[39m.\u001b[39mgetresponse()\n\u001b[1;32m    445\u001b[0m         \u001b[39mexcept\u001b[39;00m \u001b[39mBaseException\u001b[39;00m \u001b[39mas\u001b[39;00m e:\n\u001b[1;32m    446\u001b[0m             \u001b[39m# Remove the TypeError from the exception chain in\u001b[39;00m\n\u001b[1;32m    447\u001b[0m             \u001b[39m# Python 3 (including for exceptions like SystemExit).\u001b[39;00m\n\u001b[1;32m    448\u001b[0m             \u001b[39m# Otherwise it looks like a bug in the code.\u001b[39;00m\n\u001b[0;32m--> 449\u001b[0m             six\u001b[39m.\u001b[39;49mraise_from(e, \u001b[39mNone\u001b[39;49;00m)\n\u001b[1;32m    450\u001b[0m \u001b[39mexcept\u001b[39;00m (SocketTimeout, BaseSSLError, SocketError) \u001b[39mas\u001b[39;00m e:\n\u001b[1;32m    451\u001b[0m     \u001b[39mself\u001b[39m\u001b[39m.\u001b[39m_raise_timeout(err\u001b[39m=\u001b[39me, url\u001b[39m=\u001b[39murl, timeout_value\u001b[39m=\u001b[39mread_timeout)\n",
      "File \u001b[0;32m<string>:3\u001b[0m, in \u001b[0;36mraise_from\u001b[0;34m(value, from_value)\u001b[0m\n",
      "File \u001b[0;32m~/.pyenv/versions/3.10.9/lib/python3.10/site-packages/urllib3/connectionpool.py:444\u001b[0m, in \u001b[0;36mHTTPConnectionPool._make_request\u001b[0;34m(self, conn, method, url, timeout, chunked, **httplib_request_kw)\u001b[0m\n\u001b[1;32m    441\u001b[0m \u001b[39mexcept\u001b[39;00m \u001b[39mTypeError\u001b[39;00m:\n\u001b[1;32m    442\u001b[0m     \u001b[39m# Python 3\u001b[39;00m\n\u001b[1;32m    443\u001b[0m     \u001b[39mtry\u001b[39;00m:\n\u001b[0;32m--> 444\u001b[0m         httplib_response \u001b[39m=\u001b[39m conn\u001b[39m.\u001b[39;49mgetresponse()\n\u001b[1;32m    445\u001b[0m     \u001b[39mexcept\u001b[39;00m \u001b[39mBaseException\u001b[39;00m \u001b[39mas\u001b[39;00m e:\n\u001b[1;32m    446\u001b[0m         \u001b[39m# Remove the TypeError from the exception chain in\u001b[39;00m\n\u001b[1;32m    447\u001b[0m         \u001b[39m# Python 3 (including for exceptions like SystemExit).\u001b[39;00m\n\u001b[1;32m    448\u001b[0m         \u001b[39m# Otherwise it looks like a bug in the code.\u001b[39;00m\n\u001b[1;32m    449\u001b[0m         six\u001b[39m.\u001b[39mraise_from(e, \u001b[39mNone\u001b[39;00m)\n",
      "File \u001b[0;32m~/.pyenv/versions/3.10.9/lib/python3.10/http/client.py:1374\u001b[0m, in \u001b[0;36mHTTPConnection.getresponse\u001b[0;34m(self)\u001b[0m\n\u001b[1;32m   1372\u001b[0m \u001b[39mtry\u001b[39;00m:\n\u001b[1;32m   1373\u001b[0m     \u001b[39mtry\u001b[39;00m:\n\u001b[0;32m-> 1374\u001b[0m         response\u001b[39m.\u001b[39;49mbegin()\n\u001b[1;32m   1375\u001b[0m     \u001b[39mexcept\u001b[39;00m \u001b[39mConnectionError\u001b[39;00m:\n\u001b[1;32m   1376\u001b[0m         \u001b[39mself\u001b[39m\u001b[39m.\u001b[39mclose()\n",
      "File \u001b[0;32m~/.pyenv/versions/3.10.9/lib/python3.10/http/client.py:318\u001b[0m, in \u001b[0;36mHTTPResponse.begin\u001b[0;34m(self)\u001b[0m\n\u001b[1;32m    316\u001b[0m \u001b[39m# read until we get a non-100 response\u001b[39;00m\n\u001b[1;32m    317\u001b[0m \u001b[39mwhile\u001b[39;00m \u001b[39mTrue\u001b[39;00m:\n\u001b[0;32m--> 318\u001b[0m     version, status, reason \u001b[39m=\u001b[39m \u001b[39mself\u001b[39;49m\u001b[39m.\u001b[39;49m_read_status()\n\u001b[1;32m    319\u001b[0m     \u001b[39mif\u001b[39;00m status \u001b[39m!=\u001b[39m CONTINUE:\n\u001b[1;32m    320\u001b[0m         \u001b[39mbreak\u001b[39;00m\n",
      "File \u001b[0;32m~/.pyenv/versions/3.10.9/lib/python3.10/http/client.py:279\u001b[0m, in \u001b[0;36mHTTPResponse._read_status\u001b[0;34m(self)\u001b[0m\n\u001b[1;32m    278\u001b[0m \u001b[39mdef\u001b[39;00m \u001b[39m_read_status\u001b[39m(\u001b[39mself\u001b[39m):\n\u001b[0;32m--> 279\u001b[0m     line \u001b[39m=\u001b[39m \u001b[39mstr\u001b[39m(\u001b[39mself\u001b[39;49m\u001b[39m.\u001b[39;49mfp\u001b[39m.\u001b[39;49mreadline(_MAXLINE \u001b[39m+\u001b[39;49m \u001b[39m1\u001b[39;49m), \u001b[39m\"\u001b[39m\u001b[39miso-8859-1\u001b[39m\u001b[39m\"\u001b[39m)\n\u001b[1;32m    280\u001b[0m     \u001b[39mif\u001b[39;00m \u001b[39mlen\u001b[39m(line) \u001b[39m>\u001b[39m _MAXLINE:\n\u001b[1;32m    281\u001b[0m         \u001b[39mraise\u001b[39;00m LineTooLong(\u001b[39m\"\u001b[39m\u001b[39mstatus line\u001b[39m\u001b[39m\"\u001b[39m)\n",
      "File \u001b[0;32m~/.pyenv/versions/3.10.9/lib/python3.10/socket.py:705\u001b[0m, in \u001b[0;36mSocketIO.readinto\u001b[0;34m(self, b)\u001b[0m\n\u001b[1;32m    703\u001b[0m \u001b[39mwhile\u001b[39;00m \u001b[39mTrue\u001b[39;00m:\n\u001b[1;32m    704\u001b[0m     \u001b[39mtry\u001b[39;00m:\n\u001b[0;32m--> 705\u001b[0m         \u001b[39mreturn\u001b[39;00m \u001b[39mself\u001b[39;49m\u001b[39m.\u001b[39;49m_sock\u001b[39m.\u001b[39;49mrecv_into(b)\n\u001b[1;32m    706\u001b[0m     \u001b[39mexcept\u001b[39;00m timeout:\n\u001b[1;32m    707\u001b[0m         \u001b[39mself\u001b[39m\u001b[39m.\u001b[39m_timeout_occurred \u001b[39m=\u001b[39m \u001b[39mTrue\u001b[39;00m\n",
      "File \u001b[0;32m~/.pyenv/versions/3.10.9/lib/python3.10/ssl.py:1274\u001b[0m, in \u001b[0;36mSSLSocket.recv_into\u001b[0;34m(self, buffer, nbytes, flags)\u001b[0m\n\u001b[1;32m   1270\u001b[0m     \u001b[39mif\u001b[39;00m flags \u001b[39m!=\u001b[39m \u001b[39m0\u001b[39m:\n\u001b[1;32m   1271\u001b[0m         \u001b[39mraise\u001b[39;00m \u001b[39mValueError\u001b[39;00m(\n\u001b[1;32m   1272\u001b[0m           \u001b[39m\"\u001b[39m\u001b[39mnon-zero flags not allowed in calls to recv_into() on \u001b[39m\u001b[39m%s\u001b[39;00m\u001b[39m\"\u001b[39m \u001b[39m%\u001b[39m\n\u001b[1;32m   1273\u001b[0m           \u001b[39mself\u001b[39m\u001b[39m.\u001b[39m\u001b[39m__class__\u001b[39m)\n\u001b[0;32m-> 1274\u001b[0m     \u001b[39mreturn\u001b[39;00m \u001b[39mself\u001b[39;49m\u001b[39m.\u001b[39;49mread(nbytes, buffer)\n\u001b[1;32m   1275\u001b[0m \u001b[39melse\u001b[39;00m:\n\u001b[1;32m   1276\u001b[0m     \u001b[39mreturn\u001b[39;00m \u001b[39msuper\u001b[39m()\u001b[39m.\u001b[39mrecv_into(buffer, nbytes, flags)\n",
      "File \u001b[0;32m~/.pyenv/versions/3.10.9/lib/python3.10/ssl.py:1130\u001b[0m, in \u001b[0;36mSSLSocket.read\u001b[0;34m(self, len, buffer)\u001b[0m\n\u001b[1;32m   1128\u001b[0m \u001b[39mtry\u001b[39;00m:\n\u001b[1;32m   1129\u001b[0m     \u001b[39mif\u001b[39;00m buffer \u001b[39mis\u001b[39;00m \u001b[39mnot\u001b[39;00m \u001b[39mNone\u001b[39;00m:\n\u001b[0;32m-> 1130\u001b[0m         \u001b[39mreturn\u001b[39;00m \u001b[39mself\u001b[39;49m\u001b[39m.\u001b[39;49m_sslobj\u001b[39m.\u001b[39;49mread(\u001b[39mlen\u001b[39;49m, buffer)\n\u001b[1;32m   1131\u001b[0m     \u001b[39melse\u001b[39;00m:\n\u001b[1;32m   1132\u001b[0m         \u001b[39mreturn\u001b[39;00m \u001b[39mself\u001b[39m\u001b[39m.\u001b[39m_sslobj\u001b[39m.\u001b[39mread(\u001b[39mlen\u001b[39m)\n",
      "\u001b[0;31mKeyboardInterrupt\u001b[0m: "
     ]
    }
   ],
   "source": [
    "civic.update_cache(from_remote_cache=False)"
   ]
  },
  {
   "cell_type": "code",
   "execution_count": null,
   "metadata": {},
   "outputs": [],
   "source": [
    "civic.load_cache(on_stale=\"ignore\")"
   ]
  },
  {
   "cell_type": "markdown",
   "metadata": {},
   "source": [
    "## Import a list of all the variant ID's in CIViC"
   ]
  },
  {
   "cell_type": "code",
   "execution_count": null,
   "metadata": {},
   "outputs": [],
   "source": [
    "civic_variant_ids = civic.get_all_variants()"
   ]
  },
  {
   "cell_type": "code",
   "execution_count": null,
   "metadata": {},
   "outputs": [],
   "source": [
    "total_number_variants = len(civic_variant_ids)\n",
    "f\"Total Number of variants in CIViC: {total_number_variants}\""
   ]
  },
  {
   "cell_type": "markdown",
   "metadata": {},
   "source": [
    "## Import a list of all the evidence ID's from CIViC"
   ]
  },
  {
   "cell_type": "code",
   "execution_count": null,
   "metadata": {},
   "outputs": [],
   "source": [
    "civic_evidence_ids = civic.get_all_evidence()"
   ]
  },
  {
   "cell_type": "code",
   "execution_count": null,
   "metadata": {},
   "outputs": [],
   "source": [
    "total_number_evidences = len(civic_evidence_ids)\n",
    "f\"Total Number of evidence items in CIViC: {total_number_evidences}\""
   ]
  },
  {
   "cell_type": "markdown",
   "metadata": {},
   "source": [
    "## Import queries that were normalized"
   ]
  },
  {
   "cell_type": "code",
   "execution_count": null,
   "metadata": {},
   "outputs": [],
   "source": [
    "normalized_queries_df = pd.read_csv(\"./able_to_normalize_queries.csv\", sep= \"\\t\")\n",
    "normalized_queries_df"
   ]
  },
  {
   "cell_type": "markdown",
   "metadata": {},
   "source": [
    "## Create a list of the variant ID's of the normalized variants"
   ]
  },
  {
   "cell_type": "code",
   "execution_count": null,
   "metadata": {},
   "outputs": [],
   "source": [
    "normalized_variant_id_list = list(normalized_queries_df[\"variant_id\"])"
   ]
  },
  {
   "cell_type": "code",
   "execution_count": null,
   "metadata": {},
   "outputs": [],
   "source": [
    "total_number_normalized_variants = len(normalized_variant_id_list)\n",
    "f\"Total Number of variants that were normalized: {total_number_normalized_variants}\""
   ]
  },
  {
   "cell_type": "markdown",
   "metadata": {},
   "source": [
    "## Import evidence ID's associated with the normalized variants using variant ID\n",
    "\n",
    "Evidence items are linked to the molecular profiles associated with variant items. To pull evidence IDs, need to use molecular profiles. For more information on the structure of a variant item"
   ]
  },
  {
   "cell_type": "code",
   "execution_count": null,
   "metadata": {},
   "outputs": [],
   "source": [
    "normalized_variants_evidence_ids = []\n",
    "for v in normalized_variant_id_list:\n",
    "    variant_evidence_id_list = []\n",
    "    for variant in civic_variant_ids:\n",
    "        if int(v) == variant.id:\n",
    "            for mp in variant.molecular_profiles:\n",
    "                for e in mp.evidence_items:\n",
    "                    if e.id not in variant_evidence_id_list:\n",
    "                        variant_evidence_id_list.append(e.id)\n",
    "            variant_evidence_id_list = variant_evidence_id_list or \"\"\n",
    "    normalized_variants_evidence_ids.append(variant_evidence_id_list)\n",
    "normalized_queries_df[\"evidence_ids\"] = normalized_variants_evidence_ids\n",
    "normalized_queries_df"
   ]
  },
  {
   "cell_type": "markdown",
   "metadata": {},
   "source": [
    "## Split the list of evidence ID's of each variant to be one per line"
   ]
  },
  {
   "cell_type": "code",
   "execution_count": null,
   "metadata": {},
   "outputs": [],
   "source": [
    "normalized_queries_df = normalized_queries_df.explode(column=\"evidence_ids\")\n",
    "normalized_queries_df"
   ]
  },
  {
   "cell_type": "markdown",
   "metadata": {},
   "source": [
    "## Create a list of the evidence ID's of the normalized variants"
   ]
  },
  {
   "cell_type": "code",
   "execution_count": null,
   "metadata": {},
   "outputs": [],
   "source": [
    "normalized_variant_evidence_id_list = list(normalized_queries_df[\"evidence_ids\"])"
   ]
  },
  {
   "cell_type": "code",
   "execution_count": null,
   "metadata": {},
   "outputs": [],
   "source": [
    "total_number_normalized_variant_evidence_items = len(normalized_variant_evidence_id_list)\n",
    "f\"Total Number of times evidence items were associated with a normalized variant: {total_number_normalized_variant_evidence_items}\""
   ]
  },
  {
   "cell_type": "code",
   "execution_count": null,
   "metadata": {},
   "outputs": [],
   "source": [
    "total_number_normalized_variant_unique_evidence_items = len(set(normalized_queries_df.evidence_ids))\n",
    "f\"Total Number of unique evidence items associated with normalized variants: {total_number_normalized_variant_unique_evidence_items}\""
   ]
  },
  {
   "cell_type": "markdown",
   "metadata": {},
   "source": [
    "## Import evidence status, rating, and level associated with a specific evidence ID\n",
    "    please see the CIViC documentation for evidence item attribute decriptions (https://civic.readthedocs.io/en/latest/model/evidence.html)"
   ]
  },
  {
   "cell_type": "code",
   "execution_count": null,
   "metadata": {},
   "outputs": [],
   "source": [
    "normalized_variants_evidence_statuses = []\n",
    "normalized_variants_evidence_ratings = []\n",
    "normalized_variants_evidence_levels = []\n",
    "for e in normalized_variant_evidence_id_list:\n",
    "    variant_evidence_status_list = []\n",
    "    variant_evidence_rating_list = []\n",
    "    variant_evidence_level_list = []\n",
    "    for evidence in civic_evidence_ids: \n",
    "        if int(e) == evidence.id:\n",
    "            if evidence.status not in variant_evidence_status_list:\n",
    "                variant_evidence_status_list.append(evidence.status)\n",
    "            variant_evidence_status_list = variant_evidence_status_list or \"\"\n",
    "            if evidence.rating not in variant_evidence_rating_list:\n",
    "                variant_evidence_rating_list.append(evidence.rating)\n",
    "            variant_evidence_rating_list = variant_evidence_rating_list or \"\"\n",
    "            if evidence.evidence_level not in variant_evidence_level_list:\n",
    "                variant_evidence_level_list.append(evidence.evidence_level)\n",
    "            variant_evidence_level_list = variant_evidence_level_list or \"\"\n",
    "    normalized_variants_evidence_statuses.append(variant_evidence_status_list)\n",
    "    normalized_variants_evidence_ratings.append(variant_evidence_rating_list)\n",
    "    normalized_variants_evidence_levels.append(variant_evidence_level_list)\n",
    "normalized_queries_df[\"evidence_status\"] = normalized_variants_evidence_statuses\n",
    "normalized_queries_df[\"evidence_rating\"] = normalized_variants_evidence_ratings\n",
    "normalized_queries_df[\"evidence_level\"] = normalized_variants_evidence_levels\n",
    "normalized_queries_df"
   ]
  },
  {
   "cell_type": "markdown",
   "metadata": {},
   "source": [
    "# Unable to Normalize Queries"
   ]
  },
  {
   "cell_type": "code",
   "execution_count": null,
   "metadata": {},
   "outputs": [],
   "source": [
    "non_norm_quer_df = pd.read_csv(\"./unable_to_normalize_queries.csv\", sep= \"\\t\")\n",
    "non_norm_quer_df"
   ]
  },
  {
   "cell_type": "code",
   "execution_count": null,
   "metadata": {},
   "outputs": [],
   "source": [
    "nn_variant_id_list = list(non_norm_quer_df[\"variant_id\"])"
   ]
  },
  {
   "cell_type": "code",
   "execution_count": null,
   "metadata": {},
   "outputs": [],
   "source": [
    "nn_e_ids = []\n",
    "for v in nn_variant_id_list:\n",
    "    nn_civic_e_ids = []\n",
    "    for variant in civic_variant_ids: \n",
    "        if int(v) == variant.id:\n",
    "            for mp in variant.molecular_profiles:\n",
    "                for e in mp.evidence_items:\n",
    "                    if e.id not in nn_civic_e_ids:\n",
    "                        nn_civic_e_ids.append(e.id)\n",
    "            nn_civic_e_ids = nn_civic_e_ids or \"\"\n",
    "    nn_e_ids.append(nn_civic_e_ids)\n",
    "non_norm_quer_df[\"evidence_ids\"] = nn_e_ids\n",
    "non_norm_quer_df"
   ]
  },
  {
   "cell_type": "code",
   "execution_count": null,
   "metadata": {},
   "outputs": [],
   "source": [
    "non_norm_quer_df = non_norm_quer_df.explode(column=\"evidence_ids\")\n",
    "non_norm_quer_df"
   ]
  },
  {
   "cell_type": "code",
   "execution_count": null,
   "metadata": {},
   "outputs": [],
   "source": [
    "nn_evidence_id_list = list(non_norm_quer_df[\"evidence_ids\"])"
   ]
  },
  {
   "cell_type": "code",
   "execution_count": null,
   "metadata": {},
   "outputs": [],
   "source": [
    "nn_e_status = []\n",
    "nn_e_rating = []\n",
    "nn_e_level = []\n",
    "for e in nn_evidence_id_list:\n",
    "    nn_civic_e_status = []\n",
    "    nn_civic_e_rating = []\n",
    "    nn_civic_e_level = []\n",
    "    for evidence in civic_evidence_ids: \n",
    "        # print(civic_id, type(civic_id))\n",
    "        # print(   = =variant.gene_id, type(variant.gene_id))\n",
    "        if int(e) == evidence.id:\n",
    "            if evidence.status not in nn_civic_e_status:\n",
    "                nn_civic_e_status.append(evidence.status)\n",
    "            nn_civic_e_status = nn_civic_e_status or \"\"\n",
    "            if evidence.rating not in nn_civic_e_rating:\n",
    "                nn_civic_e_rating.append(evidence.rating)\n",
    "            nn_civic_e_rating = nn_civic_e_rating or \"\"\n",
    "            if evidence.evidence_level not in nn_civic_e_level:\n",
    "                nn_civic_e_level.append(evidence.evidence_level)\n",
    "            nn_civic_e_level = nn_civic_e_level or \"\"\n",
    "    nn_e_status.append(nn_civic_e_status)\n",
    "    nn_e_rating.append(nn_civic_e_rating)\n",
    "    nn_e_level.append(nn_civic_e_level)\n",
    "non_norm_quer_df[\"evidence_status\"] = nn_e_status\n",
    "non_norm_quer_df[\"evidence_rating\"] = nn_e_rating\n",
    "non_norm_quer_df[\"evidence_level\"] = nn_e_level\n",
    "non_norm_quer_df"
   ]
  },
  {
   "cell_type": "code",
   "execution_count": null,
   "metadata": {},
   "outputs": [],
   "source": [
    "len(set(non_norm_quer_df.evidence_ids))"
   ]
  },
  {
   "cell_type": "markdown",
   "metadata": {},
   "source": [
    "# Not Supported Variants"
   ]
  },
  {
   "cell_type": "code",
   "execution_count": null,
   "metadata": {},
   "outputs": [],
   "source": [
    "non_supp_var_df = pd.read_csv(\"./not_supported_variants.csv\", sep= \"\\t\")\n",
    "non_supp_var_df"
   ]
  },
  {
   "cell_type": "code",
   "execution_count": null,
   "metadata": {},
   "outputs": [],
   "source": [
    "ns_variant_id_list = list(non_supp_var_df[\"variant_id\"])"
   ]
  },
  {
   "cell_type": "code",
   "execution_count": null,
   "metadata": {},
   "outputs": [],
   "source": [
    "ns_e_ids = []\n",
    "for v in ns_variant_id_list:\n",
    "    ns_civic_e_ids = []\n",
    "    for variant in civic_variant_ids: \n",
    "        # print(civic_id, type(civic_id))\n",
    "        # print(   = =variant.gene_id, type(variant.gene_id))\n",
    "        if int(v) == variant.id:\n",
    "            for mp in variant.molecular_profiles:\n",
    "                for e in mp.evidence_items:\n",
    "                    if e.id not in ns_civic_e_ids:\n",
    "                        ns_civic_e_ids.append(e.id)\n",
    "            ns_civic_e_ids = ns_civic_e_ids or \"\"\n",
    "    ns_e_ids.append(ns_civic_e_ids)\n",
    "non_supp_var_df[\"evidence_ids\"] = ns_e_ids\n",
    "non_supp_var_df"
   ]
  },
  {
   "cell_type": "code",
   "execution_count": null,
   "metadata": {},
   "outputs": [],
   "source": [
    "non_supp_var_df = non_supp_var_df.explode(column=\"evidence_ids\")\n",
    "non_supp_var_df"
   ]
  },
  {
   "cell_type": "code",
   "execution_count": null,
   "metadata": {},
   "outputs": [],
   "source": [
    "ns_evidence_id_list = list(non_supp_var_df[\"evidence_ids\"])"
   ]
  },
  {
   "cell_type": "code",
   "execution_count": null,
   "metadata": {},
   "outputs": [],
   "source": [
    "ns_e_status = []\n",
    "ns_e_rating = []\n",
    "ns_e_level = []\n",
    "for e in ns_evidence_id_list:\n",
    "    ns_civic_e_status = []\n",
    "    ns_civic_e_rating = []\n",
    "    ns_civic_e_level = []\n",
    "    for evidence in civic_evidence_ids: \n",
    "        # print(civic_id, type(civic_id))\n",
    "        # print(   = =variant.gene_id, type(variant.gene_id))\n",
    "        if int(e) == evidence.id:\n",
    "            if evidence.status not in ns_civic_e_status:\n",
    "                ns_civic_e_status.append(evidence.status)\n",
    "            ns_civic_e_status = ns_civic_e_status or \"\"\n",
    "            if evidence.rating not in ns_civic_e_rating:\n",
    "                ns_civic_e_rating.append(evidence.rating)\n",
    "            ns_civic_e_rating = ns_civic_e_rating or \"\"\n",
    "            if evidence.evidence_level not in ns_civic_e_level:\n",
    "                ns_civic_e_level.append(evidence.evidence_level)\n",
    "            ns_civic_e_level = ns_civic_e_level or \"\"\n",
    "    ns_e_status.append(ns_civic_e_status)\n",
    "    ns_e_rating.append(ns_civic_e_rating)\n",
    "    ns_e_level.append(ns_civic_e_level)\n",
    "non_supp_var_df[\"evidence_status\"] = ns_e_status\n",
    "non_supp_var_df[\"evidence_rating\"] = ns_e_rating\n",
    "non_supp_var_df[\"evidence_level\"] = ns_e_level\n",
    "non_supp_var_df"
   ]
  },
  {
   "cell_type": "code",
   "execution_count": null,
   "metadata": {},
   "outputs": [],
   "source": [
    "non_supp_var_df.category.unique()"
   ]
  },
  {
   "cell_type": "code",
   "execution_count": null,
   "metadata": {},
   "outputs": [],
   "source": [
    "duplicate = non_supp_var_df[non_supp_var_df.duplicated('evidence_ids', keep=False)]\n",
    "duplicate"
   ]
  },
  {
   "cell_type": "code",
   "execution_count": null,
   "metadata": {},
   "outputs": [],
   "source": [
    "len(set(non_supp_var_df.evidence_ids))"
   ]
  },
  {
   "cell_type": "code",
   "execution_count": null,
   "metadata": {},
   "outputs": [],
   "source": [
    "len(non_supp_var_df.evidence_ids)"
   ]
  },
  {
   "cell_type": "code",
   "execution_count": null,
   "metadata": {},
   "outputs": [],
   "source": [
    "expression_non_supp_var_df = non_supp_var_df[non_supp_var_df.category == 'Expression']\n",
    "epigenetic_modification_non_supp_var_df = non_supp_var_df[non_supp_var_df.category == 'Epigenetic Modification']\n",
    "fusion_non_supp_var_df = non_supp_var_df[non_supp_var_df.category == 'Fusion']\n",
    "protein_consequence_non_supp_var_df = non_supp_var_df[non_supp_var_df.category == 'Protein Consequence']\n",
    "gene_function_non_supp_var_df = non_supp_var_df[non_supp_var_df.category == 'Gene Function']\n",
    "rearrangements_non_supp_var_df = non_supp_var_df[non_supp_var_df.category == 'Rearrangements']\n",
    "copy_number_non_supp_var_df = non_supp_var_df[non_supp_var_df.category == 'Copy Number']\n",
    "other_non_supp_var_df = non_supp_var_df[non_supp_var_df.category == 'Other']\n",
    "genotypes_easy_non_supp_var_df = non_supp_var_df[non_supp_var_df.category == 'Genotypes Easy']\n",
    "genotypes_compound_non_supp_var_df = non_supp_var_df[non_supp_var_df.category == 'Genotypes Compound']\n",
    "region_defined_variant_non_supp_var_df = non_supp_var_df[non_supp_var_df.category == 'Region Defined Variant']\n",
    "transcript_variant_non_supp_var_df = non_supp_var_df[non_supp_var_df.category == 'Transcript Variant']"
   ]
  },
  {
   "cell_type": "code",
   "execution_count": null,
   "metadata": {},
   "outputs": [],
   "source": [
    "expression_non_supp_var_df"
   ]
  },
  {
   "cell_type": "code",
   "execution_count": null,
   "metadata": {},
   "outputs": [],
   "source": [
    "len(set(expression_non_supp_var_df.evidence_ids))"
   ]
  },
  {
   "cell_type": "code",
   "execution_count": null,
   "metadata": {},
   "outputs": [],
   "source": [
    "len(expression_non_supp_var_df)"
   ]
  },
  {
   "cell_type": "code",
   "execution_count": null,
   "metadata": {},
   "outputs": [],
   "source": [
    "epigenetic_modification_non_supp_var_df"
   ]
  },
  {
   "cell_type": "code",
   "execution_count": null,
   "metadata": {},
   "outputs": [],
   "source": [
    "len(set(epigenetic_modification_non_supp_var_df.evidence_ids))"
   ]
  },
  {
   "cell_type": "code",
   "execution_count": null,
   "metadata": {},
   "outputs": [],
   "source": [
    "fusion_non_supp_var_df"
   ]
  },
  {
   "cell_type": "code",
   "execution_count": null,
   "metadata": {},
   "outputs": [],
   "source": [
    "len(set(fusion_non_supp_var_df.evidence_ids))"
   ]
  },
  {
   "cell_type": "code",
   "execution_count": null,
   "metadata": {},
   "outputs": [],
   "source": [
    "protein_consequence_non_supp_var_df "
   ]
  },
  {
   "cell_type": "code",
   "execution_count": null,
   "metadata": {},
   "outputs": [],
   "source": [
    "len(set(protein_consequence_non_supp_var_df.evidence_ids))"
   ]
  },
  {
   "cell_type": "code",
   "execution_count": null,
   "metadata": {},
   "outputs": [],
   "source": [
    "gene_function_non_supp_var_df "
   ]
  },
  {
   "cell_type": "code",
   "execution_count": null,
   "metadata": {},
   "outputs": [],
   "source": [
    "len(set(gene_function_non_supp_var_df.evidence_ids))"
   ]
  },
  {
   "cell_type": "code",
   "execution_count": null,
   "metadata": {},
   "outputs": [],
   "source": [
    "rearrangements_non_supp_var_df "
   ]
  },
  {
   "cell_type": "code",
   "execution_count": null,
   "metadata": {},
   "outputs": [],
   "source": [
    "len(set(rearrangements_non_supp_var_df.evidence_ids))"
   ]
  },
  {
   "cell_type": "code",
   "execution_count": null,
   "metadata": {},
   "outputs": [],
   "source": [
    "copy_number_non_supp_var_df "
   ]
  },
  {
   "cell_type": "code",
   "execution_count": null,
   "metadata": {},
   "outputs": [],
   "source": [
    "len(set(copy_number_non_supp_var_df.evidence_ids))"
   ]
  },
  {
   "cell_type": "code",
   "execution_count": null,
   "metadata": {},
   "outputs": [],
   "source": [
    "other_non_supp_var_df"
   ]
  },
  {
   "cell_type": "code",
   "execution_count": null,
   "metadata": {},
   "outputs": [],
   "source": [
    "len(set(other_non_supp_var_df.evidence_ids))"
   ]
  },
  {
   "cell_type": "code",
   "execution_count": null,
   "metadata": {},
   "outputs": [],
   "source": [
    "genotypes_easy_non_supp_var_df "
   ]
  },
  {
   "cell_type": "code",
   "execution_count": null,
   "metadata": {},
   "outputs": [],
   "source": [
    "len(set(genotypes_easy_non_supp_var_df.evidence_ids))"
   ]
  },
  {
   "cell_type": "code",
   "execution_count": null,
   "metadata": {},
   "outputs": [],
   "source": [
    "genotypes_compound_non_supp_var_df "
   ]
  },
  {
   "cell_type": "code",
   "execution_count": null,
   "metadata": {},
   "outputs": [],
   "source": [
    "len(set(genotypes_compound_non_supp_var_df.evidence_ids))"
   ]
  },
  {
   "cell_type": "code",
   "execution_count": null,
   "metadata": {},
   "outputs": [],
   "source": [
    "region_defined_variant_non_supp_var_df "
   ]
  },
  {
   "cell_type": "code",
   "execution_count": null,
   "metadata": {},
   "outputs": [],
   "source": [
    "len(set(region_defined_variant_non_supp_var_df.evidence_ids))"
   ]
  },
  {
   "cell_type": "code",
   "execution_count": null,
   "metadata": {},
   "outputs": [],
   "source": [
    "transcript_variant_non_supp_var_df "
   ]
  },
  {
   "cell_type": "code",
   "execution_count": null,
   "metadata": {},
   "outputs": [],
   "source": [
    "len(set(transcript_variant_non_supp_var_df.evidence_ids))"
   ]
  }
 ],
 "metadata": {
  "kernelspec": {
   "display_name": "Python 3.10.9 64-bit ('3.10.9')",
   "language": "python",
   "name": "python3"
  },
  "language_info": {
   "codemirror_mode": {
    "name": "ipython",
    "version": 3
   },
   "file_extension": ".py",
   "mimetype": "text/x-python",
   "name": "python",
   "nbconvert_exporter": "python",
   "pygments_lexer": "ipython3",
   "version": "3.10.9"
  },
  "orig_nbformat": 4,
  "vscode": {
   "interpreter": {
    "hash": "1bd4a0c8bc911393f4a19827cd0d555013b2fcb9ea63c8ddc9b9ae4ac59a8883"
   }
  }
 },
 "nbformat": 4,
 "nbformat_minor": 2
}
