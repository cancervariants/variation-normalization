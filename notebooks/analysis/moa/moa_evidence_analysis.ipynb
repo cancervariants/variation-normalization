{
 "cells": [
  {
   "cell_type": "markdown",
   "metadata": {},
   "source": [
    "# Molecular Oncology Almanac Assertion Analysis"
   ]
  },
  {
   "cell_type": "code",
   "execution_count": 243,
   "metadata": {},
   "outputs": [],
   "source": [
    "\n",
    "import csv\n",
    "import pandas as pd\n",
    "import numpy as np\n",
    "from civicpy import civic\n",
    "from pathlib import Path \n",
    "import zipfile \n",
    "import plotly.express as px\n",
    "import requests\n"
   ]
  },
  {
   "cell_type": "markdown",
   "metadata": {},
   "source": [
    "## Creating a table with variant(feature) and evidence(assertion) information"
   ]
  },
  {
   "cell_type": "code",
   "execution_count": 244,
   "metadata": {},
   "outputs": [
    {
     "name": "stdout",
     "output_type": "stream",
     "text": [
      "423\n"
     ]
    }
   ],
   "source": [
    "import requests\n",
    "import json\n",
    "\n",
    "r = requests.get(\"https://moalmanac.org/api/features\")\n",
    "if r.status_code == 200:\n",
    "    feature_data = r.json()\n",
    "\n",
    "transformed = []\n",
    "for feature in feature_data:\n",
    "    feature_id = feature[\"feature_id\"]\n",
    "    feature_type = feature[\"feature_type\"]\n",
    "    \n",
    "    transformed.append({\"feature_id\": feature_id,\n",
    "                        \"feature_type\": feature_type})\n",
    "feature_resp_df =  pd.DataFrame(transformed)\n",
    "print(len(feature_resp_df))"
   ]
  },
  {
   "cell_type": "code",
   "execution_count": 245,
   "metadata": {},
   "outputs": [
    {
     "name": "stdout",
     "output_type": "stream",
     "text": [
      "874\n"
     ]
    }
   ],
   "source": [
    "import requests\n",
    "import json\n",
    "\n",
    "r = requests.get(\"https://moalmanac.org/api/assertions\")\n",
    "if r.status_code == 200:\n",
    "    assertion_data = r.json()\n",
    "\n",
    "transformed = []\n",
    "for assertion in assertion_data:\n",
    "    assertion_id = assertion[\"assertion_id\"]\n",
    "    predictive_implication = assertion[\"predictive_implication\"]\n",
    "    \n",
    "    if len(assertion[\"features\"]) != 1:\n",
    "        print(f\"assertion id ({assertion_id}) does not have 1 feature\")\n",
    "\n",
    "    feature_id = assertion[\"features\"][0][\"feature_id\"]\n",
    "    transformed.append({\"assertion_id\": assertion_id,\n",
    "                        \"feature_id\": feature_id,\n",
    "                        \"predictive_implication\": predictive_implication})\n",
    "assertion_resp_df =  pd.DataFrame(transformed)\n",
    "print(len(assertion_resp_df))"
   ]
  },
  {
   "cell_type": "code",
   "execution_count": 266,
   "metadata": {},
   "outputs": [
    {
     "name": "stdout",
     "output_type": "stream",
     "text": [
      "423\n"
     ]
    }
   ],
   "source": [
    "moa_df = pd.merge(feature_resp_df, assertion_resp_df, on ='feature_id')\n",
    "moa_df.head()\n",
    "print(len(moa_df))"
   ]
  },
  {
   "cell_type": "markdown",
   "metadata": {},
   "source": [
    "### Converting feature types to normalized categories"
   ]
  },
  {
   "cell_type": "code",
   "execution_count": 247,
   "metadata": {},
   "outputs": [
    {
     "data": {
      "text/plain": [
       "array(['rearrangement', 'somatic_variant', 'germline_variant',\n",
       "       'copy_number', 'microsatellite_stability', 'mutational_signature',\n",
       "       'mutational_burden', 'knockdown', 'aneuploidy'], dtype=object)"
      ]
     },
     "execution_count": 247,
     "metadata": {},
     "output_type": "execute_result"
    }
   ],
   "source": [
    "moa_df.feature_type.unique()"
   ]
  },
  {
   "cell_type": "code",
   "execution_count": 248,
   "metadata": {},
   "outputs": [
    {
     "data": {
      "text/html": [
       "<div>\n",
       "<style scoped>\n",
       "    .dataframe tbody tr th:only-of-type {\n",
       "        vertical-align: middle;\n",
       "    }\n",
       "\n",
       "    .dataframe tbody tr th {\n",
       "        vertical-align: top;\n",
       "    }\n",
       "\n",
       "    .dataframe thead th {\n",
       "        text-align: right;\n",
       "    }\n",
       "</style>\n",
       "<table border=\"1\" class=\"dataframe\">\n",
       "  <thead>\n",
       "    <tr style=\"text-align: right;\">\n",
       "      <th></th>\n",
       "      <th>feature_id</th>\n",
       "      <th>feature_type</th>\n",
       "      <th>assertion_id</th>\n",
       "      <th>predictive_implication</th>\n",
       "      <th>category</th>\n",
       "    </tr>\n",
       "  </thead>\n",
       "  <tbody>\n",
       "    <tr>\n",
       "      <th>0</th>\n",
       "      <td>1</td>\n",
       "      <td>rearrangement</td>\n",
       "      <td>1</td>\n",
       "      <td>FDA-Approved</td>\n",
       "      <td>rearrangement</td>\n",
       "    </tr>\n",
       "    <tr>\n",
       "      <th>1</th>\n",
       "      <td>12</td>\n",
       "      <td>rearrangement</td>\n",
       "      <td>12</td>\n",
       "      <td>FDA-Approved</td>\n",
       "      <td>rearrangement</td>\n",
       "    </tr>\n",
       "    <tr>\n",
       "      <th>2</th>\n",
       "      <td>15</td>\n",
       "      <td>rearrangement</td>\n",
       "      <td>15</td>\n",
       "      <td>FDA-Approved</td>\n",
       "      <td>rearrangement</td>\n",
       "    </tr>\n",
       "    <tr>\n",
       "      <th>3</th>\n",
       "      <td>18</td>\n",
       "      <td>rearrangement</td>\n",
       "      <td>18</td>\n",
       "      <td>Guideline</td>\n",
       "      <td>rearrangement</td>\n",
       "    </tr>\n",
       "    <tr>\n",
       "      <th>4</th>\n",
       "      <td>21</td>\n",
       "      <td>rearrangement</td>\n",
       "      <td>21</td>\n",
       "      <td>Preclinical</td>\n",
       "      <td>rearrangement</td>\n",
       "    </tr>\n",
       "  </tbody>\n",
       "</table>\n",
       "</div>"
      ],
      "text/plain": [
       "   feature_id   feature_type  assertion_id predictive_implication   \n",
       "0           1  rearrangement             1           FDA-Approved  \\\n",
       "1          12  rearrangement            12           FDA-Approved   \n",
       "2          15  rearrangement            15           FDA-Approved   \n",
       "3          18  rearrangement            18              Guideline   \n",
       "4          21  rearrangement            21            Preclinical   \n",
       "\n",
       "        category  \n",
       "0  rearrangement  \n",
       "1  rearrangement  \n",
       "2  rearrangement  \n",
       "3  rearrangement  \n",
       "4  rearrangement  "
      ]
     },
     "execution_count": 248,
     "metadata": {},
     "output_type": "execute_result"
    }
   ],
   "source": [
    "moa_df[\"category\"] = moa_df[\"feature_type\"].copy()\n",
    "\n",
    "moa_df[\"category\"]= moa_df[\"category\"].replace(\"aneuploidy\", \"copy_number\")\n",
    "moa_df[\"category\"]= moa_df[\"category\"].replace(\"knockdown\", \"expression\")\n",
    "moa_df[\"category\"]= moa_df[\"category\"].replace(\"somatic_variant\", \"protein_consequence\")\n",
    "moa_df[\"category\"]= moa_df[\"category\"].replace(\"germline_variant\", \"protein_consequence\")\n",
    "moa_df[\"category\"]= moa_df[\"category\"].replace(\"microsatellite_stability\",\"rearrangement\")\n",
    "moa_df[\"category\"]= moa_df[\"category\"].replace(\"mutational_burden\",\"other\")\n",
    "moa_df[\"category\"]= moa_df[\"category\"].replace(\"mutational_signature\",\"other\") \n",
    "\n",
    "moa_df.head()"
   ]
  },
  {
   "cell_type": "code",
   "execution_count": 249,
   "metadata": {},
   "outputs": [
    {
     "data": {
      "text/plain": [
       "array(['rearrangement', 'protein_consequence', 'copy_number', 'other',\n",
       "       'expression'], dtype=object)"
      ]
     },
     "execution_count": 249,
     "metadata": {},
     "output_type": "execute_result"
    }
   ],
   "source": [
    "moa_df.category.unique()"
   ]
  },
  {
   "cell_type": "markdown",
   "metadata": {},
   "source": [
    "## Adding a numerical impact score based on the predictive implication\n",
    "This is based on the structure of CIViC scoring"
   ]
  },
  {
   "cell_type": "code",
   "execution_count": 250,
   "metadata": {},
   "outputs": [
    {
     "data": {
      "text/plain": [
       "array(['FDA-Approved', 'Guideline', 'Preclinical', 'Inferential',\n",
       "       'Clinical evidence', 'Clinical trial'], dtype=object)"
      ]
     },
     "execution_count": 250,
     "metadata": {},
     "output_type": "execute_result"
    }
   ],
   "source": [
    "predictive_implication_categories = moa_df.predictive_implication.unique()\n",
    "predictive_implication_categories"
   ]
  },
  {
   "cell_type": "code",
   "execution_count": 251,
   "metadata": {},
   "outputs": [
    {
     "data": {
      "text/html": [
       "<div>\n",
       "<style scoped>\n",
       "    .dataframe tbody tr th:only-of-type {\n",
       "        vertical-align: middle;\n",
       "    }\n",
       "\n",
       "    .dataframe tbody tr th {\n",
       "        vertical-align: top;\n",
       "    }\n",
       "\n",
       "    .dataframe thead th {\n",
       "        text-align: right;\n",
       "    }\n",
       "</style>\n",
       "<table border=\"1\" class=\"dataframe\">\n",
       "  <thead>\n",
       "    <tr style=\"text-align: right;\">\n",
       "      <th></th>\n",
       "      <th>feature_id</th>\n",
       "      <th>feature_type</th>\n",
       "      <th>assertion_id</th>\n",
       "      <th>predictive_implication</th>\n",
       "      <th>category</th>\n",
       "      <th>impact_score</th>\n",
       "    </tr>\n",
       "  </thead>\n",
       "  <tbody>\n",
       "    <tr>\n",
       "      <th>0</th>\n",
       "      <td>1</td>\n",
       "      <td>rearrangement</td>\n",
       "      <td>1</td>\n",
       "      <td>FDA-Approved</td>\n",
       "      <td>rearrangement</td>\n",
       "      <td>10</td>\n",
       "    </tr>\n",
       "    <tr>\n",
       "      <th>1</th>\n",
       "      <td>12</td>\n",
       "      <td>rearrangement</td>\n",
       "      <td>12</td>\n",
       "      <td>FDA-Approved</td>\n",
       "      <td>rearrangement</td>\n",
       "      <td>10</td>\n",
       "    </tr>\n",
       "    <tr>\n",
       "      <th>2</th>\n",
       "      <td>15</td>\n",
       "      <td>rearrangement</td>\n",
       "      <td>15</td>\n",
       "      <td>FDA-Approved</td>\n",
       "      <td>rearrangement</td>\n",
       "      <td>10</td>\n",
       "    </tr>\n",
       "    <tr>\n",
       "      <th>3</th>\n",
       "      <td>18</td>\n",
       "      <td>rearrangement</td>\n",
       "      <td>18</td>\n",
       "      <td>Guideline</td>\n",
       "      <td>rearrangement</td>\n",
       "      <td>10</td>\n",
       "    </tr>\n",
       "    <tr>\n",
       "      <th>4</th>\n",
       "      <td>21</td>\n",
       "      <td>rearrangement</td>\n",
       "      <td>21</td>\n",
       "      <td>Preclinical</td>\n",
       "      <td>rearrangement</td>\n",
       "      <td>1</td>\n",
       "    </tr>\n",
       "  </tbody>\n",
       "</table>\n",
       "</div>"
      ],
      "text/plain": [
       "   feature_id   feature_type  assertion_id predictive_implication   \n",
       "0           1  rearrangement             1           FDA-Approved  \\\n",
       "1          12  rearrangement            12           FDA-Approved   \n",
       "2          15  rearrangement            15           FDA-Approved   \n",
       "3          18  rearrangement            18              Guideline   \n",
       "4          21  rearrangement            21            Preclinical   \n",
       "\n",
       "        category impact_score  \n",
       "0  rearrangement           10  \n",
       "1  rearrangement           10  \n",
       "2  rearrangement           10  \n",
       "3  rearrangement           10  \n",
       "4  rearrangement            1  "
      ]
     },
     "execution_count": 251,
     "metadata": {},
     "output_type": "execute_result"
    }
   ],
   "source": [
    "moa_df[\"impact_score\"] = moa_df[\"predictive_implication\"].copy()\n",
    "\n",
    "moa_df.loc[moa_df[\"impact_score\"] == \"FDA-Approved\", \"impact_score\"] = 10\n",
    "moa_df.loc[moa_df[\"impact_score\"] == \"Guideline\", \"impact_score\"] = 10\n",
    "moa_df.loc[moa_df[\"impact_score\"] == \"Clinical evidence\", \"impact_score\"] = 5\n",
    "moa_df.loc[moa_df[\"impact_score\"] == \"Clinical trial\", \"impact_score\"] = 5\n",
    "moa_df.loc[moa_df[\"impact_score\"] == \"Preclinical\", \"impact_score\"] = 1\n",
    "moa_df.loc[moa_df[\"impact_score\"] == \"Inferential\", \"impact_score\"] = 1\n",
    "\n",
    "moa_df.head()"
   ]
  },
  {
   "cell_type": "markdown",
   "metadata": {},
   "source": [
    "### Impact Score Analysis"
   ]
  },
  {
   "cell_type": "code",
   "execution_count": 252,
   "metadata": {},
   "outputs": [
    {
     "data": {
      "text/plain": [
       "['rearrangement', 'protein_consequence', 'copy_number', 'other', 'expression']"
      ]
     },
     "execution_count": 252,
     "metadata": {},
     "output_type": "execute_result"
    }
   ],
   "source": [
    "normalized_categories_list = list(moa_df.category.unique())\n",
    "normalized_categories_list"
   ]
  },
  {
   "cell_type": "code",
   "execution_count": 253,
   "metadata": {},
   "outputs": [
    {
     "name": "stdout",
     "output_type": "stream",
     "text": [
      "rearrangement\n",
      "292\n",
      "--------------------\n",
      "protein_consequence\n",
      "1958\n",
      "--------------------\n",
      "copy_number\n",
      "153\n",
      "--------------------\n",
      "other\n",
      "35\n",
      "--------------------\n",
      "expression\n",
      "11\n",
      "--------------------\n"
     ]
    }
   ],
   "source": [
    "feature_categories_impact_data = dict()\n",
    "for category in normalized_categories_list:\n",
    "    print(category)\n",
    "    feature_categories_impact_data[category] = {}\n",
    "    impact_category_df = moa_df[moa_df.category == category]\n",
    "\n",
    "    total_sum_category_impact = impact_category_df['impact_score'].sum()\n",
    "    feature_categories_impact_data[category][\"total_sum_category_impact\"]=  total_sum_category_impact\n",
    "    print(total_sum_category_impact)\n",
    "\n",
    "    print(\"--------------------\")"
   ]
  },
  {
   "cell_type": "markdown",
   "metadata": {},
   "source": [
    "### Variant(feature) Analysis"
   ]
  },
  {
   "cell_type": "code",
   "execution_count": 254,
   "metadata": {},
   "outputs": [
    {
     "name": "stdout",
     "output_type": "stream",
     "text": [
      "423\n"
     ]
    }
   ],
   "source": [
    "total_number_features = len(set(moa_df.feature_id))\n",
    "print(total_number_features)"
   ]
  },
  {
   "cell_type": "code",
   "execution_count": 255,
   "metadata": {},
   "outputs": [
    {
     "name": "stdout",
     "output_type": "stream",
     "text": [
      "423\n"
     ]
    }
   ],
   "source": [
    "total_number_assertions = len(set(moa_df.assertion_id))\n",
    "print(total_number_assertions)"
   ]
  },
  {
   "cell_type": "code",
   "execution_count": 256,
   "metadata": {},
   "outputs": [
    {
     "name": "stdout",
     "output_type": "stream",
     "text": [
      "rearrangement\n",
      "Number of rearrangement features in MOA: 38 / 423\n",
      "Percent of rearrangement features in MOA: 8.98%\n",
      "--------------------\n",
      "protein_consequence\n",
      "Number of protein_consequence features in MOA: 318 / 423\n",
      "Percent of protein_consequence features in MOA: 75.18%\n",
      "--------------------\n",
      "copy_number\n",
      "Number of copy_number features in MOA: 47 / 423\n",
      "Percent of copy_number features in MOA: 11.11%\n",
      "--------------------\n",
      "other\n",
      "Number of other features in MOA: 9 / 423\n",
      "Percent of other features in MOA: 2.13%\n",
      "--------------------\n",
      "expression\n",
      "Number of expression features in MOA: 11 / 423\n",
      "Percent of expression features in MOA: 2.60%\n",
      "--------------------\n"
     ]
    }
   ],
   "source": [
    "moa_feature_data = dict()\n",
    "for category in normalized_categories_list:\n",
    "    print(category)\n",
    "    moa_feature_data[category] = {}\n",
    "    feature_type_df = moa_df[moa_df.category == category]\n",
    "    \n",
    "    number_unique_category_features = len(set(feature_type_df.feature_id))\n",
    "    moa_feature_data[category][\"number_unique_category_features\"] = number_unique_category_features\n",
    "\n",
    "    fraction_category_feature = f\"{number_unique_category_features} / {total_number_features}\"\n",
    "    moa_feature_data[category][\"fraction_category_feature\"] = fraction_category_feature\n",
    "    print(f\"Number of {category} features in MOA: {fraction_category_feature}\")\n",
    "    \n",
    "    percent_category_feature = \"{:.2f}\".format(number_unique_category_features/total_number_features*100) + \"%\"\n",
    "    moa_feature_data[category][\"percent_category_feature\"] = percent_category_feature\n",
    "    print(f\"Percent of {category} features in MOA: {percent_category_feature}\")\n",
    "\n",
    "    print(\"--------------------\")"
   ]
  },
  {
   "cell_type": "markdown",
   "metadata": {},
   "source": [
    "### Evidence(assertion) Analysis"
   ]
  },
  {
   "cell_type": "code",
   "execution_count": 257,
   "metadata": {},
   "outputs": [
    {
     "name": "stdout",
     "output_type": "stream",
     "text": [
      "rearrangement\n",
      "Number of rearrangement assertions in MOA: 38 / 423\n",
      "Percent of rearrangement assertions in MOA: 8.98%\n",
      "--------------------\n",
      "protein_consequence\n",
      "Number of protein_consequence assertions in MOA: 318 / 423\n",
      "Percent of protein_consequence assertions in MOA: 75.18%\n",
      "--------------------\n",
      "copy_number\n",
      "Number of copy_number assertions in MOA: 47 / 423\n",
      "Percent of copy_number assertions in MOA: 11.11%\n",
      "--------------------\n",
      "other\n",
      "Number of other assertions in MOA: 9 / 423\n",
      "Percent of other assertions in MOA: 2.13%\n",
      "--------------------\n",
      "expression\n",
      "Number of expression assertions in MOA: 11 / 423\n",
      "Percent of expression assertions in MOA: 2.60%\n",
      "--------------------\n"
     ]
    }
   ],
   "source": [
    "moa_assertion_data = dict()\n",
    "for category in normalized_categories_list:\n",
    "    print(category)\n",
    "    moa_assertion_data[category] = {}\n",
    "    assertion_type_df = moa_df[moa_df.category == category]\n",
    "    \n",
    "    number_unique_category_assertions = len(set(assertion_type_df.assertion_id))\n",
    "    moa_assertion_data[category][\"number_unique_category_assertions\"] = number_unique_category_assertions\n",
    "\n",
    "    fraction_category_assertion = f\"{number_unique_category_assertions} / {total_number_assertions}\"\n",
    "    moa_assertion_data[category][\"fraction_category_assertion\"] = fraction_category_assertion\n",
    "    print(f\"Number of {category} assertions in MOA: {fraction_category_assertion}\")\n",
    "    \n",
    "    percent_category_assertion = \"{:.2f}\".format(number_unique_category_assertions/total_number_assertions*100) + \"%\"\n",
    "    moa_assertion_data[category][\"percent_category_assertion\"] = percent_category_assertion\n",
    "    print(f\"Percent of {category} assertions in MOA: {percent_category_assertion}\")\n",
    "\n",
    "    print(\"--------------------\")"
   ]
  },
  {
   "cell_type": "markdown",
   "metadata": {},
   "source": [
    "## Summaries"
   ]
  },
  {
   "cell_type": "code",
   "execution_count": 258,
   "metadata": {},
   "outputs": [],
   "source": [
    "feature_categories = ['Rearrangement', 'Protein Consequence', 'Copy Number', 'Other', 'Expression']\n",
    "feature_category_impact_score= [v[\"total_sum_category_impact\"] for k, v in feature_categories_impact_data.items()]\n",
    "feature_category_number = [v[\"number_unique_category_features\"] for k, v in moa_feature_data.items()]\n",
    "feature_category_fraction = [v[\"fraction_category_feature\"] for k, v in moa_feature_data.items()]\n",
    "feature_category_percent= [v[\"percent_category_feature\"] for k, v in moa_feature_data.items()]\n",
    "feature_category_assertion_number= [v[\"number_unique_category_assertions\"] for k, v in moa_assertion_data.items()]\n",
    "feature_category_assertion_fraction= [v[\"fraction_category_assertion\"] for k, v in moa_assertion_data.items()]\n",
    "feature_category_assertion_percent= [v[\"percent_category_assertion\"] for k, v in moa_assertion_data.items()]"
   ]
  },
  {
   "cell_type": "code",
   "execution_count": 259,
   "metadata": {},
   "outputs": [],
   "source": [
    "feature_category_dict = {'Category':feature_categories,\n",
    "                        'Number of Features': feature_category_number,\n",
    "                        'Fraction of Features': feature_category_fraction,\n",
    "                        'Percent of Features': feature_category_percent,\n",
    "                        'Number of Assertions': feature_category_assertion_number,       \n",
    "                        'Fraction of Assertions':feature_category_assertion_fraction,\n",
    "                        'Percent of Assertions':feature_category_assertion_percent,\n",
    "                        'Impact Score':feature_category_impact_score}"
   ]
  },
  {
   "cell_type": "code",
   "execution_count": 260,
   "metadata": {},
   "outputs": [
    {
     "data": {
      "text/html": [
       "<div>\n",
       "<style scoped>\n",
       "    .dataframe tbody tr th:only-of-type {\n",
       "        vertical-align: middle;\n",
       "    }\n",
       "\n",
       "    .dataframe tbody tr th {\n",
       "        vertical-align: top;\n",
       "    }\n",
       "\n",
       "    .dataframe thead th {\n",
       "        text-align: right;\n",
       "    }\n",
       "</style>\n",
       "<table border=\"1\" class=\"dataframe\">\n",
       "  <thead>\n",
       "    <tr style=\"text-align: right;\">\n",
       "      <th></th>\n",
       "      <th>Category</th>\n",
       "      <th>Number of Features</th>\n",
       "      <th>Fraction of Features</th>\n",
       "      <th>Percent of Features</th>\n",
       "      <th>Number of Assertions</th>\n",
       "      <th>Fraction of Assertions</th>\n",
       "      <th>Percent of Assertions</th>\n",
       "      <th>Impact Score</th>\n",
       "    </tr>\n",
       "  </thead>\n",
       "  <tbody>\n",
       "    <tr>\n",
       "      <th>0</th>\n",
       "      <td>Rearrangement</td>\n",
       "      <td>38</td>\n",
       "      <td>38 / 423</td>\n",
       "      <td>8.98%</td>\n",
       "      <td>38</td>\n",
       "      <td>38 / 423</td>\n",
       "      <td>8.98%</td>\n",
       "      <td>292</td>\n",
       "    </tr>\n",
       "    <tr>\n",
       "      <th>1</th>\n",
       "      <td>Protein Consequence</td>\n",
       "      <td>318</td>\n",
       "      <td>318 / 423</td>\n",
       "      <td>75.18%</td>\n",
       "      <td>318</td>\n",
       "      <td>318 / 423</td>\n",
       "      <td>75.18%</td>\n",
       "      <td>1958</td>\n",
       "    </tr>\n",
       "    <tr>\n",
       "      <th>2</th>\n",
       "      <td>Copy Number</td>\n",
       "      <td>47</td>\n",
       "      <td>47 / 423</td>\n",
       "      <td>11.11%</td>\n",
       "      <td>47</td>\n",
       "      <td>47 / 423</td>\n",
       "      <td>11.11%</td>\n",
       "      <td>153</td>\n",
       "    </tr>\n",
       "    <tr>\n",
       "      <th>3</th>\n",
       "      <td>Other</td>\n",
       "      <td>9</td>\n",
       "      <td>9 / 423</td>\n",
       "      <td>2.13%</td>\n",
       "      <td>9</td>\n",
       "      <td>9 / 423</td>\n",
       "      <td>2.13%</td>\n",
       "      <td>35</td>\n",
       "    </tr>\n",
       "    <tr>\n",
       "      <th>4</th>\n",
       "      <td>Expression</td>\n",
       "      <td>11</td>\n",
       "      <td>11 / 423</td>\n",
       "      <td>2.60%</td>\n",
       "      <td>11</td>\n",
       "      <td>11 / 423</td>\n",
       "      <td>2.60%</td>\n",
       "      <td>11</td>\n",
       "    </tr>\n",
       "  </tbody>\n",
       "</table>\n",
       "</div>"
      ],
      "text/plain": [
       "              Category  Number of Features Fraction of Features   \n",
       "0        Rearrangement                  38             38 / 423  \\\n",
       "1  Protein Consequence                 318            318 / 423   \n",
       "2          Copy Number                  47             47 / 423   \n",
       "3                Other                   9              9 / 423   \n",
       "4           Expression                  11             11 / 423   \n",
       "\n",
       "  Percent of Features  Number of Assertions Fraction of Assertions   \n",
       "0               8.98%                    38               38 / 423  \\\n",
       "1              75.18%                   318              318 / 423   \n",
       "2              11.11%                    47               47 / 423   \n",
       "3               2.13%                     9                9 / 423   \n",
       "4               2.60%                    11               11 / 423   \n",
       "\n",
       "  Percent of Assertions  Impact Score  \n",
       "0                 8.98%           292  \n",
       "1                75.18%          1958  \n",
       "2                11.11%           153  \n",
       "3                 2.13%            35  \n",
       "4                 2.60%            11  "
      ]
     },
     "execution_count": 260,
     "metadata": {},
     "output_type": "execute_result"
    }
   ],
   "source": [
    "moa_feature_df = pd.DataFrame(feature_category_dict)\n",
    "moa_feature_df"
   ]
  },
  {
   "cell_type": "code",
   "execution_count": 261,
   "metadata": {},
   "outputs": [],
   "source": [
    "\n",
    "moa_feature_df['Percent of Features'] = moa_feature_df['Fraction of Features'].astype(str) + \" (\" + moa_feature_df['Percent of Features']+ \")\"\n",
    "moa_feature_df['Percent of Assertions'] = moa_feature_df['Fraction of Assertions'].astype(str) + \" (\" + moa_feature_df['Percent of Assertions']+ \")\""
   ]
  },
  {
   "cell_type": "code",
   "execution_count": 262,
   "metadata": {},
   "outputs": [],
   "source": [
    "moa_feature_df_abbreviated = moa_feature_df.drop(['Number of Features','Fraction of Features','Number of Assertions', 'Fraction of Assertions'], axis=1)"
   ]
  },
  {
   "cell_type": "code",
   "execution_count": 263,
   "metadata": {},
   "outputs": [
    {
     "data": {
      "text/html": [
       "<div>\n",
       "<style scoped>\n",
       "    .dataframe tbody tr th:only-of-type {\n",
       "        vertical-align: middle;\n",
       "    }\n",
       "\n",
       "    .dataframe tbody tr th {\n",
       "        vertical-align: top;\n",
       "    }\n",
       "\n",
       "    .dataframe thead th {\n",
       "        text-align: right;\n",
       "    }\n",
       "</style>\n",
       "<table border=\"1\" class=\"dataframe\">\n",
       "  <thead>\n",
       "    <tr style=\"text-align: right;\">\n",
       "      <th></th>\n",
       "      <th>Percent of Features</th>\n",
       "      <th>Percent of Assertions</th>\n",
       "      <th>Impact Score</th>\n",
       "    </tr>\n",
       "    <tr>\n",
       "      <th>Category</th>\n",
       "      <th></th>\n",
       "      <th></th>\n",
       "      <th></th>\n",
       "    </tr>\n",
       "  </thead>\n",
       "  <tbody>\n",
       "    <tr>\n",
       "      <th>Rearrangement</th>\n",
       "      <td>38 / 423 (8.98%)</td>\n",
       "      <td>38 / 423 (8.98%)</td>\n",
       "      <td>292</td>\n",
       "    </tr>\n",
       "    <tr>\n",
       "      <th>Protein Consequence</th>\n",
       "      <td>318 / 423 (75.18%)</td>\n",
       "      <td>318 / 423 (75.18%)</td>\n",
       "      <td>1958</td>\n",
       "    </tr>\n",
       "    <tr>\n",
       "      <th>Copy Number</th>\n",
       "      <td>47 / 423 (11.11%)</td>\n",
       "      <td>47 / 423 (11.11%)</td>\n",
       "      <td>153</td>\n",
       "    </tr>\n",
       "    <tr>\n",
       "      <th>Other</th>\n",
       "      <td>9 / 423 (2.13%)</td>\n",
       "      <td>9 / 423 (2.13%)</td>\n",
       "      <td>35</td>\n",
       "    </tr>\n",
       "    <tr>\n",
       "      <th>Expression</th>\n",
       "      <td>11 / 423 (2.60%)</td>\n",
       "      <td>11 / 423 (2.60%)</td>\n",
       "      <td>11</td>\n",
       "    </tr>\n",
       "  </tbody>\n",
       "</table>\n",
       "</div>"
      ],
      "text/plain": [
       "                    Percent of Features Percent of Assertions  Impact Score\n",
       "Category                                                                   \n",
       "Rearrangement          38 / 423 (8.98%)      38 / 423 (8.98%)           292\n",
       "Protein Consequence  318 / 423 (75.18%)    318 / 423 (75.18%)          1958\n",
       "Copy Number           47 / 423 (11.11%)     47 / 423 (11.11%)           153\n",
       "Other                   9 / 423 (2.13%)       9 / 423 (2.13%)            35\n",
       "Expression             11 / 423 (2.60%)      11 / 423 (2.60%)            11"
      ]
     },
     "execution_count": 263,
     "metadata": {},
     "output_type": "execute_result"
    }
   ],
   "source": [
    "moa_feature_df_abbreviated =moa_feature_df_abbreviated.set_index(\"Category\")\n",
    "moa_feature_df_abbreviated"
   ]
  },
  {
   "cell_type": "code",
   "execution_count": 264,
   "metadata": {},
   "outputs": [
    {
     "data": {
      "application/vnd.plotly.v1+json": {
       "config": {
        "plotlyServerURL": "https://plot.ly"
       },
       "data": [
        {
         "hovertemplate": "Category=Rearrangement<br>Number of Assertions=%{x}<br>Impact Score=%{y}<br>Number of Features=%{text}<extra></extra>",
         "legendgroup": "Rearrangement",
         "marker": {
          "color": "#636efa",
          "size": [
           38
          ],
          "sizemode": "area",
          "sizeref": 0.19875,
          "symbol": "circle"
         },
         "mode": "markers+text",
         "name": "Rearrangement",
         "orientation": "v",
         "showlegend": true,
         "text": [
          38
         ],
         "type": "scatter",
         "x": [
          38
         ],
         "xaxis": "x",
         "y": [
          292
         ],
         "yaxis": "y"
        },
        {
         "hovertemplate": "Category=Protein Consequence<br>Number of Assertions=%{x}<br>Impact Score=%{y}<br>Number of Features=%{text}<extra></extra>",
         "legendgroup": "Protein Consequence",
         "marker": {
          "color": "#EF553B",
          "size": [
           318
          ],
          "sizemode": "area",
          "sizeref": 0.19875,
          "symbol": "circle"
         },
         "mode": "markers+text",
         "name": "Protein Consequence",
         "orientation": "v",
         "showlegend": true,
         "text": [
          318
         ],
         "type": "scatter",
         "x": [
          318
         ],
         "xaxis": "x",
         "y": [
          1958
         ],
         "yaxis": "y"
        },
        {
         "hovertemplate": "Category=Copy Number<br>Number of Assertions=%{x}<br>Impact Score=%{y}<br>Number of Features=%{text}<extra></extra>",
         "legendgroup": "Copy Number",
         "marker": {
          "color": "#00cc96",
          "size": [
           47
          ],
          "sizemode": "area",
          "sizeref": 0.19875,
          "symbol": "circle"
         },
         "mode": "markers+text",
         "name": "Copy Number",
         "orientation": "v",
         "showlegend": true,
         "text": [
          47
         ],
         "type": "scatter",
         "x": [
          47
         ],
         "xaxis": "x",
         "y": [
          153
         ],
         "yaxis": "y"
        },
        {
         "hovertemplate": "Category=Other<br>Number of Assertions=%{x}<br>Impact Score=%{y}<br>Number of Features=%{text}<extra></extra>",
         "legendgroup": "Other",
         "marker": {
          "color": "#ab63fa",
          "size": [
           9
          ],
          "sizemode": "area",
          "sizeref": 0.19875,
          "symbol": "circle"
         },
         "mode": "markers+text",
         "name": "Other",
         "orientation": "v",
         "showlegend": true,
         "text": [
          9
         ],
         "type": "scatter",
         "x": [
          9
         ],
         "xaxis": "x",
         "y": [
          35
         ],
         "yaxis": "y"
        },
        {
         "hovertemplate": "Category=Expression<br>Number of Assertions=%{x}<br>Impact Score=%{y}<br>Number of Features=%{text}<extra></extra>",
         "legendgroup": "Expression",
         "marker": {
          "color": "#FFA15A",
          "size": [
           11
          ],
          "sizemode": "area",
          "sizeref": 0.19875,
          "symbol": "circle"
         },
         "mode": "markers+text",
         "name": "Expression",
         "orientation": "v",
         "showlegend": true,
         "text": [
          11
         ],
         "type": "scatter",
         "x": [
          11
         ],
         "xaxis": "x",
         "y": [
          11
         ],
         "yaxis": "y"
        }
       ],
       "layout": {
        "legend": {
         "itemsizing": "constant",
         "title": {
          "text": "Category"
         },
         "tracegroupgap": 0
        },
        "margin": {
         "t": 60
        },
        "template": {
         "data": {
          "bar": [
           {
            "error_x": {
             "color": "#2a3f5f"
            },
            "error_y": {
             "color": "#2a3f5f"
            },
            "marker": {
             "line": {
              "color": "#E5ECF6",
              "width": 0.5
             },
             "pattern": {
              "fillmode": "overlay",
              "size": 10,
              "solidity": 0.2
             }
            },
            "type": "bar"
           }
          ],
          "barpolar": [
           {
            "marker": {
             "line": {
              "color": "#E5ECF6",
              "width": 0.5
             },
             "pattern": {
              "fillmode": "overlay",
              "size": 10,
              "solidity": 0.2
             }
            },
            "type": "barpolar"
           }
          ],
          "carpet": [
           {
            "aaxis": {
             "endlinecolor": "#2a3f5f",
             "gridcolor": "white",
             "linecolor": "white",
             "minorgridcolor": "white",
             "startlinecolor": "#2a3f5f"
            },
            "baxis": {
             "endlinecolor": "#2a3f5f",
             "gridcolor": "white",
             "linecolor": "white",
             "minorgridcolor": "white",
             "startlinecolor": "#2a3f5f"
            },
            "type": "carpet"
           }
          ],
          "choropleth": [
           {
            "colorbar": {
             "outlinewidth": 0,
             "ticks": ""
            },
            "type": "choropleth"
           }
          ],
          "contour": [
           {
            "colorbar": {
             "outlinewidth": 0,
             "ticks": ""
            },
            "colorscale": [
             [
              0,
              "#0d0887"
             ],
             [
              0.1111111111111111,
              "#46039f"
             ],
             [
              0.2222222222222222,
              "#7201a8"
             ],
             [
              0.3333333333333333,
              "#9c179e"
             ],
             [
              0.4444444444444444,
              "#bd3786"
             ],
             [
              0.5555555555555556,
              "#d8576b"
             ],
             [
              0.6666666666666666,
              "#ed7953"
             ],
             [
              0.7777777777777778,
              "#fb9f3a"
             ],
             [
              0.8888888888888888,
              "#fdca26"
             ],
             [
              1,
              "#f0f921"
             ]
            ],
            "type": "contour"
           }
          ],
          "contourcarpet": [
           {
            "colorbar": {
             "outlinewidth": 0,
             "ticks": ""
            },
            "type": "contourcarpet"
           }
          ],
          "heatmap": [
           {
            "colorbar": {
             "outlinewidth": 0,
             "ticks": ""
            },
            "colorscale": [
             [
              0,
              "#0d0887"
             ],
             [
              0.1111111111111111,
              "#46039f"
             ],
             [
              0.2222222222222222,
              "#7201a8"
             ],
             [
              0.3333333333333333,
              "#9c179e"
             ],
             [
              0.4444444444444444,
              "#bd3786"
             ],
             [
              0.5555555555555556,
              "#d8576b"
             ],
             [
              0.6666666666666666,
              "#ed7953"
             ],
             [
              0.7777777777777778,
              "#fb9f3a"
             ],
             [
              0.8888888888888888,
              "#fdca26"
             ],
             [
              1,
              "#f0f921"
             ]
            ],
            "type": "heatmap"
           }
          ],
          "heatmapgl": [
           {
            "colorbar": {
             "outlinewidth": 0,
             "ticks": ""
            },
            "colorscale": [
             [
              0,
              "#0d0887"
             ],
             [
              0.1111111111111111,
              "#46039f"
             ],
             [
              0.2222222222222222,
              "#7201a8"
             ],
             [
              0.3333333333333333,
              "#9c179e"
             ],
             [
              0.4444444444444444,
              "#bd3786"
             ],
             [
              0.5555555555555556,
              "#d8576b"
             ],
             [
              0.6666666666666666,
              "#ed7953"
             ],
             [
              0.7777777777777778,
              "#fb9f3a"
             ],
             [
              0.8888888888888888,
              "#fdca26"
             ],
             [
              1,
              "#f0f921"
             ]
            ],
            "type": "heatmapgl"
           }
          ],
          "histogram": [
           {
            "marker": {
             "pattern": {
              "fillmode": "overlay",
              "size": 10,
              "solidity": 0.2
             }
            },
            "type": "histogram"
           }
          ],
          "histogram2d": [
           {
            "colorbar": {
             "outlinewidth": 0,
             "ticks": ""
            },
            "colorscale": [
             [
              0,
              "#0d0887"
             ],
             [
              0.1111111111111111,
              "#46039f"
             ],
             [
              0.2222222222222222,
              "#7201a8"
             ],
             [
              0.3333333333333333,
              "#9c179e"
             ],
             [
              0.4444444444444444,
              "#bd3786"
             ],
             [
              0.5555555555555556,
              "#d8576b"
             ],
             [
              0.6666666666666666,
              "#ed7953"
             ],
             [
              0.7777777777777778,
              "#fb9f3a"
             ],
             [
              0.8888888888888888,
              "#fdca26"
             ],
             [
              1,
              "#f0f921"
             ]
            ],
            "type": "histogram2d"
           }
          ],
          "histogram2dcontour": [
           {
            "colorbar": {
             "outlinewidth": 0,
             "ticks": ""
            },
            "colorscale": [
             [
              0,
              "#0d0887"
             ],
             [
              0.1111111111111111,
              "#46039f"
             ],
             [
              0.2222222222222222,
              "#7201a8"
             ],
             [
              0.3333333333333333,
              "#9c179e"
             ],
             [
              0.4444444444444444,
              "#bd3786"
             ],
             [
              0.5555555555555556,
              "#d8576b"
             ],
             [
              0.6666666666666666,
              "#ed7953"
             ],
             [
              0.7777777777777778,
              "#fb9f3a"
             ],
             [
              0.8888888888888888,
              "#fdca26"
             ],
             [
              1,
              "#f0f921"
             ]
            ],
            "type": "histogram2dcontour"
           }
          ],
          "mesh3d": [
           {
            "colorbar": {
             "outlinewidth": 0,
             "ticks": ""
            },
            "type": "mesh3d"
           }
          ],
          "parcoords": [
           {
            "line": {
             "colorbar": {
              "outlinewidth": 0,
              "ticks": ""
             }
            },
            "type": "parcoords"
           }
          ],
          "pie": [
           {
            "automargin": true,
            "type": "pie"
           }
          ],
          "scatter": [
           {
            "fillpattern": {
             "fillmode": "overlay",
             "size": 10,
             "solidity": 0.2
            },
            "type": "scatter"
           }
          ],
          "scatter3d": [
           {
            "line": {
             "colorbar": {
              "outlinewidth": 0,
              "ticks": ""
             }
            },
            "marker": {
             "colorbar": {
              "outlinewidth": 0,
              "ticks": ""
             }
            },
            "type": "scatter3d"
           }
          ],
          "scattercarpet": [
           {
            "marker": {
             "colorbar": {
              "outlinewidth": 0,
              "ticks": ""
             }
            },
            "type": "scattercarpet"
           }
          ],
          "scattergeo": [
           {
            "marker": {
             "colorbar": {
              "outlinewidth": 0,
              "ticks": ""
             }
            },
            "type": "scattergeo"
           }
          ],
          "scattergl": [
           {
            "marker": {
             "colorbar": {
              "outlinewidth": 0,
              "ticks": ""
             }
            },
            "type": "scattergl"
           }
          ],
          "scattermapbox": [
           {
            "marker": {
             "colorbar": {
              "outlinewidth": 0,
              "ticks": ""
             }
            },
            "type": "scattermapbox"
           }
          ],
          "scatterpolar": [
           {
            "marker": {
             "colorbar": {
              "outlinewidth": 0,
              "ticks": ""
             }
            },
            "type": "scatterpolar"
           }
          ],
          "scatterpolargl": [
           {
            "marker": {
             "colorbar": {
              "outlinewidth": 0,
              "ticks": ""
             }
            },
            "type": "scatterpolargl"
           }
          ],
          "scatterternary": [
           {
            "marker": {
             "colorbar": {
              "outlinewidth": 0,
              "ticks": ""
             }
            },
            "type": "scatterternary"
           }
          ],
          "surface": [
           {
            "colorbar": {
             "outlinewidth": 0,
             "ticks": ""
            },
            "colorscale": [
             [
              0,
              "#0d0887"
             ],
             [
              0.1111111111111111,
              "#46039f"
             ],
             [
              0.2222222222222222,
              "#7201a8"
             ],
             [
              0.3333333333333333,
              "#9c179e"
             ],
             [
              0.4444444444444444,
              "#bd3786"
             ],
             [
              0.5555555555555556,
              "#d8576b"
             ],
             [
              0.6666666666666666,
              "#ed7953"
             ],
             [
              0.7777777777777778,
              "#fb9f3a"
             ],
             [
              0.8888888888888888,
              "#fdca26"
             ],
             [
              1,
              "#f0f921"
             ]
            ],
            "type": "surface"
           }
          ],
          "table": [
           {
            "cells": {
             "fill": {
              "color": "#EBF0F8"
             },
             "line": {
              "color": "white"
             }
            },
            "header": {
             "fill": {
              "color": "#C8D4E3"
             },
             "line": {
              "color": "white"
             }
            },
            "type": "table"
           }
          ]
         },
         "layout": {
          "annotationdefaults": {
           "arrowcolor": "#2a3f5f",
           "arrowhead": 0,
           "arrowwidth": 1
          },
          "autotypenumbers": "strict",
          "coloraxis": {
           "colorbar": {
            "outlinewidth": 0,
            "ticks": ""
           }
          },
          "colorscale": {
           "diverging": [
            [
             0,
             "#8e0152"
            ],
            [
             0.1,
             "#c51b7d"
            ],
            [
             0.2,
             "#de77ae"
            ],
            [
             0.3,
             "#f1b6da"
            ],
            [
             0.4,
             "#fde0ef"
            ],
            [
             0.5,
             "#f7f7f7"
            ],
            [
             0.6,
             "#e6f5d0"
            ],
            [
             0.7,
             "#b8e186"
            ],
            [
             0.8,
             "#7fbc41"
            ],
            [
             0.9,
             "#4d9221"
            ],
            [
             1,
             "#276419"
            ]
           ],
           "sequential": [
            [
             0,
             "#0d0887"
            ],
            [
             0.1111111111111111,
             "#46039f"
            ],
            [
             0.2222222222222222,
             "#7201a8"
            ],
            [
             0.3333333333333333,
             "#9c179e"
            ],
            [
             0.4444444444444444,
             "#bd3786"
            ],
            [
             0.5555555555555556,
             "#d8576b"
            ],
            [
             0.6666666666666666,
             "#ed7953"
            ],
            [
             0.7777777777777778,
             "#fb9f3a"
            ],
            [
             0.8888888888888888,
             "#fdca26"
            ],
            [
             1,
             "#f0f921"
            ]
           ],
           "sequentialminus": [
            [
             0,
             "#0d0887"
            ],
            [
             0.1111111111111111,
             "#46039f"
            ],
            [
             0.2222222222222222,
             "#7201a8"
            ],
            [
             0.3333333333333333,
             "#9c179e"
            ],
            [
             0.4444444444444444,
             "#bd3786"
            ],
            [
             0.5555555555555556,
             "#d8576b"
            ],
            [
             0.6666666666666666,
             "#ed7953"
            ],
            [
             0.7777777777777778,
             "#fb9f3a"
            ],
            [
             0.8888888888888888,
             "#fdca26"
            ],
            [
             1,
             "#f0f921"
            ]
           ]
          },
          "colorway": [
           "#636efa",
           "#EF553B",
           "#00cc96",
           "#ab63fa",
           "#FFA15A",
           "#19d3f3",
           "#FF6692",
           "#B6E880",
           "#FF97FF",
           "#FECB52"
          ],
          "font": {
           "color": "#2a3f5f"
          },
          "geo": {
           "bgcolor": "white",
           "lakecolor": "white",
           "landcolor": "#E5ECF6",
           "showlakes": true,
           "showland": true,
           "subunitcolor": "white"
          },
          "hoverlabel": {
           "align": "left"
          },
          "hovermode": "closest",
          "mapbox": {
           "style": "light"
          },
          "paper_bgcolor": "white",
          "plot_bgcolor": "#E5ECF6",
          "polar": {
           "angularaxis": {
            "gridcolor": "white",
            "linecolor": "white",
            "ticks": ""
           },
           "bgcolor": "#E5ECF6",
           "radialaxis": {
            "gridcolor": "white",
            "linecolor": "white",
            "ticks": ""
           }
          },
          "scene": {
           "xaxis": {
            "backgroundcolor": "#E5ECF6",
            "gridcolor": "white",
            "gridwidth": 2,
            "linecolor": "white",
            "showbackground": true,
            "ticks": "",
            "zerolinecolor": "white"
           },
           "yaxis": {
            "backgroundcolor": "#E5ECF6",
            "gridcolor": "white",
            "gridwidth": 2,
            "linecolor": "white",
            "showbackground": true,
            "ticks": "",
            "zerolinecolor": "white"
           },
           "zaxis": {
            "backgroundcolor": "#E5ECF6",
            "gridcolor": "white",
            "gridwidth": 2,
            "linecolor": "white",
            "showbackground": true,
            "ticks": "",
            "zerolinecolor": "white"
           }
          },
          "shapedefaults": {
           "line": {
            "color": "#2a3f5f"
           }
          },
          "ternary": {
           "aaxis": {
            "gridcolor": "white",
            "linecolor": "white",
            "ticks": ""
           },
           "baxis": {
            "gridcolor": "white",
            "linecolor": "white",
            "ticks": ""
           },
           "bgcolor": "#E5ECF6",
           "caxis": {
            "gridcolor": "white",
            "linecolor": "white",
            "ticks": ""
           }
          },
          "title": {
           "x": 0.05
          },
          "xaxis": {
           "automargin": true,
           "gridcolor": "white",
           "linecolor": "white",
           "ticks": "",
           "title": {
            "standoff": 15
           },
           "zerolinecolor": "white",
           "zerolinewidth": 2
          },
          "yaxis": {
           "automargin": true,
           "gridcolor": "white",
           "linecolor": "white",
           "ticks": "",
           "title": {
            "standoff": 15
           },
           "zerolinecolor": "white",
           "zerolinewidth": 2
          }
         }
        },
        "xaxis": {
         "anchor": "y",
         "domain": [
          0,
          1
         ],
         "title": {
          "text": "Number of Assertions"
         }
        },
        "yaxis": {
         "anchor": "x",
         "domain": [
          0,
          1
         ],
         "title": {
          "text": "Impact Score"
         }
        }
       }
      }
     },
     "metadata": {},
     "output_type": "display_data"
    }
   ],
   "source": [
    "fig= px.scatter(data_frame= moa_feature_df,\n",
    "                x= 'Number of Assertions',\n",
    "                y= 'Impact Score',\n",
    "                size= 'Number of Features',\n",
    "                size_max= 40,\n",
    "                text= 'Number of Features',\n",
    "                color= 'Category')\n",
    "fig.show()"
   ]
  },
  {
   "cell_type": "code",
   "execution_count": 265,
   "metadata": {},
   "outputs": [],
   "source": [
    "# fig.write_html(\"../../../../../../moa_feature_categories_impact_scatterplot.html\")"
   ]
  }
 ],
 "metadata": {
  "kernelspec": {
   "display_name": "Python 3.10.9 64-bit ('3.10.9')",
   "language": "python",
   "name": "python3"
  },
  "language_info": {
   "codemirror_mode": {
    "name": "ipython",
    "version": 3
   },
   "file_extension": ".py",
   "mimetype": "text/x-python",
   "name": "python",
   "nbconvert_exporter": "python",
   "pygments_lexer": "ipython3",
   "version": "3.10.9"
  },
  "orig_nbformat": 4,
  "vscode": {
   "interpreter": {
    "hash": "1bd4a0c8bc911393f4a19827cd0d555013b2fcb9ea63c8ddc9b9ae4ac59a8883"
   }
  }
 },
 "nbformat": 4,
 "nbformat_minor": 2
}
