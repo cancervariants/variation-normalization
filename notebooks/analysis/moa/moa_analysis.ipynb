{
 "cells": [
  {
   "cell_type": "code",
   "execution_count": null,
   "metadata": {},
   "outputs": [],
   "source": [
    "import logging\n",
    "from enum import Enum\n",
    "import re\n",
    "import csv\n",
    "\n",
    "from dotenv import load_dotenv\n",
    "import requests\n",
    "\n",
    "from variation.query import QueryHandler"
   ]
  },
  {
   "cell_type": "code",
   "execution_count": null,
   "metadata": {},
   "outputs": [],
   "source": [
    "# Environment variables are set for gene-normalizer dynamodb instance and \n",
    "# UTA DB credentials\n",
    "load_dotenv()"
   ]
  },
  {
   "cell_type": "code",
   "execution_count": null,
   "metadata": {},
   "outputs": [],
   "source": [
    "# query_handler = QueryHandler()"
   ]
  },
  {
   "cell_type": "code",
   "execution_count": null,
   "metadata": {},
   "outputs": [],
   "source": [
    "r = requests.get(\"https://moalmanac.org/api/features\")\n",
    "variants_resp = r.json()\n",
    "variants = list()"
   ]
  },
  {
   "cell_type": "code",
   "execution_count": null,
   "metadata": {},
   "outputs": [],
   "source": [
    "no_feature_found = dict()\n",
    "for v in variants_resp:\n",
    "    variant_record = {\n",
    "        \"id\": v[\"feature_id\"]\n",
    "    }\n",
    "    variant_record.update(v[\"attributes\"][0])\n",
    "\n",
    "    feature_type = variant_record[\"feature_type\"]\n",
    "    supported = False\n",
    "    if feature_type == \"rearrangement\":\n",
    "        feature = \"{}{}{}\".format(variant_record[\"gene1\"] if variant_record.get(\"gene1\") else \"\",\n",
    "                                      f\"--{variant_record['gene2']}\" if variant_record.get(\"gene2\") else \"\",\n",
    "                                      f\" {variant_record['rearrangement_type']}\"\n",
    "                                      if variant_record.get(\"rearrangement_type\") else \"\")\n",
    "    elif feature_type == \"somatic_variant\":\n",
    "        feature = \"{}{}\".format(variant_record[\"gene\"] if variant_record.get(\"gene\") else \"\",\n",
    "                                    f\" {variant_record['protein_change']}\"\n",
    "                                    if variant_record.get(\"protein_change\") else \"\")\n",
    "        supported = True\n",
    "    elif feature_type == \"germline_variant\":\n",
    "        # TODO: Check this\n",
    "        feature = \"{}{}\".format(variant_record[\"gene\"], \" (Pathogenic)\"\n",
    "                                if variant_record[\"pathogenic\"] == \"1.0\" else \"\")\n",
    "    elif feature_type == \"copy_number\":\n",
    "        feature = \"{} {}\".format(variant_record[\"gene\"], variant_record[\"direction\"])\n",
    "    elif feature_type == \"microsatellite_stability\":\n",
    "        feature = \"{}\".format(variant_record.get(\"status\"))\n",
    "    elif feature_type == \"mutational_signature\":\n",
    "        csn = variant_record[\"cosmic_signature_number\"]\n",
    "        feature = \"COSMIC Signature {}\".format(csn)\n",
    "    elif feature_type == \"mutational_burden\":\n",
    "        clss = variant_record[\"classification\"]\n",
    "        min_mut = variant_record[\"minimum_mutations\"]\n",
    "        mut_per_mb = variant_record[\"mutations_per_mb\"]\n",
    "        feature = \"{}{}\".format(clss,\n",
    "                                f\" (>= {min_mut} mutations)\" if min_mut\n",
    "                                else (f\" (>= {mut_per_mb} mutations/Mb)\"\n",
    "                                        if mut_per_mb else \"\"))\n",
    "    elif feature_type == \"neoantigen_burden\":\n",
    "        feature = \"{}\".format(variant_record[\"classification\"])\n",
    "    elif feature_type == \"knockdown\" or feature_type == \"silencing\":\n",
    "        feature = \"{}{}\".format(variant_record[\"gene\"], f\" ({variant_record['technique']})\"\n",
    "                                if variant_record[\"technique\"] else \"\")\n",
    "    else:\n",
    "        feature = \"{}\".format(variant_record[\"event\"])\n",
    "        \n",
    "    if not feature:\n",
    "        no_feature_found[variant_record[\"id\"]] = v\n",
    "\n",
    "    if len(feature.split()) == 1:\n",
    "        # A lot of these are just Gene names\n",
    "        continue\n",
    "\n",
    "    if not supported:\n",
    "        # Do not even try to normalizer\n",
    "        continue\n",
    "        \n",
    "    variant_record[\"feature\"] = feature\n",
    "    # TODO: analysis\n",
    "\n"
   ]
  },
  {
   "cell_type": "code",
   "execution_count": null,
   "metadata": {},
   "outputs": [],
   "source": []
  },
  {
   "cell_type": "code",
   "execution_count": null,
   "metadata": {},
   "outputs": [],
   "source": []
  }
 ],
 "metadata": {
  "kernelspec": {
   "display_name": "variation-normalization-KPVKcmjd",
   "language": "python",
   "name": "python3"
  },
  "language_info": {
   "codemirror_mode": {
    "name": "ipython",
    "version": 3
   },
   "file_extension": ".py",
   "mimetype": "text/x-python",
   "name": "python",
   "nbconvert_exporter": "python",
   "pygments_lexer": "ipython3",
   "version": "3.10.8"
  },
  "orig_nbformat": 4,
  "vscode": {
   "interpreter": {
    "hash": "0be8ba9a7b89517724a412b9d40e184059795303560bd1108143a8aed13113be"
   }
  }
 },
 "nbformat": 4,
 "nbformat_minor": 2
}
