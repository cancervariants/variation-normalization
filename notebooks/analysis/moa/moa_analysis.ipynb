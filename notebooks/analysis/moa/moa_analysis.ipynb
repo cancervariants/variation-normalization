{
 "cells": [
  {
   "cell_type": "code",
   "execution_count": 29,
   "metadata": {},
   "outputs": [],
   "source": [
    "from enum import Enum\n",
    "import re\n",
    "import csv\n",
    "\n",
    "from dotenv import load_dotenv\n",
    "import requests\n",
    "\n",
    "from variation.query import QueryHandler"
   ]
  },
  {
   "cell_type": "code",
   "execution_count": 30,
   "metadata": {},
   "outputs": [
    {
     "data": {
      "text/plain": [
       "True"
      ]
     },
     "execution_count": 30,
     "metadata": {},
     "output_type": "execute_result"
    }
   ],
   "source": [
    "# Environment variables are set for gene-normalizer dynamodb instance and \n",
    "# UTA DB credentials\n",
    "load_dotenv()"
   ]
  },
  {
   "cell_type": "code",
   "execution_count": 31,
   "metadata": {},
   "outputs": [],
   "source": [
    "query_handler = QueryHandler()"
   ]
  },
  {
   "cell_type": "code",
   "execution_count": 32,
   "metadata": {},
   "outputs": [],
   "source": [
    "# Get all variants from MOA\n",
    "r = requests.get(\"https://moalmanac.org/api/features\")\n",
    "variants_resp = r.json()\n",
    "variants = list()"
   ]
  },
  {
   "cell_type": "code",
   "execution_count": 33,
   "metadata": {},
   "outputs": [],
   "source": [
    "class VariantCategory(str, Enum):\n",
    "    \"\"\"Create enum for the kind of variants that are in MOA.\"\"\"\n",
    "    EXPRESSION = \"Expression\"\n",
    "    EPIGENETIC_MODIFICATION = \"Epigenetic Modification\"\n",
    "    FUSION = \"Fusion\"\n",
    "    PROTEIN_CONS = \"Protein Consequence\"\n",
    "    GENE_FUNC = \"Gene Function\"\n",
    "    REARRANGEMENTS = \"Rearrangements\"\n",
    "    COPY_NUMBER = \"Copy Number\"\n",
    "    OTHER = \"Other\"\n",
    "    GENOTYPES_EASY = \"Genotypes Easy\"\n",
    "    GENOTYPES_COMPOUND = \"Genotypes Compound\"\n",
    "    REGION_DEFINED_VAR = \"Region Defined Variant\"\n",
    "    INCOMPLETE_VAR = \"Incomplete Variants\"\n",
    "    "
   ]
  },
  {
   "cell_type": "code",
   "execution_count": 34,
   "metadata": {},
   "outputs": [],
   "source": [
    "# Map MOA Feature Type to Categories\n",
    "moa_ft_to_variant_categories = {\n",
    "    \"rearrangement\": VariantCategory.REARRANGEMENTS,\n",
    "    \"somatic_variant\": VariantCategory.PROTEIN_CONS,\n",
    "    \"germline_variant\": VariantCategory.PROTEIN_CONS,\n",
    "    \"copy_number\": VariantCategory.COPY_NUMBER,\n",
    "    \"microsatellite_stability\": VariantCategory.REARRANGEMENTS,\n",
    "    \"mutational_signature\": VariantCategory.OTHER,\n",
    "    \"mutational_burden\": VariantCategory.OTHER,\n",
    "    \"neoantigen_burden\": VariantCategory.EXPRESSION,\n",
    "    \"knockdown\": VariantCategory.EXPRESSION,\n",
    "    \"silencing\": VariantCategory.EXPRESSION,\n",
    "    \"aneuploidy\": VariantCategory.COPY_NUMBER\n",
    "}"
   ]
  },
  {
   "cell_type": "code",
   "execution_count": 35,
   "metadata": {},
   "outputs": [],
   "source": [
    "\n",
    "# This file contains MOA Variants where there are no queries available. \n",
    "no_query_wf = open(\"no_query.csv\", \"w\")\n",
    "no_query_wr = csv.writer(no_query_wf, delimiter=\"\\t\")\n",
    "no_query_wr.writerow([\"variant_id\", \"feature\"])\n",
    "\n",
    "# This file contains all queries we SHOULD be able to normalize\n",
    "all_queries_wf = open(\"all_queries.csv\", \"w\")\n",
    "all_queries_wr = csv.writer(all_queries_wf, delimiter=\"\\t\")\n",
    "all_queries_wr.writerow([\"variant_id\", \"query\", \"moa_feature_type\", \"category\"])\n",
    "\n",
    "# This file contains MOAlmanac Variants we do not currently support in Variation Normalizer.\n",
    "# In these cases, we do not even attempt to try to normalize\n",
    "not_supported_wf = open(\"not_supported_variants.csv\", \"w\")\n",
    "not_supported_wr = csv.writer(not_supported_wf, delimiter=\"\\t\")\n",
    "not_supported_wr.writerow([\"variant_id\", \"query\", \"moa_feature_type\", \"category\"])\n",
    "\n",
    "# This file contains MOAlmanac Variant queries that we were not able to normalize.\n",
    "unable_to_normalize_wf = open(\"unable_to_normalize_queries.csv\", \"w\")\n",
    "unable_to_normalize_wr = csv.writer(unable_to_normalize_wf, delimiter=\"\\t\")\n",
    "unable_to_normalize_wr.writerow([\"variant_id\", \"query\", \"moa_feature_type\", \"category\",\n",
    "                                 \"exception_raised\", \"message\", \"warnings\"])\n",
    "\n",
    "# This file contains MOAlmanac Variant queries that we were able to normalize.\n",
    "able_to_normalize_wf = open(\"able_to_normalize_queries.csv\", \"w\")\n",
    "able_to_normalize_wr = csv.writer(able_to_normalize_wf, delimiter=\"\\t\")\n",
    "able_to_normalize_wr.writerow([\"variant_id\", \"query\", \"moa_feature_type\", \"category\",\n",
    "                               \"vrs_id\"])\n",
    "\n",
    "# Category name for variants we do not support: number of variants we found\n",
    "not_supported_feature_counts = {c: 0 for c in VariantCategory.__members__}\n",
    "\n",
    "# Keep track of total counts\n",
    "total_variants = 0\n",
    "no_query_total = 0\n",
    "should_be_able_to_normalize_total = 0\n",
    "can_normalize_total = 0\n",
    "unable_to_normalize_total = 0\n",
    "exception_total = 0\n",
    "\n",
    "queries_found = dict()\n",
    "\n",
    "for v in variants_resp:\n",
    "    total_variants += 1\n",
    "    variant_id = v[\"feature_id\"]\n",
    "    variant_record = {\n",
    "        \"id\": variant_id\n",
    "    }\n",
    "    variant_record.update(v[\"attributes\"][0])\n",
    "\n",
    "    feature_type = variant_record[\"feature_type\"]\n",
    "    supported = False\n",
    "\n",
    "    feature = None\n",
    "    if feature_type == \"rearrangement\":\n",
    "        feature = \"{}{}{}{}\".format(variant_record[\"gene1\"] if variant_record.get(\"gene1\") else \"\",\n",
    "                                      f\"--{variant_record['gene2']}\" if variant_record.get(\"gene2\") else \"\",\n",
    "                                      f\" {variant_record['locus']}\" if variant_record.get(\"locus\") else \"\",\n",
    "                                      f\" {variant_record['rearrangement_type']}\"\n",
    "                                      if variant_record.get(\"rearrangement_type\") else \"\")\n",
    "    elif feature_type == \"somatic_variant\":\n",
    "        feature = \"{}{}\".format(variant_record[\"gene\"] if variant_record.get(\"gene\") else \"\",\n",
    "                                    f\" {variant_record['protein_change']}\"\n",
    "                                    if variant_record.get(\"protein_change\") else \"\")\n",
    "        supported = True\n",
    "    elif feature_type == \"germline_variant\":\n",
    "        feature = \"{}{}\".format(variant_record[\"gene\"] if variant_record.get(\"gene\") else \"\",\n",
    "                                    f\" {variant_record['protein_change']}\"\n",
    "                                    if variant_record.get(\"protein_change\") else \"\")\n",
    "        supported = True\n",
    "    elif feature_type == \"copy_number\":\n",
    "        # These are all {gene} Amplification|Deletion\n",
    "        feature = \"{} {}\".format(variant_record[\"gene\"], variant_record[\"direction\"])\n",
    "        if variant_record[\"direction\"] == \"Amplification\":\n",
    "            supported = True\n",
    "    elif feature_type == \"microsatellite_stability\":\n",
    "        # The only one is MSI-High\n",
    "        feature = \"{}\".format(variant_record.get(\"status\"))\n",
    "    elif feature_type == \"mutational_signature\":\n",
    "        csn = variant_record[\"cosmic_signature_number\"]\n",
    "        version = variant_record[\"cosmic_signature_version\"]\n",
    "        feature = \"COSMIC Signature (version {}) {}\".format(version, csn)\n",
    "    elif feature_type == \"mutational_burden\":\n",
    "        clss = variant_record[\"classification\"]\n",
    "        min_mut = variant_record[\"minimum_mutations\"]\n",
    "        mut_per_mb = variant_record[\"mutations_per_mb\"]\n",
    "        feature = \"{}{}\".format(clss,\n",
    "                                f\" (>= {min_mut} mutations)\" if min_mut\n",
    "                                else (f\" (>= {mut_per_mb} mutations/Mb)\"\n",
    "                                        if mut_per_mb else \"\"))\n",
    "    elif feature_type == \"neoantigen_burden\":\n",
    "        # Doesn't seem like there are any of these\n",
    "        feature = \"{}\".format(variant_record[\"classification\"])\n",
    "    elif feature_type == \"knockdown\" or feature_type == \"silencing\":\n",
    "        feature = \"{}{}\".format(variant_record[\"gene\"], f\" ({variant_record['technique']})\"\n",
    "                                if variant_record[\"technique\"] else \"\")\n",
    "    elif feature_type == \"aneuploidy\":\n",
    "        # The only one is Whole genome doubling\n",
    "        feature = \"{}\".format(variant_record[\"event\"])\n",
    "        \n",
    "    if not feature:\n",
    "        no_query_total += 1\n",
    "        no_query_wr.writerow([variant_id, v])\n",
    "        continue\n",
    "\n",
    "    category_name = None\n",
    "    if any((\n",
    "        re.match(r\".+fs\\*\\d+$\", feature, re.IGNORECASE),\n",
    "        re.match(r\".+\\d+$\", feature, re.IGNORECASE)\n",
    "    )):\n",
    "        supported = False\n",
    "        category_name = VariantCategory.PROTEIN_CONS\n",
    "\n",
    "    if not category_name:\n",
    "        category_name = moa_ft_to_variant_categories[feature_type]\n",
    "        \n",
    "    if not supported or len(feature.split()) == 1:\n",
    "        not_supported_feature_counts[category_name.name] += 1\n",
    "        not_supported_wr.writerow([variant_id, feature, feature_type, category_name])\n",
    "        continue\n",
    "\n",
    "    should_be_able_to_normalize_total += 1\n",
    "    all_queries_wr.writerow([variant_id, feature, feature_type, category_name])\n",
    "    \n",
    "    if feature in queries_found:\n",
    "        queries_found[feature].append(variant_id)\n",
    "    else:\n",
    "        queries_found[feature] = [variant_id]\n",
    "\n",
    "    try:\n",
    "        variation_norm_resp = await query_handler.normalize_handler.normalize(feature)\n",
    "        if not variation_norm_resp.variation_descriptor:\n",
    "            unable_to_normalize_wr.writerow([variant_id, feature, feature_type,\n",
    "                                             category_name, False, \"unable to normalize\", \n",
    "                                             variation_norm_resp.warnings])\n",
    "            unable_to_normalize_total += 1\n",
    "        else:\n",
    "            can_normalize_total += 1\n",
    "            vrs_id = variation_norm_resp.variation_descriptor.variation.id\n",
    "            able_to_normalize_wr.writerow([variant_id, feature, feature_type, \n",
    "                                           category_name, vrs_id])\n",
    "    except Exception as e:\n",
    "        unable_to_normalize_wr.writerow([variant_id, feature, feature_type, \n",
    "                                         category_name, True, str(e), None])\n",
    "        exception_total += 1\n",
    "\n",
    "# Close files\n",
    "no_query_wf.close()\n",
    "all_queries_wf.close()\n",
    "not_supported_wf.close()\n",
    "unable_to_normalize_wf.close()\n",
    "able_to_normalize_wf.close()"
   ]
  },
  {
   "cell_type": "code",
   "execution_count": 36,
   "metadata": {},
   "outputs": [
    {
     "data": {
      "text/plain": [
       "'Total number of variants in MOAlmanac: 423'"
      ]
     },
     "execution_count": 36,
     "metadata": {},
     "output_type": "execute_result"
    }
   ],
   "source": [
    "f\"Total number of variants in MOAlmanac: {total_variants}\""
   ]
  },
  {
   "attachments": {},
   "cell_type": "markdown",
   "metadata": {},
   "source": [
    "# Variants that we could not find queries for"
   ]
  },
  {
   "cell_type": "code",
   "execution_count": 37,
   "metadata": {},
   "outputs": [
    {
     "data": {
      "text/plain": [
       "0"
      ]
     },
     "execution_count": 37,
     "metadata": {},
     "output_type": "execute_result"
    }
   ],
   "source": [
    "no_query_total"
   ]
  },
  {
   "cell_type": "code",
   "execution_count": 38,
   "metadata": {},
   "outputs": [
    {
     "data": {
      "text/plain": [
       "'0.00% of the total features had no queries'"
      ]
     },
     "execution_count": 38,
     "metadata": {},
     "output_type": "execute_result"
    }
   ],
   "source": [
    "f\"{no_query_total / total_variants * 100:.2f}% of the total features had no queries\""
   ]
  },
  {
   "attachments": {},
   "cell_type": "markdown",
   "metadata": {},
   "source": [
    "# Variants we do not support"
   ]
  },
  {
   "cell_type": "code",
   "execution_count": 39,
   "metadata": {},
   "outputs": [
    {
     "data": {
      "text/plain": [
       "'Total number of variants we do not support in the Variation Normalizer: 244'"
      ]
     },
     "execution_count": 39,
     "metadata": {},
     "output_type": "execute_result"
    }
   ],
   "source": [
    "do_not_support_total_sum = sum(not_supported_feature_counts.values())\n",
    "f\"Total number of variants we do not support in the Variation Normalizer: {do_not_support_total_sum}\""
   ]
  },
  {
   "cell_type": "code",
   "execution_count": 40,
   "metadata": {},
   "outputs": [
    {
     "data": {
      "text/plain": [
       "'The Variation Normalizer does not support 57.68% of the total variants'"
      ]
     },
     "execution_count": 40,
     "metadata": {},
     "output_type": "execute_result"
    }
   ],
   "source": [
    "f\"The Variation Normalizer does not support {do_not_support_total_sum / total_variants * 100:.2f}% of the total variants\""
   ]
  },
  {
   "attachments": {},
   "cell_type": "markdown",
   "metadata": {},
   "source": [
    "Below are the total number of variants for each MOA Feature Type that we do not support"
   ]
  },
  {
   "cell_type": "code",
   "execution_count": 41,
   "metadata": {},
   "outputs": [
    {
     "data": {
      "text/plain": [
       "{'PROTEIN_CONS': 176,\n",
       " 'REARRANGEMENTS': 36,\n",
       " 'COPY_NUMBER': 17,\n",
       " 'EXPRESSION': 11,\n",
       " 'OTHER': 4,\n",
       " 'EPIGENETIC_MODIFICATION': 0,\n",
       " 'FUSION': 0,\n",
       " 'GENE_FUNC': 0,\n",
       " 'GENOTYPES_EASY': 0,\n",
       " 'GENOTYPES_COMPOUND': 0,\n",
       " 'REGION_DEFINED_VAR': 0,\n",
       " 'INCOMPLETE_VAR': 0}"
      ]
     },
     "execution_count": 41,
     "metadata": {},
     "output_type": "execute_result"
    }
   ],
   "source": [
    "sorted_not_sup_counts = dict(sorted(not_supported_feature_counts.items(), key=lambda x: x[1], reverse=True))\n",
    "sorted_not_sup_counts"
   ]
  },
  {
   "attachments": {},
   "cell_type": "markdown",
   "metadata": {},
   "source": [
    "Below is the total percentage of variants for each MOA Feature Type that we do not support"
   ]
  },
  {
   "cell_type": "code",
   "execution_count": 42,
   "metadata": {},
   "outputs": [
    {
     "data": {
      "text/plain": [
       "{'PROTEIN_CONS': '41.61%',\n",
       " 'REARRANGEMENTS': '8.51%',\n",
       " 'COPY_NUMBER': '4.02%',\n",
       " 'EXPRESSION': '2.60%',\n",
       " 'OTHER': '0.95%',\n",
       " 'EPIGENETIC_MODIFICATION': '0.00%',\n",
       " 'FUSION': '0.00%',\n",
       " 'GENE_FUNC': '0.00%',\n",
       " 'GENOTYPES_EASY': '0.00%',\n",
       " 'GENOTYPES_COMPOUND': '0.00%',\n",
       " 'REGION_DEFINED_VAR': '0.00%',\n",
       " 'INCOMPLETE_VAR': '0.00%'}"
      ]
     },
     "execution_count": 42,
     "metadata": {},
     "output_type": "execute_result"
    }
   ],
   "source": [
    "{k: f\"{v / total_variants * 100:.2f}%\" for k, v in sorted_not_sup_counts.items()}"
   ]
  },
  {
   "cell_type": "code",
   "execution_count": 43,
   "metadata": {},
   "outputs": [
    {
     "data": {
      "text/plain": [
       "'The Variation Normalizer does not support 57.68% of the total variants'"
      ]
     },
     "execution_count": 43,
     "metadata": {},
     "output_type": "execute_result"
    }
   ],
   "source": [
    "f\"The Variation Normalizer does not support {do_not_support_total_sum / total_variants * 100:.2f}% of the total variants\""
   ]
  },
  {
   "attachments": {},
   "cell_type": "markdown",
   "metadata": {},
   "source": [
    "# Variants we should be able to normalize"
   ]
  },
  {
   "cell_type": "code",
   "execution_count": 44,
   "metadata": {},
   "outputs": [
    {
     "data": {
      "text/plain": [
       "179"
      ]
     },
     "execution_count": 44,
     "metadata": {},
     "output_type": "execute_result"
    }
   ],
   "source": [
    "should_be_able_to_normalize_total"
   ]
  },
  {
   "cell_type": "code",
   "execution_count": 45,
   "metadata": {},
   "outputs": [
    {
     "data": {
      "text/plain": [
       "'The Variation Normalizer SHOULD be able to normalize 42.32% of the total variants'"
      ]
     },
     "execution_count": 45,
     "metadata": {},
     "output_type": "execute_result"
    }
   ],
   "source": [
    "f\"The Variation Normalizer SHOULD be able to normalize {should_be_able_to_normalize_total / total_variants * 100:.2f}% of the total variants\""
   ]
  },
  {
   "attachments": {},
   "cell_type": "markdown",
   "metadata": {},
   "source": [
    "# Variants we were not able to normalize\n",
    "\n",
    "Either due to a bug or an unsupported query type in Variation Normalizer"
   ]
  },
  {
   "cell_type": "code",
   "execution_count": 46,
   "metadata": {},
   "outputs": [
    {
     "data": {
      "text/plain": [
       "0"
      ]
     },
     "execution_count": 46,
     "metadata": {},
     "output_type": "execute_result"
    }
   ],
   "source": [
    "unable_to_normalize_total"
   ]
  },
  {
   "cell_type": "code",
   "execution_count": 47,
   "metadata": {},
   "outputs": [
    {
     "data": {
      "text/plain": [
       "'The Variation Normalizer was unable to normalize 0.0% of the total variants'"
      ]
     },
     "execution_count": 47,
     "metadata": {},
     "output_type": "execute_result"
    }
   ],
   "source": [
    "f\"The Variation Normalizer was unable to normalize {unable_to_normalize_total / total_variants * 100}% of the total variants\""
   ]
  },
  {
   "attachments": {},
   "cell_type": "markdown",
   "metadata": {},
   "source": [
    "## Breakdown of the variants we weren't able to normalize\n",
    "\n",
    "In this section, we breakdown the reasons on why we weren't able to normalize variants."
   ]
  },
  {
   "cell_type": "code",
   "execution_count": 48,
   "metadata": {},
   "outputs": [],
   "source": [
    "unable_to_tokenize = 0\n",
    "unable_to_find_valid = 0\n",
    "other = 0\n",
    "with open(\"unable_to_normalize_queries.csv\", \"r\") as f:\n",
    "    reader = csv.reader(f, delimiter=\"\\t\")\n",
    "    next(reader)\n",
    "    for row in reader:\n",
    "        if \"Unable to find valid result\" in row[-1]:\n",
    "            unable_to_find_valid += 1\n",
    "        elif \"Unable to tokenize\" in row[-1]:\n",
    "            unable_to_tokenize += 1\n",
    "        else:\n",
    "            other += 1"
   ]
  },
  {
   "attachments": {},
   "cell_type": "markdown",
   "metadata": {},
   "source": [
    "### Due to not passing validation checks\n",
    "\n",
    "The Variation Normalizer performs validation checks on the input query (such as reference sequence). If these validation checks fail, then the input query will fail to normalize."
   ]
  },
  {
   "cell_type": "code",
   "execution_count": 49,
   "metadata": {},
   "outputs": [
    {
     "data": {
      "text/plain": [
       "'The Variation Normalizer found 0 invalid variants (This is 0.00% of the total variants).'"
      ]
     },
     "execution_count": 49,
     "metadata": {},
     "output_type": "execute_result"
    }
   ],
   "source": [
    "f\"The Variation Normalizer found {unable_to_find_valid} invalid variants (This is {unable_to_find_valid / total_variants * 100:.2f}% of the total variants).\""
   ]
  },
  {
   "attachments": {},
   "cell_type": "markdown",
   "metadata": {},
   "source": [
    "### Due to tokenization \n",
    "\n",
    "The Variation Normalizer will tokenize the input query to determine the kind of token. It is limited in the kinds of tokens it accepts, so these tokens are not yet supported in the Variation Normalizer. "
   ]
  },
  {
   "cell_type": "code",
   "execution_count": 50,
   "metadata": {},
   "outputs": [
    {
     "data": {
      "text/plain": [
       "'The Variation Normalizer was unable to tokenize 0 variants (0.00% of the total variants).'"
      ]
     },
     "execution_count": 50,
     "metadata": {},
     "output_type": "execute_result"
    }
   ],
   "source": [
    "f\"The Variation Normalizer was unable to tokenize {unable_to_tokenize} variants ({unable_to_tokenize / total_variants * 100:.2f}% of the total variants).\""
   ]
  },
  {
   "cell_type": "code",
   "execution_count": 51,
   "metadata": {},
   "outputs": [
    {
     "data": {
      "text/plain": [
       "'The Variation Normalizer was unable to normalize 0 variants due to other issues (This is 0.00% of the total variants).'"
      ]
     },
     "execution_count": 51,
     "metadata": {},
     "output_type": "execute_result"
    }
   ],
   "source": [
    "f\"The Variation Normalizer was unable to normalize {other} variants due to other issues (This is {other / total_variants * 100:.2f}% of the total variants).\""
   ]
  },
  {
   "attachments": {},
   "cell_type": "markdown",
   "metadata": {},
   "source": [
    "## Variant queries that raised an exception during normalization"
   ]
  },
  {
   "cell_type": "code",
   "execution_count": 52,
   "metadata": {},
   "outputs": [
    {
     "data": {
      "text/plain": [
       "'The Variation Normalizer raised an exception for 0.00% of the total variants'"
      ]
     },
     "execution_count": 52,
     "metadata": {},
     "output_type": "execute_result"
    }
   ],
   "source": [
    "f\"The Variation Normalizer raised an exception for {exception_total / total_variants * 100:.2f}% of the total variants\""
   ]
  },
  {
   "attachments": {},
   "cell_type": "markdown",
   "metadata": {},
   "source": [
    "# Variants we were able to normalize"
   ]
  },
  {
   "cell_type": "code",
   "execution_count": 53,
   "metadata": {},
   "outputs": [
    {
     "data": {
      "text/plain": [
       "179"
      ]
     },
     "execution_count": 53,
     "metadata": {},
     "output_type": "execute_result"
    }
   ],
   "source": [
    "can_normalize_total"
   ]
  },
  {
   "cell_type": "code",
   "execution_count": 54,
   "metadata": {},
   "outputs": [
    {
     "data": {
      "text/plain": [
       "'The Variation Normalizer successfully normalized 100.00% of the variants we SHOULD be able to normalize'"
      ]
     },
     "execution_count": 54,
     "metadata": {},
     "output_type": "execute_result"
    }
   ],
   "source": [
    "f\"The Variation Normalizer successfully normalized {can_normalize_total / should_be_able_to_normalize_total * 100:.2f}% of the variants we SHOULD be able to normalize\""
   ]
  },
  {
   "cell_type": "code",
   "execution_count": 55,
   "metadata": {},
   "outputs": [
    {
     "data": {
      "text/plain": [
       "'The Variation Normalizer successfully normalized 42.32% of the total variants'"
      ]
     },
     "execution_count": 55,
     "metadata": {},
     "output_type": "execute_result"
    }
   ],
   "source": [
    "f\"The Variation Normalizer successfully normalized {can_normalize_total / total_variants * 100:.2f}% of the total variants\""
   ]
  },
  {
   "attachments": {},
   "cell_type": "markdown",
   "metadata": {},
   "source": [
    "## Duplicate Queries\n",
    "\n",
    "These are duplicate queries found in MOA. The values are the associated variant IDs. "
   ]
  },
  {
   "cell_type": "code",
   "execution_count": 56,
   "metadata": {},
   "outputs": [
    {
     "data": {
      "text/plain": [
       "{'ABL1 p.T315I': [71, 108],\n",
       " 'EGFR p.L858R': [267, 284, 286],\n",
       " 'IDH2 p.R140Q': [329, 334],\n",
       " 'CCND1 Amplification': [707, 708],\n",
       " 'MYC Amplification': [765, 766]}"
      ]
     },
     "execution_count": 56,
     "metadata": {},
     "output_type": "execute_result"
    }
   ],
   "source": [
    "{k:v for k,v in queries_found.items() if len(v) > 1}"
   ]
  },
  {
   "cell_type": "code",
   "execution_count": null,
   "metadata": {},
   "outputs": [],
   "source": []
  }
 ],
 "metadata": {
  "kernelspec": {
   "display_name": "variation-normalization-KPVKcmjd",
   "language": "python",
   "name": "python3"
  },
  "language_info": {
   "codemirror_mode": {
    "name": "ipython",
    "version": 3
   },
   "file_extension": ".py",
   "mimetype": "text/x-python",
   "name": "python",
   "nbconvert_exporter": "python",
   "pygments_lexer": "ipython3",
   "version": "3.11.3"
  },
  "orig_nbformat": 4,
  "vscode": {
   "interpreter": {
    "hash": "0be8ba9a7b89517724a412b9d40e184059795303560bd1108143a8aed13113be"
   }
  }
 },
 "nbformat": 4,
 "nbformat_minor": 2
}
