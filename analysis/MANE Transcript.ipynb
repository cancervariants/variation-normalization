{
 "cells": [
  {
   "cell_type": "code",
   "execution_count": 1,
   "id": "f60913f4",
   "metadata": {},
   "outputs": [],
   "source": [
    "import os\n",
    "os.environ['VARIATION_NORM_EB_PROD'] = 'true'\n",
    "\n",
    "from variation.mane_transcript import MANETranscript\n",
    "from variation.tokenizers.caches import AminoAcidCache\n",
    "from variation.data_sources import SeqRepoAccess, TranscriptMappings, MANETranscriptMappings, UTA\n",
    "from pyliftover import LiftOver\n",
    "import pandas as pd"
   ]
  },
  {
   "cell_type": "code",
   "execution_count": 2,
   "id": "23e094b9",
   "metadata": {},
   "outputs": [],
   "source": [
    "transcript_mappings = TranscriptMappings()\n",
    "amino_acid_cache = AminoAcidCache()\n",
    "seqrepo = SeqRepoAccess()\n",
    "mane_transcript_mappings = MANETranscriptMappings()\n",
    "uta = UTA(db_pwd='admin')\n",
    "mane_transcript = MANETranscript(seqrepo, transcript_mappings, mane_transcript_mappings, uta)\n",
    "\n",
    "# Assembly mappings\n",
    "GRCH_TO_HG = {\n",
    "    'GRCh37': 'hg19',\n",
    "    'GRCh38': 'hg38'\n",
    "}"
   ]
  },
  {
   "cell_type": "code",
   "execution_count": 3,
   "id": "e55e19b0",
   "metadata": {},
   "outputs": [],
   "source": [
    "# Actual method name is get_tx_exon_aln_v_data, but simplified to make viewing easier\n",
    "def get_tx_alt_range_data(ac, start_pos, end_pos):\n",
    "    \"\"\"Return queried data from tx_exon_aln_v table.\n",
    "\n",
    "    :param str ac: Transcript accession\n",
    "    :param int start_pos: Start genomic position change \n",
    "    :param int end_pos: End genomic position change\n",
    "    :return: tx_exon_aln_v data\n",
    "    \"\"\"\n",
    "    query = (\n",
    "        f\"\"\"\n",
    "        SELECT *\n",
    "        FROM uta_20210129.tx_exon_aln_v\n",
    "        WHERE tx_ac = '{ac}'\n",
    "        AND alt_ac LIKE 'NC_00%'\n",
    "        AND alt_aln_method = 'splign'\n",
    "        AND {start_pos} BETWEEN alt_start_i AND alt_end_i\n",
    "        AND {end_pos} BETWEEN alt_start_i AND alt_end_i\n",
    "        ORDER BY alt_ac;\n",
    "        \"\"\"\n",
    "    )\n",
    "    return pd.read_sql(query, uta.conn)"
   ]
  },
  {
   "cell_type": "markdown",
   "id": "3c890015",
   "metadata": {},
   "source": [
    "# g -> MANE c"
   ]
  },
  {
   "cell_type": "code",
   "execution_count": 4,
   "id": "0b34a3fc",
   "metadata": {},
   "outputs": [],
   "source": [
    "def g_to_mane_c(ac, start_pos, end_pos):\n",
    "    \"\"\"Return \"\"\"\n",
    "    if end_pos is None:\n",
    "        end_pos = start_pos\n",
    "    \n",
    "    # Get gene symbol which is used to get MANE data (accessions)\n",
    "    gene_symbol = uta.get_gene_from_ac(ac, start_pos, end_pos)\n",
    "    if not gene_symbol:\n",
    "        return None\n",
    "\n",
    "    mane_data = mane_transcript_mappings.get_gene_mane_data(gene_symbol)\n",
    "    if not mane_data:\n",
    "        return None\n",
    "    mane_data_len = len(mane_data)\n",
    "\n",
    "    # Priority: MANE Select, MANE Clinical Plus \n",
    "    for i in range(mane_data_len):\n",
    "        index = mane_data_len - i - 1\n",
    "        current_mane_data = mane_data[index]\n",
    "\n",
    "        mane_c_ac = current_mane_data['RefSeq_nuc']\n",
    "\n",
    "        # Liftover\n",
    "        grch38 = mane_transcript.g_to_grch38(ac, start_pos, end_pos)\n",
    "        start_pos, end_pos = grch38['pos']\n",
    "\n",
    "        # Get transcript and genomic data given genomic coordinates \n",
    "        mane_tx_genomic_data = uta.get_mane_c_genomic_data(\n",
    "            mane_c_ac, None, start_pos, end_pos\n",
    "        )\n",
    "        if not mane_tx_genomic_data:\n",
    "            return None\n",
    "\n",
    "        # Find genomic shift and apply to transcript \n",
    "        tx_pos_range = mane_tx_genomic_data['tx_pos_range']\n",
    "        alt_pos_change = mane_tx_genomic_data['alt_pos_change']\n",
    "        coding_start_site = mane_tx_genomic_data['coding_start_site']\n",
    "\n",
    "        mane_c_pos_change = (\n",
    "            tx_pos_range[0] + alt_pos_change[0] - coding_start_site,\n",
    "            tx_pos_range[1] - alt_pos_change[1] - coding_start_site\n",
    "        )\n",
    "    \n",
    "        return {\n",
    "            'alt_ac': ac,\n",
    "            'alt_pos': (start_pos, end_pos),\n",
    "            'tx_ac': mane_c_ac,\n",
    "            'tx_pos': mane_c_pos_change\n",
    "        }"
   ]
  },
  {
   "cell_type": "markdown",
   "id": "21d348ba",
   "metadata": {},
   "source": [
    "## BRAF V600E example (walkthrough)"
   ]
  },
  {
   "cell_type": "code",
   "execution_count": 5,
   "id": "9181a44e",
   "metadata": {},
   "outputs": [],
   "source": [
    "# NC_000007.13:g.140453136A>T\n",
    "ac = 'NC_000007.13'\n",
    "start_pos = 140453136\n",
    "end_pos = 140453136"
   ]
  },
  {
   "cell_type": "code",
   "execution_count": 6,
   "id": "0d623260",
   "metadata": {},
   "outputs": [
    {
     "data": {
      "text/plain": [
       "'BRAF'"
      ]
     },
     "execution_count": 6,
     "metadata": {},
     "output_type": "execute_result"
    }
   ],
   "source": [
    "# Get gene from genomic accession\n",
    "gene = uta.get_gene_from_ac(ac, start_pos, end_pos)    \n",
    "gene"
   ]
  },
  {
   "cell_type": "code",
   "execution_count": 7,
   "id": "8093a806",
   "metadata": {},
   "outputs": [
    {
     "data": {
      "text/plain": [
       "{'#NCBI_GeneID': 'GeneID:673',\n",
       " 'Ensembl_Gene': 'ENSG00000157764.14',\n",
       " 'HGNC_ID': 'HGNC:1097',\n",
       " 'symbol': 'BRAF',\n",
       " 'name': 'B-Raf proto-oncogene, serine/threonine kinase',\n",
       " 'RefSeq_nuc': 'NM_001374258.1',\n",
       " 'RefSeq_prot': 'NP_001361187.1',\n",
       " 'Ensembl_nuc': 'ENST00000644969.2',\n",
       " 'Ensembl_prot': 'ENSP00000496776.1',\n",
       " 'MANE_status': 'MANE Select',\n",
       " 'GRCh38_chr': '7',\n",
       " 'chr_start': 140719337,\n",
       " 'chr_end': 140924929,\n",
       " 'chr_strand': '-'}"
      ]
     },
     "execution_count": 7,
     "metadata": {},
     "output_type": "execute_result"
    }
   ],
   "source": [
    "# Use gene to get MANE data \n",
    "# (https://ftp.ncbi.nlm.nih.gov/refseq/MANE/MANE_human/current/MANE.GRCh38.v0.95.summary.txt.gz)\n",
    "# Hiding implementation details since it's just finding row with symbol == 'BRAF'\n",
    "# BRAF only has MANE Select data, so we can just select the first from the list\n",
    "mane_data = mane_transcript_mappings.get_gene_mane_data(gene)[0]\n",
    "mane_data"
   ]
  },
  {
   "cell_type": "code",
   "execution_count": 8,
   "id": "cef6d466",
   "metadata": {},
   "outputs": [
    {
     "data": {
      "text/plain": [
       "'NM_001374258.1'"
      ]
     },
     "execution_count": 8,
     "metadata": {},
     "output_type": "execute_result"
    }
   ],
   "source": [
    "# Use RefSeq accession \n",
    "mane_c_ac = mane_data['RefSeq_nuc']\n",
    "mane_c_ac"
   ]
  },
  {
   "cell_type": "code",
   "execution_count": 9,
   "id": "daac358c",
   "metadata": {},
   "outputs": [
    {
     "data": {
      "text/plain": [
       "('chr7', 'GRCh37')"
      ]
     },
     "execution_count": 9,
     "metadata": {},
     "output_type": "execute_result"
    }
   ],
   "source": [
    "# We get chromosome and assembly to see if we have to liftover to GRCh38\n",
    "# uta.get_chr_assembly() will return None if it's already using GRCh38 \n",
    "chromosome, assembly = uta.get_chr_assembly(ac)\n",
    "chromosome, assembly"
   ]
  },
  {
   "cell_type": "code",
   "execution_count": null,
   "id": "ea25a99e",
   "metadata": {},
   "outputs": [],
   "source": [
    "# We know we have to liftover\n",
    "# Start and end are the same, so we only have to liftover start position \n",
    "lo = LiftOver(GRCH_TO_HG[assembly], 'hg38')\n",
    "liftover = lo.convert_coordinate(chromosome, start_pos)[0][1]\n",
    "start_pos, end_pos = liftover, liftover\n",
    "start_pos, end_pos"
   ]
  },
  {
   "cell_type": "code",
   "execution_count": null,
   "id": "e3912bad",
   "metadata": {},
   "outputs": [],
   "source": [
    "# Now we are going to get transcript range and nc accession range\n",
    "data = get_tx_alt_range_data(mane_c_ac, start_pos, end_pos)\n",
    "data"
   ]
  },
  {
   "cell_type": "code",
   "execution_count": null,
   "id": "81612f47",
   "metadata": {},
   "outputs": [],
   "source": [
    "# Get coding start site for tx_ac \n",
    "cds_start = uta.get_coding_start_site(data['tx_ac'].item())\n",
    "cds_start"
   ]
  },
  {
   "cell_type": "code",
   "execution_count": null,
   "id": "65e100e9",
   "metadata": {},
   "outputs": [],
   "source": [
    "alt_pos_range = data['alt_start_i'].item(), data['alt_end_i'].item()\n",
    "tx_pos_range = data['tx_start_i'].item(), data['tx_end_i'].item()\n",
    "assert alt_pos_range[1] - alt_pos_range[0] == tx_pos_range[1] - tx_pos_range[0]\n",
    "\n",
    "print(f\"alt_pos_range: {alt_pos_range}\")\n",
    "print(f\"tx_pos_range: {tx_pos_range}\")"
   ]
  },
  {
   "cell_type": "code",
   "execution_count": null,
   "id": "d467ed73",
   "metadata": {},
   "outputs": [],
   "source": [
    "# Get difference for NC accession, so we can shift transcript \n",
    "alt_pos_diff = (start_pos-alt_pos_range[0], alt_pos_range[1]-end_pos)\n",
    "alt_pos_diff"
   ]
  },
  {
   "cell_type": "code",
   "execution_count": null,
   "id": "98378ad1",
   "metadata": {},
   "outputs": [],
   "source": [
    "# Shift transcript position using differences above\n",
    "alt_pos_change = (tx_pos_range[0] + alt_pos_diff[0] - cds_start, tx_pos_range[1] - alt_pos_diff[1] - cds_start)\n",
    "alt_pos_change"
   ]
  },
  {
   "cell_type": "code",
   "execution_count": null,
   "id": "b6489a2a",
   "metadata": {},
   "outputs": [],
   "source": [
    "# Using ClinGen Allele Registry API as a reference\n",
    "# https://reg.genome.network/allele?hgvs=NC_000007.13:g.140453136A%3ET\n",
    "# MANE transcript: NM_001374258.1:c.1919T>A\n",
    "expected = (1919, 1919)\n",
    "alt_pos_change == expected"
   ]
  },
  {
   "cell_type": "markdown",
   "id": "a68d5cd7",
   "metadata": {},
   "source": [
    "## More examples"
   ]
  },
  {
   "cell_type": "code",
   "execution_count": null,
   "id": "41024e08",
   "metadata": {},
   "outputs": [],
   "source": [
    "# BRAF V600E GRCh37\n",
    "# Expect 1919, 1919\n",
    "g_to_mane_c('NC_000007.13', 140453136, 140453136)"
   ]
  },
  {
   "cell_type": "code",
   "execution_count": null,
   "id": "9501b37a",
   "metadata": {},
   "outputs": [],
   "source": [
    "# BRAF V600E GRCh38\n",
    "# Expect 1919, 1919\n",
    "g_to_mane_c('NC_000007.14', 140753336, 140753336)"
   ]
  },
  {
   "cell_type": "code",
   "execution_count": null,
   "id": "34775f1e",
   "metadata": {},
   "outputs": [],
   "source": [
    "# EGFR L858R GRCh37\n",
    "# https://reg.genome.network/allele?hgvs=NC_000007.13:g.55259515T%3EG\n",
    "# Expect 2573, 2573\n",
    "g_to_mane_c('NC_000007.13', 55259515, 55259515)"
   ]
  },
  {
   "cell_type": "code",
   "execution_count": null,
   "id": "5a1c0974",
   "metadata": {},
   "outputs": [],
   "source": [
    "# https://civicdb.org/events/genes/30/summary/variants/79/summary#variant\n",
    "# https://reg.genome.network/allele?hgvs=NC_000012.11:g.25398284C%3ET\n",
    "# Expect 35, 35\n",
    "g_to_mane_c('NC_000012.11', 25398284, 25398284)"
   ]
  },
  {
   "cell_type": "code",
   "execution_count": null,
   "id": "7d03b5d8",
   "metadata": {},
   "outputs": [],
   "source": []
  }
 ],
 "metadata": {
  "kernelspec": {
   "display_name": "Python 3",
   "language": "python",
   "name": "python3"
  },
  "language_info": {
   "codemirror_mode": {
    "name": "ipython",
    "version": 3
   },
   "file_extension": ".py",
   "mimetype": "text/x-python",
   "name": "python",
   "nbconvert_exporter": "python",
   "pygments_lexer": "ipython3",
   "version": "3.9.5"
  }
 },
 "nbformat": 4,
 "nbformat_minor": 5
}
