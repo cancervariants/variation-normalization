{
 "cells": [
  {
   "cell_type": "code",
   "execution_count": 1,
   "id": "f60913f4",
   "metadata": {},
   "outputs": [],
   "source": [
    "import os\n",
    "os.environ['VARIATION_NORM_EB_PROD'] = 'true'\n",
    "\n",
    "from variation.mane_transcript import MANETranscript\n",
    "from variation.tokenizers.caches import AminoAcidCache\n",
    "from variation.data_sources import SeqRepoAccess, TranscriptMappings, MANETranscriptMappings, UTA\n",
    "from pyliftover import LiftOver\n",
    "import pandas as pd"
   ]
  },
  {
   "cell_type": "code",
   "execution_count": 2,
   "id": "23e094b9",
   "metadata": {},
   "outputs": [],
   "source": [
    "transcript_mappings = TranscriptMappings()\n",
    "amino_acid_cache = AminoAcidCache()\n",
    "seqrepo = SeqRepoAccess()\n",
    "mane_transcript_mappings = MANETranscriptMappings()\n",
    "uta = UTA(db_pwd='admin')\n",
    "mane_transcript = MANETranscript(seqrepo, transcript_mappings, mane_transcript_mappings, uta)\n",
    "\n",
    "# Assembly mappings\n",
    "GRCH_TO_HG = {\n",
    "    'GRCh37': 'hg19',\n",
    "    'GRCh38': 'hg38'\n",
    "}"
   ]
  },
  {
   "cell_type": "code",
   "execution_count": 3,
   "id": "f4dbf8f0",
   "metadata": {},
   "outputs": [],
   "source": [
    "def get_gene_from_ac(ac, start_pos, end_pos):\n",
    "    \"\"\"Get transcripts from NC accession and positions.\n",
    "\n",
    "    :param str ac: NC Accession\n",
    "    :param int start_pos: Start position change\n",
    "    :param int end_pos: End position change\n",
    "    :return: HGNC gene symbol\n",
    "    \"\"\"\n",
    "    query = (\n",
    "        f\"\"\"\n",
    "        SELECT DISTINCT hgnc\n",
    "        FROM {uta.schema}.tx_exon_aln_v\n",
    "        WHERE alt_ac = '{ac}'\n",
    "        AND {start_pos} BETWEEN alt_start_i AND alt_end_i\n",
    "        AND {end_pos} BETWEEN alt_start_i AND alt_end_i\n",
    "        \"\"\"\n",
    "    )\n",
    "    uta.cursor.execute(query)\n",
    "    return uta.cursor.fetchall()[0][0]"
   ]
  },
  {
   "cell_type": "code",
   "execution_count": 4,
   "id": "8e3b077b",
   "metadata": {},
   "outputs": [],
   "source": [
    "def get_tx_alt_range_data(ac, start_pos, end_pos):\n",
    "    \"\"\"Return queried data from tx_exon_aln_v table.\n",
    "\n",
    "    :param str ac: Transcript accession\n",
    "    :param int start_pos: Start genomic position change \n",
    "    :param int end_pos: End genomic position change\n",
    "    :return: tx_exon_aln_v data\n",
    "    \"\"\"\n",
    "    query = (\n",
    "        f\"\"\"\n",
    "        SELECT *\n",
    "        FROM uta_20210129.tx_exon_aln_v\n",
    "        WHERE tx_ac = '{ac}'\n",
    "        AND alt_ac LIKE 'NC_00%'\n",
    "        AND alt_aln_method = 'splign'\n",
    "        AND {start_pos} BETWEEN alt_start_i AND alt_end_i\n",
    "        AND {end_pos} BETWEEN alt_start_i AND alt_end_i\n",
    "        ORDER BY alt_ac;\n",
    "        \"\"\"\n",
    "    )\n",
    "    return pd.read_sql(query, uta.conn)"
   ]
  },
  {
   "cell_type": "code",
   "execution_count": 5,
   "id": "8c1c8c75",
   "metadata": {},
   "outputs": [],
   "source": [
    "def get_coding_start_site(ac):\n",
    "    \"\"\"Get coding start site\n",
    "\n",
    "    :param str ac: Transcript accession\n",
    "    :return: Coding start site\n",
    "    \"\"\"\n",
    "    query = (\n",
    "        f\"\"\"\n",
    "        SELECT cds_start_i\n",
    "        FROM uta_20210129.transcript\n",
    "        WHERE ac = '{ac}'\n",
    "        \"\"\"\n",
    "    )\n",
    "    uta.cursor.execute(query)\n",
    "    return uta.cursor.fetchone()[0]"
   ]
  },
  {
   "cell_type": "markdown",
   "id": "3c890015",
   "metadata": {},
   "source": [
    "# g -> MANE c"
   ]
  },
  {
   "cell_type": "code",
   "execution_count": 6,
   "id": "0b34a3fc",
   "metadata": {},
   "outputs": [],
   "source": [
    "def g_to_mane_c(ac, start_pos, end_pos):\n",
    "    \"\"\"Return \"\"\"\n",
    "    \n",
    "    # Get gene to get MANE data \n",
    "    gene = get_gene_from_ac(ac, start_pos, end_pos)\n",
    "    mane_data = mane_transcript_mappings.get_gene_mane_data(gene)[0]\n",
    "    if not mane_data:\n",
    "        return None\n",
    "    mane_c_ac = mane_data['RefSeq_nuc']\n",
    "    \n",
    "    # Liftover to GRCh38\n",
    "    descr = uta.get_chr_assembly(ac)\n",
    "    if descr:\n",
    "        chromsome, assembly = descr\n",
    "        lo = LiftOver(GRCH_TO_HG[assembly], 'hg38')\n",
    "        liftover = lo.convert_coordinate(chromosome, start_pos)[0][1]\n",
    "        start_pos, end_pos = liftover, liftover\n",
    "    \n",
    "    # Get ranges for transcript and genomic \n",
    "    data = get_tx_alt_range_data(mane_c_ac, start_pos, end_pos)\n",
    "    ac = data['alt_ac'].item()\n",
    "    cds_start = get_coding_start_site(data['tx_ac'].item())\n",
    "    alt_pos_range = data['alt_start_i'].item(), data['alt_end_i'].item()\n",
    "    tx_pos_range = data['tx_start_i'].item(), data['tx_end_i'].item()\n",
    "    assert alt_pos_range[1] - alt_pos_range[0] == tx_pos_range[1] - tx_pos_range[0]\n",
    "\n",
    "    # Find genomic coordinate difference, then shift transcript using this difference\n",
    "    alt_pos_diff = (start_pos-alt_pos_range[0], alt_pos_range[1]-end_pos)\n",
    "    tx_pos_change = (tx_pos_range[0] + alt_pos_diff[0] - cds_start, tx_pos_range[1] - alt_pos_diff[1] - cds_start)\n",
    "    return {\n",
    "        'alt_ac': ac,\n",
    "        'alt_pos': (start_pos, end_pos),\n",
    "        'tx_ac': mane_c_ac,\n",
    "        'tx_pos': tx_pos_change\n",
    "    }"
   ]
  },
  {
   "cell_type": "markdown",
   "id": "21d348ba",
   "metadata": {},
   "source": [
    "## BRAF V600E example (walkthrough)"
   ]
  },
  {
   "cell_type": "code",
   "execution_count": 7,
   "id": "9181a44e",
   "metadata": {},
   "outputs": [],
   "source": [
    "# NC_000007.13:g.140453136A>T\n",
    "ac = 'NC_000007.13'\n",
    "start_pos = 140453136\n",
    "end_pos = 140453136"
   ]
  },
  {
   "cell_type": "code",
   "execution_count": 8,
   "id": "0d623260",
   "metadata": {},
   "outputs": [
    {
     "data": {
      "text/plain": [
       "'BRAF'"
      ]
     },
     "execution_count": 8,
     "metadata": {},
     "output_type": "execute_result"
    }
   ],
   "source": [
    "# Get gene from genomic accession\n",
    "gene = get_gene_from_ac(ac, start_pos, end_pos)    \n",
    "gene"
   ]
  },
  {
   "cell_type": "code",
   "execution_count": 9,
   "id": "8093a806",
   "metadata": {},
   "outputs": [
    {
     "data": {
      "text/plain": [
       "{'#NCBI_GeneID': 'GeneID:673',\n",
       " 'Ensembl_Gene': 'ENSG00000157764.14',\n",
       " 'HGNC_ID': 'HGNC:1097',\n",
       " 'symbol': 'BRAF',\n",
       " 'name': 'B-Raf proto-oncogene, serine/threonine kinase',\n",
       " 'RefSeq_nuc': 'NM_001374258.1',\n",
       " 'RefSeq_prot': 'NP_001361187.1',\n",
       " 'Ensembl_nuc': 'ENST00000644969.2',\n",
       " 'Ensembl_prot': 'ENSP00000496776.1',\n",
       " 'MANE_status': 'MANE Select',\n",
       " 'GRCh38_chr': '7',\n",
       " 'chr_start': 140719337,\n",
       " 'chr_end': 140924929,\n",
       " 'chr_strand': '-'}"
      ]
     },
     "execution_count": 9,
     "metadata": {},
     "output_type": "execute_result"
    }
   ],
   "source": [
    "# Use gene to get MANE data \n",
    "# (https://ftp.ncbi.nlm.nih.gov/refseq/MANE/MANE_human/current/MANE.GRCh38.v0.95.summary.txt.gz)\n",
    "# Hiding implementation details since it's just finding row with symbol == 'BRAF'\n",
    "# BRAF only has MANE Select data\n",
    "mane_data = mane_transcript_mappings.get_gene_mane_data(gene)[0]\n",
    "mane_data"
   ]
  },
  {
   "cell_type": "code",
   "execution_count": 10,
   "id": "cef6d466",
   "metadata": {},
   "outputs": [
    {
     "data": {
      "text/plain": [
       "'NM_001374258.1'"
      ]
     },
     "execution_count": 10,
     "metadata": {},
     "output_type": "execute_result"
    }
   ],
   "source": [
    "# Use RefSeq accession \n",
    "mane_c_ac = mane_data['RefSeq_nuc']\n",
    "mane_c_ac"
   ]
  },
  {
   "cell_type": "code",
   "execution_count": 11,
   "id": "daac358c",
   "metadata": {},
   "outputs": [
    {
     "data": {
      "text/plain": [
       "('chr7', 'GRCh37')"
      ]
     },
     "execution_count": 11,
     "metadata": {},
     "output_type": "execute_result"
    }
   ],
   "source": [
    "# We get chromosome and assembly to see if we have to liftover to GRCh38\n",
    "# uta.get_chr_assembly() will return None if it's already using GRCh38 \n",
    "chromosome, assembly = uta.get_chr_assembly(ac)\n",
    "chromosome, assembly"
   ]
  },
  {
   "cell_type": "code",
   "execution_count": 12,
   "id": "ea25a99e",
   "metadata": {},
   "outputs": [
    {
     "data": {
      "text/plain": [
       "(140753336, 140753336)"
      ]
     },
     "execution_count": 12,
     "metadata": {},
     "output_type": "execute_result"
    }
   ],
   "source": [
    "# We know we have to liftover\n",
    "# Start and end are the same, so we only have to liftover start position \n",
    "lo = LiftOver(GRCH_TO_HG[assembly], 'hg38')\n",
    "liftover = lo.convert_coordinate(chromosome, start_pos)[0][1]\n",
    "start_pos, end_pos = liftover, liftover\n",
    "start_pos, end_pos"
   ]
  },
  {
   "cell_type": "code",
   "execution_count": 13,
   "id": "e3912bad",
   "metadata": {},
   "outputs": [
    {
     "data": {
      "text/html": [
       "<div>\n",
       "<style scoped>\n",
       "    .dataframe tbody tr th:only-of-type {\n",
       "        vertical-align: middle;\n",
       "    }\n",
       "\n",
       "    .dataframe tbody tr th {\n",
       "        vertical-align: top;\n",
       "    }\n",
       "\n",
       "    .dataframe thead th {\n",
       "        text-align: right;\n",
       "    }\n",
       "</style>\n",
       "<table border=\"1\" class=\"dataframe\">\n",
       "  <thead>\n",
       "    <tr style=\"text-align: right;\">\n",
       "      <th></th>\n",
       "      <th>hgnc</th>\n",
       "      <th>tx_ac</th>\n",
       "      <th>alt_ac</th>\n",
       "      <th>alt_aln_method</th>\n",
       "      <th>alt_strand</th>\n",
       "      <th>ord</th>\n",
       "      <th>tx_start_i</th>\n",
       "      <th>tx_end_i</th>\n",
       "      <th>alt_start_i</th>\n",
       "      <th>alt_end_i</th>\n",
       "      <th>cigar</th>\n",
       "      <th>tx_aseq</th>\n",
       "      <th>alt_aseq</th>\n",
       "      <th>tx_exon_set_id</th>\n",
       "      <th>alt_exon_set_id</th>\n",
       "      <th>tx_exon_id</th>\n",
       "      <th>alt_exon_id</th>\n",
       "      <th>exon_aln_id</th>\n",
       "    </tr>\n",
       "  </thead>\n",
       "  <tbody>\n",
       "    <tr>\n",
       "      <th>0</th>\n",
       "      <td>BRAF</td>\n",
       "      <td>NM_001374258.1</td>\n",
       "      <td>NC_000007.14</td>\n",
       "      <td>splign</td>\n",
       "      <td>-1</td>\n",
       "      <td>15</td>\n",
       "      <td>2087</td>\n",
       "      <td>2206</td>\n",
       "      <td>140753274</td>\n",
       "      <td>140753393</td>\n",
       "      <td>119=</td>\n",
       "      <td>None</td>\n",
       "      <td>None</td>\n",
       "      <td>943125</td>\n",
       "      <td>1017563</td>\n",
       "      <td>8439617</td>\n",
       "      <td>9353476</td>\n",
       "      <td>5697247</td>\n",
       "    </tr>\n",
       "  </tbody>\n",
       "</table>\n",
       "</div>"
      ],
      "text/plain": [
       "   hgnc           tx_ac        alt_ac alt_aln_method  alt_strand  ord  \\\n",
       "0  BRAF  NM_001374258.1  NC_000007.14         splign          -1   15   \n",
       "\n",
       "   tx_start_i  tx_end_i  alt_start_i  alt_end_i cigar tx_aseq alt_aseq  \\\n",
       "0        2087      2206    140753274  140753393  119=    None     None   \n",
       "\n",
       "   tx_exon_set_id  alt_exon_set_id  tx_exon_id  alt_exon_id  exon_aln_id  \n",
       "0          943125          1017563     8439617      9353476      5697247  "
      ]
     },
     "execution_count": 13,
     "metadata": {},
     "output_type": "execute_result"
    }
   ],
   "source": [
    "# Now we are going to get transcript range and nc accession range\n",
    "data = get_tx_alt_range_data(mane_c_ac, start_pos, end_pos)\n",
    "data"
   ]
  },
  {
   "cell_type": "code",
   "execution_count": 14,
   "id": "81612f47",
   "metadata": {},
   "outputs": [
    {
     "data": {
      "text/plain": [
       "226"
      ]
     },
     "execution_count": 14,
     "metadata": {},
     "output_type": "execute_result"
    }
   ],
   "source": [
    "# Get coding start site for tx_ac \n",
    "cds_start = get_coding_start_site(data['tx_ac'].item())\n",
    "cds_start"
   ]
  },
  {
   "cell_type": "code",
   "execution_count": 15,
   "id": "65e100e9",
   "metadata": {},
   "outputs": [
    {
     "name": "stdout",
     "output_type": "stream",
     "text": [
      "alt_pos_range: (140753274, 140753393)\n",
      "tx_pos_range: (2087, 2206)\n"
     ]
    }
   ],
   "source": [
    "alt_pos_range = data['alt_start_i'].item(), data['alt_end_i'].item()\n",
    "tx_pos_range = data['tx_start_i'].item(), data['tx_end_i'].item()\n",
    "assert alt_pos_range[1] - alt_pos_range[0] == tx_pos_range[1] - tx_pos_range[0]\n",
    "\n",
    "print(f\"alt_pos_range: {alt_pos_range}\")\n",
    "print(f\"tx_pos_range: {tx_pos_range}\")"
   ]
  },
  {
   "cell_type": "code",
   "execution_count": 16,
   "id": "d467ed73",
   "metadata": {},
   "outputs": [
    {
     "data": {
      "text/plain": [
       "(62, 57)"
      ]
     },
     "execution_count": 16,
     "metadata": {},
     "output_type": "execute_result"
    }
   ],
   "source": [
    "# Get difference for NC accession, so we can shift transcript \n",
    "alt_pos_diff = (start_pos-alt_pos_range[0], alt_pos_range[1]-end_pos)\n",
    "alt_pos_diff"
   ]
  },
  {
   "cell_type": "code",
   "execution_count": 17,
   "id": "98378ad1",
   "metadata": {},
   "outputs": [
    {
     "data": {
      "text/plain": [
       "(1923, 1923)"
      ]
     },
     "execution_count": 17,
     "metadata": {},
     "output_type": "execute_result"
    }
   ],
   "source": [
    "# Shift transcript position using differences above\n",
    "alt_pos_change = (tx_pos_range[0] + alt_pos_diff[0] - cds_start, tx_pos_range[1] - alt_pos_diff[1] - cds_start)\n",
    "alt_pos_change"
   ]
  },
  {
   "cell_type": "code",
   "execution_count": 18,
   "id": "b6489a2a",
   "metadata": {},
   "outputs": [
    {
     "data": {
      "text/plain": [
       "False"
      ]
     },
     "execution_count": 18,
     "metadata": {},
     "output_type": "execute_result"
    }
   ],
   "source": [
    "# Using ClinGen Allele Registry API as a reference\n",
    "# https://reg.genome.network/allele?hgvs=NC_000007.13:g.140453136A%3ET\n",
    "# MANE transcript: NM_001374258.1:c.1919T>A\n",
    "expected = (1919, 1919)\n",
    "alt_pos_change == expected"
   ]
  },
  {
   "cell_type": "markdown",
   "id": "a68d5cd7",
   "metadata": {},
   "source": [
    "## More examples"
   ]
  },
  {
   "cell_type": "code",
   "execution_count": 19,
   "id": "41024e08",
   "metadata": {},
   "outputs": [
    {
     "data": {
      "text/plain": [
       "{'alt_ac': 'NC_000007.14',\n",
       " 'alt_pos': (140753336, 140753336),\n",
       " 'tx_ac': 'NM_001374258.1',\n",
       " 'tx_pos': (1923, 1923)}"
      ]
     },
     "execution_count": 19,
     "metadata": {},
     "output_type": "execute_result"
    }
   ],
   "source": [
    "# BRAF V600E GRCh37\n",
    "# Expect 1919, 1919\n",
    "g_to_mane_c('NC_000007.13', 140453136, 140453136)"
   ]
  },
  {
   "cell_type": "code",
   "execution_count": 20,
   "id": "9501b37a",
   "metadata": {},
   "outputs": [
    {
     "data": {
      "text/plain": [
       "{'alt_ac': 'NC_000007.14',\n",
       " 'alt_pos': (140753336, 140753336),\n",
       " 'tx_ac': 'NM_001374258.1',\n",
       " 'tx_pos': (1923, 1923)}"
      ]
     },
     "execution_count": 20,
     "metadata": {},
     "output_type": "execute_result"
    }
   ],
   "source": [
    "# BRAF V600E GRCh38\n",
    "# Expect 1919, 1919\n",
    "g_to_mane_c('NC_000007.14', 140753336, 140753336)"
   ]
  },
  {
   "cell_type": "code",
   "execution_count": 21,
   "id": "34775f1e",
   "metadata": {},
   "outputs": [
    {
     "data": {
      "text/plain": [
       "{'alt_ac': 'NC_000007.14',\n",
       " 'alt_pos': (55191822, 55191822),\n",
       " 'tx_ac': 'NM_005228.5',\n",
       " 'tx_pos': (2573, 2573)}"
      ]
     },
     "execution_count": 21,
     "metadata": {},
     "output_type": "execute_result"
    }
   ],
   "source": [
    "# EGFR L858R GRCh37\n",
    "# https://reg.genome.network/allele?hgvs=NC_000007.13:g.55259515T%3EG\n",
    "# Expect 2573, 2573\n",
    "g_to_mane_c('NC_000007.13', 55259515, 55259515)"
   ]
  },
  {
   "cell_type": "code",
   "execution_count": 22,
   "id": "5a1c0974",
   "metadata": {},
   "outputs": [
    {
     "data": {
      "text/plain": [
       "{'alt_ac': 'NC_000012.11',\n",
       " 'alt_pos': (25358665, 25358665),\n",
       " 'tx_ac': 'NM_004985.5',\n",
       " 'tx_pos': (936, 936)}"
      ]
     },
     "execution_count": 22,
     "metadata": {},
     "output_type": "execute_result"
    }
   ],
   "source": [
    "# https://civicdb.org/events/genes/30/summary/variants/79/summary#variant\n",
    "# https://reg.genome.network/allele?hgvs=NC_000012.11:g.25398284C%3ET\n",
    "# Expect 35, 35\n",
    "g_to_mane_c('NC_000012.11', 25398284, 25398284)"
   ]
  },
  {
   "cell_type": "code",
   "execution_count": null,
   "id": "7d03b5d8",
   "metadata": {},
   "outputs": [],
   "source": []
  }
 ],
 "metadata": {
  "kernelspec": {
   "display_name": "Python 3",
   "language": "python",
   "name": "python3"
  },
  "language_info": {
   "codemirror_mode": {
    "name": "ipython",
    "version": 3
   },
   "file_extension": ".py",
   "mimetype": "text/x-python",
   "name": "python",
   "nbconvert_exporter": "python",
   "pygments_lexer": "ipython3",
   "version": "3.9.5"
  }
 },
 "nbformat": 4,
 "nbformat_minor": 5
}
