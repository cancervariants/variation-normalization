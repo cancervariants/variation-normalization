{
 "cells": [
  {
   "cell_type": "code",
   "execution_count": 1,
   "id": "47cc7a49",
   "metadata": {},
   "outputs": [],
   "source": [
    "import os\n",
    "os.environ['VARIATION_NORM_EB_PROD'] = 'true'\n",
    "\n",
    "import itertools\n",
    "from variation.mane_transcript import MANETranscript\n",
    "from variation.tokenizers.caches import AminoAcidCache\n",
    "from variation.data_sources import SeqRepoAccess, TranscriptMappings, MANETranscriptMappings, UTA"
   ]
  },
  {
   "cell_type": "code",
   "execution_count": 2,
   "id": "514e2d99",
   "metadata": {},
   "outputs": [],
   "source": [
    "transcript_mappings = TranscriptMappings()\n",
    "amino_acid_cache = AminoAcidCache()\n",
    "seqrepo = SeqRepoAccess()\n",
    "mane_transcript_mappings = MANETranscriptMappings()\n",
    "uta = UTA(db_pwd='admin')\n",
    "mane_transcript = MANETranscript(seqrepo, transcript_mappings, mane_transcript_mappings, uta)"
   ]
  },
  {
   "cell_type": "markdown",
   "id": "c6d024e9",
   "metadata": {},
   "source": [
    "# BRAF V600E"
   ]
  },
  {
   "cell_type": "markdown",
   "id": "dce5b879",
   "metadata": {},
   "source": [
    "## p -> MANE p"
   ]
  },
  {
   "cell_type": "markdown",
   "id": "91682cde",
   "metadata": {},
   "source": [
    "### RefSeq"
   ]
  },
  {
   "cell_type": "code",
   "execution_count": 3,
   "id": "81ff0d2b",
   "metadata": {},
   "outputs": [
    {
     "data": {
      "text/plain": [
       "{'gene': 'BRAF',\n",
       " 'refseq': 'NP_001361187.1',\n",
       " 'ensembl': 'ENSP00000496776.1',\n",
       " 'pos': (640, 640),\n",
       " 'strand': '-',\n",
       " 'status': 'MANE Select'}"
      ]
     },
     "execution_count": 3,
     "metadata": {},
     "output_type": "execute_result"
    }
   ],
   "source": [
    "mane_transcript.get_mane_transcript('NP_004324.2', 600, None, 'p', 'V', normalize_endpoint=True)"
   ]
  },
  {
   "cell_type": "markdown",
   "id": "685a3e13",
   "metadata": {},
   "source": [
    "#### Other accessions that should work"
   ]
  },
  {
   "cell_type": "code",
   "execution_count": 4,
   "id": "15ef2dcf",
   "metadata": {},
   "outputs": [
    {
     "data": {
      "text/plain": [
       "{'gene': 'BRAF',\n",
       " 'refseq': 'NP_001361187.1',\n",
       " 'ensembl': 'ENSP00000496776.1',\n",
       " 'pos': (640, 640),\n",
       " 'strand': '-',\n",
       " 'status': 'MANE Select'}"
      ]
     },
     "execution_count": 4,
     "metadata": {},
     "output_type": "execute_result"
    }
   ],
   "source": [
    "mane_transcript.get_mane_transcript('NP_001365401.1', 548, None, 'p', 'V')"
   ]
  },
  {
   "cell_type": "code",
   "execution_count": 5,
   "id": "c742ace2",
   "metadata": {},
   "outputs": [
    {
     "data": {
      "text/plain": [
       "{'gene': 'BRAF',\n",
       " 'refseq': 'NP_001361187.1',\n",
       " 'ensembl': 'ENSP00000496776.1',\n",
       " 'pos': (640, 640),\n",
       " 'strand': '-',\n",
       " 'status': 'MANE Select'}"
      ]
     },
     "execution_count": 5,
     "metadata": {},
     "output_type": "execute_result"
    }
   ],
   "source": [
    "mane_transcript.get_mane_transcript('NP_001365402.1', 548, None, 'p', 'V')"
   ]
  },
  {
   "cell_type": "code",
   "execution_count": 6,
   "id": "13e29800",
   "metadata": {},
   "outputs": [
    {
     "data": {
      "text/plain": [
       "{'gene': 'BRAF',\n",
       " 'refseq': 'NP_001361187.1',\n",
       " 'ensembl': 'ENSP00000496776.1',\n",
       " 'pos': (640, 640),\n",
       " 'strand': '-',\n",
       " 'status': 'MANE Select'}"
      ]
     },
     "execution_count": 6,
     "metadata": {},
     "output_type": "execute_result"
    }
   ],
   "source": [
    "mane_transcript.get_mane_transcript('NP_001365400.1', 563, None, 'p', 'V')"
   ]
  },
  {
   "cell_type": "markdown",
   "id": "cb8aa54a",
   "metadata": {},
   "source": [
    "### Ensembl"
   ]
  },
  {
   "cell_type": "code",
   "execution_count": 7,
   "id": "caff23f8",
   "metadata": {},
   "outputs": [],
   "source": [
    "mane_transcript.get_mane_transcript('ENSP00000288602.6', 600, None, 'p', 'V', normalize_endpoint=True)"
   ]
  },
  {
   "cell_type": "markdown",
   "id": "2b08aeea",
   "metadata": {},
   "source": [
    "## c -> MANE c"
   ]
  },
  {
   "cell_type": "markdown",
   "id": "e918cef3",
   "metadata": {},
   "source": [
    "### RefSeq"
   ]
  },
  {
   "cell_type": "markdown",
   "id": "71d12782",
   "metadata": {},
   "source": [
    "#### Most recent accession version"
   ]
  },
  {
   "cell_type": "code",
   "execution_count": 8,
   "id": "e8818bde",
   "metadata": {},
   "outputs": [
    {
     "data": {
      "text/plain": [
       "{'gene': 'BRAF',\n",
       " 'refseq': 'NM_001374258.1',\n",
       " 'ensembl': 'ENST00000644969.2',\n",
       " 'coding_start_site': 226,\n",
       " 'pos': (1919, 1919),\n",
       " 'strand': '-',\n",
       " 'status': 'MANE Select'}"
      ]
     },
     "execution_count": 8,
     "metadata": {},
     "output_type": "execute_result"
    }
   ],
   "source": [
    "mane_transcript.get_mane_transcript('NM_004333.6', 1799, None, 'c', 'T', normalize_endpoint=True)"
   ]
  },
  {
   "cell_type": "markdown",
   "id": "a6e1a711",
   "metadata": {},
   "source": [
    "#### Other accessions that should point to the same"
   ]
  },
  {
   "cell_type": "code",
   "execution_count": 9,
   "id": "0ae80583",
   "metadata": {},
   "outputs": [
    {
     "data": {
      "text/plain": [
       "{'gene': 'BRAF',\n",
       " 'refseq': 'NM_001374258.1',\n",
       " 'ensembl': 'ENST00000644969.2',\n",
       " 'coding_start_site': 226,\n",
       " 'pos': (1919, 1919),\n",
       " 'strand': '-',\n",
       " 'status': 'MANE Select'}"
      ]
     },
     "execution_count": 9,
     "metadata": {},
     "output_type": "execute_result"
    }
   ],
   "source": [
    "mane_transcript.get_mane_transcript('NM_001378471.1', 1688, None, 'c', 'T', normalize_endpoint=True)"
   ]
  },
  {
   "cell_type": "code",
   "execution_count": 10,
   "id": "94eeaed3",
   "metadata": {},
   "outputs": [
    {
     "data": {
      "text/plain": [
       "{'gene': 'BRAF',\n",
       " 'refseq': 'NM_001374258.1',\n",
       " 'ensembl': 'ENST00000644969.2',\n",
       " 'coding_start_site': 226,\n",
       " 'pos': (1919, 1919),\n",
       " 'strand': '-',\n",
       " 'status': 'MANE Select'}"
      ]
     },
     "execution_count": 10,
     "metadata": {},
     "output_type": "execute_result"
    }
   ],
   "source": [
    "mane_transcript.get_mane_transcript('NM_001378472.1', 1643, None, 'c', 'T')"
   ]
  },
  {
   "cell_type": "code",
   "execution_count": 11,
   "id": "3218715e",
   "metadata": {},
   "outputs": [
    {
     "data": {
      "text/plain": [
       "{'gene': 'BRAF',\n",
       " 'refseq': 'NM_001374258.1',\n",
       " 'ensembl': 'ENST00000644969.2',\n",
       " 'coding_start_site': 226,\n",
       " 'pos': (1919, 1919),\n",
       " 'strand': '-',\n",
       " 'status': 'MANE Select'}"
      ]
     },
     "execution_count": 11,
     "metadata": {},
     "output_type": "execute_result"
    }
   ],
   "source": [
    "mane_transcript.get_mane_transcript('NM_001378475.1', 1535, None, 'c', 'T')"
   ]
  },
  {
   "cell_type": "markdown",
   "id": "bac91600",
   "metadata": {},
   "source": [
    "#### Older accession versions"
   ]
  },
  {
   "cell_type": "code",
   "execution_count": 12,
   "id": "1ad8ec15",
   "metadata": {},
   "outputs": [
    {
     "data": {
      "text/plain": [
       "{'gene': 'BRAF',\n",
       " 'refseq': 'NM_001374258.1',\n",
       " 'ensembl': 'ENST00000644969.2',\n",
       " 'coding_start_site': 226,\n",
       " 'pos': (1919, 1919),\n",
       " 'strand': '-',\n",
       " 'status': 'MANE Select'}"
      ]
     },
     "execution_count": 12,
     "metadata": {},
     "output_type": "execute_result"
    }
   ],
   "source": [
    "mane_transcript.get_mane_transcript('NM_004333.5', 1799, None, 'c', 'T', normalize_endpoint=True)"
   ]
  },
  {
   "cell_type": "code",
   "execution_count": 13,
   "id": "5bb64f68",
   "metadata": {},
   "outputs": [
    {
     "data": {
      "text/plain": [
       "{'gene': 'BRAF',\n",
       " 'refseq': 'NM_001374258.1',\n",
       " 'ensembl': 'ENST00000644969.2',\n",
       " 'coding_start_site': 226,\n",
       " 'pos': (1919, 1919),\n",
       " 'strand': '-',\n",
       " 'status': 'MANE Select'}"
      ]
     },
     "execution_count": 13,
     "metadata": {},
     "output_type": "execute_result"
    }
   ],
   "source": [
    "mane_transcript.get_mane_transcript('NM_004333.4', 1799, None, 'c', 'T', normalize_endpoint=True)"
   ]
  },
  {
   "cell_type": "markdown",
   "id": "c56345da",
   "metadata": {},
   "source": [
    "### Ensembl"
   ]
  },
  {
   "cell_type": "code",
   "execution_count": 14,
   "id": "931bb2c2",
   "metadata": {},
   "outputs": [
    {
     "data": {
      "text/plain": [
       "{'gene': 'BRAF',\n",
       " 'refseq': 'NM_001374258.1',\n",
       " 'ensembl': 'ENST00000644969.2',\n",
       " 'coding_start_site': 226,\n",
       " 'pos': (1919, 1919),\n",
       " 'strand': '-',\n",
       " 'status': 'MANE Select'}"
      ]
     },
     "execution_count": 14,
     "metadata": {},
     "output_type": "execute_result"
    }
   ],
   "source": [
    "mane_transcript.get_mane_transcript('ENST00000288602.11', 1799, None, 'c', 'T', normalize_endpoint=True)"
   ]
  },
  {
   "cell_type": "code",
   "execution_count": 15,
   "id": "a6d4db01",
   "metadata": {},
   "outputs": [
    {
     "data": {
      "text/plain": [
       "{'gene': 'BRAF',\n",
       " 'refseq': 'NM_001374258.1',\n",
       " 'ensembl': 'ENST00000644969.2',\n",
       " 'coding_start_site': 226,\n",
       " 'pos': (1919, 1919),\n",
       " 'strand': '-',\n",
       " 'status': 'MANE Select'}"
      ]
     },
     "execution_count": 15,
     "metadata": {},
     "output_type": "execute_result"
    }
   ],
   "source": [
    "mane_transcript.get_mane_transcript('ENST00000288602.11', 1799, None, 'c', 'T', normalize_endpoint=False)"
   ]
  },
  {
   "cell_type": "markdown",
   "id": "ba7ff9b9",
   "metadata": {},
   "source": [
    "## g -> MANE c"
   ]
  },
  {
   "cell_type": "code",
   "execution_count": 16,
   "id": "cf9222d2",
   "metadata": {},
   "outputs": [
    {
     "data": {
      "text/plain": [
       "{'gene': 'BRAF',\n",
       " 'refseq': 'NM_001374258.1',\n",
       " 'ensembl': 'ENST00000644969.2',\n",
       " 'coding_start_site': 226,\n",
       " 'pos': (1919, 1919),\n",
       " 'strand': '-',\n",
       " 'status': 'MANE Select'}"
      ]
     },
     "execution_count": 16,
     "metadata": {},
     "output_type": "execute_result"
    }
   ],
   "source": [
    "mane_transcript.get_mane_transcript('NC_000007.14', 140753336, None, 'g', normalize_endpoint=True)"
   ]
  },
  {
   "cell_type": "code",
   "execution_count": 17,
   "id": "3a4565ea",
   "metadata": {},
   "outputs": [
    {
     "data": {
      "text/plain": [
       "{'gene': 'BRAF',\n",
       " 'refseq': 'NM_001374258.1',\n",
       " 'ensembl': 'ENST00000644969.2',\n",
       " 'coding_start_site': 226,\n",
       " 'pos': (1919, 1919),\n",
       " 'strand': '-',\n",
       " 'status': 'MANE Select'}"
      ]
     },
     "execution_count": 17,
     "metadata": {},
     "output_type": "execute_result"
    }
   ],
   "source": [
    "mane_transcript.get_mane_transcript('NC_000007.13', 140453136, None, 'g', normalize_endpoint=True)"
   ]
  },
  {
   "cell_type": "markdown",
   "id": "d512ed5b",
   "metadata": {},
   "source": [
    "# EGFR L858R"
   ]
  },
  {
   "cell_type": "markdown",
   "id": "8f8cbc3e",
   "metadata": {},
   "source": [
    "## p -> MANE p"
   ]
  },
  {
   "cell_type": "markdown",
   "id": "01ee1d06",
   "metadata": {},
   "source": [
    "### RefSeq"
   ]
  },
  {
   "cell_type": "code",
   "execution_count": 18,
   "id": "85858665",
   "metadata": {},
   "outputs": [
    {
     "data": {
      "text/plain": [
       "{'gene': 'EGFR',\n",
       " 'refseq': 'NP_005219.2',\n",
       " 'ensembl': 'ENSP00000275493.2',\n",
       " 'pos': (858, 858),\n",
       " 'strand': '+',\n",
       " 'status': 'MANE Select'}"
      ]
     },
     "execution_count": 18,
     "metadata": {},
     "output_type": "execute_result"
    }
   ],
   "source": [
    "mane_transcript.get_mane_transcript('NP_005219.2', 858, None, 'p', 'L', normalize_endpoint=True)"
   ]
  },
  {
   "cell_type": "markdown",
   "id": "aa004b36",
   "metadata": {},
   "source": [
    "### Ensembl"
   ]
  },
  {
   "cell_type": "code",
   "execution_count": 19,
   "id": "baabe9ab",
   "metadata": {},
   "outputs": [
    {
     "data": {
      "text/plain": [
       "{'gene': 'EGFR',\n",
       " 'refseq': 'NP_005219.2',\n",
       " 'ensembl': 'ENSP00000275493.2',\n",
       " 'pos': (858, 858),\n",
       " 'strand': '+',\n",
       " 'status': 'MANE Select'}"
      ]
     },
     "execution_count": 19,
     "metadata": {},
     "output_type": "execute_result"
    }
   ],
   "source": [
    "mane_transcript.get_mane_transcript('ENSP00000275493.2', 858, None, 'p', 'L', normalize_endpoint=True)"
   ]
  },
  {
   "cell_type": "markdown",
   "id": "bdf0fc56",
   "metadata": {},
   "source": [
    "## c -> MANE c"
   ]
  },
  {
   "cell_type": "markdown",
   "id": "2448216b",
   "metadata": {},
   "source": [
    "### RefSeq"
   ]
  },
  {
   "cell_type": "markdown",
   "id": "9aef2b52",
   "metadata": {},
   "source": [
    "#### Most recent accession version"
   ]
  },
  {
   "cell_type": "code",
   "execution_count": 20,
   "id": "a7e30d61",
   "metadata": {},
   "outputs": [
    {
     "data": {
      "text/plain": [
       "{'gene': 'EGFR',\n",
       " 'refseq': 'NM_005228.5',\n",
       " 'ensembl': 'ENST00000275493.7',\n",
       " 'coding_start_site': 261,\n",
       " 'pos': (2573, 2573),\n",
       " 'strand': '+',\n",
       " 'status': 'MANE Select'}"
      ]
     },
     "execution_count": 20,
     "metadata": {},
     "output_type": "execute_result"
    }
   ],
   "source": [
    "mane_transcript.get_mane_transcript('NM_005228.5', 2573, None, 'c', 'T', normalize_endpoint=True)"
   ]
  },
  {
   "cell_type": "markdown",
   "id": "ff01e155",
   "metadata": {},
   "source": [
    "#### Older accession versions"
   ]
  },
  {
   "cell_type": "code",
   "execution_count": 21,
   "id": "002d2712",
   "metadata": {},
   "outputs": [
    {
     "data": {
      "text/plain": [
       "{'gene': 'EGFR',\n",
       " 'refseq': 'NM_005228.5',\n",
       " 'ensembl': 'ENST00000275493.7',\n",
       " 'coding_start_site': 261,\n",
       " 'pos': (2573, 2573),\n",
       " 'strand': '+',\n",
       " 'status': 'MANE Select'}"
      ]
     },
     "execution_count": 21,
     "metadata": {},
     "output_type": "execute_result"
    }
   ],
   "source": [
    "mane_transcript.get_mane_transcript('NM_005228.4', 2573, None, 'c', 'T', normalize_endpoint=True)"
   ]
  },
  {
   "cell_type": "markdown",
   "id": "065c3fde",
   "metadata": {},
   "source": [
    "### Ensembl"
   ]
  },
  {
   "cell_type": "code",
   "execution_count": 22,
   "id": "70de662b",
   "metadata": {},
   "outputs": [
    {
     "data": {
      "text/plain": [
       "{'refseq': 'NM_005228.4',\n",
       " 'ensembl': None,\n",
       " 'pos': (2573, 2573),\n",
       " 'strand': '+',\n",
       " 'status': 'Longest Compatible Remaining'}"
      ]
     },
     "execution_count": 22,
     "metadata": {},
     "output_type": "execute_result"
    }
   ],
   "source": [
    "mane_transcript.get_mane_transcript('ENST00000275493.7', 2573, None, 'c', 'T', normalize_endpoint=True)"
   ]
  },
  {
   "cell_type": "markdown",
   "id": "746b93b3",
   "metadata": {},
   "source": [
    "## g -> MANE c"
   ]
  },
  {
   "cell_type": "code",
   "execution_count": 23,
   "id": "b89a67fe",
   "metadata": {},
   "outputs": [
    {
     "data": {
      "text/plain": [
       "{'gene': 'EGFR',\n",
       " 'refseq': 'NM_005228.5',\n",
       " 'ensembl': 'ENST00000275493.7',\n",
       " 'coding_start_site': 261,\n",
       " 'pos': (2573, 2573),\n",
       " 'strand': '+',\n",
       " 'status': 'MANE Select'}"
      ]
     },
     "execution_count": 23,
     "metadata": {},
     "output_type": "execute_result"
    }
   ],
   "source": [
    "mane_transcript.get_mane_transcript('NC_000007.13', 55259515, None, 'g', normalize_endpoint=True)"
   ]
  },
  {
   "cell_type": "markdown",
   "id": "e0adc083",
   "metadata": {},
   "source": [
    "# More examples"
   ]
  },
  {
   "cell_type": "code",
   "execution_count": 24,
   "id": "4e89d30c",
   "metadata": {},
   "outputs": [
    {
     "data": {
      "text/plain": [
       "{'gene': 'ABL1',\n",
       " 'refseq': 'NP_005148.2',\n",
       " 'ensembl': 'ENSP00000323315.5',\n",
       " 'pos': (315, 315),\n",
       " 'strand': '+',\n",
       " 'status': 'MANE Select'}"
      ]
     },
     "execution_count": 24,
     "metadata": {},
     "output_type": "execute_result"
    }
   ],
   "source": [
    "# https://civicdb.org/events/genes/4/summary/variants/2/summary#variant\n",
    "# https://reg.genome.network/allele?hgvs=NM_007313.2:c.1001C%3ET\n",
    "mane_transcript.get_mane_transcript('NP_005148.2', 315, 315, 'p', normalize_endpoint=True)"
   ]
  },
  {
   "cell_type": "code",
   "execution_count": 25,
   "id": "a59bcc80",
   "metadata": {},
   "outputs": [
    {
     "data": {
      "text/plain": [
       "{'gene': 'ABL1',\n",
       " 'refseq': 'NM_005157.6',\n",
       " 'ensembl': 'ENST00000318560.6',\n",
       " 'coding_start_site': 193,\n",
       " 'pos': (944, 944),\n",
       " 'strand': '+',\n",
       " 'status': 'MANE Select'}"
      ]
     },
     "execution_count": 25,
     "metadata": {},
     "output_type": "execute_result"
    }
   ],
   "source": [
    "# https://civicdb.org/events/genes/4/summary/variants/2/summary#variant\n",
    "# https://reg.genome.network/allele?hgvs=NM_007313.2:c.1001C%3ET\n",
    "mane_transcript.get_mane_transcript('NM_007313.2', 1001, None, 'c', normalize_endpoint=True)"
   ]
  },
  {
   "cell_type": "code",
   "execution_count": 26,
   "id": "99877127",
   "metadata": {},
   "outputs": [
    {
     "data": {
      "text/plain": [
       "{'gene': 'EGFR',\n",
       " 'refseq': 'NP_005219.2',\n",
       " 'ensembl': 'ENSP00000275493.2',\n",
       " 'pos': (790, 790),\n",
       " 'strand': '+',\n",
       " 'status': 'MANE Select'}"
      ]
     },
     "execution_count": 26,
     "metadata": {},
     "output_type": "execute_result"
    }
   ],
   "source": [
    "# https://civicdb.org/events/genes/19/summary/variants/34/summary#variant\n",
    "# https://reg.genome.network/allele?hgvs=NM_005228.4:c.2369C%3ET\n",
    "mane_transcript.get_mane_transcript('NP_005219.2', 790, None, 'p', normalize_endpoint=True)"
   ]
  },
  {
   "cell_type": "code",
   "execution_count": 27,
   "id": "6ea4b759",
   "metadata": {},
   "outputs": [
    {
     "data": {
      "text/plain": [
       "{'gene': 'EGFR',\n",
       " 'refseq': 'NM_005228.5',\n",
       " 'ensembl': 'ENST00000275493.7',\n",
       " 'coding_start_site': 261,\n",
       " 'pos': (2369, 2369),\n",
       " 'strand': '+',\n",
       " 'status': 'MANE Select'}"
      ]
     },
     "execution_count": 27,
     "metadata": {},
     "output_type": "execute_result"
    }
   ],
   "source": [
    "# https://civicdb.org/events/genes/19/summary/variants/34/summary#variant\n",
    "# https://reg.genome.network/allele?hgvs=NM_005228.4:c.2369C%3ET\n",
    "mane_transcript.get_mane_transcript('NM_005228.5', 2369, None, 'c', normalize_endpoint=True)"
   ]
  },
  {
   "cell_type": "code",
   "execution_count": 28,
   "id": "a1b1d4f2",
   "metadata": {},
   "outputs": [
    {
     "data": {
      "text/plain": [
       "{'gene': 'KRAS',\n",
       " 'refseq': 'NP_004976.2',\n",
       " 'ensembl': 'ENSP00000308495.3',\n",
       " 'pos': (12, 12),\n",
       " 'strand': '-',\n",
       " 'status': 'MANE Select'}"
      ]
     },
     "execution_count": 28,
     "metadata": {},
     "output_type": "execute_result"
    }
   ],
   "source": [
    "# https://civicdb.org/events/genes/30/summary/variants/79/summary#variant\n",
    "# https://reg.genome.network/allele?hgvs=NM_004985.4:c.35G%3EA\n",
    "mane_transcript.get_mane_transcript('NP_004976.2', 12, None, 'p', normalize_endpoint=True)"
   ]
  },
  {
   "cell_type": "code",
   "execution_count": 29,
   "id": "4cc84b17",
   "metadata": {},
   "outputs": [
    {
     "data": {
      "text/plain": [
       "{'gene': 'KRAS',\n",
       " 'refseq': 'NM_004985.5',\n",
       " 'ensembl': 'ENST00000311936.8',\n",
       " 'coding_start_site': 190,\n",
       " 'pos': (35, 35),\n",
       " 'strand': '-',\n",
       " 'status': 'MANE Select'}"
      ]
     },
     "execution_count": 29,
     "metadata": {},
     "output_type": "execute_result"
    }
   ],
   "source": [
    "# https://civicdb.org/events/genes/30/summary/variants/79/summary#variant\n",
    "# https://reg.genome.network/allele?hgvs=NM_004985.4:c.35G%3EA\n",
    "mane_transcript.get_mane_transcript('NM_004985.5', 35, None, 'c', normalize_endpoint=True)"
   ]
  },
  {
   "cell_type": "code",
   "execution_count": 30,
   "id": "fc48c638",
   "metadata": {},
   "outputs": [
    {
     "data": {
      "text/plain": [
       "{'gene': 'ERBB2',\n",
       " 'refseq': 'NP_004439.2',\n",
       " 'ensembl': 'ENSP00000269571.4',\n",
       " 'pos': (755, 759),\n",
       " 'strand': '+',\n",
       " 'status': 'MANE Select'}"
      ]
     },
     "execution_count": 30,
     "metadata": {},
     "output_type": "execute_result"
    }
   ],
   "source": [
    "# https://reg.genome.network/allele?hgvs=NM_004448.4:c.2262_2276del\n",
    "mane_transcript.get_mane_transcript('NP_004439.2', 755, 759, 'p', normalize_endpoint=True)"
   ]
  },
  {
   "cell_type": "code",
   "execution_count": 31,
   "id": "6c8af8bc",
   "metadata": {},
   "outputs": [
    {
     "data": {
      "text/plain": [
       "{'gene': 'ERBB2',\n",
       " 'refseq': 'NM_004448.4',\n",
       " 'ensembl': 'ENST00000269571.10',\n",
       " 'coding_start_site': 175,\n",
       " 'pos': (2262, 2276),\n",
       " 'strand': '+',\n",
       " 'status': 'MANE Select'}"
      ]
     },
     "execution_count": 31,
     "metadata": {},
     "output_type": "execute_result"
    }
   ],
   "source": [
    "# https://reg.genome.network/allele?hgvs=NM_004448.4:c.2262_2276del\n",
    "mane_transcript.get_mane_transcript('NM_004448.4', 2262, 2276, 'c', normalize_endpoint=True)"
   ]
  },
  {
   "cell_type": "markdown",
   "id": "e05f966e",
   "metadata": {},
   "source": [
    "# Scratch"
   ]
  },
  {
   "cell_type": "code",
   "execution_count": 32,
   "id": "2272416b",
   "metadata": {},
   "outputs": [
    {
     "data": {
      "text/plain": [
       "{'gene': 'KRAS',\n",
       " 'refseq': 'NP_004976.2',\n",
       " 'ensembl': 'ENSP00000308495.3',\n",
       " 'pos': (12, 12),\n",
       " 'strand': '-',\n",
       " 'status': 'MANE Select'}"
      ]
     },
     "execution_count": 32,
     "metadata": {},
     "output_type": "execute_result"
    }
   ],
   "source": [
    "mane_transcript.get_mane_transcript('NP_004976.2', 12, None, 'p')"
   ]
  },
  {
   "cell_type": "code",
   "execution_count": 33,
   "id": "f065f1ed",
   "metadata": {},
   "outputs": [],
   "source": [
    "mane_transcript.get_mane_transcript('ENST00000288602.7', 1799, None, 'p')"
   ]
  },
  {
   "cell_type": "markdown",
   "id": "3008de55",
   "metadata": {},
   "source": [
    "# Longest compatible transcript"
   ]
  },
  {
   "cell_type": "code",
   "execution_count": 34,
   "id": "dbec7f41",
   "metadata": {},
   "outputs": [
    {
     "data": {
      "text/plain": [
       "{'refseq': 'NP_001361187.1',\n",
       " 'ensembl': None,\n",
       " 'pos': (600, 600),\n",
       " 'strand': '-',\n",
       " 'status': 'Longest Compatible Remaining'}"
      ]
     },
     "execution_count": 34,
     "metadata": {},
     "output_type": "execute_result"
    }
   ],
   "source": [
    "mane_transcript.get_longest_compatible_transcript('BRAF', 600, None, 'p')"
   ]
  },
  {
   "cell_type": "code",
   "execution_count": 35,
   "id": "3a49c0d7",
   "metadata": {},
   "outputs": [
    {
     "data": {
      "text/plain": [
       "{'refseq': 'NM_001374244.1',\n",
       " 'ensembl': None,\n",
       " 'pos': (1799, 1799),\n",
       " 'strand': '-',\n",
       " 'status': 'Longest Compatible Remaining'}"
      ]
     },
     "execution_count": 35,
     "metadata": {},
     "output_type": "execute_result"
    }
   ],
   "source": [
    "mane_transcript.get_longest_compatible_transcript('BRAF', 1799, None, 'c')"
   ]
  },
  {
   "cell_type": "markdown",
   "id": "6918f793",
   "metadata": {},
   "source": [
    "# Scratch"
   ]
  },
  {
   "cell_type": "code",
   "execution_count": 43,
   "id": "69b5406b",
   "metadata": {},
   "outputs": [],
   "source": [
    "def get_seq(ac, cds, start, end):\n",
    "    return seqrepo.seq_repo_client.fetch(ac)[cds + start - 1: cds + end]"
   ]
  },
  {
   "cell_type": "code",
   "execution_count": 37,
   "id": "9719e65c",
   "metadata": {},
   "outputs": [
    {
     "data": {
      "text/plain": [
       "175"
      ]
     },
     "execution_count": 37,
     "metadata": {},
     "output_type": "execute_result"
    }
   ],
   "source": [
    "mane = 'NM_004448.4'\n",
    "mane_cds = uta.get_coding_start_site(mane)\n",
    "mane_cds"
   ]
  },
  {
   "cell_type": "code",
   "execution_count": 36,
   "id": "3ae3804e",
   "metadata": {},
   "outputs": [
    {
     "data": {
      "text/plain": [
       "261"
      ]
     },
     "execution_count": 36,
     "metadata": {},
     "output_type": "execute_result"
    }
   ],
   "source": [
    "q = 'NM_004448.3'\n",
    "q_cds = uta.get_coding_start_site(q)\n",
    "q_cds"
   ]
  },
  {
   "cell_type": "code",
   "execution_count": 44,
   "id": "0ffeae2a",
   "metadata": {},
   "outputs": [
    {
     "data": {
      "text/plain": [
       "'TTGAGGGAAAACACA'"
      ]
     },
     "execution_count": 44,
     "metadata": {},
     "output_type": "execute_result"
    }
   ],
   "source": [
    "# Original query\n",
    "q_start, q_end = 2263, 2277\n",
    "q_seq = get_seq(q, q_cds, q_start, q_end)\n",
    "q_seq"
   ]
  },
  {
   "cell_type": "code",
   "execution_count": 46,
   "id": "b5e48d3d",
   "metadata": {},
   "outputs": [
    {
     "data": {
      "text/plain": [
       "'TTGAGGGAAAACACA'"
      ]
     },
     "execution_count": 46,
     "metadata": {},
     "output_type": "execute_result"
    }
   ],
   "source": [
    "# Variation Normalization \n",
    "v_start, v_end = 2263, 2277\n",
    "v_seq = get_seq(mane, mane_cds, v_start, v_end)\n",
    "v_seq"
   ]
  },
  {
   "cell_type": "code",
   "execution_count": 47,
   "id": "f3ea5fb6",
   "metadata": {},
   "outputs": [
    {
     "data": {
      "text/plain": [
       "'TGAGGGAAAACACAT'"
      ]
     },
     "execution_count": 47,
     "metadata": {},
     "output_type": "execute_result"
    }
   ],
   "source": [
    "# ClinGen Allele Registry API\n",
    "cgar_api_start, cgar_api_end = 2264, 2278\n",
    "cgar_api_seq = get_seq(mane, mane_cds, cgar_api_start, cgar_api_end)\n",
    "cgar_api_seq"
   ]
  },
  {
   "cell_type": "code",
   "execution_count": 48,
   "id": "4faaf84d",
   "metadata": {},
   "outputs": [
    {
     "data": {
      "text/plain": [
       "True"
      ]
     },
     "execution_count": 48,
     "metadata": {},
     "output_type": "execute_result"
    }
   ],
   "source": [
    "q_seq == v_seq"
   ]
  },
  {
   "cell_type": "code",
   "execution_count": 49,
   "id": "7e58c691",
   "metadata": {},
   "outputs": [
    {
     "data": {
      "text/plain": [
       "False"
      ]
     },
     "execution_count": 49,
     "metadata": {},
     "output_type": "execute_result"
    }
   ],
   "source": [
    "q_seq == cgar_api_seq"
   ]
  },
  {
   "cell_type": "code",
   "execution_count": null,
   "id": "a3b1c5b9",
   "metadata": {},
   "outputs": [],
   "source": []
  }
 ],
 "metadata": {
  "kernelspec": {
   "display_name": "Python 3",
   "language": "python",
   "name": "python3"
  },
  "language_info": {
   "codemirror_mode": {
    "name": "ipython",
    "version": 3
   },
   "file_extension": ".py",
   "mimetype": "text/x-python",
   "name": "python",
   "nbconvert_exporter": "python",
   "pygments_lexer": "ipython3",
   "version": "3.9.5"
  }
 },
 "nbformat": 4,
 "nbformat_minor": 5
}
