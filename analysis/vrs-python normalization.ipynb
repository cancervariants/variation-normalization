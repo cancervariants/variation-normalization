{
 "cells": [
  {
   "cell_type": "code",
   "execution_count": 1,
   "id": "59b83766",
   "metadata": {},
   "outputs": [],
   "source": [
    "from os import environ\n",
    "environ['VARIATION_NORM_EB_PROD'] = 'true'\n",
    "environ['UTA_PASSWORD'] = 'admin'\n",
    "\n",
    "from variation.data_sources import UTA\n",
    "from variation.to_vrs import ToVRS\n",
    "from bioutils.accessions import coerce_namespace\n",
    "from ga4gh.vrs import normalize, models\n",
    "from ga4gh.vrs.dataproxy import SeqRepoDataProxy, SequenceProxy\n",
    "from ga4gh.vrs.extras.translator import Translator\n",
    "from ga4gh.core import ga4gh_identify, pjs_copy\n",
    "from variation.data_sources import SeqRepoAccess\n",
    "from bioutils.normalize import normalize as _normalize, NormalizationMode"
   ]
  },
  {
   "cell_type": "code",
   "execution_count": 2,
   "id": "47bc8376",
   "metadata": {},
   "outputs": [],
   "source": [
    "seqrepo_access = SeqRepoAccess()\n",
    "dp = SeqRepoDataProxy(seqrepo_access.seq_repo_client)\n",
    "tlr = Translator(data_proxy=dp)\n",
    "uta = UTA()"
   ]
  },
  {
   "cell_type": "markdown",
   "id": "9e7e19ad",
   "metadata": {},
   "source": [
    "### Original query: NM_004448.3:c.2263_2277del\n",
    "### Variation Normalization MANE Transcript: NM_004448.4:c.2263_2277del\n",
    "### ClinGene Allele Registry MANE Transcript: NM_004448.4:c.2264_2278del"
   ]
  },
  {
   "cell_type": "markdown",
   "id": "d4bec66c",
   "metadata": {},
   "source": [
    "Original query represented as VRS Allele"
   ]
  },
  {
   "cell_type": "code",
   "execution_count": 3,
   "id": "25712d6f",
   "metadata": {},
   "outputs": [
    {
     "data": {
      "text/plain": [
       "{'type': 'Allele',\n",
       " 'location': {'type': 'SequenceLocation',\n",
       "  'sequence_id': 'refseq:NM_004448.4',\n",
       "  'interval': {'type': 'SimpleInterval', 'start': 2262, 'end': 2277}},\n",
       " 'state': {'type': 'SequenceState', 'sequence': ''}}"
      ]
     },
     "execution_count": 3,
     "metadata": {},
     "output_type": "execute_result"
    }
   ],
   "source": [
    "interval = models.SimpleInterval(start=2262, end=2277)\n",
    "location = models.Location(sequence_id='refseq:NM_004448.4', interval=interval)\n",
    "sstate = models.SequenceState(sequence='')\n",
    "allele = models.Allele(location=location, state=sstate)\n",
    "allele.as_dict()"
   ]
  },
  {
   "cell_type": "markdown",
   "id": "c636ce86",
   "metadata": {},
   "source": [
    "Copy vrs-python's current normalize method (cds start not included in ival)"
   ]
  },
  {
   "cell_type": "code",
   "execution_count": 4,
   "id": "982890da",
   "metadata": {},
   "outputs": [],
   "source": [
    "sequence = SequenceProxy(dp, allele.location.sequence_id._value)\n",
    "ival = (allele.location.interval.start._value, allele.location.interval.end._value)\n",
    "alleles = (None, allele.state.sequence._value)\n",
    "\n",
    "new_allele = pjs_copy(allele)"
   ]
  },
  {
   "cell_type": "code",
   "execution_count": 5,
   "id": "6fa882cb",
   "metadata": {},
   "outputs": [
    {
     "data": {
      "text/plain": [
       "((2262, 2277), ('GGTGGAGCCGCTGAC', ''))"
      ]
     },
     "execution_count": 5,
     "metadata": {},
     "output_type": "execute_result"
    }
   ],
   "source": [
    "new_ival, new_alleles = _normalize(\n",
    "    sequence, ival,\n",
    "    alleles=alleles,\n",
    "    mode=NormalizationMode.EXPAND,\n",
    "    anchor_length=0\n",
    ")\n",
    "new_ival, new_alleles"
   ]
  },
  {
   "cell_type": "markdown",
   "id": "99eba4e5",
   "metadata": {},
   "source": [
    "Original query allele object normalized"
   ]
  },
  {
   "cell_type": "code",
   "execution_count": 6,
   "id": "91b32e74",
   "metadata": {},
   "outputs": [
    {
     "data": {
      "text/plain": [
       "{'type': 'Allele',\n",
       " 'location': {'type': 'SequenceLocation',\n",
       "  'sequence_id': 'refseq:NM_004448.4',\n",
       "  'interval': {'type': 'SimpleInterval', 'start': 2262, 'end': 2277}},\n",
       " 'state': {'type': 'SequenceState', 'sequence': ''}}"
      ]
     },
     "execution_count": 6,
     "metadata": {},
     "output_type": "execute_result"
    }
   ],
   "source": [
    "new_allele.location.interval.start = new_ival[0]\n",
    "new_allele.location.interval.end = new_ival[1]\n",
    "new_allele.state.sequence = new_alleles[1]\n",
    "new_allele.as_dict()"
   ]
  },
  {
   "cell_type": "markdown",
   "id": "2240d0b0",
   "metadata": {},
   "source": [
    "Now let's see what happens to the allele when we include cds start site"
   ]
  },
  {
   "cell_type": "code",
   "execution_count": 7,
   "id": "6cb324e9",
   "metadata": {},
   "outputs": [
    {
     "data": {
      "text/plain": [
       "175"
      ]
     },
     "execution_count": 7,
     "metadata": {},
     "output_type": "execute_result"
    }
   ],
   "source": [
    "cds_start_end = uta.get_cds_start_end('NM_004448.4')\n",
    "cds_start = cds_start_end[0]\n",
    "cds_start"
   ]
  },
  {
   "cell_type": "code",
   "execution_count": 8,
   "id": "8d1c7709",
   "metadata": {},
   "outputs": [
    {
     "data": {
      "text/plain": [
       "((2437, 2453), ('TTGAGGGAAAACACAT', 'T'))"
      ]
     },
     "execution_count": 8,
     "metadata": {},
     "output_type": "execute_result"
    }
   ],
   "source": [
    "new_ival, new_alleles = _normalize(\n",
    "    sequence, (ival[0] + cds_start, ival[1] + cds_start),\n",
    "    alleles=alleles,\n",
    "    mode=NormalizationMode.EXPAND,\n",
    "    anchor_length=0\n",
    ")\n",
    "new_ival, new_alleles"
   ]
  },
  {
   "cell_type": "code",
   "execution_count": 9,
   "id": "ea0ee4a2",
   "metadata": {},
   "outputs": [
    {
     "data": {
      "text/plain": [
       "{'type': 'Allele',\n",
       " 'location': {'type': 'SequenceLocation',\n",
       "  'sequence_id': 'refseq:NM_004448.4',\n",
       "  'interval': {'type': 'SimpleInterval', 'start': 2262, 'end': 2278}},\n",
       " 'state': {'type': 'SequenceState', 'sequence': 'T'}}"
      ]
     },
     "execution_count": 9,
     "metadata": {},
     "output_type": "execute_result"
    }
   ],
   "source": [
    "new_allele.location.interval.start = new_ival[0] - cds_start\n",
    "new_allele.location.interval.end = new_ival[1] - cds_start\n",
    "new_allele.state.sequence = new_alleles[1]\n",
    "new_allele.as_dict()"
   ]
  },
  {
   "cell_type": "code",
   "execution_count": null,
   "id": "15515e48",
   "metadata": {},
   "outputs": [],
   "source": []
  }
 ],
 "metadata": {
  "kernelspec": {
   "display_name": "Python 3",
   "language": "python",
   "name": "python3"
  },
  "language_info": {
   "codemirror_mode": {
    "name": "ipython",
    "version": 3
   },
   "file_extension": ".py",
   "mimetype": "text/x-python",
   "name": "python",
   "nbconvert_exporter": "python",
   "pygments_lexer": "ipython3",
   "version": "3.9.5"
  }
 },
 "nbformat": 4,
 "nbformat_minor": 5
}
