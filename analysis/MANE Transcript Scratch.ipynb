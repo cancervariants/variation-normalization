{
 "cells": [
  {
   "cell_type": "code",
   "execution_count": 1,
   "id": "47cc7a49",
   "metadata": {},
   "outputs": [],
   "source": [
    "import os\n",
    "os.environ['VARIATION_NORM_EB_PROD'] = 'true'\n",
    "\n",
    "import itertools\n",
    "from variation.mane_transcript import MANETranscript\n",
    "from variation.tokenizers.caches import AminoAcidCache\n",
    "from variation.data_sources import SeqRepoAccess, TranscriptMappings, MANETranscriptMappings, UTA"
   ]
  },
  {
   "cell_type": "code",
   "execution_count": 2,
   "id": "514e2d99",
   "metadata": {},
   "outputs": [],
   "source": [
    "transcript_mappings = TranscriptMappings()\n",
    "amino_acid_cache = AminoAcidCache()\n",
    "seqrepo = SeqRepoAccess()\n",
    "mane_transcript_mappings = MANETranscriptMappings()\n",
    "uta = UTA(db_pwd='admin')\n",
    "mane_transcript = MANETranscript(seqrepo, transcript_mappings, mane_transcript_mappings, uta)"
   ]
  },
  {
   "cell_type": "markdown",
   "id": "e05f966e",
   "metadata": {},
   "source": [
    "# Scratch"
   ]
  },
  {
   "cell_type": "markdown",
   "id": "3ac81999",
   "metadata": {},
   "source": [
    "Original Query: NM_004448.3:c.2263_2277delTTGAGGGAAAACACA\n",
    "\n",
    "MANE Transcript: NM_004448.4:c.2264_2278del"
   ]
  },
  {
   "cell_type": "code",
   "execution_count": 3,
   "id": "69b5406b",
   "metadata": {},
   "outputs": [],
   "source": [
    "def get_seq(ac, cds, start, end):\n",
    "    return seqrepo.seq_repo_client.fetch(ac)[cds + start - 1: cds + end]"
   ]
  },
  {
   "cell_type": "code",
   "execution_count": 4,
   "id": "9719e65c",
   "metadata": {},
   "outputs": [
    {
     "data": {
      "text/plain": [
       "175"
      ]
     },
     "execution_count": 4,
     "metadata": {},
     "output_type": "execute_result"
    }
   ],
   "source": [
    "mane = 'NM_004448.4'\n",
    "mane_cds = uta.get_coding_start_site(mane)\n",
    "mane_cds"
   ]
  },
  {
   "cell_type": "code",
   "execution_count": 5,
   "id": "3ae3804e",
   "metadata": {},
   "outputs": [
    {
     "data": {
      "text/plain": [
       "261"
      ]
     },
     "execution_count": 5,
     "metadata": {},
     "output_type": "execute_result"
    }
   ],
   "source": [
    "q = 'NM_004448.3'\n",
    "q_cds = uta.get_coding_start_site(q)\n",
    "q_cds"
   ]
  },
  {
   "cell_type": "code",
   "execution_count": 6,
   "id": "0ffeae2a",
   "metadata": {},
   "outputs": [
    {
     "data": {
      "text/plain": [
       "'TTGAGGGAAAACACA'"
      ]
     },
     "execution_count": 6,
     "metadata": {},
     "output_type": "execute_result"
    }
   ],
   "source": [
    "# Original query\n",
    "q_start, q_end = 2263, 2277\n",
    "q_seq = get_seq(q, q_cds, q_start, q_end)\n",
    "q_seq"
   ]
  },
  {
   "cell_type": "code",
   "execution_count": 7,
   "id": "b5e48d3d",
   "metadata": {},
   "outputs": [
    {
     "data": {
      "text/plain": [
       "'TTGAGGGAAAACACA'"
      ]
     },
     "execution_count": 7,
     "metadata": {},
     "output_type": "execute_result"
    }
   ],
   "source": [
    "# Variation Normalization \n",
    "v_start, v_end = 2263, 2277\n",
    "v_seq = get_seq(mane, mane_cds, v_start, v_end)\n",
    "v_seq"
   ]
  },
  {
   "cell_type": "code",
   "execution_count": 8,
   "id": "f3ea5fb6",
   "metadata": {},
   "outputs": [
    {
     "data": {
      "text/plain": [
       "'TGAGGGAAAACACAT'"
      ]
     },
     "execution_count": 8,
     "metadata": {},
     "output_type": "execute_result"
    }
   ],
   "source": [
    "# ClinGen Allele Registry API\n",
    "cgar_api_start, cgar_api_end = 2264, 2278\n",
    "cgar_api_seq = get_seq(mane, mane_cds, cgar_api_start, cgar_api_end)\n",
    "cgar_api_seq"
   ]
  },
  {
   "cell_type": "code",
   "execution_count": 9,
   "id": "4faaf84d",
   "metadata": {},
   "outputs": [
    {
     "data": {
      "text/plain": [
       "True"
      ]
     },
     "execution_count": 9,
     "metadata": {},
     "output_type": "execute_result"
    }
   ],
   "source": [
    "q_seq == v_seq"
   ]
  },
  {
   "cell_type": "code",
   "execution_count": 10,
   "id": "7e58c691",
   "metadata": {},
   "outputs": [
    {
     "data": {
      "text/plain": [
       "False"
      ]
     },
     "execution_count": 10,
     "metadata": {},
     "output_type": "execute_result"
    }
   ],
   "source": [
    "q_seq == cgar_api_seq"
   ]
  },
  {
   "cell_type": "code",
   "execution_count": null,
   "id": "a3b1c5b9",
   "metadata": {},
   "outputs": [],
   "source": []
  }
 ],
 "metadata": {
  "kernelspec": {
   "display_name": "Python 3",
   "language": "python",
   "name": "python3"
  },
  "language_info": {
   "codemirror_mode": {
    "name": "ipython",
    "version": 3
   },
   "file_extension": ".py",
   "mimetype": "text/x-python",
   "name": "python",
   "nbconvert_exporter": "python",
   "pygments_lexer": "ipython3",
   "version": "3.9.5"
  }
 },
 "nbformat": 4,
 "nbformat_minor": 5
}
